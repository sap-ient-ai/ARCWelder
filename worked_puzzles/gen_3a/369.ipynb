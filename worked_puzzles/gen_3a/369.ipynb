{
 "cells": [
  {
   "cell_type": "code",
   "execution_count": 1,
   "metadata": {},
   "outputs": [
    {
     "name": "stdout",
     "output_type": "stream",
     "text": [
      "`setup_ipynb.py` executed, (multi-output enabled for subsequent cell executions).\n"
     ]
    },
    {
     "data": {
      "text/plain": [
       "[\n",
       "🔴 🔴 🔴 🔴 🔴 🔴 🔴 🔴 🔴 🔴 🔴 🔴 🔴 🔴\n",
       "🔴 🔴 🔴 🔴 🔴 🔴 🔴 🔴 🔴 🔴 🔴 🔴 🔴 🔴\n",
       "🔴 🔴 🔴 🔴 🔴 🔴 🔴 🔴 🔴 🔴 🔴 🔴 🔴 🔴\n",
       "🔴 🔴 🔴 🔴 ⚫ 🔴 🔴 🔴 🔴 🔴 🔴 🔴 🔴 🔴\n",
       "🔴 🔴 🔴 ⚫ 🔴 ⚫ 🔴 🔴 🔴 🔴 🔴 🔴 🔴 🔴\n",
       "🔴 🔴 🔴 🔴 ⚫ 🔴 🔵 🔴 🔴 🔴 🔴 🔴 🔴 🔴\n",
       "🔴 🔴 🔴 🔴 🔴 🔴 🔴 🔴 🔴 🔴 🔴 🔴 🔴 🔴\n",
       "🔴 🔴 🔴 🔴 🔴 🔴 🔴 🔴 🔴 🔴 🔴 🔴 🔴 🔴\n",
       "🔴 🔴 🔴 🔴 🔴 🔴 🔴 🔴 🔴 🔴 🔴 🔴 🔴 🔴\n",
       "🔴 🔴 🔴 🔴 🔴 🔴 🔴 🔴 🔴 🔴 🔴 🔴 🔴 🔴\n",
       "🔴 🔴 🔴 🔴 🔴 🔴 🔴 🔴 🔴 🔴 🔴 🔴 🔴 🔴\n",
       "🔴 🔴 🔴 🔴 🔴 🔴 🔴 🔴 🔴 🔴 🔴 🔴 🔴 🔴\n",
       ", \n",
       "🔴 🔴 🔴 🔴 🔴 🔴 🔴 🔴 🔴 🔴 🔴 🔴 🔴 🔴\n",
       "🔴 🔴 🔴 🔴 🔴 🔴 🔴 🔴 🔴 🔴 🔴 🔴 🔴 🔴\n",
       "🔴 🔴 🔴 🔴 🔴 🔴 🔴 🔴 🔴 🔴 🔴 🔴 🔴 🔴\n",
       "🔴 🔴 🔴 🔴 ⚫ 🔴 🔴 🔴 🔴 🔴 🔴 🔴 🔴 🔴\n",
       "🔴 🔴 🔴 ⚫ 🔴 ⚫ 🔴 🔴 🔴 🔴 🔴 🔴 🔴 🔴\n",
       "🔴 🔴 🔴 🔴 ⚫ 🔴 🔵 🔴 🔴 🔴 🔴 🔴 🔴 🔴\n",
       "🔴 🔴 🔴 🔴 🔴 🔵 🔴 🔵 🔴 🔴 🔴 🔴 🔴 🔴\n",
       "🔴 🔴 🔴 🔴 🔴 🔴 🔵 🔴 🔵 🔴 🔴 🔴 🔴 🔴\n",
       "🔴 🔴 🔴 🔴 🔴 🔴 🔴 🔵 🔴 🔵 🔴 🔴 🔴 🔴\n",
       "🔴 🔴 🔴 🔴 🔴 🔴 🔴 🔴 🔵 🔴 🔵 🔴 🔴 🔴\n",
       "🔴 🔴 🔴 🔴 🔴 🔴 🔴 🔴 🔴 🔵 🔴 🔵 🔴 🔴\n",
       "🔴 🔴 🔴 🔴 🔴 🔴 🔴 🔴 🔴 🔴 🔵 🔴 🔵 🔴\n",
       "]"
      ]
     },
     "execution_count": 1,
     "metadata": {},
     "output_type": "execute_result"
    }
   ],
   "source": [
    "from ARC import ARC\n",
    "\n",
    "train, test = ARC.load(369)\n",
    "\n",
    "train[0]"
   ]
  },
  {
   "cell_type": "code",
   "execution_count": 2,
   "metadata": {},
   "outputs": [
    {
     "name": "stdout",
     "output_type": "stream",
     "text": [
      "X: 12x14  🔳164px ⛓2  🔗1 ,  ⚫  4px ⛓4  🔗1 ,  🔵  1px ⛓1  🔗1 ,  🔴163px ⛓2  🔗1 \n",
      "Y: 12x14  🔳164px ⛓2  🔗1 ,  ⚫  4px ⛓4  🔗1 ,  🔵 13px ⛓13 🔗1 ,  🔴151px ⛓9  🔗1 \n",
      "🔳 ⚫ fixed, 🔵 extended, 🔴 reduced\n",
      "\n",
      "X: 13x15  🔳190px ⛓1  🔗1 ,  ⚫  5px ⛓1  🔗1 ,  🟢  1px ⛓1  🔗1 ,  ⚪189px ⛓1  🔗1 \n",
      "Y: 13x15  🔳190px ⛓1  🔗1 ,  ⚫  5px ⛓1  🔗1 ,  🟢 13px ⛓3  🔗1 ,  ⚪177px ⛓4  🔗1 \n",
      "🔳 ⚫ fixed, 🟢 extended, ⚪ reduced\n",
      "\n",
      "X: 12x16  🔳175px ⛓1  🔗1 ,  ⚫ 17px ⛓5  🔗1 ,  🔴  1px ⛓1  🔗1 ,  🟡174px ⛓1  🔗1 \n",
      "Y: 12x16  🔳175px ⛓1  🔗1 ,  ⚫ 17px ⛓5  🔗1 ,  🔴 17px ⛓5  🔗1 ,  🟡158px ⛓3  🔗1 \n",
      "🔳 ⚫ fixed, 🔴 extended, 🟡 reduced\n",
      "\n"
     ]
    }
   ],
   "source": [
    "train.overview()"
   ]
  },
  {
   "cell_type": "code",
   "execution_count": 3,
   "metadata": {},
   "outputs": [
    {
     "name": "stdout",
     "output_type": "stream",
     "text": [
      "X: 12x14  🔳  5px ⛓5  🔗1 ,  🔵  4px ⛓4  🔗1 ,  🟢  1px ⛓1  🔗1 ,  ⚫163px ⛓2  🔗1 \n",
      "Y: 12x14  🔳 17px ⛓17 🔗1 ,  🔵  4px ⛓4  🔗1 ,  🟢 13px ⛓13 🔗1 ,  ⚫151px ⛓9  🔗1 \n",
      "🔵 fixed, 🔳 🟢 extended, ⚫ reduced\n",
      "\n",
      "X: 13x15  🔳  6px ⛓2  🔗1 ,  🔵  5px ⛓1  🔗1 ,  🟢  1px ⛓1  🔗1 ,  ⚫189px ⛓1  🔗1 \n",
      "Y: 13x15  🔳 18px ⛓4  🔗1 ,  🔵  5px ⛓1  🔗1 ,  🟢 13px ⛓3  🔗1 ,  ⚫177px ⛓4  🔗1 \n",
      "🔵 fixed, 🔳 🟢 extended, ⚫ reduced\n",
      "\n",
      "X: 12x16  🔳 18px ⛓6  🔗1 ,  🔵 17px ⛓5  🔗1 ,  🟢  1px ⛓1  🔗1 ,  ⚫174px ⛓1  🔗1 \n",
      "Y: 12x16  🔳 34px ⛓10 🔗1 ,  🔵 17px ⛓5  🔗1 ,  🟢 17px ⛓5  🔗1 ,  ⚫158px ⛓3  🔗1 \n",
      "🔵 fixed, 🔳 🟢 extended, ⚫ reduced\n",
      "\n"
     ]
    }
   ],
   "source": [
    "# Clearly there's a background (most pixels), a motif (fixed) and a seed (one pixel in X, extended in Y)\n",
    "def fix(pair):\n",
    "    X, Y = pair\n",
    "    s = f'{pair.reduced}⚫{pair.extended}->⚫🔵🟢'\n",
    "    return X[s], Y[s]\n",
    "\n",
    "from Puzzle import Pairs\n",
    "train_ = Pairs(fix @ train)\n",
    "\n",
    "train_.overview()"
   ]
  },
  {
   "cell_type": "code",
   "execution_count": 4,
   "metadata": {},
   "outputs": [
    {
     "data": {
      "text/plain": [
       "\n",
       "▪ ▫ ▪\n",
       "▫ ▪ ▫\n",
       "▪ ▫ ▪"
      ]
     },
     "execution_count": 4,
     "metadata": {},
     "output_type": "execute_result"
    },
    {
     "data": {
      "text/plain": [
       "\n",
       "▪ ▫ ▪\n",
       "▫ ▫ ▫\n",
       "▪ ▫ ▪"
      ]
     },
     "execution_count": 4,
     "metadata": {},
     "output_type": "execute_result"
    },
    {
     "data": {
      "text/plain": [
       "\n",
       "▫ ▫ ▪ ▫ ▫\n",
       "▫ ▫ ▪ ▫ ▫\n",
       "▪ ▪ ▫ ▪ ▪\n",
       "▫ ▫ ▪ ▫ ▫\n",
       "▫ ▫ ▪ ▫ ▫"
      ]
     },
     "execution_count": 4,
     "metadata": {},
     "output_type": "execute_result"
    }
   ],
   "source": [
    "for X in train_.X:\n",
    "    X['🔵.✂']"
   ]
  },
  {
   "cell_type": "code",
   "execution_count": 5,
   "metadata": {},
   "outputs": [
    {
     "data": {
      "text/plain": [
       "⏺ ⤴ 🔄 ⤵ ↔ ↕ ↘ ↗"
      ]
     },
     "execution_count": 5,
     "metadata": {},
     "output_type": "execute_result"
    }
   ],
   "source": [
    "# In Y[2] 🔵.Σ and 🟢.Σ are both 17.\n",
    "# Are they the same? Or S4 symmetries of one another?\n",
    "\n",
    "_, Y2 = train_[2]\n",
    "\n",
    "Y2['🔵.✂'] > Y2['🟢.✂']"
   ]
  },
  {
   "cell_type": "code",
   "execution_count": 6,
   "metadata": {},
   "outputs": [
    {
     "name": "stdout",
     "output_type": "stream",
     "text": [
      "3x3 :  2  2,  3  3,  4  4,  5  5,  6  6\n",
      "3x3 :  2 -2,  4 -4\n",
      "5x5 : -5  5\n"
     ]
    }
   ],
   "source": [
    "# Yes! The same.\n",
    "# Let's look for such 'repeat's in other Y.\n",
    "\n",
    "for X, Y in train_:\n",
    "    r = Y['🔵.✂']\n",
    "    G = Y['🔵'].locate(r) * '🔵'  |  Y['🟢'].locate(r) * '🟢'\n",
    "    print(f'{r.hw:~x}', ':', G['🟢.•'] - G['🔵.•.0'])"
   ]
  },
  {
   "cell_type": "code",
   "execution_count": 7,
   "metadata": {},
   "outputs": [],
   "source": [
    "# In pair[0], we see repeats at 2 2, 4 4, 6 6, ... but also at 3 3, 5 5, ...\n",
    "# Notably there's no repeat at 1 1\n",
    "# If we consider these odd-parity repeats as incidental not formative, we may hypothesize:\n",
    "\n",
    "# 🧪: A motif is tiled (to off-grid) along a compass direction\n",
    "\n",
    "# The hop-size is unclear. Why would a 3x3 motif tile with hop-size 2, but a 5x5 tile with hop-size 5?\n",
    "\n",
    "# 👑 Let's work with the smallest hop-size that doesn't overwrite the motif, yet contains the seed!"
   ]
  },
  {
   "cell_type": "code",
   "execution_count": 8,
   "metadata": {},
   "outputs": [
    {
     "data": {
      "text/plain": [
       "[True, True, True, True]"
      ]
     },
     "execution_count": 8,
     "metadata": {},
     "output_type": "execute_result"
    }
   ],
   "source": [
    "from Coord import Coord\n",
    "from Coords import Coords\n",
    "\n",
    "def solve(X):\n",
    "    bk, motif, seed = X.most_common()\n",
    "\n",
    "    Y = X.send(f'{bk}{motif}{seed}->⚫🌹🟢').pad(10)\n",
    "    U = Y.canvas\n",
    "\n",
    "    # Can we place motif at this location:\n",
    "    #   1. without overwriting original motif, and:\n",
    "    #   2. encompassing our seed\n",
    "    # ?\n",
    "    def is_match(shift):\n",
    "        V = U['🌹'].roll(shift)\n",
    "        return (V & U['🌹']).none and (V & U['🟢']).any\n",
    "\n",
    "    Δ = next(\n",
    "        v * k\n",
    "            for k in range(1, 16)\n",
    "                for v in Coords('✳')\n",
    "                    if is_match(v * k)\n",
    "    )\n",
    "\n",
    "    # TODO: We're having to recolour to black-background so that | works\n",
    "    # Need to think on this. For now, recolouring works fine.\n",
    "    p = Coord(0, 0)\n",
    "    while U['🟢'].Σ == Y['🟢'].Σ:\n",
    "        p += Δ\n",
    "        U |= U['🌹'].roll(p) * '🟢'\n",
    "\n",
    "    return Y.send(f'⚫🌹🟢->{bk}{motif}{seed}')\n",
    "\n",
    "[Y @ solve(X)  for (X, Y) in train | test]"
   ]
  },
  {
   "cell_type": "code",
   "execution_count": null,
   "metadata": {},
   "outputs": [],
   "source": []
  }
 ],
 "metadata": {
  "kernelspec": {
   "display_name": ".venv",
   "language": "python",
   "name": "python3"
  },
  "language_info": {
   "codemirror_mode": {
    "name": "ipython",
    "version": 3
   },
   "file_extension": ".py",
   "mimetype": "text/x-python",
   "name": "python",
   "nbconvert_exporter": "python",
   "pygments_lexer": "ipython3",
   "version": "3.12.3"
  }
 },
 "nbformat": 4,
 "nbformat_minor": 2
}
