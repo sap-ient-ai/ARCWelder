{
 "cells": [
  {
   "cell_type": "code",
   "execution_count": 1,
   "metadata": {},
   "outputs": [
    {
     "name": "stdout",
     "output_type": "stream",
     "text": [
      "`setup_ipynb.py` executed, (multi-output enabled for subsequent cell executions).\n"
     ]
    },
    {
     "data": {
      "text/plain": [
       "[\n",
       "⚫ ⚫ ⚫ ⚫ ⚫ ⚫ ⚫ ⚫ ⚫ ⚫ ⚫ ⚫ ⚫ ⚫ ⚫\n",
       "⚫ ⚫ ⚫ ⚫ ⚫ ⚫ ⚫ ⚫ ⚫ ⚫ ⚫ ⚫ ⚫ ⚫ ⚫\n",
       "🔵 🔵 🔵 🔵 🔵 🔵 🔵 🔵 🔵 🔵 🔵 🔵 🔵 🔵 🔵\n",
       "⚫ ⚫ ⚫ ⚫ ⚫ ⚫ ⚫ ⚫ ⚫ ⚫ ⚫ ⚫ ⚫ ⚫ ⚫\n",
       "⚫ ⚫ ⚫ ⚫ ⚫ ⚫ ⚫ ⚫ ⚫ ⚫ ⚫ ⚫ ⚫ ⚫ ⚫\n",
       "⚪ ⚪ ⚪ ⚪ ⚪ ⚪ ⚪ ⚪ ⚪ ⚪ ⚪ ⚪ ⚪ ⚪ ⚪\n",
       "⚫ ⚫ ⚫ ⚫ ⚫ ⚫ ⚫ ⚫ ⚫ ⚫ ⚫ ⚫ ⚫ ⚫ ⚫\n",
       "⚫ ⚫ ⚫ ⚫ ⚫ ⚫ ⚫ ⚫ ⚫ ⚫ ⚫ ⚫ ⚫ ⚫ ⚫\n",
       "🟢 🟢 🟢 🟢 🟢 🟢 🟢 🟢 🟢 🟢 🟢 🟢 🟢 🟢 🟢\n",
       "⚫ ⚫ ⚫ ⚫ ⚫ ⚫ ⚫ ⚫ ⚫ ⚫ ⚫ ⚫ ⚫ ⚫ ⚫\n",
       "⚫ 🟣 🟣 🟣 🟣 🟣 🟣 ⚫ ⚫ ⚫ ⚫ ⚫ ⚫ ⚫ ⚫\n",
       "⚫ 🟣 🟣 🟣 🟣 🟣 🟣 ⚫ 🟡 🟡 🟡 🟡 🟡 🟡 🟡\n",
       "⚫ 🟣 🟣 🟣 🟣 🟣 🟣 ⚫ ⚫ ⚫ ⚫ ⚫ ⚫ ⚫ ⚫\n",
       "⚫ 🟣 🟣 🟣 🟣 🟣 🟣 ⚫ ⚫ ⚫ ⚫ ⚫ ⚫ ⚫ ⚫\n",
       "⚫ 🟣 🟣 🟣 🟣 🟣 🟣 ⚫ 🔴 🔴 🔴 🔴 🔴 🔴 🔴\n",
       "⚫ 🟣 🟣 🟣 🟣 🟣 🟣 ⚫ ⚫ ⚫ ⚫ ⚫ ⚫ ⚫ ⚫\n",
       "⚫ ⚫ ⚫ ⚫ ⚫ ⚫ ⚫ ⚫ ⚫ ⚫ ⚫ ⚫ ⚫ ⚫ ⚫\n",
       "🟠 🟠 🟠 🟠 🟠 🟠 🟠 🟠 🟠 🟠 🟠 🟠 🟠 🟠 🟠\n",
       ", \n",
       "🔵 🔵 🔵 🔵 🔵 🔵\n",
       "⚪ ⚪ ⚪ ⚪ ⚪ ⚪\n",
       "🟢 🟢 🟢 🟢 🟢 🟢\n",
       "🟡 🟡 🟡 🟡 🟡 🟡\n",
       "🔴 🔴 🔴 🔴 🔴 🔴\n",
       "🟠 🟠 🟠 🟠 🟠 🟠\n",
       "]"
      ]
     },
     "execution_count": 1,
     "metadata": {},
     "output_type": "execute_result"
    }
   ],
   "source": [
    "from ARC import ARC\n",
    "\n",
    "train, test = ARC.load(212)\n",
    "\n",
    "train[0]"
   ]
  },
  {
   "cell_type": "code",
   "execution_count": 2,
   "metadata": {},
   "outputs": [
    {
     "name": "stdout",
     "output_type": "stream",
     "text": [
      "X: 18x15  🔳110px ⛓7  🔗7 ,  ⚫160px ⛓4  🔗4 ,  🔵 15px ⛓1  🔗1 ,  ⚪ 15px ⛓1  🔗1 ,  🟢 15px ⛓1  🔗1 ,  🟣 36px ⛓1  🔗1 ,  🟡  7px ⛓1  🔗1 ,  🔴  7px ⛓1  🔗1 ,  🟠 15px ⛓1  🔗1 \n",
      "Y:  6x6   🔳 36px ⛓1  🔗1 ,                  ,  🔵  6px ⛓1  🔗1 ,  ⚪  6px ⛓1  🔗1 ,  🟢  6px ⛓1  🔗1 ,                  ,  🟡  6px ⛓1  🔗1 ,  🔴  6px ⛓1  🔗1 ,  🟠  6px ⛓1  🔗1 \n",
      "\n",
      "X: 12x10  🔳 40px ⛓4  🔗4 ,  ⚫ 80px ⛓3  🔗3 ,  🔵 12px ⛓1  🔗1 ,  🟡 12px ⛓1  🔗1 ,  🟣  9px ⛓1  🔗1 ,  ⚪  7px ⛓1  🔗1 \n",
      "Y:  3x3   🔳  9px ⛓1  🔗1 ,                  ,  🔵  3px ⛓1  🔗1 ,  🟡  3px ⛓1  🔗1 ,                  ,  ⚪  3px ⛓1  🔗1 \n",
      "\n",
      "X: 12x12  🔳 52px ⛓7  🔗7 ,  ⚫ 92px ⛓3  🔗3 ,  🔵  6px ⛓2  🔗2 ,  🟣 16px ⛓1  🔗1 ,  🔴  6px ⛓2  🔗2 ,  🟡 12px ⛓1  🔗1 ,  ⚪ 12px ⛓1  🔗1 \n",
      "Y:  4x4   🔳 16px ⛓1  🔗1 ,                  ,  🔵  4px ⛓1  🔗1 ,                  ,  🔴  4px ⛓1  🔗1 ,  🟡  4px ⛓1  🔗1 ,  ⚪  4px ⛓1  🔗1 \n",
      "\n"
     ]
    }
   ],
   "source": [
    "train.overview()"
   ]
  },
  {
   "cell_type": "code",
   "execution_count": 3,
   "metadata": {},
   "outputs": [
    {
     "name": "stdout",
     "output_type": "stream",
     "text": [
      "18 15 ->  6  6\n",
      "🔵  1x15  15px\n",
      "⚪  1x15  15px\n",
      "🟢  1x15  15px\n",
      "🟣  6x6   36px\n",
      "🟡  1x7    7px\n",
      "🔴  1x7    7px\n",
      "🟠  1x15  15px\n",
      "\n",
      "🔵  1x6    6px\n",
      "⚪  1x6    6px\n",
      "🟢  1x6    6px\n",
      "🟡  1x6    6px\n",
      "🔴  1x6    6px\n",
      "🟠  1x6    6px\n",
      "\n",
      "12 10 ->  3  3\n",
      "🔵 12x1   12px\n",
      "🟡 12x1   12px\n",
      "🟣  3x3    9px\n",
      "⚪  7x1    7px\n",
      "\n",
      "⚪  3x1    3px\n",
      "🔵  3x1    3px\n",
      "🟡  3x1    3px\n",
      "\n",
      "12 12 ->  4  4\n",
      "🔵  1x5    5px\n",
      "🔵  1x1    1px\n",
      "🟣  4x4   16px\n",
      "🔴  1x5    5px\n",
      "🔴  1x1    1px\n",
      "🟡  1x12  12px\n",
      "⚪  1x12  12px\n",
      "\n",
      "🔵  1x4    4px\n",
      "🔴  1x4    4px\n",
      "🟡  1x4    4px\n",
      "⚪  1x4    4px\n",
      "\n"
     ]
    }
   ],
   "source": [
    "# 👁:Y is smaller, and square: 6x6, 3x3, 4x4\n",
    "# 👁: ⚫ and 🟣 are removed\n",
    "# 👁: ⛓1  🔗1 almost everywhere for non-⚫\n",
    "# 👁: Y0 is 6x6, comprising 6 colours, each one region of 6 pixels. Similarly Y1 for 3, and Y2 for 4.\n",
    "\n",
    "# ⚡: Let's examine regions\n",
    "\n",
    "for X, Y in train:\n",
    "    print(X.hw, '->', Y.hw)\n",
    "    print('\\n'.join(X['⛓.glyph_hxw_npix']))\n",
    "    print()\n",
    "    print('\\n'.join(Y['⛓.glyph_hxw_npix']))\n",
    "    print()\n"
   ]
  },
  {
   "cell_type": "code",
   "execution_count": 4,
   "metadata": {},
   "outputs": [
    {
     "data": {
      "text/plain": [
       "18 15"
      ]
     },
     "execution_count": 4,
     "metadata": {},
     "output_type": "execute_result"
    },
    {
     "data": {
      "text/plain": [
       "[[ 2  0,  2 14], [ 5  0,  5 14], [ 8  0,  8 14], [10  1, 15  6], [11  8, 11 14], [14  8, 14 14], [17  0, 17 14]]"
      ]
     },
     "execution_count": 4,
     "metadata": {},
     "output_type": "execute_result"
    },
    {
     "data": {
      "text/plain": [
       "[2, 5, 8, 11, 14, 17]"
      ]
     },
     "execution_count": 4,
     "metadata": {},
     "output_type": "execute_result"
    },
    {
     "data": {
      "text/plain": [
       "10 12"
      ]
     },
     "execution_count": 4,
     "metadata": {},
     "output_type": "execute_result"
    },
    {
     "data": {
      "text/plain": [
       "[[ 1  0,  1 11], [ 4  0,  4 11], [ 6  1,  8  3], [ 7  5,  7 11]]"
      ]
     },
     "execution_count": 4,
     "metadata": {},
     "output_type": "execute_result"
    },
    {
     "data": {
      "text/plain": [
       "[1, 4, 7]"
      ]
     },
     "execution_count": 4,
     "metadata": {},
     "output_type": "execute_result"
    },
    {
     "data": {
      "text/plain": [
       "12 12"
      ]
     },
     "execution_count": 4,
     "metadata": {},
     "output_type": "execute_result"
    },
    {
     "data": {
      "text/plain": [
       "[[ 1  0,  1  4], [ 1 11,  1 11], [ 1  6,  4  9], [ 4  0,  4  4], [ 4 11,  4 11], [ 7  0,  7 11], [10  0, 10 11]]"
      ]
     },
     "execution_count": 4,
     "metadata": {},
     "output_type": "execute_result"
    },
    {
     "data": {
      "text/plain": [
       "[1, 1, 4, 4, 7, 10]"
      ]
     },
     "execution_count": 4,
     "metadata": {},
     "output_type": "execute_result"
    }
   ],
   "source": [
    "# 👁: X.🟣 is a filled square, the same .hw as Y\n",
    "# 👁: All other colours appear to be 1-thick lines; horizontal in pairs 0 and 2, vertical in pair 1.\n",
    "\n",
    "# 👶⚡: Let's rotate pair 1, so all are horizontal\n",
    "\n",
    "from Pairs import Pairs\n",
    "\n",
    "s = iter('⏺⤴⏺')\n",
    "def fix(pair):\n",
    "    T = next(s)\n",
    "    X, Y = pair\n",
    "    return X[T], Y[T]\n",
    "\n",
    "train_ = Pairs(fix @ train)\n",
    "\n",
    "for X in train_.X:\n",
    "    X.hw\n",
    "    # TODO: X['⛓.{glyph, frame.tl_br}']\n",
    "    X['⛓.frame.tl_br']\n",
    "    X['🟣->⚫.⛓.frame.t']"
   ]
  },
  {
   "cell_type": "code",
   "execution_count": 5,
   "metadata": {},
   "outputs": [
    {
     "data": {
      "text/plain": [
       "['🔵', '⚪', '🟢', '🟡', '🔴', '🟠']"
      ]
     },
     "execution_count": 5,
     "metadata": {},
     "output_type": "execute_result"
    },
    {
     "data": {
      "text/plain": [
       "['🔵', '⚪', '🟢', '🟡', '🔴', '🟠']"
      ]
     },
     "execution_count": 5,
     "metadata": {},
     "output_type": "execute_result"
    },
    {
     "data": {
      "text/plain": [
       "['🟡', '🔵', '⚪']"
      ]
     },
     "execution_count": 5,
     "metadata": {},
     "output_type": "execute_result"
    },
    {
     "data": {
      "text/plain": [
       "['🟡', '🔵', '⚪']"
      ]
     },
     "execution_count": 5,
     "metadata": {},
     "output_type": "execute_result"
    },
    {
     "data": {
      "text/plain": [
       "['🔵', '🔵', '🔴', '🔴', '🟡', '⚪']"
      ]
     },
     "execution_count": 5,
     "metadata": {},
     "output_type": "execute_result"
    },
    {
     "data": {
      "text/plain": [
       "['🔵', '🔴', '🟡', '⚪']"
      ]
     },
     "execution_count": 5,
     "metadata": {},
     "output_type": "execute_result"
    }
   ],
   "source": [
    "# 👁: In X we see horizontal lines, with a vertical spacing of 3. There's a 🟣 square that partially occludes some of these lines.\n",
    "\n",
    "# 🐘: Y comprises horizontal lines of diffrent colours.\n",
    "\n",
    "# ⚡: Let's dump out the colours of these lines.\n",
    "\n",
    "for X, Y in train_:\n",
    "    X['🟣->⚫.⛓.glyph']\n",
    "    Y['⛓.glyph']\n"
   ]
  },
  {
   "cell_type": "code",
   "execution_count": 6,
   "metadata": {},
   "outputs": [
    {
     "data": {
      "text/plain": [
       "[True, True, True, True]"
      ]
     },
     "execution_count": 6,
     "metadata": {},
     "output_type": "execute_result"
    }
   ],
   "source": [
    "# 👁: The order in which the lines appear in X is reflected in Y\n",
    "\n",
    "from Grid import Grid\n",
    "\n",
    "def solve(X):\n",
    "    # Ensure lines are horizontal\n",
    "    h, w = X['🟣->⚫.⛓.0.hw']\n",
    "    is_vertical = h > w\n",
    "    T = '↘' if is_vertical else '⏺'\n",
    "    glyphs = X[T].glyphs - '⚫ 🟣'\n",
    "    s = ';'.join(g * len(glyphs) for g in glyphs)\n",
    "    return Grid(s)[T]\n",
    "\n",
    "[Y @ solve(X)  for (X, Y) in train | test]"
   ]
  }
 ],
 "metadata": {
  "kernelspec": {
   "display_name": ".venv",
   "language": "python",
   "name": "python3"
  },
  "language_info": {
   "codemirror_mode": {
    "name": "ipython",
    "version": 3
   },
   "file_extension": ".py",
   "mimetype": "text/x-python",
   "name": "python",
   "nbconvert_exporter": "python",
   "pygments_lexer": "ipython3",
   "version": "3.12.3"
  }
 },
 "nbformat": 4,
 "nbformat_minor": 2
}
