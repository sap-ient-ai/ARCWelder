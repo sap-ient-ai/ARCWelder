{
 "cells": [
  {
   "cell_type": "code",
   "execution_count": 1,
   "metadata": {},
   "outputs": [
    {
     "name": "stdout",
     "output_type": "stream",
     "text": [
      "`setup_ipynb.py` executed, (multi-output enabled for subsequent cell executions).\n",
      "X:  5x5   🔳  9px ⛓5  🔗2 ,  🔵  9px ⛓5  🔗2 ,  ⚫ 16px ⛓4  🔗2 ,                  \n",
      "Y:  3x3   🔳  5px ⛓1  🔗1 ,                  ,  ⚫  4px ⛓2  🔗2 ,  🟣  5px ⛓1  🔗1 \n",
      "\n",
      "X:  5x5   🔳  9px ⛓3  🔗1 ,  ⚫ 16px ⛓2  🔗1 ,  ⚪  9px ⛓3  🔗1 ,                  \n",
      "Y:  3x3   🔳  5px ⛓1  🔗1 ,  ⚫  4px ⛓4  🔗4 ,                  ,  🟣  5px ⛓1  🔗1 \n",
      "\n",
      "X:  5x5   🔳 10px ⛓5  🔗2 ,  🟢 10px ⛓5  🔗2 ,  ⚫ 15px ⛓4  🔗1 ,                  \n",
      "Y:  3x3   🔳  5px ⛓1  🔗1 ,                  ,  ⚫  4px ⛓1  🔗1 ,  🟣  5px ⛓1  🔗1 \n",
      "\n",
      "X:  5x5   🔳 12px ⛓5  🔗2 ,  ⚪ 12px ⛓5  🔗2 ,  ⚫ 13px ⛓4  🔗1 ,                  \n",
      "Y:  3x3   🔳  5px ⛓1  🔗1 ,                  ,  ⚫  4px ⛓4  🔗4 ,  🟣  5px ⛓1  🔗1 \n",
      "\n",
      "X:  5x5   🔳 14px ⛓4  🔗3 ,  🔵 14px ⛓4  🔗3 ,  ⚫ 11px ⛓2  🔗1 ,                  \n",
      "Y:  3x3   🔳  5px ⛓1  🔗1 ,                  ,  ⚫  4px ⛓2  🔗2 ,  🟣  5px ⛓1  🔗1 \n",
      "\n",
      "X:  5x5   🔳 13px ⛓3  🔗2 ,  ⚫ 12px ⛓5  🔗4 ,  🔵 13px ⛓3  🔗2 ,                  \n",
      "Y:  3x3   🔳  5px ⛓1  🔗1 ,  ⚫  4px ⛓2  🔗2 ,                  ,  🟣  5px ⛓1  🔗1 \n",
      "\n",
      "X:  5x5   🔳  9px ⛓3  🔗2 ,  ⚫ 16px ⛓3  🔗2 ,  🟢  9px ⛓3  🔗2 ,                  \n",
      "Y:  3x3   🔳  5px ⛓1  🔗1 ,  ⚫  4px ⛓1  🔗1 ,                  ,  🟣  5px ⛓1  🔗1 \n",
      "\n"
     ]
    }
   ],
   "source": [
    "from ARC import ARC\n",
    "\n",
    "train, test = ARC.load(333)\n",
    "\n",
    "train.overview()"
   ]
  },
  {
   "cell_type": "code",
   "execution_count": 2,
   "metadata": {},
   "outputs": [
    {
     "data": {
      "text/plain": [
       "[[\n",
       "🔵 ⚫ ⚫ ⚫ ⚫\n",
       "⚫ 🔵 ⚫ ⚫ 🔵\n",
       "🔵 ⚫ ⚫ 🔵 ⚫\n",
       "⚫ ⚫ ⚫ 🔵 🔵\n",
       "⚫ ⚫ 🔵 🔵 ⚫\n",
       ", \n",
       "🟣 🟣 🟣\n",
       "⚫ 🟣 ⚫\n",
       "⚫ 🟣 ⚫\n",
       "], [\n",
       "⚫ ⚫ ⚫ ⚫ ⚫\n",
       "⚫ ⚫ ⚪ ⚪ ⚪\n",
       "⚫ ⚪ ⚫ ⚪ ⚪\n",
       "⚫ ⚪ ⚫ ⚪ ⚫\n",
       "⚫ ⚫ ⚫ ⚫ ⚪\n",
       ", \n",
       "⚫ 🟣 ⚫\n",
       "🟣 🟣 🟣\n",
       "⚫ 🟣 ⚫\n",
       "]]"
      ]
     },
     "execution_count": 2,
     "metadata": {},
     "output_type": "execute_result"
    }
   ],
   "source": [
    "train[:2]"
   ]
  },
  {
   "cell_type": "code",
   "execution_count": 3,
   "metadata": {},
   "outputs": [
    {
     "data": {
      "text/plain": [
       "[\n",
       "🟣 🟣 🟣\n",
       "⚫ 🟣 ⚫\n",
       "⚫ 🟣 ⚫\n",
       ", \n",
       "⚫ 🟣 ⚫\n",
       "🟣 🟣 🟣\n",
       "⚫ 🟣 ⚫\n",
       ", \n",
       "⚫ ⚫ 🟣\n",
       "⚫ ⚫ 🟣\n",
       "🟣 🟣 🟣\n",
       "]"
      ]
     },
     "execution_count": 3,
     "metadata": {},
     "output_type": "execute_result"
    }
   ],
   "source": [
    "train.Y.unique"
   ]
  },
  {
   "cell_type": "code",
   "execution_count": 4,
   "metadata": {},
   "outputs": [
    {
     "data": {
      "text/plain": [
       "(🔵 ⚫,\n",
       " \n",
       " 🟣 🟣 🟣\n",
       " ⚫ 🟣 ⚫\n",
       " ⚫ 🟣 ⚫)"
      ]
     },
     "execution_count": 4,
     "metadata": {},
     "output_type": "execute_result"
    },
    {
     "data": {
      "text/plain": [
       "(⚫ ⚪,\n",
       " \n",
       " ⚫ 🟣 ⚫\n",
       " 🟣 🟣 🟣\n",
       " ⚫ 🟣 ⚫)"
      ]
     },
     "execution_count": 4,
     "metadata": {},
     "output_type": "execute_result"
    },
    {
     "data": {
      "text/plain": [
       "(🟢 ⚫,\n",
       " \n",
       " ⚫ ⚫ 🟣\n",
       " ⚫ ⚫ 🟣\n",
       " 🟣 🟣 🟣)"
      ]
     },
     "execution_count": 4,
     "metadata": {},
     "output_type": "execute_result"
    },
    {
     "data": {
      "text/plain": [
       "(⚪ ⚫,\n",
       " \n",
       " ⚫ 🟣 ⚫\n",
       " 🟣 🟣 🟣\n",
       " ⚫ 🟣 ⚫)"
      ]
     },
     "execution_count": 4,
     "metadata": {},
     "output_type": "execute_result"
    },
    {
     "data": {
      "text/plain": [
       "(🔵 ⚫,\n",
       " \n",
       " 🟣 🟣 🟣\n",
       " ⚫ 🟣 ⚫\n",
       " ⚫ 🟣 ⚫)"
      ]
     },
     "execution_count": 4,
     "metadata": {},
     "output_type": "execute_result"
    },
    {
     "data": {
      "text/plain": [
       "(⚫ 🔵,\n",
       " \n",
       " 🟣 🟣 🟣\n",
       " ⚫ 🟣 ⚫\n",
       " ⚫ 🟣 ⚫)"
      ]
     },
     "execution_count": 4,
     "metadata": {},
     "output_type": "execute_result"
    },
    {
     "data": {
      "text/plain": [
       "(⚫ 🟢,\n",
       " \n",
       " ⚫ ⚫ 🟣\n",
       " ⚫ ⚫ 🟣\n",
       " 🟣 🟣 🟣)"
      ]
     },
     "execution_count": 4,
     "metadata": {},
     "output_type": "execute_result"
    }
   ],
   "source": [
    "for X, Y in train:\n",
    "    X.glyphs, Y"
   ]
  },
  {
   "cell_type": "code",
   "execution_count": 5,
   "metadata": {},
   "outputs": [
    {
     "data": {
      "text/plain": [
       "[True, True, True, True, True, True, True, True, True]"
      ]
     },
     "execution_count": 5,
     "metadata": {},
     "output_type": "execute_result"
    }
   ],
   "source": [
    "from Grid import Grid\n",
    "\n",
    "D = {\n",
    "    '🔵': '''\n",
    "        🟣 🟣 🟣\n",
    "        ⚫ 🟣 ⚫\n",
    "        ⚫ 🟣 ⚫\n",
    "    ''',\n",
    "    '🟢': '''\n",
    "        ⚫ ⚫ 🟣\n",
    "        ⚫ ⚫ 🟣\n",
    "        🟣 🟣 🟣\n",
    "    ''',\n",
    "    '⚪': '''\n",
    "        ⚫ 🟣 ⚫\n",
    "        🟣 🟣 🟣\n",
    "        ⚫ 🟣 ⚫\n",
    "    '''\n",
    "}\n",
    "\n",
    "def solve(X):\n",
    "    return Grid(\n",
    "        D[str(X.glyphs - '⚫')]\n",
    "    )\n",
    "\n",
    "[Y @ solve(X)  for (X, Y) in train | test]\n"
   ]
  },
  {
   "cell_type": "code",
   "execution_count": null,
   "metadata": {},
   "outputs": [],
   "source": []
  }
 ],
 "metadata": {
  "kernelspec": {
   "display_name": ".venv",
   "language": "python",
   "name": "python3"
  },
  "language_info": {
   "codemirror_mode": {
    "name": "ipython",
    "version": 3
   },
   "file_extension": ".py",
   "mimetype": "text/x-python",
   "name": "python",
   "nbconvert_exporter": "python",
   "pygments_lexer": "ipython3",
   "version": "3.12.3"
  }
 },
 "nbformat": 4,
 "nbformat_minor": 2
}
