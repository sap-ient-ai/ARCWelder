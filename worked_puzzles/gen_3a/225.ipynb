{
 "cells": [
  {
   "cell_type": "code",
   "execution_count": 1,
   "metadata": {},
   "outputs": [
    {
     "name": "stdout",
     "output_type": "stream",
     "text": [
      "`setup_ipynb.py` executed, (multi-output enabled for subsequent cell executions).\n"
     ]
    },
    {
     "data": {
      "text/plain": [
       "[\n",
       "⚫ ⚫ 🟣 ⚫ ⚫ ⚫ ⚫ 🟣 ⚫ ⚫\n",
       "⚫ ⚫ 🟣 ⚫ ⚫ ⚫ ⚫ 🟣 ⚫ ⚫\n",
       "⚫ ⚫ 🟣 ⚫ ⚫ ⚫ ⚫ 🟣 ⚫ ⚫\n",
       "🟣 🟣 🟣 🟣 🟣 🟣 🟣 🟣 🟣 🟣\n",
       "⚫ ⚫ 🟣 ⚫ ⚫ ⚫ ⚫ 🟣 ⚫ ⚫\n",
       "⚫ ⚫ 🟣 ⚫ ⚫ ⚫ ⚫ 🟣 ⚫ ⚫\n",
       "⚫ ⚫ 🟣 ⚫ ⚫ ⚫ ⚫ 🟣 ⚫ ⚫\n",
       "🟣 🟣 🟣 🟣 🟣 🟣 🟣 🟣 🟣 🟣\n",
       "⚫ ⚫ 🟣 ⚫ ⚫ ⚫ ⚫ 🟣 ⚫ ⚫\n",
       "⚫ ⚫ 🟣 ⚫ ⚫ ⚫ ⚫ 🟣 ⚫ ⚫\n",
       ", \n",
       "⚪ ⚪ 🟣 ⚫ ⚫ ⚫ ⚫ 🟣 ⚫ ⚫\n",
       "⚪ ⚪ 🟣 ⚫ ⚫ ⚫ ⚫ 🟣 ⚫ ⚫\n",
       "⚪ ⚪ 🟣 ⚫ ⚫ ⚫ ⚫ 🟣 ⚫ ⚫\n",
       "🟣 🟣 🟣 🟣 🟣 🟣 🟣 🟣 🟣 🟣\n",
       "⚫ ⚫ 🟣 🔵 🔵 🔵 🔵 🟣 ⚫ ⚫\n",
       "⚫ ⚫ 🟣 🔵 🔵 🔵 🔵 🟣 ⚫ ⚫\n",
       "⚫ ⚫ 🟣 🔵 🔵 🔵 🔵 🟣 ⚫ ⚫\n",
       "🟣 🟣 🟣 🟣 🟣 🟣 🟣 🟣 🟣 🟣\n",
       "⚫ ⚫ 🟣 ⚫ ⚫ ⚫ ⚫ 🟣 🟢 🟢\n",
       "⚫ ⚫ 🟣 ⚫ ⚫ ⚫ ⚫ 🟣 🟢 🟢\n",
       "]"
      ]
     },
     "execution_count": 1,
     "metadata": {},
     "output_type": "execute_result"
    }
   ],
   "source": [
    "from ARC import ARC\n",
    "\n",
    "puzzle = ARC.load(225)\n",
    "\n",
    "train = puzzle.train\n",
    "\n",
    "train[0]"
   ]
  },
  {
   "cell_type": "code",
   "execution_count": 2,
   "metadata": {},
   "outputs": [
    {
     "name": "stdout",
     "output_type": "stream",
     "text": [
      "X: 10x10  🔳 36px ⛓1  🔗1 ,  🟣 36px ⛓1  🔗1 ,                  ,                  ,                  ,  ⚫ 64px ⛓9  🔗9 \n",
      "Y: 10x10  🔳 58px ⛓1  🔗1 ,  🟣 36px ⛓1  🔗1 ,  ⚪  6px ⛓1  🔗1 ,  🔵 12px ⛓1  🔗1 ,  🟢  4px ⛓1  🔗1 ,  ⚫ 42px ⛓6  🔗6 \n",
      "🟣 fixed, ⚪ 🔵 🟢 created, 🔳 extended, ⚫ reduced\n",
      "\n",
      "X: 10x10  🔳 52px ⛓1  🔗1 ,  🟣 52px ⛓1  🔗1 ,                  ,                  ,                  ,  ⚫ 48px ⛓15 🔗15\n",
      "Y: 10x10  🔳 64px ⛓1  🔗1 ,  🟣 52px ⛓1  🔗1 ,  ⚪  3px ⛓1  🔗1 ,  🔵  8px ⛓1  🔗1 ,  🟢  1px ⛓1  🔗1 ,  ⚫ 36px ⛓12 🔗12\n",
      "🟣 fixed, ⚪ 🔵 🟢 created, 🔳 extended, ⚫ reduced\n",
      "\n",
      "X: 10x10  🔳 52px ⛓1  🔗1 ,  🟣 52px ⛓1  🔗1 ,                  ,                  ,                  ,  ⚫ 48px ⛓15 🔗15\n",
      "Y: 10x10  🔳 60px ⛓1  🔗1 ,  🟣 52px ⛓1  🔗1 ,  ⚪  3px ⛓1  🔗1 ,  🔵  2px ⛓1  🔗1 ,  🟢  3px ⛓1  🔗1 ,  ⚫ 40px ⛓12 🔗12\n",
      "🟣 fixed, ⚪ 🔵 🟢 created, 🔳 extended, ⚫ reduced\n",
      "\n"
     ]
    }
   ],
   "source": [
    "train.overview()"
   ]
  },
  {
   "cell_type": "code",
   "execution_count": 3,
   "metadata": {},
   "outputs": [
    {
     "data": {
      "text/plain": [
       "['⚪  3x2    6px', '🟣 10x10  36px', '🔵  3x4   12px', '🟢  2x2    4px']"
      ]
     },
     "execution_count": 3,
     "metadata": {},
     "output_type": "execute_result"
    },
    {
     "data": {
      "text/plain": [
       "['⚪  1x3    3px', '🟣 10x10  52px', '🔵  2x4    8px', '🟢  1x1    1px']"
      ]
     },
     "execution_count": 3,
     "metadata": {},
     "output_type": "execute_result"
    },
    {
     "data": {
      "text/plain": [
       "['⚪  3x1    3px', '🟣 10x10  52px', '🔵  2x1    2px', '🟢  3x1    3px']"
      ]
     },
     "execution_count": 3,
     "metadata": {},
     "output_type": "execute_result"
    }
   ],
   "source": [
    "# 1 fixed 🟣 region in each grid.\n",
    "# Let's drill into regions.\n",
    "for Y in train.Y:\n",
    "    Y['⛓.glyph_hxw_npix']"
   ]
  },
  {
   "cell_type": "code",
   "execution_count": 4,
   "metadata": {},
   "outputs": [
    {
     "data": {
      "text/plain": [
       "[2, 2, 2, 10, 2, 2, 2, 10, 2, 2]"
      ]
     },
     "execution_count": 4,
     "metadata": {},
     "output_type": "execute_result"
    },
    {
     "data": {
      "text/plain": [
       "[2, 2, 10, 2, 2, 2, 2, 10, 2, 2]"
      ]
     },
     "execution_count": 4,
     "metadata": {},
     "output_type": "execute_result"
    },
    {
     "data": {
      "text/plain": [
       "[ 0  0 to  2  1,  4  3 to  6  6,  8  8 to  9  9]"
      ]
     },
     "execution_count": 4,
     "metadata": {},
     "output_type": "execute_result"
    },
    {
     "data": {
      "text/plain": [
       "[2, 10, 2, 10, 2, 2, 10, 2, 10, 2]"
      ]
     },
     "execution_count": 4,
     "metadata": {},
     "output_type": "execute_result"
    },
    {
     "data": {
      "text/plain": [
       "[4, 4, 4, 10, 4, 4, 4, 4, 10, 4]"
      ]
     },
     "execution_count": 4,
     "metadata": {},
     "output_type": "execute_result"
    },
    {
     "data": {
      "text/plain": [
       "[ 0  0 to  0  2,  4  4 to  5  7,  9  9 to  9  9]"
      ]
     },
     "execution_count": 4,
     "metadata": {},
     "output_type": "execute_result"
    },
    {
     "data": {
      "text/plain": [
       "[4, 4, 4, 10, 4, 4, 10, 4, 4, 4]"
      ]
     },
     "execution_count": 4,
     "metadata": {},
     "output_type": "execute_result"
    },
    {
     "data": {
      "text/plain": [
       "[2, 10, 2, 2, 10, 2, 10, 2, 10, 2]"
      ]
     },
     "execution_count": 4,
     "metadata": {},
     "output_type": "execute_result"
    },
    {
     "data": {
      "text/plain": [
       "[ 0  0 to  2  0,  4  5 to  5  5,  7  9 to  9  9]"
      ]
     },
     "execution_count": 4,
     "metadata": {},
     "output_type": "execute_result"
    }
   ],
   "source": [
    "# 🟣.frame == grid.rect\n",
    "# Gridlines maybe?\n",
    "\n",
    "# Also, the non-🟣 regions are filled-rects, e.g. 3x2.6px\n",
    "\n",
    "# let's check for gridlines first, then hit that.\n",
    "\n",
    "for Y in train.Y:\n",
    "    Y['🟣.rows.Σ']\n",
    "    Y['🟣.cols.Σ']\n",
    "    Y['🟣->⚫.⛓.frame']"
   ]
  },
  {
   "cell_type": "code",
   "execution_count": 5,
   "metadata": {},
   "outputs": [
    {
     "data": {
      "text/plain": [
       "(3, 3)"
      ]
     },
     "execution_count": 5,
     "metadata": {},
     "output_type": "execute_result"
    },
    {
     "name": "stdout",
     "output_type": "stream",
     "text": [
      "⚪ 0 0\n",
      "🔵 1 1\n",
      "🟢 2 2\n"
     ]
    },
    {
     "data": {
      "text/plain": [
       "(5, 3)"
      ]
     },
     "execution_count": 5,
     "metadata": {},
     "output_type": "execute_result"
    },
    {
     "name": "stdout",
     "output_type": "stream",
     "text": [
      "⚪ 0 0\n",
      "🔵 2 1\n",
      "🟢 4 2\n"
     ]
    },
    {
     "data": {
      "text/plain": [
       "(3, 5)"
      ]
     },
     "execution_count": 5,
     "metadata": {},
     "output_type": "execute_result"
    },
    {
     "name": "stdout",
     "output_type": "stream",
     "text": [
      "⚪ 0 0\n",
      "🔵 1 2\n",
      "🟢 2 4\n"
     ]
    }
   ],
   "source": [
    "# Yup, but they're irregular.\n",
    "\n",
    "# So we might have irregular gridlines with certain 'cells' filled in.\n",
    "\n",
    "# Y extends X, so let's just work with Y.\n",
    "\n",
    "# Let's try to pull out the \"supergrid-coords\" of these regions.\n",
    "\n",
    "for Y in train.Y:\n",
    "    count = lambda G: len((G | (lambda u: u.Σ == 10)))\n",
    "\n",
    "    nx = count(Y.cols) + 1\n",
    "    ny = count(Y.rows) + 1\n",
    "    ny, nx\n",
    "\n",
    "    for r in Y['🟣->⚫.⛓']:\n",
    "        for i, f in enumerate(Y['~🟣.⛓.frame']):\n",
    "            if r.frame @ f:\n",
    "                print(r.glyph, i // nx, i % nx)\n"
   ]
  },
  {
   "cell_type": "code",
   "execution_count": 6,
   "metadata": {},
   "outputs": [
    {
     "data": {
      "text/plain": [
       "[True, True, True]"
      ]
     },
     "execution_count": 6,
     "metadata": {},
     "output_type": "execute_result"
    }
   ],
   "source": [
    "# ok, the top-left, center-center and bottom-right 'super-cells' are getting set to ⚪ 🔵 🟢 respectively.\n",
    "\n",
    "def solve(X):\n",
    "    Y = X.copy\n",
    "\n",
    "    frames = Y[f'⚫.⛓.frame']\n",
    "\n",
    "    Y[frames[0]] = '⚪'\n",
    "    Y[frames[len(frames) // 2]] = '🔵'\n",
    "    Y[frames[-1]] = '🟢'\n",
    "\n",
    "    return Y\n",
    "\n",
    "[Y @ solve(X)  for (X, Y) in puzzle.train]\n"
   ]
  }
 ],
 "metadata": {
  "kernelspec": {
   "display_name": ".venv",
   "language": "python",
   "name": "python3"
  },
  "language_info": {
   "codemirror_mode": {
    "name": "ipython",
    "version": 3
   },
   "file_extension": ".py",
   "mimetype": "text/x-python",
   "name": "python",
   "nbconvert_exporter": "python",
   "pygments_lexer": "ipython3",
   "version": "3.12.3"
  }
 },
 "nbformat": 4,
 "nbformat_minor": 2
}
