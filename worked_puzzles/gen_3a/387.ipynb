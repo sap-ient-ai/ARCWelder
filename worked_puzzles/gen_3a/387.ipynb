{
 "cells": [
  {
   "cell_type": "code",
   "execution_count": 1,
   "metadata": {},
   "outputs": [
    {
     "name": "stdout",
     "output_type": "stream",
     "text": [
      "`setup_ipynb.py` executed, (multi-output enabled for subsequent cell executions).\n"
     ]
    },
    {
     "data": {
      "text/plain": [
       "[\n",
       "🔵 ⚫ ⚫\n",
       "⚫ ⚫ ⚫\n",
       "⚫ ⚫ 🔵\n",
       ", \n",
       "🔵 ⚫ 🔴 🔵 ⚫ 🔴\n",
       "🔴 ⚫ 🔴 🔴 ⚫ 🔴\n",
       "🔴 ⚫ 🔵 🔴 ⚫ 🔵\n",
       "🔵 ⚫ 🔴 🔵 ⚫ 🔴\n",
       "🔴 ⚫ 🔴 🔴 ⚫ 🔴\n",
       "🔴 ⚫ 🔵 🔴 ⚫ 🔵\n",
       "]"
      ]
     },
     "execution_count": 1,
     "metadata": {},
     "output_type": "execute_result"
    }
   ],
   "source": [
    "from ARC import ARC\n",
    "\n",
    "train, test = ARC.load(387)\n",
    "\n",
    "train[0]"
   ]
  },
  {
   "cell_type": "code",
   "execution_count": 2,
   "metadata": {},
   "outputs": [
    {
     "name": "stdout",
     "output_type": "stream",
     "text": [
      "X:  3x3   🔳  2px ⛓2  🔗2 ,  🔵  2px ⛓2  🔗2 ,  ⚫  7px ⛓1  🔗1 ,                  \n",
      "Y:  6x6   🔳 24px ⛓3  🔗3 ,  🔵  8px ⛓8  🔗7 ,  ⚫ 12px ⛓2  🔗2 ,  🔴 16px ⛓6  🔗5 \n",
      "\n",
      "X:  6x6   🔳  3px ⛓3  🔗3 ,  ⚫ 33px ⛓1  🔗1 ,  🟣  3px ⛓3  🔗3 ,                  \n",
      "Y: 12x12  🔳 72px ⛓3  🔗3 ,  ⚫ 72px ⛓2  🔗2 ,  🟣 12px ⛓10 🔗10,  🔴 60px ⛓5  🔗5 \n",
      "\n",
      "X:  2x2   🔳  1px ⛓1  🔗1 ,  ⚫  3px ⛓1  🔗1 ,  🟡  1px ⛓1  🔗1 ,                  \n",
      "Y:  4x4   🔳  8px ⛓2  🔗2 ,  ⚫  8px ⛓2  🔗2 ,  🟡  4px ⛓4  🔗4 ,  🔴  4px ⛓4  🔗4 \n",
      "\n"
     ]
    }
   ],
   "source": [
    "train.overview()"
   ]
  },
  {
   "cell_type": "code",
   "execution_count": 3,
   "metadata": {},
   "outputs": [
    {
     "data": {
      "text/plain": [
       "[\n",
       "⚫ 🟡\n",
       "⚫ ⚫\n",
       ", \n",
       "⚫ 🟡 ⚫ 🟡\n",
       "⚫ 🔴 ⚫ 🔴\n",
       "⚫ 🟡 ⚫ 🟡\n",
       "⚫ 🔴 ⚫ 🔴\n",
       "]"
      ]
     },
     "execution_count": 3,
     "metadata": {},
     "output_type": "execute_result"
    }
   ],
   "source": [
    "# 👁: {k}x{k} -> {2k}.{2k}\n",
    "# 👁: Designating 🌹 for X.non⚫, 🌹.Σ -> 4 x 🌹.Σ\n",
    "# 👁: 🔴 is introduced, and is a multiple of 4\n",
    "# 👁: pair[2] is small: .X is 2x2 with one 🟡 pixel, and .Y only adds 4 🔴 pixels.\n",
    "\n",
    "# ⚡: Let's examine pair[2]\n",
    "\n",
    "train[2]"
   ]
  },
  {
   "cell_type": "code",
   "execution_count": 4,
   "metadata": {},
   "outputs": [
    {
     "data": {
      "text/plain": [
       "[1, 1, 1]"
      ]
     },
     "execution_count": 4,
     "metadata": {},
     "output_type": "execute_result"
    }
   ],
   "source": [
    "# 👁: There's a 2x2 tiling in Y\n",
    "\n",
    "# ⚡: Is this ALWAYS true?\n",
    "\n",
    "from Iter import Iter\n",
    "from Supergrid import Supergrid\n",
    "\n",
    "[\n",
    "    Iter(Supergrid(Y, ny=2, nx=2)).unique.Σ\n",
    "        for Y in train.Y\n",
    "]\n"
   ]
  },
  {
   "cell_type": "code",
   "execution_count": 5,
   "metadata": {},
   "outputs": [
    {
     "data": {
      "text/plain": [
       "[[\n",
       "🌹 ⚫ ⚫\n",
       "⚫ ⚫ ⚫\n",
       "⚫ ⚫ 🌹\n",
       ", \n",
       "🌹 ⚫ 🔴\n",
       "🔴 ⚫ 🔴\n",
       "🔴 ⚫ 🌹\n",
       "], [\n",
       "⚫ 🌹 ⚫ ⚫ ⚫ ⚫\n",
       "⚫ ⚫ ⚫ ⚫ ⚫ ⚫\n",
       "⚫ ⚫ ⚫ ⚫ ⚫ ⚫\n",
       "⚫ ⚫ ⚫ ⚫ ⚫ ⚫\n",
       "🌹 ⚫ ⚫ ⚫ ⚫ 🌹\n",
       "⚫ ⚫ ⚫ ⚫ ⚫ ⚫\n",
       ", \n",
       "🔴 🌹 ⚫ ⚫ ⚫ 🔴\n",
       "🔴 🔴 ⚫ ⚫ ⚫ 🔴\n",
       "🔴 🔴 ⚫ ⚫ ⚫ 🔴\n",
       "🔴 🔴 ⚫ ⚫ ⚫ 🔴\n",
       "🌹 🔴 ⚫ ⚫ ⚫ 🌹\n",
       "🔴 🔴 ⚫ ⚫ ⚫ 🔴\n",
       "], [\n",
       "⚫ 🌹\n",
       "⚫ ⚫\n",
       ", \n",
       "⚫ 🌹\n",
       "⚫ 🔴\n",
       "]]"
      ]
     },
     "execution_count": 5,
     "metadata": {},
     "output_type": "execute_result"
    }
   ],
   "source": [
    "# 👑: If we can generate a single tile from X, we're done!\n",
    "\n",
    "# 👶: Let's simplify by recolouring and setting Y to a single tile.\n",
    "\n",
    "from Pairs import Pairs\n",
    "\n",
    "def simplify(pair):\n",
    "    X, Y = pair\n",
    "    C = str(X.glyphs - '⚫')\n",
    "    s = f'{C}->🌹'\n",
    "    return X[s], Y.split(2, 2)[0][0][s]\n",
    "\n",
    "train_ = Pairs(simplify @ train)\n",
    "\n",
    "train_"
   ]
  },
  {
   "cell_type": "code",
   "execution_count": 6,
   "metadata": {},
   "outputs": [
    {
     "data": {
      "text/plain": [
       "[True, True, True, True]"
      ]
     },
     "execution_count": 6,
     "metadata": {},
     "output_type": "execute_result"
    }
   ],
   "source": [
    "# 👁: In each col containing 🌹, ⚫ -> 🔴\n",
    "\n",
    "def solve(X):\n",
    "    tile = X.copy\n",
    "    for col in tile.cols:\n",
    "        if col.any:\n",
    "            col.send('⚫->🔴', in_place=True)\n",
    "\n",
    "    # Allocate a fresh Grid object of desired shape\n",
    "    Y = X.upscale(2)\n",
    "\n",
    "    Supergrid(Y, ny=2, nx=2)[:] = tile\n",
    "\n",
    "    return Y\n",
    "\n",
    "[Y @ solve(X)  for (X, Y) in train | test]"
   ]
  }
 ],
 "metadata": {
  "kernelspec": {
   "display_name": ".venv",
   "language": "python",
   "name": "python3"
  },
  "language_info": {
   "codemirror_mode": {
    "name": "ipython",
    "version": 3
   },
   "file_extension": ".py",
   "mimetype": "text/x-python",
   "name": "python",
   "nbconvert_exporter": "python",
   "pygments_lexer": "ipython3",
   "version": "3.12.3"
  }
 },
 "nbformat": 4,
 "nbformat_minor": 2
}
