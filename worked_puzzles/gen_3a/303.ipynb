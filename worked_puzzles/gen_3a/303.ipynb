{
 "cells": [
  {
   "cell_type": "code",
   "execution_count": 1,
   "metadata": {},
   "outputs": [
    {
     "name": "stdout",
     "output_type": "stream",
     "text": [
      "`setup_ipynb.py` executed, (multi-output enabled for subsequent cell executions).\n"
     ]
    },
    {
     "data": {
      "text/plain": [
       "[\n",
       "🟢 🔴 🟤\n",
       "🌑 🟢 🔴\n",
       "🟤 🌑 🟢\n",
       ", \n",
       "🟢 🔴 🟤 ⚫ ⚫ ⚫ ⚫ ⚫ ⚫\n",
       "🌑 🟢 🔴 ⚫ ⚫ ⚫ ⚫ ⚫ ⚫\n",
       "🟤 🌑 🟢 ⚫ ⚫ ⚫ ⚫ ⚫ ⚫\n",
       "⚫ ⚫ ⚫ 🟢 🔴 🟤 ⚫ ⚫ ⚫\n",
       "⚫ ⚫ ⚫ 🌑 🟢 🔴 ⚫ ⚫ ⚫\n",
       "⚫ ⚫ ⚫ 🟤 🌑 🟢 ⚫ ⚫ ⚫\n",
       "⚫ ⚫ ⚫ ⚫ ⚫ ⚫ 🟢 🔴 🟤\n",
       "⚫ ⚫ ⚫ ⚫ ⚫ ⚫ 🌑 🟢 🔴\n",
       "⚫ ⚫ ⚫ ⚫ ⚫ ⚫ 🟤 🌑 🟢\n",
       "]"
      ]
     },
     "execution_count": 1,
     "metadata": {},
     "output_type": "execute_result"
    }
   ],
   "source": [
    "from ARC import ARC\n",
    "\n",
    "train, test = ARC.load(303)\n",
    "\n",
    "train[0]"
   ]
  },
  {
   "cell_type": "code",
   "execution_count": 2,
   "metadata": {},
   "outputs": [
    {
     "name": "stdout",
     "output_type": "stream",
     "text": [
      "X:  3x3   🔳  9px ⛓1  🔗1 ,  🟢  3px ⛓3  🔗1 ,  🔴  2px ⛓2  🔗1 ,  🟤  2px ⛓2  🔗2 ,  🌑  2px ⛓2  🔗1 ,                  \n",
      "Y:  9x9   🔳 27px ⛓3  🔗1 ,  🟢  9px ⛓9  🔗1 ,  🔴  6px ⛓6  🔗3 ,  🟤  6px ⛓6  🔗6 ,  🌑  6px ⛓6  🔗3 ,  ⚫ 54px ⛓2  🔗1 \n",
      "\n",
      "X:  3x3   🔳  9px ⛓1  🔗1 ,  🔴  6px ⛓2  🔗2 ,  🟠  1px ⛓1  🔗1 ,  🟢  2px ⛓1  🔗1 ,                  \n",
      "Y:  9x9   🔳 54px ⛓2  🔗2 ,  🔴 36px ⛓5  🔗5 ,  🟠  6px ⛓6  🔗6 ,  🟢 12px ⛓6  🔗6 ,  ⚫ 27px ⛓1  🔗1 \n",
      "\n",
      "X:  3x3   🔳  9px ⛓1  🔗1 ,  🟠  2px ⛓2  🔗1 ,  🌑  4px ⛓2  🔗2 ,  🟡  1px ⛓1  🔗1 ,  🔴  2px ⛓1  🔗1 ,                  \n",
      "Y:  9x9   🔳 36px ⛓2  🔗2 ,  🟠  8px ⛓8  🔗4 ,  🌑 16px ⛓8  🔗8 ,  🟡  4px ⛓4  🔗4 ,  🔴  8px ⛓4  🔗4 ,  ⚫ 45px ⛓1  🔗1 \n",
      "\n"
     ]
    }
   ],
   "source": [
    "train.overview()"
   ]
  },
  {
   "cell_type": "code",
   "execution_count": 3,
   "metadata": {},
   "outputs": [
    {
     "name": "stdout",
     "output_type": "stream",
     "text": [
      "🟢 3 3.0\n",
      "🔴 2 3.0\n",
      "🟤 2 3.0\n",
      "🌑 2 3.0\n",
      "\n",
      "🔴 6 6.0\n",
      "🟠 1 6.0\n",
      "🟢 2 6.0\n",
      "\n",
      "🟠 2 4.0\n",
      "🌑 4 4.0\n",
      "🟡 1 4.0\n",
      "🔴 2 4.0\n",
      "\n"
     ]
    }
   ],
   "source": [
    "# 3x3 -> 9x9\n",
    "# For pair k, Y.🌹 = [3, 6, 4][k] * X.🌹\n",
    "# 3, 6, 4 is also the highest count for each Y0, Y1, Y2.\n",
    "\n",
    "# let's check the pixel ratios\n",
    "\n",
    "for X, Y in train:\n",
    "    for glyph in X.glyphs:\n",
    "        Σ = lambda G: G[glyph].Σ\n",
    "        print(glyph,  Σ(X), Σ(Y) / Σ(X))\n",
    "    print()"
   ]
  },
  {
   "cell_type": "code",
   "execution_count": 4,
   "metadata": {},
   "outputs": [
    {
     "data": {
      "text/plain": [
       "(\n",
       " 🟢 🔴 🟤\n",
       " 🌑 🟢 🔴\n",
       " 🟤 🌑 🟢,\n",
       " \n",
       " ▫ ▪ ▪ ▪ ▪ ▪ ▪\n",
       " ▪ ▪ ▪ ▪ ▪ ▪ ▪\n",
       " ▪ ▪ ▪ ▪ ▪ ▪ ▪\n",
       " ▪ ▪ ▪ ▫ ▪ ▪ ▪\n",
       " ▪ ▪ ▪ ▪ ▪ ▪ ▪\n",
       " ▪ ▪ ▪ ▪ ▪ ▪ ▪\n",
       " ▪ ▪ ▪ ▪ ▪ ▪ ▫)"
      ]
     },
     "execution_count": 4,
     "metadata": {},
     "output_type": "execute_result"
    }
   ],
   "source": [
    "# yup.\n",
    "\n",
    "# can we find X in Y?\n",
    "\n",
    "X, Y = train[0]\n",
    "\n",
    "X, Y.locate(X)"
   ]
  },
  {
   "cell_type": "code",
   "execution_count": 5,
   "metadata": {},
   "outputs": [
    {
     "data": {
      "text/plain": [
       "\n",
       "▫ ▪ ▪\n",
       "▪ ▫ ▪\n",
       "▪ ▪ ▫"
      ]
     },
     "execution_count": 5,
     "metadata": {},
     "output_type": "execute_result"
    },
    {
     "data": {
      "text/plain": [
       "\n",
       "▫ ▪ ▫\n",
       "▪ ▪ ▫\n",
       "▫ ▫ ▫"
      ]
     },
     "execution_count": 5,
     "metadata": {},
     "output_type": "execute_result"
    },
    {
     "data": {
      "text/plain": [
       "\n",
       "▪ ▫ ▫\n",
       "▪ ▪ ▪\n",
       "▫ ▫ ▪"
      ]
     },
     "execution_count": 5,
     "metadata": {},
     "output_type": "execute_result"
    }
   ],
   "source": [
    "# Yes!\n",
    "# Looks like Y is a 3x3 of 3x3s.\n",
    "# And supercells in Y are either empty or X.\n",
    "\n",
    "# Check this\n",
    "\n",
    "from Supergrid import Supergrid\n",
    "\n",
    "for X, Y in train:\n",
    "    S = Supergrid(Y, sy=3, sx=3)\n",
    "    S == X"
   ]
  },
  {
   "cell_type": "code",
   "execution_count": 6,
   "metadata": {},
   "outputs": [
    {
     "name": "stdout",
     "output_type": "stream",
     "text": [
      "X:  3x3   🔳  9px ⛓1  🔗1 ,  🟢  3px ⛓3  🔗1 ,  🔴  2px ⛓2  🔗1 ,  🟤  2px ⛓2  🔗2 ,  🌑  2px ⛓2  🔗1 ,                  ,                  \n",
      "Y:  3x3   🔳  3px ⛓3  🔗1 ,                  ,                  ,                  ,                  ,  ⚪  3px ⛓3  🔗1 ,  ⚫  6px ⛓2  🔗1 \n",
      "🟢 🔴 🟤 🌑 removed, ⚪ ⚫ created, 🔳 reduced\n",
      "\n",
      "X:  3x3   🔳  9px ⛓1  🔗1 ,  🔴  6px ⛓2  🔗2 ,  🟠  1px ⛓1  🔗1 ,  🟢  2px ⛓1  🔗1 ,                  ,                  \n",
      "Y:  3x3   🔳  6px ⛓2  🔗2 ,                  ,                  ,                  ,  ⚪  6px ⛓2  🔗2 ,  ⚫  3px ⛓1  🔗1 \n",
      "🔴 🟠 🟢 removed, ⚪ ⚫ created, 🔳 reduced\n",
      "\n",
      "X:  3x3   🔳  9px ⛓1  🔗1 ,  🟠  2px ⛓2  🔗1 ,  🌑  4px ⛓2  🔗2 ,  🟡  1px ⛓1  🔗1 ,  🔴  2px ⛓1  🔗1 ,                  ,                  \n",
      "Y:  3x3   🔳  4px ⛓2  🔗2 ,                  ,                  ,                  ,                  ,  ⚫  5px ⛓1  🔗1 ,  ⚪  4px ⛓2  🔗2 \n",
      "🟠 🌑 🟡 🔴 removed, ⚫ ⚪ created, 🔳 reduced\n",
      "\n"
     ]
    }
   ],
   "source": [
    "# So we can simplify the puzzle to the binary pattern of filled and empty supercells\n",
    "\n",
    "from Pair import Pair\n",
    "from Pairs import Pairs\n",
    "\n",
    "def fix(pair):\n",
    "    X, Y = pair\n",
    "    S = Supergrid(Y, sy=3, sx=3)\n",
    "    return Pair(X, (S == X).int)\n",
    "\n",
    "train_ = Pairs(fix @ train)\n",
    "\n",
    "train_.overview()"
   ]
  },
  {
   "cell_type": "code",
   "execution_count": 7,
   "metadata": {},
   "outputs": [
    {
     "data": {
      "text/plain": [
       "[True, True, True]"
      ]
     },
     "execution_count": 7,
     "metadata": {},
     "output_type": "execute_result"
    }
   ],
   "source": [
    "# Stats for Y match those of the most common glyph in X\n",
    "\n",
    "# Are the locations the same?\n",
    "\n",
    "[X[X.most_common()[0]] @ Y.bool for X, Y in train_]"
   ]
  },
  {
   "cell_type": "code",
   "execution_count": 8,
   "metadata": {},
   "outputs": [
    {
     "data": {
      "text/plain": [
       "[True, True, True]"
      ]
     },
     "execution_count": 8,
     "metadata": {},
     "output_type": "execute_result"
    }
   ],
   "source": [
    "# Great, we've solved it!\n",
    "\n",
    "# Identify most-frequent colour C, consider Y as 3x3 supergrid of 3x3 supercells\n",
    "# Then whenever X[p] == C, supergrid[p] is X\n",
    "\n",
    "from Grid import Grid\n",
    "\n",
    "def solve(X):\n",
    "    Y = Grid('9x9.⚫')\n",
    "    S = Supergrid(Y, sy=3, sx=3)\n",
    "    S[X == X.most_common()[0]] = X\n",
    "    return Y\n",
    "\n",
    "[Y @ solve(X)  for (X, Y) in train]\n"
   ]
  }
 ],
 "metadata": {
  "kernelspec": {
   "display_name": ".venv",
   "language": "python",
   "name": "python3"
  },
  "language_info": {
   "codemirror_mode": {
    "name": "ipython",
    "version": 3
   },
   "file_extension": ".py",
   "mimetype": "text/x-python",
   "name": "python",
   "nbconvert_exporter": "python",
   "pygments_lexer": "ipython3",
   "version": "3.12.3"
  }
 },
 "nbformat": 4,
 "nbformat_minor": 2
}
