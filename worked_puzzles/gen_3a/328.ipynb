{
 "cells": [
  {
   "cell_type": "code",
   "execution_count": 1,
   "metadata": {},
   "outputs": [
    {
     "name": "stdout",
     "output_type": "stream",
     "text": [
      "`setup_ipynb.py` executed, (multi-output enabled for subsequent cell executions).\n",
      "X:  3x3   🔳  5px ⛓2  🔗1 ,  🟠  1px ⛓1  🔗1 ,  🌑  1px ⛓1  🔗1 ,  ⚪  1px ⛓1  🔗1 ,  🟡  1px ⛓1  🔗1 ,  🟢  1px ⛓1  🔗1 ,  ⚫  4px ⛓3  🔗2 \n",
      "Y:  3x3   🔳  2px ⛓1  🔗1 ,                  ,                  ,                  ,  🟡  1px ⛓1  🔗1 ,  🟢  1px ⛓1  🔗1 ,  ⚫  7px ⛓1  🔗1 \n",
      "🟠 🌑 ⚪ removed, 🟡 🟢 fixed, ⚫ extended, 🔳 reduced\n",
      "\n",
      "X:  5x5   🔳 13px ⛓4  🔗2 ,  🔴  2px ⛓1  🔗1 ,  🟠  3px ⛓2  🔗2 ,  ⚫ 12px ⛓4  🔗2 ,  🟢  3px ⛓3  🔗3 ,  🟣  3px ⛓3  🔗3 ,  🌑  2px ⛓2  🔗2 \n",
      "Y:  5x5   🔳  4px ⛓2  🔗2 ,                  ,                  ,  ⚫ 21px ⛓1  🔗1 ,  🟢  2px ⛓2  🔗2 ,  🟣  1px ⛓1  🔗1 ,  🌑  1px ⛓1  🔗1 \n",
      "🔴 🟠 removed, ⚫ extended, 🔳 🟢 🟣 🌑 reduced\n",
      "\n",
      "X:  5x5   🔳 11px ⛓7  🔗1 ,  🟢  2px ⛓1  🔗1 ,  🟤  2px ⛓2  🔗1 ,  🟠  1px ⛓1  🔗1 ,  🔵  2px ⛓1  🔗1 ,  🟡  2px ⛓1  🔗1 ,  ⚫ 14px ⛓5  🔗1 ,  🔴  2px ⛓2  🔗1 \n",
      "Y:  5x5   🔳  3px ⛓2  🔗2 ,                  ,                  ,                  ,                  ,  🟡  2px ⛓1  🔗1 ,  ⚫ 22px ⛓1  🔗1 ,  🔴  1px ⛓1  🔗1 \n",
      "🟢 🟤 🟠 🔵 removed, 🟡 fixed, ⚫ extended, 🔳 🔴 reduced\n",
      "\n"
     ]
    }
   ],
   "source": [
    "from ARC import ARC\n",
    "\n",
    "train, test = ARC.load(328)\n",
    "\n",
    "train.overview()"
   ]
  },
  {
   "cell_type": "code",
   "execution_count": 2,
   "metadata": {},
   "outputs": [
    {
     "data": {
      "text/plain": [
       "[\n",
       "🟠 🟡 ⚫\n",
       "⚫ 🟢 🌑\n",
       "⚪ ⚫ ⚫\n",
       ", \n",
       "⚫ 🟡 ⚫\n",
       "⚫ 🟢 ⚫\n",
       "⚫ ⚫ ⚫\n",
       "]"
      ]
     },
     "execution_count": 2,
     "metadata": {},
     "output_type": "execute_result"
    }
   ],
   "source": [
    "# train[0] is very small so let's examine it\n",
    "\n",
    "train[0]"
   ]
  },
  {
   "cell_type": "code",
   "execution_count": 3,
   "metadata": {},
   "outputs": [
    {
     "data": {
      "text/plain": [
       "[\n",
       "🔴 ⚫ 🟢 ⚫ ⚫\n",
       "🔴 🟠 🟣 🟠 ⚫\n",
       "🟢 🟠 🟢 ⚫ ⚫\n",
       "⚫ ⚫ ⚫ 🟣 🌑\n",
       "🟣 ⚫ 🌑 ⚫ ⚫\n",
       ", \n",
       "⚫ ⚫ 🟢 ⚫ ⚫\n",
       "⚫ ⚫ 🟣 ⚫ ⚫\n",
       "⚫ ⚫ 🟢 ⚫ ⚫\n",
       "⚫ ⚫ ⚫ ⚫ ⚫\n",
       "⚫ ⚫ 🌑 ⚫ ⚫\n",
       "]"
      ]
     },
     "execution_count": 3,
     "metadata": {},
     "output_type": "execute_result"
    }
   ],
   "source": [
    "# looks like only the center col is copied over to Y\n",
    "\n",
    "# do we see it in train[1]?\n",
    "\n",
    "train[1]"
   ]
  },
  {
   "cell_type": "code",
   "execution_count": 4,
   "metadata": {},
   "outputs": [
    {
     "data": {
      "text/plain": [
       "[True, True, True, True]"
      ]
     },
     "execution_count": 4,
     "metadata": {},
     "output_type": "execute_result"
    }
   ],
   "source": [
    "# yup!\n",
    "\n",
    "def solve(X):\n",
    "    Y = X * 0\n",
    "    mid = (X.w - 1) // 2\n",
    "    Y.cols[mid][:] = X.cols[mid]\n",
    "    return Y\n",
    "\n",
    "[Y @ solve(X)  for (X, Y) in train | test]\n"
   ]
  },
  {
   "cell_type": "code",
   "execution_count": null,
   "metadata": {},
   "outputs": [],
   "source": []
  }
 ],
 "metadata": {
  "kernelspec": {
   "display_name": ".venv",
   "language": "python",
   "name": "python3"
  },
  "language_info": {
   "codemirror_mode": {
    "name": "ipython",
    "version": 3
   },
   "file_extension": ".py",
   "mimetype": "text/x-python",
   "name": "python",
   "nbconvert_exporter": "python",
   "pygments_lexer": "ipython3",
   "version": "3.12.3"
  }
 },
 "nbformat": 4,
 "nbformat_minor": 2
}
