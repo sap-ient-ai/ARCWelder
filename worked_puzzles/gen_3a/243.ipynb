{
 "cells": [
  {
   "cell_type": "code",
   "execution_count": 1,
   "metadata": {},
   "outputs": [
    {
     "name": "stdout",
     "output_type": "stream",
     "text": [
      "`setup_ipynb.py` executed, (multi-output enabled for subsequent cell executions).\n"
     ]
    },
    {
     "data": {
      "text/plain": [
       "[\n",
       "🟢 🟢 🟢 🟢 🔵 ⚫ ⚫ ⚫ ⚫ 🔵 ⚫ ⚫ ⚫ ⚫ 🔵 ⚫ ⚫ ⚫ ⚫\n",
       "🟢 🟢 🟢 🟢 🔵 ⚫ ⚫ ⚫ ⚫ 🔵 ⚫ ⚫ ⚫ ⚫ 🔵 ⚫ ⚫ ⚫ ⚫\n",
       "🟢 🟢 🟢 🟢 🔵 ⚫ ⚫ ⚫ ⚫ 🔵 ⚫ ⚫ ⚫ ⚫ 🔵 ⚫ ⚫ ⚫ ⚫\n",
       "🟢 🟢 🟢 🟢 🔵 ⚫ ⚫ ⚫ ⚫ 🔵 ⚫ ⚫ ⚫ ⚫ 🔵 ⚫ ⚫ ⚫ ⚫\n",
       "🔵 🔵 🔵 🔵 🔵 🔵 🔵 🔵 🔵 🔵 🔵 🔵 🔵 🔵 🔵 🔵 🔵 🔵 🔵\n",
       "⚫ ⚫ ⚫ ⚫ 🔵 🟢 🟢 🟢 🟢 🔵 ⚫ ⚫ ⚫ ⚫ 🔵 ⚫ ⚫ ⚫ ⚫\n",
       "⚫ ⚫ ⚫ ⚫ 🔵 🟢 🟢 🟢 🟢 🔵 ⚫ ⚫ ⚫ ⚫ 🔵 ⚫ ⚫ ⚫ ⚫\n",
       "⚫ ⚫ ⚫ ⚫ 🔵 🟢 🟢 🟢 🟢 🔵 ⚫ ⚫ ⚫ ⚫ 🔵 ⚫ ⚫ ⚫ ⚫\n",
       "⚫ ⚫ ⚫ ⚫ 🔵 🟢 🟢 🟢 🟢 🔵 ⚫ ⚫ ⚫ ⚫ 🔵 ⚫ ⚫ ⚫ ⚫\n",
       "🔵 🔵 🔵 🔵 🔵 🔵 🔵 🔵 🔵 🔵 🔵 🔵 🔵 🔵 🔵 🔵 🔵 🔵 🔵\n",
       "⚫ ⚫ ⚫ ⚫ 🔵 ⚫ ⚫ ⚫ ⚫ 🔵 🟢 🟢 🟢 🟢 🔵 ⚫ ⚫ ⚫ ⚫\n",
       "⚫ ⚫ ⚫ ⚫ 🔵 ⚫ ⚫ ⚫ ⚫ 🔵 🟢 🟢 🟢 🟢 🔵 ⚫ ⚫ ⚫ ⚫\n",
       "⚫ ⚫ ⚫ ⚫ 🔵 ⚫ ⚫ ⚫ ⚫ 🔵 🟢 🟢 🟢 🟢 🔵 ⚫ ⚫ ⚫ ⚫\n",
       "⚫ ⚫ ⚫ ⚫ 🔵 ⚫ ⚫ ⚫ ⚫ 🔵 🟢 🟢 🟢 🟢 🔵 ⚫ ⚫ ⚫ ⚫\n",
       "🔵 🔵 🔵 🔵 🔵 🔵 🔵 🔵 🔵 🔵 🔵 🔵 🔵 🔵 🔵 🔵 🔵 🔵 🔵\n",
       "🟢 🟢 🟢 🟢 🔵 🟢 🟢 🟢 🟢 🔵 🟢 🟢 🟢 🟢 🔵 ⚫ ⚫ ⚫ ⚫\n",
       "🟢 🟢 🟢 🟢 🔵 🟢 🟢 🟢 🟢 🔵 🟢 🟢 🟢 🟢 🔵 ⚫ ⚫ ⚫ ⚫\n",
       "🟢 🟢 🟢 🟢 🔵 🟢 🟢 🟢 🟢 🔵 🟢 🟢 🟢 🟢 🔵 ⚫ ⚫ ⚫ ⚫\n",
       "🟢 🟢 🟢 🟢 🔵 🟢 🟢 🟢 🟢 🔵 🟢 🟢 🟢 🟢 🔵 ⚫ ⚫ ⚫ ⚫\n",
       ", \n",
       "⚫ ⚫ ⚫ 🟢\n",
       "⚫ ⚫ 🟢 ⚫\n",
       "⚫ 🟢 ⚫ ⚫\n",
       "⚫ 🟢 🟢 🟢\n",
       "]"
      ]
     },
     "execution_count": 1,
     "metadata": {},
     "output_type": "execute_result"
    }
   ],
   "source": [
    "from ARC import ARC\n",
    "\n",
    "train, test = ARC.load(243)\n",
    "\n",
    "train[0]\n"
   ]
  },
  {
   "cell_type": "code",
   "execution_count": 2,
   "metadata": {},
   "outputs": [
    {
     "name": "stdout",
     "output_type": "stream",
     "text": [
      "X: 19x19  🔳201px ⛓1  🔗1 ,  🟢 96px ⛓6  🔗6 ,  🔵105px ⛓1  🔗1 ,  ⚫160px ⛓10 🔗10\n",
      "Y:  4x4   🔳  6px ⛓3  🔗1 ,  🟢  6px ⛓3  🔗1 ,                  ,  ⚫ 10px ⛓2  🔗1 \n",
      "\n",
      "X: 19x19  🔳185px ⛓1  🔗1 ,  ⚫176px ⛓11 🔗11,  🔴105px ⛓1  🔗1 ,  🔵 32px ⛓2  🔗2 ,  ⚪ 32px ⛓2  🔗2 ,  🟢 16px ⛓1  🔗1 \n",
      "Y:  4x4   🔳  5px ⛓3  🔗1 ,  ⚫ 11px ⛓3  🔗2 ,                  ,  🔵  2px ⛓2  🔗1 ,  ⚪  2px ⛓2  🔗1 ,  🟢  1px ⛓1  🔗1 \n",
      "\n",
      "X: 11x11  🔳 76px ⛓1  🔗1 ,  ⚫ 45px ⛓5  🔗5 ,  🔵 40px ⛓1  🔗1 ,  🔴 27px ⛓3  🔗3 ,  🟡  9px ⛓1  🔗1 \n",
      "Y:  3x3   🔳  4px ⛓2  🔗1 ,  ⚫  5px ⛓3  🔗2 ,                  ,  🔴  3px ⛓1  🔗1 ,  🟡  1px ⛓1  🔗1 \n",
      "\n"
     ]
    }
   ],
   "source": [
    "train.overview()"
   ]
  },
  {
   "cell_type": "code",
   "execution_count": 3,
   "metadata": {},
   "outputs": [
    {
     "data": {
      "text/plain": [
       "[('🟢  4x4   16px', 6), ('🔵 19x19 105px', 1)]"
      ]
     },
     "execution_count": 3,
     "metadata": {},
     "output_type": "execute_result"
    },
    {
     "data": {
      "text/plain": [
       "[('🔴 19x19 105px', 1), ('🔵  4x4   16px', 2), ('⚪  4x4   16px', 2), ('🟢  4x4   16px', 1)]"
      ]
     },
     "execution_count": 3,
     "metadata": {},
     "output_type": "execute_result"
    },
    {
     "data": {
      "text/plain": [
       "[('🔵 11x11  40px', 1), ('🔴  3x3    9px', 3), ('🟡  3x3    9px', 1)]"
      ]
     },
     "execution_count": 3,
     "metadata": {},
     "output_type": "execute_result"
    }
   ],
   "source": [
    "# Y is 3x3 or 4x4, so square\n",
    "# TODO: we lose some stats for non-fixed-shape X->Y, fix this\n",
    "\n",
    "# X is bigger, also square\n",
    "\n",
    "# thought: gridlines? 11x11 is a 3x3 supergrid of 3x3 super-cells, with gridlines. Basically a tic-tac-toe board.\n",
    "\n",
    "# TODO: check for gridlines in .overview\n",
    "\n",
    "# Let's examine the region-stats for X. If it IS a supergrid, we might expect repeats, so let's use .counts (if no repeats, output is marginally messier)\n",
    "\n",
    "for X in train.X:\n",
    "    X['⛓.glyph_hxw_npix'].counts"
   ]
  },
  {
   "cell_type": "code",
   "execution_count": 4,
   "metadata": {},
   "outputs": [
    {
     "data": {
      "text/plain": [
       "19 19"
      ]
     },
     "execution_count": 4,
     "metadata": {},
     "output_type": "execute_result"
    },
    {
     "data": {
      "text/plain": [
       "[3, 3, 3, 3, 19, 3, 3, 3, 3, 19, 3, 3, 3, 3, 19, 3, 3, 3, 3]"
      ]
     },
     "execution_count": 4,
     "metadata": {},
     "output_type": "execute_result"
    },
    {
     "data": {
      "text/plain": [
       "[3, 3, 3, 3, 19, 3, 3, 3, 3, 19, 3, 3, 3, 3, 19, 3, 3, 3, 3]"
      ]
     },
     "execution_count": 4,
     "metadata": {},
     "output_type": "execute_result"
    }
   ],
   "source": [
    "# yup, has repeats\n",
    "# Save for the one big region, each region is a filled rect, e.g. 4x4.16px\n",
    "\n",
    "# also Y.hw == region.hw\n",
    "\n",
    "# let's work on the gridlines hypothesis\n",
    "\n",
    "X, Y = train[0]\n",
    "X.hw\n",
    "X['🔵.rows.Σ']\n",
    "X['🔵.cols.Σ']"
   ]
  },
  {
   "cell_type": "code",
   "execution_count": 5,
   "metadata": {},
   "outputs": [
    {
     "data": {
      "text/plain": [
       "(\n",
       " 🟢 ⚫ ⚫ ⚫\n",
       " ⚫ 🟢 ⚫ ⚫\n",
       " ⚫ ⚫ 🟢 ⚫\n",
       " 🟢 🟢 🟢 ⚫,\n",
       " \n",
       " ⚫ ⚫ ⚫ 🟢\n",
       " ⚫ ⚫ 🟢 ⚫\n",
       " ⚫ 🟢 ⚫ ⚫\n",
       " ⚫ 🟢 🟢 🟢)"
      ]
     },
     "execution_count": 5,
     "metadata": {},
     "output_type": "execute_result"
    }
   ],
   "source": [
    "# yup, gridlines.\n",
    "# ... and each supercell is filled\n",
    "# so we actually have a supergrid of superpixels.\n",
    "# and it's .hw will be the same as that of .Y.\n",
    "\n",
    "from Supergrid import Supergrid\n",
    "\n",
    "X, Y = train[0]\n",
    "Supergrid(X).superpixels, Y"
   ]
  },
  {
   "cell_type": "code",
   "execution_count": 6,
   "metadata": {},
   "outputs": [
    {
     "data": {
      "text/plain": [
       "↔"
      ]
     },
     "execution_count": 6,
     "metadata": {},
     "output_type": "execute_result"
    },
    {
     "data": {
      "text/plain": [
       "⤵ ↔"
      ]
     },
     "execution_count": 6,
     "metadata": {},
     "output_type": "execute_result"
    },
    {
     "data": {
      "text/plain": [
       "⤵ ↔"
      ]
     },
     "execution_count": 6,
     "metadata": {},
     "output_type": "execute_result"
    }
   ],
   "source": [
    "# Looks like a lr-flip\n",
    "\n",
    "from Supergrid import Supergrid\n",
    "\n",
    "for X, Y in train:\n",
    "    Supergrid(X).superpixels > Y"
   ]
  },
  {
   "cell_type": "code",
   "execution_count": 7,
   "metadata": {},
   "outputs": [
    {
     "data": {
      "text/plain": [
       "[True, True, True, True]"
      ]
     },
     "execution_count": 7,
     "metadata": {},
     "output_type": "execute_result"
    }
   ],
   "source": [
    "# yep, lr-flip works for each pair\n",
    "\n",
    "def solve(X):\n",
    "    return Supergrid(X).superpixels['↔']\n",
    "\n",
    "[Y @ solve(X)  for (X, Y) in train | test]"
   ]
  }
 ],
 "metadata": {
  "kernelspec": {
   "display_name": ".venv",
   "language": "python",
   "name": "python3"
  },
  "language_info": {
   "codemirror_mode": {
    "name": "ipython",
    "version": 3
   },
   "file_extension": ".py",
   "mimetype": "text/x-python",
   "name": "python",
   "nbconvert_exporter": "python",
   "pygments_lexer": "ipython3",
   "version": "3.12.3"
  }
 },
 "nbformat": 4,
 "nbformat_minor": 2
}
