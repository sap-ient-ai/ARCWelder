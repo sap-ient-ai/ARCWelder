{
 "cells": [
  {
   "cell_type": "code",
   "execution_count": 1,
   "metadata": {},
   "outputs": [
    {
     "name": "stdout",
     "output_type": "stream",
     "text": [
      "`setup_ipynb.py` executed, (multi-output enabled for subsequent cell executions).\n"
     ]
    },
    {
     "data": {
      "text/plain": [
       "[\n",
       "⚫ ⚫ 🟠\n",
       "⚫ 🟡 ⚫\n",
       "🟢 ⚫ ⚫\n",
       ", \n",
       "⚫ ⚫ 🟠\n",
       "⚫ 🟡 🟠\n",
       "🟢 🟡 🟠\n",
       "]"
      ]
     },
     "execution_count": 1,
     "metadata": {},
     "output_type": "execute_result"
    }
   ],
   "source": [
    "from ARC import ARC\n",
    "\n",
    "train, test = ARC.load(321)\n",
    "\n",
    "train[0]\n"
   ]
  },
  {
   "cell_type": "code",
   "execution_count": 2,
   "metadata": {},
   "outputs": [
    {
     "name": "stdout",
     "output_type": "stream",
     "text": [
      "X:  3x3   🔳  3px ⛓3  🔗1 ,  🟢  1px ⛓1  🔗1 ,  🟠  1px ⛓1  🔗1 ,  🟡  1px ⛓1  🔗1 ,  ⚫  6px ⛓2  🔗1 \n",
      "Y:  3x3   🔳  6px ⛓1  🔗1 ,  🟢  1px ⛓1  🔗1 ,  🟠  3px ⛓1  🔗1 ,  🟡  2px ⛓1  🔗1 ,  ⚫  3px ⛓1  🔗1 \n",
      "🟢 fixed, 🔳 🟠 🟡 extended, ⚫ reduced\n",
      "\n",
      "X:  3x3   🔳  3px ⛓3  🔗1 ,  🔵  1px ⛓1  🔗1 ,  🟤  1px ⛓1  🔗1 ,  🔴  1px ⛓1  🔗1 ,  ⚫  6px ⛓3  🔗1 \n",
      "Y:  3x3   🔳  7px ⛓1  🔗1 ,  🔵  3px ⛓1  🔗1 ,  🟤  2px ⛓1  🔗1 ,  🔴  2px ⛓1  🔗1 ,  ⚫  2px ⛓2  🔗2 \n",
      "🔳 🔵 🟤 🔴 extended, ⚫ reduced\n",
      "\n",
      "X:  3x3   🔳  2px ⛓2  🔗1 ,  🟡  1px ⛓1  🔗1 ,  🔵  1px ⛓1  🔗1 ,  ⚫  7px ⛓1  🔗1 \n",
      "Y:  3x3   🔳  5px ⛓1  🔗1 ,  🟡  3px ⛓1  🔗1 ,  🔵  2px ⛓1  🔗1 ,  ⚫  4px ⛓1  🔗1 \n",
      "🔳 🟡 🔵 extended, ⚫ reduced\n",
      "\n"
     ]
    }
   ],
   "source": [
    "train.overview()"
   ]
  },
  {
   "cell_type": "code",
   "execution_count": 3,
   "metadata": {},
   "outputs": [
    {
     "data": {
      "text/plain": [
       "[[\n",
       "⚫ ⚫ 🟠\n",
       "⚫ 🟡 ⚫\n",
       "🟢 ⚫ ⚫\n",
       ", \n",
       "⚫ ⚫ 🟠\n",
       "⚫ 🟡 🟠\n",
       "🟢 🟡 🟠\n",
       "], [\n",
       "⚫ 🔵 ⚫\n",
       "🟤 ⚫ 🔴\n",
       "⚫ ⚫ ⚫\n",
       ", \n",
       "⚫ 🔵 ⚫\n",
       "🟤 🔵 🔴\n",
       "🟤 🔵 🔴\n",
       "], [\n",
       "🟡 ⚫ ⚫\n",
       "⚫ 🔵 ⚫\n",
       "⚫ ⚫ ⚫\n",
       ", \n",
       "🟡 ⚫ ⚫\n",
       "🟡 🔵 ⚫\n",
       "🟡 🔵 ⚫\n",
       "]]"
      ]
     },
     "execution_count": 3,
     "metadata": {},
     "output_type": "execute_result"
    }
   ],
   "source": [
    "# dump grid-pair, as grids are small\n",
    "train"
   ]
  },
  {
   "cell_type": "code",
   "execution_count": 4,
   "metadata": {},
   "outputs": [
    {
     "data": {
      "text/plain": [
       "[True, True, True, True]"
      ]
     },
     "execution_count": 4,
     "metadata": {},
     "output_type": "execute_result"
    }
   ],
   "source": [
    "# 🧪 (Hypothesis) For each col, down-fill from the first non ⚫\n",
    "\n",
    "def solve(X):\n",
    "    Y = X.copy\n",
    "    for p in X['•']:\n",
    "        Y[p.y:, p.x] = X[p]\n",
    "    return Y\n",
    "\n",
    "[Y @ solve(X)  for (X, Y) in train | test]"
   ]
  }
 ],
 "metadata": {
  "kernelspec": {
   "display_name": ".venv",
   "language": "python",
   "name": "python3"
  },
  "language_info": {
   "codemirror_mode": {
    "name": "ipython",
    "version": 3
   },
   "file_extension": ".py",
   "mimetype": "text/x-python",
   "name": "python",
   "nbconvert_exporter": "python",
   "pygments_lexer": "ipython3",
   "version": "3.12.3"
  }
 },
 "nbformat": 4,
 "nbformat_minor": 2
}
