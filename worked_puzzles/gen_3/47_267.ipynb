{
 "cells": [
  {
   "cell_type": "code",
   "execution_count": 1,
   "metadata": {},
   "outputs": [
    {
     "name": "stdout",
     "output_type": "stream",
     "text": [
      "`setup_ipynb.py` executed, (multi-output enabled for subsequent cell executions).\n"
     ]
    },
    {
     "data": {
      "text/plain": [
       "[\n",
       "⚫ ⚫ ⚫ ⚫ ⚫ ⚫ ⚫\n",
       "⚫ ⚫ ⚫ ⚫ ⚫ ⚫ ⚫\n",
       "⚫ ⚫ ⚫ ⚫ ⚫ ⚫ ⚫\n",
       "⚫ ⚫ ⚫ ⚫ ⚫ ⚫ ⚫\n",
       "⚫ 🟠 🟠 ⚫ 🟠 🟠 ⚫\n",
       "⚫ 🟠 ⚫ ⚫ ⚫ 🟠 ⚫\n",
       "⚫ 🟠 🟠 🟠 🟠 🟠 ⚫\n",
       ", \n",
       "⚫ ⚫ ⚫ 🟡 ⚫ ⚫ ⚫\n",
       "🟡 ⚫ ⚫ 🟡 ⚫ ⚫ 🟡\n",
       "⚫ 🟡 ⚫ 🟡 ⚫ 🟡 ⚫\n",
       "⚫ ⚫ 🟡 🟡 🟡 ⚫ ⚫\n",
       "⚫ 🟠 🟠 🟡 🟠 🟠 ⚫\n",
       "⚫ 🟠 🟡 🟡 🟡 🟠 ⚫\n",
       "⚫ 🟠 🟠 🟠 🟠 🟠 ⚫\n",
       "]"
      ]
     },
     "execution_count": 1,
     "metadata": {},
     "output_type": "execute_result"
    }
   ],
   "source": [
    "from ARC import ARC\n",
    "\n",
    "train, test = ARC.load(267)\n",
    "\n",
    "train[0]"
   ]
  },
  {
   "cell_type": "code",
   "execution_count": 2,
   "metadata": {},
   "outputs": [
    {
     "name": "stdout",
     "output_type": "stream",
     "text": [
      "X:  7x7   🔳 11px ⛓1  🔗1 ,  🟠 11px ⛓1  🔗1 ,                  ,  ⚫ 38px ⛓1  🔗1 \n",
      "Y:  7x7   🔳 25px ⛓5  🔗1 ,  🟠 11px ⛓1  🔗1 ,  🟡 14px ⛓5  🔗1 ,  ⚫ 24px ⛓4  🔗2 \n",
      "🟠 fixed, 🟡 created, 🔳 extended, ⚫ reduced\n",
      "\n",
      "X:  9x9   🔳 17px ⛓1  🔗1 ,  🟤 17px ⛓1  🔗1 ,                  ,  ⚫ 64px ⛓1  🔗1 \n",
      "Y:  9x9   🔳 53px ⛓5  🔗1 ,  🟤 17px ⛓1  🔗1 ,  🟡 36px ⛓5  🔗1 ,  ⚫ 28px ⛓4  🔗2 \n",
      "🟤 fixed, 🟡 created, 🔳 extended, ⚫ reduced\n",
      "\n",
      "X:  6x6   🔳 14px ⛓1  🔗1 ,  🟢 14px ⛓1  🔗1 ,                  ,  ⚫ 22px ⛓1  🔗1 \n",
      "Y:  6x6   🔳 32px ⛓3  🔗1 ,  🟢 14px ⛓1  🔗1 ,  🟡 18px ⛓3  🔗1 ,  ⚫  4px ⛓4  🔗2 \n",
      "🟢 fixed, 🟡 created, 🔳 extended, ⚫ reduced\n",
      "\n"
     ]
    }
   ],
   "source": [
    "train.overview()"
   ]
  },
  {
   "cell_type": "code",
   "execution_count": 3,
   "metadata": {},
   "outputs": [
    {
     "name": "stdout",
     "output_type": "stream",
     "text": [
      "X:  7x7   🔳 11px ⛓1  🔗1 ,  🔵 11px ⛓1  🔗1 ,                  ,  ⚫ 38px ⛓1  🔗1 \n",
      "Y:  7x7   🔳 25px ⛓5  🔗1 ,  🔵 11px ⛓1  🔗1 ,  🟡 14px ⛓5  🔗1 ,  ⚫ 24px ⛓4  🔗2 \n",
      "🔵 fixed, 🟡 created, 🔳 extended, ⚫ reduced\n",
      "\n",
      "X:  9x9   🔳 17px ⛓1  🔗1 ,  🔵 17px ⛓1  🔗1 ,                  ,  ⚫ 64px ⛓1  🔗1 \n",
      "Y:  9x9   🔳 53px ⛓5  🔗1 ,  🔵 17px ⛓1  🔗1 ,  🟡 36px ⛓5  🔗1 ,  ⚫ 28px ⛓4  🔗2 \n",
      "🔵 fixed, 🟡 created, 🔳 extended, ⚫ reduced\n",
      "\n",
      "X:  6x6   🔳 14px ⛓1  🔗1 ,  🔵 14px ⛓1  🔗1 ,                  ,  ⚫ 22px ⛓1  🔗1 \n",
      "Y:  6x6   🔳 32px ⛓3  🔗1 ,  🔵 14px ⛓1  🔗1 ,  🟡 18px ⛓3  🔗1 ,  ⚫  4px ⛓4  🔗2 \n",
      "🔵 fixed, 🟡 created, 🔳 extended, ⚫ reduced\n",
      "\n"
     ]
    }
   ],
   "source": [
    "# 👁: created is always 🟡, but fixed is random.\n",
    "\n",
    "from Puzzle import Pairs\n",
    "\n",
    "# 👶: Recolour fixed to 🔵\n",
    "def recolour(pair):\n",
    "    return (lambda G: G.send(pair.fixed[0], '🔵')) @ pair\n",
    "\n",
    "train_ = Pairs(recolour @ train)\n",
    "\n",
    "train_.overview()"
   ]
  },
  {
   "cell_type": "code",
   "execution_count": 4,
   "metadata": {},
   "outputs": [
    {
     "data": {
      "text/plain": [
       "\n",
       "▫ ▫ ▪ ▫ ▫\n",
       "▫ ▪ ▪ ▪ ▫\n",
       "▫ ▫ ▫ ▫ ▫"
      ]
     },
     "execution_count": 4,
     "metadata": {},
     "output_type": "execute_result"
    },
    {
     "data": {
      "text/plain": [
       "\n",
       "▫ ▫ ▫ ▫ ▫\n",
       "▫ ▪ ▪ ▪ ▫\n",
       "▪ ▪ ▪ ▪ ▫\n",
       "▪ ▪ ▪ ▪ ▫\n",
       "▪ ▪ ▪ ▪ ▫\n",
       "▫ ▪ ▪ ▪ ▫\n",
       "▫ ▫ ▫ ▫ ▫"
      ]
     },
     "execution_count": 4,
     "metadata": {},
     "output_type": "execute_result"
    },
    {
     "data": {
      "text/plain": [
       "\n",
       "▫ ▫ ▫ ▫ ▫ ▫\n",
       "▫ ▪ ▪ ▪ ▪ ▫\n",
       "▫ ▪ ▪ ▪ ▪ ▫\n",
       "▫ ▫ ▪ ▪ ▫ ▫"
      ]
     },
     "execution_count": 4,
     "metadata": {},
     "output_type": "execute_result"
    }
   ],
   "source": [
    "# 👑: Let's examine the single 🔵 (fixed) region\n",
    "for X in train_.X:\n",
    "    X['🔵.⛓.0']\n",
    "# TODO???: Allow train_.X['🔵.⛓.0']\n",
    "# i.e. Iter.__getitem__[str] where Iter contains Grid objects"
   ]
  },
  {
   "cell_type": "code",
   "execution_count": 5,
   "metadata": {},
   "outputs": [
    {
     "name": "stdout",
     "output_type": "stream",
     "text": [
      "⏺\n",
      "⤵\n",
      "🔄\n"
     ]
    }
   ],
   "source": [
    "# 👁: Each is a rectangle with one incomplete side\n",
    "\n",
    "# 👶: Rotate so that the incomplete side is on top!\n",
    "\n",
    "def recolour(pair):\n",
    "    X, Y = pair\n",
    "    open_top = lambda U: not U[0].all\n",
    "    T = next(X['🔵.⛓.0.卐'] | open_top).T\n",
    "    print(T)\n",
    "    return X[T], Y[T]\n",
    "\n",
    "train__ = Pairs(recolour @ train_)"
   ]
  },
  {
   "cell_type": "code",
   "execution_count": 6,
   "metadata": {},
   "outputs": [
    {
     "name": "stdout",
     "output_type": "stream",
     "text": [
      "7x7\n",
      "🔵  3x5   11px  4  1 to  6  5 👇 : ↔\n",
      "🟡  6x7   14px  0  0 to  5  6 👆 👈 👉 : ↔\n",
      "\n",
      "9x9\n",
      "🔵  5x7   17px  4  0 to  8  6 👇 👈 : ↔\n",
      "🟡  8x9   36px  0  0 to  7  8 👆 👈 👉 : \n",
      "\n",
      "6x6\n",
      "🔵  4x6   14px  2  0 to  5  5 👇 👈 👉 : ↔\n",
      "🟡  5x6   18px  0  0 to  4  5 👆 👈 👉 : ↔\n",
      "\n"
     ]
    }
   ],
   "source": [
    "for X, Y in train__:\n",
    "    print(f'{Y.hw:~x}')\n",
    "    def stats(u):\n",
    "        print(\n",
    "            u.glyph_hxw_npix,\n",
    "            u.frame,\n",
    "            u.touchings, ':',\n",
    "            u > '⏺'\n",
    "        )\n",
    "\n",
    "    stats @ X['🔵.🔗.0']\n",
    "    stats @ Y['🟡.🔗.0']\n",
    "    print()"
   ]
  },
  {
   "cell_type": "code",
   "execution_count": 7,
   "metadata": {},
   "outputs": [
    {
     "data": {
      "text/plain": [
       "\n",
       "🔵 🔵 🟡 🔵 🔵\n",
       "🔵 🟡 🟡 🟡 🔵\n",
       "🔵 🔵 🔵 🔵 🔵"
      ]
     },
     "execution_count": 7,
     "metadata": {},
     "output_type": "execute_result"
    },
    {
     "name": "stdout",
     "output_type": "stream",
     "text": [
      "🟡\n",
      "6x3  0  2 10px\n",
      "1x1  1  0 1px\n",
      "1x1  1  6 1px\n",
      "1x1  2  1 1px\n",
      "1x1  2  5 1px\n"
     ]
    },
    {
     "data": {
      "text/plain": [
       "\n",
       "🔵 🔵 🟡 🟡 🟡 🔵 🔵\n",
       "🔵 🟡 🟡 🟡 🟡 🟡 🔵\n",
       "🔵 🟡 🟡 🟡 🟡 🟡 🔵\n",
       "🔵 🟡 🟡 🟡 🟡 🟡 🔵\n",
       "🔵 🔵 🔵 🔵 🔵 🔵 🔵"
      ]
     },
     "execution_count": 7,
     "metadata": {},
     "output_type": "execute_result"
    },
    {
     "name": "stdout",
     "output_type": "stream",
     "text": [
      "🟡\n",
      "8x5  0  1 32px\n",
      "1x1  0  8 1px\n",
      "1x1  1  7 1px\n",
      "1x1  2  0 1px\n",
      "1x1  2  6 1px\n"
     ]
    },
    {
     "data": {
      "text/plain": [
       "\n",
       "🔵 🔵 🟡 🟡 🔵 🔵\n",
       "🔵 🟡 🟡 🟡 🟡 🔵\n",
       "🔵 🟡 🟡 🟡 🟡 🔵\n",
       "🔵 🔵 🔵 🔵 🔵 🔵"
      ]
     },
     "execution_count": 7,
     "metadata": {},
     "output_type": "execute_result"
    },
    {
     "name": "stdout",
     "output_type": "stream",
     "text": [
      "🟡\n",
      "1x1  0  0 1px\n",
      "5x4  0  1 16px\n",
      "1x1  0  5 1px\n"
     ]
    }
   ],
   "source": [
    "# 👁: 🔵 sits on the bottom edge of the grid.\n",
    "\n",
    "# 👁: 🔵 is always ↔.\n",
    "# 🧲👑🔎: We previously observed the top edge of the 🔵 box is incomplete. Now we know 🔵 is ↔.\n",
    "# ⚡: Let's examine this top edge more closely.\n",
    "\n",
    "# ❓🛸: Why isn't 🟡 ↔ in pair 1?\n",
    "# 👽: In pair 1, 🔵 is not horizontally centered. In pairs 0 and 2 it IS.\n",
    "# 🔮: This suggests 🟡 continues off-grid.\n",
    "\n",
    "# 🐘: 🟡⛓ is 5, 5, 3 yet 🟡🔗 is 1.\n",
    "\n",
    "# 👑: Let's inspect 🟡🔗.\n",
    "\n",
    "\n",
    "for X, Y in train__:\n",
    "    Y[X['✂.🖼']]  # This way we can see if the aperture is 🟡-filled\n",
    "    rstats = lambda r: f'{r.hw:~x} {r.frame.tl} {r.npix}px'\n",
    "    print('🟡\\n' + '\\n'.join(rstats @ Y['🟡.⛓']))\n"
   ]
  },
  {
   "cell_type": "code",
   "execution_count": 8,
   "metadata": {},
   "outputs": [
    {
     "name": "stdout",
     "output_type": "stream",
     "text": [
      "0\n"
     ]
    },
    {
     "data": {
      "text/plain": [
       "\n",
       "⚫ 🟡 ⚫\n",
       "⚫ 🟡 ⚫\n",
       "⚫ 🟡 ⚫\n",
       "🟡 🟡 🟡\n",
       "🔵 🟡 🔵"
      ]
     },
     "execution_count": 8,
     "metadata": {},
     "output_type": "execute_result"
    },
    {
     "name": "stdout",
     "output_type": "stream",
     "text": [
      "0\n"
     ]
    },
    {
     "data": {
      "text/plain": [
       "\n",
       "⚫ 🟡 🟡 🟡 ⚫\n",
       "⚫ 🟡 🟡 🟡 ⚫\n",
       "⚫ 🟡 🟡 🟡 ⚫\n",
       "🟡 🟡 🟡 🟡 🟡\n",
       "🔵 🟡 🟡 🟡 🔵"
      ]
     },
     "execution_count": 8,
     "metadata": {},
     "output_type": "execute_result"
    },
    {
     "name": "stdout",
     "output_type": "stream",
     "text": [
      "0\n"
     ]
    },
    {
     "data": {
      "text/plain": [
       "\n",
       "⚫ 🟡 🟡 ⚫\n",
       "🟡 🟡 🟡 🟡\n",
       "🔵 🟡 🟡 🔵"
      ]
     },
     "execution_count": 8,
     "metadata": {},
     "output_type": "execute_result"
    }
   ],
   "source": [
    "# 👁: Inspecting 🔵 top-edges, only the corner pixels and their neighbours are 🔵. The aperture and 🔵-interior is 🟡-filled.\n",
    "\n",
    "# 👁: 🟡 comprises one large ⛓-region and multiple isolated pixels.\n",
    "# 🐘: 🟡 forms a single 🔗-connected region.\n",
    "\n",
    "# 👑: Let's consider the ⛓region separately from the 🔗region.\n",
    "#   Furthermore, let's only examine rows down to (and including) the 🔵 top-edge\n",
    "\n",
    "for Y in train__.Y:\n",
    "    ortho = next(Y['🟡.⛓'] | (lambda r: r.Σ > 1))\n",
    "    print(ortho.frame.t)\n",
    "    aperture_top = Y['🔵.✂.🖼.t']\n",
    "    Y[ortho.frame][:aperture_top+1]"
   ]
  },
  {
   "cell_type": "code",
   "execution_count": 9,
   "metadata": {},
   "outputs": [
    {
     "data": {
      "text/plain": [
       "\n",
       "⚫ ⚫ ⚫ 🟡 ⚫ ⚫ ⚫\n",
       "🟣 ⚫ ⚫ 🟡 ⚫ ⚫ 🟣\n",
       "⚫ 🟣 ⚫ 🟡 ⚫ 🟣 ⚫\n",
       "⚫ ⚫ 🟣 🟡 🟣 ⚫ ⚫\n",
       "⚫ 🔵 🔵 🟡 🔵 🔵 ⚫"
      ]
     },
     "execution_count": 9,
     "metadata": {},
     "output_type": "execute_result"
    },
    {
     "data": {
      "text/plain": [
       "[\n",
       "▫ ▪ ▪\n",
       "▪ ▫ ▪\n",
       "▪ ▪ ▫\n",
       ", \n",
       "▪ ▪ ▫\n",
       "▪ ▫ ▪\n",
       "▫ ▪ ▪\n",
       "]"
      ]
     },
     "execution_count": 9,
     "metadata": {},
     "output_type": "execute_result"
    },
    {
     "data": {
      "text/plain": [
       "\n",
       "⚫ ⚫ 🟡 🟡 🟡 ⚫ ⚫ ⚫ 🟣\n",
       "⚫ ⚫ 🟡 🟡 🟡 ⚫ ⚫ 🟣 ⚫\n",
       "🟣 ⚫ 🟡 🟡 🟡 ⚫ 🟣 ⚫ ⚫\n",
       "⚫ 🟣 🟡 🟡 🟡 🟣 ⚫ ⚫ ⚫\n",
       "🔵 🔵 🟡 🟡 🟡 🔵 🔵 ⚫ ⚫"
      ]
     },
     "execution_count": 9,
     "metadata": {},
     "output_type": "execute_result"
    },
    {
     "data": {
      "text/plain": [
       "[\n",
       "▪ ▪ ▪ ▫\n",
       "▪ ▪ ▫ ▪\n",
       "▪ ▫ ▪ ▪\n",
       "▫ ▪ ▪ ▪\n",
       ", \n",
       "▫ ▪\n",
       "▪ ▫\n",
       "]"
      ]
     },
     "execution_count": 9,
     "metadata": {},
     "output_type": "execute_result"
    },
    {
     "data": {
      "text/plain": [
       "\n",
       "🟣 ⚫ 🟡 🟡 ⚫ 🟣\n",
       "⚫ 🟣 🟡 🟡 🟣 ⚫\n",
       "🔵 🔵 🟡 🟡 🔵 🔵"
      ]
     },
     "execution_count": 9,
     "metadata": {},
     "output_type": "execute_result"
    },
    {
     "data": {
      "text/plain": [
       "[\n",
       "▫ ▪\n",
       "▪ ▫\n",
       ", \n",
       "▪ ▫\n",
       "▫ ▪\n",
       "]"
      ]
     },
     "execution_count": 9,
     "metadata": {},
     "output_type": "execute_result"
    }
   ],
   "source": [
    "# 🎭: The aperture-🟡s fill upwards to off-grid.\n",
    "# 🛸: This leaves two \"unexplained\" 🟡-pixels immediately above the inner 🔵.\n",
    "# 👽♻🧪: Maybe we should consider these pixels together with the isolated 🟡s.\n",
    "\n",
    "# 👑: Let's consider these pixels together with the isolated ones\n",
    "from Coords import Coords\n",
    "for Y in train__.Y:\n",
    "    pix = Coords( r.frame.tl\n",
    "        for r in Y['🟡.⛓']\n",
    "            if r.Σ == 1\n",
    "    )\n",
    "\n",
    "    aperture_tips = Y['🔵.•'][[1, 2]]\n",
    "    outliers = aperture_tips + '🔼'\n",
    "\n",
    "    Y_ = Y.copy\n",
    "    Y_[pix | outliers] = '🟣'\n",
    "\n",
    "    Y_[:Y['🔵.•.0.y'] + 1]\n",
    "    Y_['🟣.🔗']"
   ]
  },
  {
   "cell_type": "code",
   "execution_count": 10,
   "metadata": {},
   "outputs": [
    {
     "data": {
      "text/plain": [
       "[True, True, True, True]"
      ]
     },
     "execution_count": 10,
     "metadata": {},
     "output_type": "execute_result"
    }
   ],
   "source": [
    "# 👁 Y[0] is easiest to see what's going on.\n",
    "#   🟣 starts at 🔵-tip + 🔼, the LEFT 🟣 goes ↖ and the right goes ↗ until off-grid.\n",
    "\n",
    "def solve(X):\n",
    "    Y_ = X.copy\n",
    "\n",
    "    open_top = lambda G: G['✂.rows.0.▪.Σ'] > 0\n",
    "    Y = next(Y_['卐'] | open_top)\n",
    "\n",
    "    # TODO: Could we do Y_['卐 where ✂.rows.0.▪.Σ > 0'].next ?\n",
    "\n",
    "    box = Y['✂']\n",
    "    box.send('⚫ -> 🟡', in_place=True)\n",
    "\n",
    "    aperture = box['rows.0.🟡.✂.frame'] + box.frame.tl\n",
    "\n",
    "    # 🟡-fill from aperture upwards to top\n",
    "    Y[aperture.with_(t=0)] = '🟡'\n",
    "\n",
    "    for p, Δ in zip(aperture.tl_tr, '↖↗'):\n",
    "        while p in Y.rect:\n",
    "            Y[p] = '🟡'\n",
    "            p += Δ\n",
    "\n",
    "    return Y_\n",
    "\n",
    "[Y @ solve(X)  for (X, Y) in train | test]"
   ]
  }
 ],
 "metadata": {
  "kernelspec": {
   "display_name": ".venv",
   "language": "python",
   "name": "python3"
  },
  "language_info": {
   "codemirror_mode": {
    "name": "ipython",
    "version": 3
   },
   "file_extension": ".py",
   "mimetype": "text/x-python",
   "name": "python",
   "nbconvert_exporter": "python",
   "pygments_lexer": "ipython3",
   "version": "3.12.3"
  }
 },
 "nbformat": 4,
 "nbformat_minor": 2
}
