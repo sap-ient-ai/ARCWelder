{
 "cells": [
  {
   "cell_type": "code",
   "execution_count": 1,
   "metadata": {},
   "outputs": [
    {
     "name": "stdout",
     "output_type": "stream",
     "text": [
      "`setup_ipynb.py` executed, (multi-output enabled for subsequent cell executions).\n"
     ]
    },
    {
     "data": {
      "text/plain": [
       "[\n",
       "⚫ 🔴 ⚫ ⚫ ⚫ 🔴 ⚫ 🔴 ⚫ 🔴 ⚫ ⚫\n",
       "⚫ ⚫ ⚫ ⚫ ⚫ ⚫ ⚫ ⚫ ⚫ ⚫ ⚫ ⚫\n",
       "⚫ ⚫ ⚫ ⚫ ⚫ ⚫ ⚫ ⚫ ⚫ ⚫ ⚫ ⚫\n",
       "⚫ ⚫ ⚫ ⚫ ⚫ ⚫ ⚫ ⚫ ⚫ ⚫ ⚫ ⚫\n",
       "🔵 ⚫ ⚫ ⚫ ⚫ ⚫ ⚫ ⚫ ⚫ ⚫ ⚫ ⚫\n",
       "⚫ ⚫ ⚫ ⚫ ⚫ ⚫ ⚫ ⚫ ⚫ ⚫ ⚫ ⚫\n",
       "⚫ ⚫ ⚫ ⚫ ⚫ ⚫ ⚫ ⚫ ⚫ ⚫ ⚫ ⚫\n",
       "⚫ ⚫ ⚫ ⚫ ⚫ ⚫ ⚫ ⚫ ⚫ ⚫ ⚫ ⚫\n",
       "⚫ ⚫ ⚫ ⚫ ⚫ ⚫ ⚫ ⚫ ⚫ ⚫ ⚫ ⚫\n",
       "⚫ ⚫ ⚫ ⚫ ⚫ ⚫ ⚫ ⚫ ⚫ ⚫ ⚫ ⚫\n",
       "🔵 ⚫ ⚫ ⚫ ⚫ ⚫ ⚫ ⚫ ⚫ ⚫ ⚫ ⚫\n",
       "⚫ ⚫ ⚫ ⚫ ⚫ ⚫ ⚫ ⚫ ⚫ ⚫ ⚫ ⚫\n",
       "⚫ ⚫ ⚫ ⚫ ⚫ ⚫ ⚫ ⚫ ⚫ ⚫ ⚫ ⚫\n",
       "⚫ ⚫ ⚫ ⚫ ⚫ ⚫ ⚫ ⚫ ⚫ ⚫ ⚫ ⚫\n",
       "⚫ ⚫ ⚫ ⚫ ⚫ ⚫ ⚫ ⚫ ⚫ ⚫ ⚫ ⚫\n",
       "⚫ ⚫ ⚫ ⚫ ⚫ ⚫ ⚫ ⚫ ⚫ ⚫ ⚫ ⚫\n",
       "⚫ ⚫ ⚫ ⚫ ⚫ ⚫ ⚫ ⚫ ⚫ ⚫ ⚫ ⚫\n",
       ", \n",
       "⚫ 🔴 ⚫ ⚫ ⚫ 🔴 ⚫ 🔴 ⚫ 🔴 ⚫ ⚫\n",
       "⚫ 🔴 ⚫ ⚫ ⚫ 🔴 ⚫ 🔴 ⚫ 🔴 ⚫ ⚫\n",
       "⚫ 🔴 ⚫ ⚫ ⚫ 🔴 ⚫ 🔴 ⚫ 🔴 ⚫ ⚫\n",
       "⚫ 🔴 ⚫ ⚫ ⚫ 🔴 ⚫ 🔴 ⚫ 🔴 ⚫ ⚫\n",
       "🔵 ⚫ 🔴 ⚫ ⚫ ⚫ 🔴 ⚫ 🔴 ⚫ 🔴 ⚫\n",
       "⚫ ⚫ 🔴 ⚫ ⚫ ⚫ 🔴 ⚫ 🔴 ⚫ 🔴 ⚫\n",
       "⚫ ⚫ 🔴 ⚫ ⚫ ⚫ 🔴 ⚫ 🔴 ⚫ 🔴 ⚫\n",
       "⚫ ⚫ 🔴 ⚫ ⚫ ⚫ 🔴 ⚫ 🔴 ⚫ 🔴 ⚫\n",
       "⚫ ⚫ 🔴 ⚫ ⚫ ⚫ 🔴 ⚫ 🔴 ⚫ 🔴 ⚫\n",
       "⚫ ⚫ 🔴 ⚫ ⚫ ⚫ 🔴 ⚫ 🔴 ⚫ 🔴 ⚫\n",
       "🔵 ⚫ ⚫ 🔴 ⚫ ⚫ ⚫ 🔴 ⚫ 🔴 ⚫ 🔴\n",
       "⚫ ⚫ ⚫ 🔴 ⚫ ⚫ ⚫ 🔴 ⚫ 🔴 ⚫ 🔴\n",
       "⚫ ⚫ ⚫ 🔴 ⚫ ⚫ ⚫ 🔴 ⚫ 🔴 ⚫ 🔴\n",
       "⚫ ⚫ ⚫ 🔴 ⚫ ⚫ ⚫ 🔴 ⚫ 🔴 ⚫ 🔴\n",
       "⚫ ⚫ ⚫ 🔴 ⚫ ⚫ ⚫ 🔴 ⚫ 🔴 ⚫ 🔴\n",
       "⚫ ⚫ ⚫ 🔴 ⚫ ⚫ ⚫ 🔴 ⚫ 🔴 ⚫ 🔴\n",
       "⚫ ⚫ ⚫ 🔴 ⚫ ⚫ ⚫ 🔴 ⚫ 🔴 ⚫ 🔴\n",
       "]"
      ]
     },
     "execution_count": 1,
     "metadata": {},
     "output_type": "execute_result"
    }
   ],
   "source": [
    "from ARC import ARC\n",
    "\n",
    "train, test = ARC.load(381)\n",
    "\n",
    "train[0]  # TODO: prevent Iter.__getattr__ issues, maybe provide Iter._ipython_display_ ?"
   ]
  },
  {
   "cell_type": "code",
   "execution_count": 2,
   "metadata": {},
   "outputs": [
    {
     "name": "stdout",
     "output_type": "stream",
     "text": [
      "X: 17x12  🔳  6px ⛓6  🔗6 ,  🔵  2px ⛓2  🔗2 ,  🔴  4px ⛓4  🔗4 ,  ⚫198px ⛓1  🔗1 \n",
      "Y: 17x12  🔳 70px ⛓14 🔗3 ,  🔵  2px ⛓2  🔗2 ,  🔴 68px ⛓12 🔗2 ,  ⚫134px ⛓10 🔗1 \n",
      "🔵 fixed, 🔳 🔴 extended, ⚫ reduced\n",
      "\n",
      "X: 14x10  🔳  5px ⛓5  🔗5 ,  🔵  3px ⛓3  🔗3 ,  🔴  2px ⛓2  🔗2 ,  ⚫135px ⛓1  🔗1 \n",
      "Y: 14x10  🔳 28px ⛓10 🔗5 ,  🔵  3px ⛓3  🔗3 ,  🔴 25px ⛓7  🔗2 ,  ⚫112px ⛓3  🔗1 \n",
      "🔵 fixed, 🔳 🔴 extended, ⚫ reduced\n",
      "\n",
      "X: 12x12  🔳  5px ⛓5  🔗5 ,  🔵  2px ⛓2  🔗2 ,  🔴  3px ⛓3  🔗3 ,  ⚫139px ⛓1  🔗1 \n",
      "Y: 12x12  🔳 38px ⛓11 🔗5 ,  🔵  2px ⛓2  🔗2 ,  🔴 36px ⛓9  🔗3 ,  ⚫106px ⛓4  🔗1 \n",
      "🔵 fixed, 🔳 🔴 extended, ⚫ reduced\n",
      "\n"
     ]
    }
   ],
   "source": [
    "train.overview()"
   ]
  },
  {
   "cell_type": "code",
   "execution_count": 3,
   "metadata": {},
   "outputs": [
    {
     "name": "stdout",
     "output_type": "stream",
     "text": [
      "🔴  0  1\n",
      "🔴  0  5\n",
      "🔴  0  7\n",
      "🔴  0  9\n",
      "🔵  4  0\n",
      "🔵 10  0\n",
      "\n",
      "🔴  0  2\n",
      "🔴  0  6\n",
      "🔵  3  9\n",
      "🔵  7  9\n",
      "🔵 11  9\n",
      "\n",
      "🔴  2  0\n",
      "🔴  6  0\n",
      "🔴  9  0\n",
      "🔵 11  4\n",
      "🔵 11  8\n",
      "\n"
     ]
    }
   ],
   "source": [
    "# 📜 As 🔵 are fixed, but 🔴 are \"grown\", let's consider 🔴 as \"seeds\" and 🔵 as \"modulators\"\n",
    "\n",
    "# 👁 X comprise isolated pixels (npix == nregions)\n",
    "\n",
    "# 👁📌 For pair[1], X has 2 🔴 pixels and Y has 2 🔴🔗 regions. For pair[2], it's 3.\n",
    "# 🧠🔮 Maybe each seed \"grows\" into a diagonally-connected region.\n",
    "# 🛸 pair[0] 🔗🔴 4 -> 2\n",
    "# 🧠🔮 Maybe regions touch?\n",
    "\n",
    "# ⚡ Let's examine X locations\n",
    "for X in train.X:\n",
    "    for p in X.pix:\n",
    "        print(X[p], p)\n",
    "    print()\n",
    "\n",
    "if 0:  # ???\n",
    "    train.X['⛓']('glyph frame.center.int')\n",
    "\n"
   ]
  },
  {
   "cell_type": "code",
   "execution_count": 4,
   "metadata": {},
   "outputs": [
    {
     "name": "stdout",
     "output_type": "stream",
     "text": [
      "↘\n",
      "⤴\n",
      "↕\n"
     ]
    }
   ],
   "source": [
    "# 👁 For each pair, 🔵 and 🔴 lie on adjacent edges.\n",
    "\n",
    "# 👶 ♻ ⚡ Let's transform each pair such that 🔵 is on the TOP edge and 🔴 is on the LEFT edge.\n",
    "\n",
    "# 👁 Indeed 3 of the X0.•.🔴 are close, giving credence to the speculation of touching regions.\n",
    "# 👑📌 We may want to focus on pairs 1 and 2 as 0 has some contention here\n",
    "\n",
    "from Pairs import Pairs\n",
    "\n",
    "def fix(pair):\n",
    "    X, Y = pair.copy\n",
    "    red_left_blue_top = lambda G: '🔴' in G[:, 0] and '🔵' in G[0]\n",
    "    T = next(X['💠'] | red_left_blue_top).T\n",
    "\n",
    "    print(T)\n",
    "    return X[T], Y[T]\n",
    "\n",
    "train_ = Pairs(fix @ train)"
   ]
  },
  {
   "cell_type": "code",
   "execution_count": 5,
   "metadata": {},
   "outputs": [
    {
     "name": "stdout",
     "output_type": "stream",
     "text": [
      "12x17\n",
      "X\n",
      "🔵  0  4\n",
      "🔵  0 10\n",
      "🔴  1  0\n",
      "🔴  5  0\n",
      "🔴  7  0\n",
      "🔴  9  0\n",
      "Y\n",
      "  🔴  3x17  17px,  1  0 to  3 16 👈 👉\n",
      "  🔴  7x17  51px,  5  0 to 11 16 👇 👈 👉\n",
      "\n",
      "10x14\n",
      "X\n",
      "🔵  0  3\n",
      "🔵  0  7\n",
      "🔵  0 11\n",
      "🔴  3  0\n",
      "🔴  7  0\n",
      "Y\n",
      "  🔴  4x14  14px,  3  0 to  6 13 👈 👉\n",
      "  🔴  3x11  11px,  7  0 to  9 10 👇 👈\n",
      "\n",
      "12x12\n",
      "X\n",
      "🔵  0  4\n",
      "🔵  0  8\n",
      "🔴  2  0\n",
      "🔴  5  0\n",
      "🔴  9  0\n",
      "Y\n",
      "  🔴  3x12  12px,  2  0 to  4 11 👈 👉\n",
      "  🔴  3x12  12px,  5  0 to  7 11 👈 👉\n",
      "  🔴  3x12  12px,  9  0 to 11 11 👇 👈 👉\n",
      "\n"
     ]
    }
   ],
   "source": [
    "# ⚡ dump Y region-stats\n",
    "\n",
    "for X, Y in train_:\n",
    "    print(f'{X.hw:~x}')\n",
    "\n",
    "    print('X')\n",
    "    for p in X.pix:\n",
    "        print(X[p], p)\n",
    "\n",
    "    print('Y')\n",
    "    for r in Y['🔴.🔗']:\n",
    "        print(f'  {r.glyph_hxw_npix}, {r.frame} {r.touchings}')\n",
    "    print()\n",
    "\n",
    "    if 0:  # ???\n",
    "        # Y['🔴.🔗.{glyph, hw, •.Σ, 🖼, 🖐}'].dump(\n",
    "        #     '{0}{1:~x}.{2}px, {3} {4}'\n",
    "        # )\n",
    "        # Y['🔴.🔗'].dump('glyph, hw:~x, [•.Σ]px, 🖼, 🖐')\n",
    "        Y['🔴.🔗']('glyph hxw npix 🖼 🖐')\n"
   ]
  },
  {
   "cell_type": "code",
   "execution_count": 6,
   "metadata": {},
   "outputs": [
    {
     "data": {
      "text/plain": [
       "\n",
       "▫ ▫ ▫ ▫ ▪ ▪ ▪ ▪ ▪ ▪ ▪ ▪ ▪ ▪ ▪ ▪ ▪\n",
       "▪ ▪ ▪ ▪ ▫ ▫ ▫ ▫ ▫ ▫ ▪ ▪ ▪ ▪ ▪ ▪ ▪\n",
       "▪ ▪ ▪ ▪ ▪ ▪ ▪ ▪ ▪ ▪ ▫ ▫ ▫ ▫ ▫ ▫ ▫"
      ]
     },
     "execution_count": 6,
     "metadata": {},
     "output_type": "execute_result"
    },
    {
     "data": {
      "text/plain": [
       "\n",
       "▫ ▫ ▫ ▪ ▪ ▪ ▪ ▪ ▪ ▪ ▪ ▪ ▪ ▪\n",
       "▪ ▪ ▪ ▫ ▫ ▫ ▫ ▪ ▪ ▪ ▪ ▪ ▪ ▪\n",
       "▪ ▪ ▪ ▪ ▪ ▪ ▪ ▫ ▫ ▫ ▫ ▪ ▪ ▪\n",
       "▪ ▪ ▪ ▪ ▪ ▪ ▪ ▪ ▪ ▪ ▪ ▫ ▫ ▫"
      ]
     },
     "execution_count": 6,
     "metadata": {},
     "output_type": "execute_result"
    },
    {
     "data": {
      "text/plain": [
       "\n",
       "▫ ▫ ▫ ▫ ▪ ▪ ▪ ▪ ▪ ▪ ▪ ▪\n",
       "▪ ▪ ▪ ▪ ▫ ▫ ▫ ▫ ▪ ▪ ▪ ▪\n",
       "▪ ▪ ▪ ▪ ▪ ▪ ▪ ▪ ▫ ▫ ▫ ▫"
      ]
     },
     "execution_count": 6,
     "metadata": {},
     "output_type": "execute_result"
    },
    {
     "name": "stdout",
     "output_type": "stream",
     "text": [
      "Unique 🔴 🔗-regions in pair[2]\n"
     ]
    },
    {
     "data": {
      "text/plain": [
       "⏺ 🔄"
      ]
     },
     "execution_count": 6,
     "metadata": {},
     "output_type": "execute_result"
    },
    {
     "data": {
      "text/plain": [
       "⏺ 🔄"
      ]
     },
     "execution_count": 6,
     "metadata": {},
     "output_type": "execute_result"
    }
   ],
   "source": [
    "# 👁 Y[2] is 'cleanest'\n",
    "#   - Grid-width is 12, and each Y.🔴.🔗 is 3x12.12px, with .tl matching an X seed location\n",
    "# ❓🧪 Are these 3 regions identical?\n",
    "\n",
    "# 👁 In each of Y0, Y1 we observe one region with these properties.\n",
    "# 🔮 Maybe Y[1] gets clipped? (The 3x11 region does touch the right edge)\n",
    "\n",
    "for Y in train_.Y:\n",
    "    Y['🔴.🔗.0']\n",
    "\n",
    "if 0:  # ???\n",
    "    train_.Y['🔴.🔗.0']  # Apply [foo:str] over Iter\n",
    "\n",
    "# ⚡ Examine regions for pair[2] & check for identical\n",
    "print('Unique 🔴 🔗-regions in pair[2]')\n",
    "Y2 = train_[2].Y\n",
    "first, *others = Y2['🔴.🔗']\n",
    "for o in others:\n",
    "    first > o"
   ]
  },
  {
   "cell_type": "code",
   "execution_count": 7,
   "metadata": {},
   "outputs": [
    {
     "name": "stdout",
     "output_type": "stream",
     "text": [
      "🔵 modulator locations: [4, 10]\n",
      "🔴 shift locations: [5, 11]\n",
      "🔵 modulator locations: [3, 7, 11]\n",
      "🔴 shift locations: [4, 8, 12]\n",
      "🔵 modulator locations: [4, 8]\n",
      "🔴 shift locations: [5, 9]\n"
     ]
    }
   ],
   "source": [
    "# 👁 The first 🔴region of each Y can be considered as a vertical line that is occasionally right-shifted.\n",
    "# ❓ How do the 🔵 modulators influence these regions.\n",
    "# ⚡ Get the indices of the rows that shift (i.e. not equal to previous row)\n",
    "\n",
    "for Y in train_.Y:\n",
    "    print('🔵 modulator locations:',\n",
    "        Y['🔵.•.x']\n",
    "    )\n",
    "\n",
    "    U = Y['🔴.🔗.0'].pad(1).canvas\n",
    "    print('🔴 shift locations:',\n",
    "        (U & U.roll('↘'))['•.x']\n",
    "    )\n",
    "\n"
   ]
  },
  {
   "cell_type": "code",
   "execution_count": 8,
   "metadata": {},
   "outputs": [
    {
     "data": {
      "text/plain": [
       "[True, True, True]"
      ]
     },
     "execution_count": 8,
     "metadata": {},
     "output_type": "execute_result"
    }
   ],
   "source": [
    "def solve_(X):\n",
    "    Y = X.copy\n",
    "    seeds, modulators = X['🔴.•.y, 🔵.•.x']\n",
    "    Y[seeds] = '🔴'\n",
    "    for m in modulators:\n",
    "        Y[1:, m:].shift('🔽', in_place=True)\n",
    "    return Y\n",
    "\n",
    "[solve_(X) @ Y for X, Y in train_]"
   ]
  },
  {
   "cell_type": "code",
   "execution_count": 9,
   "metadata": {},
   "outputs": [
    {
     "data": {
      "text/plain": [
       "[True, True, True, True]"
      ]
     },
     "execution_count": 9,
     "metadata": {},
     "output_type": "execute_result"
    }
   ],
   "source": [
    "# Yes, it works. Now solve the actual puzzles.\n",
    "\n",
    "def solve(X):\n",
    "    Y = X['🖨']\n",
    "\n",
    "    red_left_blue_top = lambda G: '🔴' in G[:, 0] and '🔵' in G[0]\n",
    "    G = next( Y['💠'] | red_left_blue_top )\n",
    "\n",
    "    seeds, modulators = G['🔴.•.y, 🔵.•.x']\n",
    "\n",
    "    G[seeds] = '🔴'\n",
    "\n",
    "    for m in modulators:\n",
    "        G[1:, m:].shift('🔽', in_place=True)\n",
    "\n",
    "    return Y\n",
    "\n",
    "[Y @ solve(X)  for (X, Y) in train | test]"
   ]
  }
 ],
 "metadata": {
  "kernelspec": {
   "display_name": ".venv",
   "language": "python",
   "name": "python3"
  },
  "language_info": {
   "codemirror_mode": {
    "name": "ipython",
    "version": 3
   },
   "file_extension": ".py",
   "mimetype": "text/x-python",
   "name": "python",
   "nbconvert_exporter": "python",
   "pygments_lexer": "ipython3",
   "version": "3.12.3"
  }
 },
 "nbformat": 4,
 "nbformat_minor": 2
}
