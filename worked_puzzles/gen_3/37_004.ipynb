{
 "cells": [
  {
   "cell_type": "code",
   "execution_count": 1,
   "metadata": {},
   "outputs": [
    {
     "name": "stdout",
     "output_type": "stream",
     "text": [
      "`setup_ipynb.py` executed, (multi-output enabled for subsequent cell executions).\n"
     ]
    },
    {
     "data": {
      "text/plain": [
       "[\n",
       "⚫ ⚫ ⚫ ⚫ ⚫ ⚫ ⚫ ⚫ ⚫ ⚫ ⚫ ⚫ ⚫ ⚫ ⚫ ⚫ ⚫ ⚫ ⚫ ⚫ ⚫\n",
       "⚫ ⚫ ⚫ ⚫ ⚫ ⚫ ⚫ ⚫ ⚫ ⚫ ⚫ ⚫ ⚫ ⚫ ⚫ ⚫ ⚫ ⚫ ⚫ ⚫ ⚫\n",
       "⚫ ⚫ ⚫ ⚫ ⚫ ⚫ ⚫ ⚫ ⚫ ⚫ ⚫ ⚫ ⚫ ⚫ ⚫ ⚫ ⚫ ⚫ ⚫ ⚫ ⚫\n",
       "⚫ ⚫ ⚫ ⚫ ⚫ ⚫ ⚫ ⚫ ⚫ ⚫ ⚫ ⚫ ⚫ ⚫ ⚫ ⚫ ⚫ ⚫ ⚫ ⚫ ⚫\n",
       "⚫ ⚫ ⚫ ⚫ ⚫ ⚫ ⚫ ⚫ ⚫ ⚫ ⚫ ⚫ ⚫ ⚫ ⚫ ⚫ ⚫ ⚫ ⚫ ⚫ ⚫\n",
       "⚫ ⚫ ⚫ ⚫ ⚫ ⚫ ⚫ ⚫ ⚫ ⚫ ⚫ ⚫ ⚫ ⚫ ⚫ ⚫ ⚫ ⚫ ⚫ ⚫ ⚫\n",
       "⚫ ⚫ ⚫ ⚫ ⚫ ⚫ 🔴 🔴 🔴 ⚫ 🟢 ⚫ ⚫ ⚫ ⚫ ⚫ ⚫ ⚫ ⚫ ⚫ ⚫\n",
       "⚫ ⚫ ⚫ ⚫ ⚫ ⚫ 🔴 ⚫ 🔴 ⚫ 🟢 ⚫ ⚫ ⚫ ⚫ ⚫ ⚫ ⚫ ⚫ ⚫ ⚫\n",
       "⚫ ⚫ ⚫ ⚫ ⚫ ⚫ 🔴 🔴 🔴 ⚫ 🟢 ⚫ ⚫ ⚫ ⚫ ⚫ ⚫ ⚫ ⚫ ⚫ ⚫\n",
       "⚫ ⚫ ⚫ ⚫ ⚫ ⚫ ⚫ ⚫ ⚫ ⚫ ⚫ ⚫ ⚫ ⚫ ⚫ ⚫ ⚫ ⚫ ⚫ ⚫ ⚫\n",
       "⚫ ⚫ ⚫ ⚫ ⚫ ⚫ 🔵 🔵 🔵 ⚫ ⚫ ⚫ ⚫ ⚫ ⚫ ⚫ ⚫ ⚫ ⚫ ⚫ ⚫\n",
       "⚫ ⚫ ⚫ ⚫ ⚫ ⚫ ⚫ ⚫ ⚫ ⚫ ⚫ ⚫ ⚫ ⚫ ⚫ ⚫ ⚫ ⚫ ⚫ ⚫ ⚫\n",
       "⚫ ⚫ ⚫ ⚫ ⚫ ⚫ ⚫ ⚫ ⚫ ⚫ ⚫ ⚫ ⚫ ⚫ ⚫ ⚫ ⚫ ⚫ ⚫ ⚫ ⚫\n",
       "⚫ ⚫ ⚫ ⚫ ⚫ ⚫ ⚫ ⚫ ⚫ ⚫ ⚫ ⚫ ⚫ ⚫ ⚫ ⚫ ⚫ ⚫ ⚫ ⚫ ⚫\n",
       "⚫ ⚫ ⚫ ⚫ ⚫ ⚫ ⚫ ⚫ ⚫ ⚫ ⚫ ⚫ ⚫ ⚫ ⚫ ⚫ ⚫ ⚫ ⚫ ⚫ ⚫\n",
       "⚫ ⚫ ⚫ ⚫ ⚫ ⚫ ⚫ ⚫ ⚫ ⚫ ⚫ ⚫ ⚫ ⚫ ⚫ ⚫ ⚫ ⚫ ⚫ ⚫ ⚫\n",
       "⚫ ⚫ ⚫ ⚫ ⚫ ⚫ ⚫ ⚫ ⚫ ⚫ ⚫ ⚫ ⚫ ⚫ ⚫ ⚫ ⚫ ⚫ ⚫ ⚫ ⚫\n",
       "⚫ ⚫ ⚫ ⚫ ⚫ ⚫ ⚫ ⚫ ⚫ ⚫ ⚫ ⚫ ⚫ ⚫ ⚫ ⚫ ⚫ ⚫ ⚫ ⚫ ⚫\n",
       "⚫ ⚫ ⚫ ⚫ ⚫ ⚫ ⚫ ⚫ ⚫ ⚫ ⚫ ⚫ ⚫ ⚫ ⚫ ⚫ ⚫ ⚫ ⚫ ⚫ ⚫\n",
       "⚫ ⚫ ⚫ ⚫ ⚫ ⚫ ⚫ ⚫ ⚫ ⚫ ⚫ ⚫ ⚫ ⚫ ⚫ ⚫ ⚫ ⚫ ⚫ ⚫ ⚫\n",
       "⚫ ⚫ ⚫ ⚫ ⚫ ⚫ ⚫ ⚫ ⚫ ⚫ ⚫ ⚫ ⚫ ⚫ ⚫ ⚫ ⚫ ⚫ ⚫ ⚫ ⚫\n",
       ", \n",
       "⚫ ⚫ ⚫ ⚫ ⚫ ⚫ ⚫ ⚫ ⚫ ⚫ ⚫ ⚫ ⚫ ⚫ ⚫ ⚫ ⚫ ⚫ ⚫ ⚫ ⚫\n",
       "⚫ ⚫ ⚫ ⚫ ⚫ ⚫ ⚫ ⚫ ⚫ ⚫ ⚫ ⚫ ⚫ ⚫ ⚫ ⚫ ⚫ ⚫ ⚫ ⚫ ⚫\n",
       "⚫ ⚫ ⚫ ⚫ ⚫ ⚫ ⚫ ⚫ ⚫ ⚫ ⚫ ⚫ ⚫ ⚫ ⚫ ⚫ ⚫ ⚫ ⚫ ⚫ ⚫\n",
       "⚫ ⚫ ⚫ ⚫ ⚫ ⚫ ⚫ ⚫ ⚫ ⚫ ⚫ ⚫ ⚫ ⚫ ⚫ ⚫ ⚫ ⚫ ⚫ ⚫ ⚫\n",
       "⚫ ⚫ ⚫ ⚫ ⚫ ⚫ ⚫ ⚫ ⚫ ⚫ ⚫ ⚫ ⚫ ⚫ ⚫ ⚫ ⚫ ⚫ ⚫ ⚫ ⚫\n",
       "⚫ ⚫ ⚫ ⚫ ⚫ ⚫ ⚫ ⚫ ⚫ ⚫ ⚫ ⚫ ⚫ ⚫ ⚫ ⚫ ⚫ ⚫ ⚫ ⚫ ⚫\n",
       "⚫ ⚫ ⚫ ⚫ ⚫ ⚫ 🔴 🔴 🔴 ⚫ 🟢 🟢 🟢 ⚫ 🟢 🟢 🟢 ⚫ 🟢 🟢 🟢\n",
       "⚫ ⚫ ⚫ ⚫ ⚫ ⚫ 🔴 ⚫ 🔴 ⚫ 🟢 ⚫ 🟢 ⚫ 🟢 ⚫ 🟢 ⚫ 🟢 ⚫ 🟢\n",
       "⚫ ⚫ ⚫ ⚫ ⚫ ⚫ 🔴 🔴 🔴 ⚫ 🟢 🟢 🟢 ⚫ 🟢 🟢 🟢 ⚫ 🟢 🟢 🟢\n",
       "⚫ ⚫ ⚫ ⚫ ⚫ ⚫ ⚫ ⚫ ⚫ ⚫ ⚫ ⚫ ⚫ ⚫ ⚫ ⚫ ⚫ ⚫ ⚫ ⚫ ⚫\n",
       "⚫ ⚫ ⚫ ⚫ ⚫ ⚫ 🔵 🔵 🔵 ⚫ ⚫ ⚫ ⚫ ⚫ ⚫ ⚫ ⚫ ⚫ ⚫ ⚫ ⚫\n",
       "⚫ ⚫ ⚫ ⚫ ⚫ ⚫ 🔵 ⚫ 🔵 ⚫ ⚫ ⚫ ⚫ ⚫ ⚫ ⚫ ⚫ ⚫ ⚫ ⚫ ⚫\n",
       "⚫ ⚫ ⚫ ⚫ ⚫ ⚫ 🔵 🔵 🔵 ⚫ ⚫ ⚫ ⚫ ⚫ ⚫ ⚫ ⚫ ⚫ ⚫ ⚫ ⚫\n",
       "⚫ ⚫ ⚫ ⚫ ⚫ ⚫ ⚫ ⚫ ⚫ ⚫ ⚫ ⚫ ⚫ ⚫ ⚫ ⚫ ⚫ ⚫ ⚫ ⚫ ⚫\n",
       "⚫ ⚫ ⚫ ⚫ ⚫ ⚫ 🔵 🔵 🔵 ⚫ ⚫ ⚫ ⚫ ⚫ ⚫ ⚫ ⚫ ⚫ ⚫ ⚫ ⚫\n",
       "⚫ ⚫ ⚫ ⚫ ⚫ ⚫ 🔵 ⚫ 🔵 ⚫ ⚫ ⚫ ⚫ ⚫ ⚫ ⚫ ⚫ ⚫ ⚫ ⚫ ⚫\n",
       "⚫ ⚫ ⚫ ⚫ ⚫ ⚫ 🔵 🔵 🔵 ⚫ ⚫ ⚫ ⚫ ⚫ ⚫ ⚫ ⚫ ⚫ ⚫ ⚫ ⚫\n",
       "⚫ ⚫ ⚫ ⚫ ⚫ ⚫ ⚫ ⚫ ⚫ ⚫ ⚫ ⚫ ⚫ ⚫ ⚫ ⚫ ⚫ ⚫ ⚫ ⚫ ⚫\n",
       "⚫ ⚫ ⚫ ⚫ ⚫ ⚫ 🔵 🔵 🔵 ⚫ ⚫ ⚫ ⚫ ⚫ ⚫ ⚫ ⚫ ⚫ ⚫ ⚫ ⚫\n",
       "⚫ ⚫ ⚫ ⚫ ⚫ ⚫ 🔵 ⚫ 🔵 ⚫ ⚫ ⚫ ⚫ ⚫ ⚫ ⚫ ⚫ ⚫ ⚫ ⚫ ⚫\n",
       "⚫ ⚫ ⚫ ⚫ ⚫ ⚫ 🔵 🔵 🔵 ⚫ ⚫ ⚫ ⚫ ⚫ ⚫ ⚫ ⚫ ⚫ ⚫ ⚫ ⚫\n",
       "]"
      ]
     },
     "execution_count": 1,
     "metadata": {},
     "output_type": "execute_result"
    }
   ],
   "source": [
    "from ARC import ARC\n",
    "\n",
    "train, test = ARC.load(4)\n",
    "\n",
    "train[0]"
   ]
  },
  {
   "cell_type": "code",
   "execution_count": 2,
   "metadata": {},
   "outputs": [
    {
     "name": "stdout",
     "output_type": "stream",
     "text": [
      "X: 21x21  🔳 14px ⛓3  🔗3 ,  🔴  8px ⛓1  🔗1 ,  🟢  3px ⛓1  🔗1 ,  🔵  3px ⛓1  🔗1 ,  ⚫427px ⛓2  🔗2 \n",
      "Y: 21x21  🔳 56px ⛓7  🔗7 ,  🔴  8px ⛓1  🔗1 ,  🟢 24px ⛓3  🔗3 ,  🔵 24px ⛓3  🔗3 ,  ⚫385px ⛓8  🔗8 \n",
      "🔴 fixed, 🔳 🟢 🔵 extended, ⚫ reduced\n",
      "\n",
      "X: 21x21  🔳  8px ⛓4  🔗4 ,  ⚪  5px ⛓1  🔗1 ,  🟡  2px ⛓2  🔗2 ,  🔵  1px ⛓1  🔗1 ,  ⚫433px ⛓1  🔗1 \n",
      "Y: 21x21  🔳 37px ⛓8  🔗8 ,  ⚪  5px ⛓1  🔗1 ,  🟡 18px ⛓4  🔗4 ,  🔵 14px ⛓3  🔗3 ,  ⚫404px ⛓1  🔗1 \n",
      "⚪ fixed, 🔳 🟡 🔵 extended, ⚫ reduced\n",
      "\n",
      "X: 21x21  🔳 11px ⛓5  🔗3 ,  🟣  6px ⛓2  🔗1 ,  🟠  2px ⛓2  🔗1 ,  ⚪  3px ⛓1  🔗1 ,  ⚫430px ⛓2  🔗1 \n",
      "Y: 21x21  🔳 32px ⛓12 🔗6 ,  🟣  6px ⛓2  🔗1 ,  🟠 10px ⛓4  🔗2 ,  ⚪ 16px ⛓6  🔗3 ,  ⚫409px ⛓7  🔗1 \n",
      "🟣 fixed, 🔳 🟠 ⚪ extended, ⚫ reduced\n",
      "\n"
     ]
    }
   ],
   "source": [
    "train.overview()"
   ]
  },
  {
   "cell_type": "code",
   "execution_count": 3,
   "metadata": {},
   "outputs": [
    {
     "name": "stdout",
     "output_type": "stream",
     "text": [
      "  🔴  3x3    8px  7.   7.  🔲\n",
      "  🟢  3x1    3px  7.  10.  🔲\n",
      "  🔵  1x3    3px 10.   7.  🔲\n",
      "\n",
      "  🔴  3x3    8px  7.   7.  🔲\n",
      "  🟢  3x3    8px  7.  11.  🔲\n",
      "  🟢  3x3    8px  7.  15.  🔲\n",
      "  🟢  3x3    8px  7.  19.  👉\n",
      "  🔵  3x3    8px 11.   7.  🔲\n",
      "  🔵  3x3    8px 15.   7.  🔲\n",
      "  🔵  3x3    8px 19.   7.  👇\n",
      "\n",
      "\n",
      "  🟡  1x1    1px  5.  12.  🔲\n",
      "  🟡  1x1    1px  8.  15.  🔲\n",
      "  ⚪  3x3    5px  8.  12.  🔲\n",
      "  🔵  1x1    1px  8.   9.  🔲\n",
      "\n",
      "  🟡  2x3    4px  0.5 12.  👆\n",
      "  🟡  3x3    5px  4.  12.  🔲\n",
      "  🟡  3x3    5px  8.  16.  🔲\n",
      "  🟡  3x2    4px  8.  19.5 👉\n",
      "  🔵  3x2    4px  8.   0.5 👈\n",
      "  🔵  3x3    5px  8.   4.  🔲\n",
      "  🔵  3x3    5px  8.   8.  🔲\n",
      "  ⚪  3x3    5px  8.  12.  🔲\n",
      "\n",
      "\n",
      "  🟠  2x2    2px  4.5 10.5 🔲\n",
      "  🟣  3x3    6px  8.   7.  🔲\n",
      "  ⚪  2x2    3px 11.5 10.5 🔲\n",
      "\n",
      "  🟠  2x3    4px  0.5 15.  👆\n",
      "  🟠  3x3    6px  4.  11.  🔲\n",
      "  🟣  3x3    6px  8.   7.  🔲\n",
      "  ⚪  3x3    6px 12.  11.  🔲\n",
      "  ⚪  3x3    6px 16.  15.  🔲\n",
      "  ⚪  2x3    4px 19.5 19.  👇 👉\n",
      "\n",
      "\n"
     ]
    }
   ],
   "source": [
    "# One colour is fixed in each pair.\n",
    "# Under diagonal-connectivity, it's a single region in each case.\n",
    "\n",
    "# Let's examine region-stats\n",
    "\n",
    "for pair in train:\n",
    "    for U in pair:\n",
    "        for r in U['🔗']:\n",
    "            print(f'  {r.glyph_hxw_npix} {r.frame.center:~xx.x} {r.touchings}')\n",
    "        print()\n",
    "    print()\n",
    "\n",
    "if 0:  # ???\n",
    "    for pair in train:\n",
    "        for U in pair:\n",
    "            U['🔗']('{glyph}{h}x{w}.{npix}px 🖼.center 🖐\\n')\n",
    "            # Does () return an Iter object? And printing it will invoke its __repr__?\n",
    "            U['🔗']('glyph, hxw, px, 🖼.center, 🖐\\n')\n",
    "\n",
    "    # better:\n",
    "    train['🔗']('glyph, hxw, px, frame.center, touchings')\n",
    "    # .dump(sep=['\\n', '\\n', '\\n'])\n",
    "    # This will be Iter (pairs) of Iter (X, Y) of Iter (Grid-s) of whatever () returns. I think that should be Iter too.\n"
   ]
  },
  {
   "cell_type": "code",
   "execution_count": 4,
   "metadata": {},
   "outputs": [
    {
     "name": "stdout",
     "output_type": "stream",
     "text": [
      "\n",
      "🔴 🔴 🔴\n",
      "🔴 ⚫ 🔴\n",
      "🔴 🔴 🔴\n",
      "\n",
      "🟢  0  4  ⏺ ⤴ 🔄 ⤵ ↔ ↕ ↘ ↗\n",
      "🟢  0  8  ⏺ ⤴ 🔄 ⤵ ↔ ↕ ↘ ↗\n",
      "🟢  0 12  ⏺ ⤴ 🔄 ⤵ ↔ ↕ ↘ ↗\n",
      "🔵  4  0  ⏺ ⤴ 🔄 ⤵ ↔ ↕ ↘ ↗\n",
      "🔵  8  0  ⏺ ⤴ 🔄 ⤵ ↔ ↕ ↘ ↗\n",
      "🔵 12  0  ⏺ ⤴ 🔄 ⤵ ↔ ↕ ↘ ↗\n",
      "\n",
      "\n",
      "⚫ ⚪ ⚫\n",
      "⚪ ⚪ ⚪\n",
      "⚫ ⚪ ⚫\n",
      "\n",
      "🟡 -4  0  ⏺ ⤴ 🔄 ⤵ ↔ ↕ ↘ ↗\n",
      "🟡  0  4  ⏺ ⤴ 🔄 ⤵ ↔ ↕ ↘ ↗\n",
      "🔵  0 -8  ⏺ ⤴ 🔄 ⤵ ↔ ↕ ↘ ↗\n",
      "🔵  0 -4  ⏺ ⤴ 🔄 ⤵ ↔ ↕ ↘ ↗\n",
      "\n",
      "\n",
      "🟣 🟣 ⚫\n",
      "🟣 ⚫ 🟣\n",
      "⚫ 🟣 🟣\n",
      "\n",
      "🟠 -4  4  ⏺ 🔄 ↘ ↗\n",
      "⚪  4  4  ⏺ 🔄 ↘ ↗\n",
      "⚪  8  8  ⏺ 🔄 ↘ ↗\n",
      "\n"
     ]
    }
   ],
   "source": [
    "# 👁 Most Y regions are 3x3, others are < 3x3.\n",
    "# 👁 Y.3x3 have same npix.\n",
    "# ❓🧪⚡ Are they symmetries of FIXED?\n",
    "\n",
    "# 👁 Each non-3x3 region is touching the edge of the grid.\n",
    "# ❓🔮 Clipped?\n",
    "# 👑 Exclude non-3x3 for now\n",
    "\n",
    "# 👁 There's some connection between the copy locations and the FIXED locations.\n",
    "# ⚡ Let's examine locations relative to FIXED.\n",
    "\n",
    "for pair in train:\n",
    "    X, Y = pair\n",
    "    motif = X[f'{pair.fixed}.🔗.0']\n",
    "    print(X[motif.frame])\n",
    "    for r in Y[f'{pair.fixed}->⚫.🔗']:\n",
    "        if r.hw == 3:\n",
    "            print(\n",
    "                r.glyph,\n",
    "                f'{r.frame.tl - motif.frame.tl} ',\n",
    "                motif > r\n",
    "            )\n",
    "    print()\n"
   ]
  },
  {
   "cell_type": "code",
   "execution_count": 5,
   "metadata": {},
   "outputs": [
    {
     "data": {
      "text/plain": [
       "[True, True, True, True]"
      ]
     },
     "execution_count": 5,
     "metadata": {},
     "output_type": "execute_result"
    }
   ],
   "source": [
    "# Y[0] regions are coloured copies of (fixed)🔴, extending South (🔵) and East (🟢) from 🔴 with hop-size 4.\n",
    "# In Y[1] we see 🔵 extending West and 🟡 extending North and East from (fixed)⚪.\n",
    "# In Y[2] we see ⚪ extending SouthEast and 🟠 extending NorthEast from (fixed)🟣.\n",
    "\n",
    "# So, we identify the motif, then for each of the 8 compass-directions we construct a mask by tiling the motif in that compass-direction off-grid. If X[mask].any, we set Y[mask] = X[mask].glyphs[-1]\n",
    "\n",
    "from Coords import Coords\n",
    "\n",
    "def solve(X):\n",
    "    Y = X['🖨']\n",
    "\n",
    "    motif_glyph = X.most_common('-⚫')[0]\n",
    "\n",
    "    for Δ in Coords('✳') * 4:\n",
    "        mask = X[motif_glyph].pad(4)\n",
    "        W = mask.canvas\n",
    "        W.roll(Δ, in_place=True)\n",
    "        while W.Σ == mask.Σ:\n",
    "            W |= W.roll(Δ)\n",
    "\n",
    "        if (coords := (X & mask).pix):\n",
    "            Y[mask] = X[coords[0]]\n",
    "\n",
    "    return Y\n",
    "\n",
    "[Y @ solve(X)  for (X, Y) in train | test]"
   ]
  }
 ],
 "metadata": {
  "kernelspec": {
   "display_name": ".venv",
   "language": "python",
   "name": "python3"
  },
  "language_info": {
   "codemirror_mode": {
    "name": "ipython",
    "version": 3
   },
   "file_extension": ".py",
   "mimetype": "text/x-python",
   "name": "python",
   "nbconvert_exporter": "python",
   "pygments_lexer": "ipython3",
   "version": "3.12.3"
  }
 },
 "nbformat": 4,
 "nbformat_minor": 2
}
