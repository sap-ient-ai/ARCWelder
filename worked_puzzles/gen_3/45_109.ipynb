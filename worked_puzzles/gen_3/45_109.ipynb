{
 "cells": [
  {
   "cell_type": "code",
   "execution_count": 1,
   "metadata": {},
   "outputs": [
    {
     "name": "stdout",
     "output_type": "stream",
     "text": [
      "`setup_ipynb.py` executed, (multi-output enabled for subsequent cell executions).\n"
     ]
    },
    {
     "data": {
      "text/plain": [
       "[\n",
       "🟣 🟡 🟣 🟠 ⚪ 🔵 🟣 🟡 🟣 🟠 ⚪ 🔵 🟣 🟡 🟣 🟠 ⚪ 🔵 🟣 🟡 🟣 🟠 ⚪ 🔵 🟣 🟡 🟣 🟠 ⚪\n",
       "🟡 🟣 🔵 ⚪ 🔵 🟢 🟡 🟣 🔵 ⚪ 🔵 🟢 🟡 🟣 🔵 ⚪ 🔵 🟢 🟡 🟣 🔵 ⚪ 🔵 🟢 🟡 🟣 🔵 ⚪ 🔵\n",
       "🟣 🟠 ⚪ 🔵 🟣 🟡 🟣 🟠 ⚪ 🔵 🟣 🟡 🟣 🟠 ⚪ 🔵 🟣 🟡 🟣 🟠 ⚪ 🔵 🟣 🟡 🟣 🟠 ⚪ 🔵 🟣\n",
       "🔵 ⚪ 🔵 🟢 🟡 🟣 ⚫ ⚫ 🔵 🟢 🟡 🟣 🔵 ⚪ 🔵 🟢 🟡 🟣 🔵 ⚪ 🔵 🟢 🟡 🟣 🔵 ⚪ 🔵 🟢 🟡\n",
       "⚪ 🔵 🟣 🟡 🟣 🟠 ⚫ ⚫ 🟣 🟡 🟣 🟠 ⚪ 🔵 🟣 🟡 🟣 🟠 ⚪ 🔵 🟣 🟡 🟣 🟠 ⚪ 🔵 🟣 🟡 🟣\n",
       "🔵 ⚫ ⚫ ⚫ ⚫ ⚪ ⚫ ⚫ 🟡 🟣 🔵 ⚪ 🔵 🟢 🟡 🟣 🔵 ⚪ 🔵 🟢 🟡 🟣 🔵 ⚪ 🔵 🟢 🟡 🟣 🔵\n",
       "🟣 ⚫ ⚫ ⚫ ⚫ 🔵 ⚫ ⚫ 🟣 🟠 ⚪ 🔵 🟣 🟡 🟣 🟠 ⚪ 🔵 🟣 🟡 🟣 🟠 ⚪ 🔵 ⚫ ⚫ ⚫ 🟠 ⚪\n",
       "🟡 ⚫ ⚫ ⚫ ⚫ ⚫ ⚫ ⚫ 🔵 ⚪ 🔵 🟢 🟡 🟣 🔵 ⚪ 🔵 🟢 🟡 🟣 🔵 ⚪ 🔵 🟢 ⚫ ⚫ ⚫ ⚪ 🔵\n",
       "🟣 🟠 ⚪ 🔵 ⚫ ⚫ ⚫ ⚫ ⚪ 🔵 🟣 🟡 🟣 🟠 ⚪ 🔵 🟣 🟡 🟣 🟠 ⚪ 🔵 🟣 🟡 ⚫ ⚫ ⚫ 🔵 🟣\n",
       "🔵 ⚪ 🔵 🟢 ⚫ ⚫ 🔵 ⚪ 🔵 🟢 🟡 🟣 🔵 ⚪ 🔵 🟢 🟡 🟣 🔵 ⚪ 🔵 🟢 🟡 🟣 ⚫ ⚫ ⚫ 🟢 🟡\n",
       "⚪ 🔵 🟣 🟡 🟣 🟠 ⚪ 🔵 🟣 🟡 🟣 🟠 ⚪ 🔵 🟣 🟡 🟣 🟠 ⚪ 🔵 🟣 🟡 🟣 🟠 ⚫ ⚫ ⚫ 🟡 🟣\n",
       "🔵 🟢 🟡 🟣 🔵 ⚪ 🔵 🟢 🟡 🟣 🔵 ⚪ 🔵 🟢 🟡 🟣 🔵 ⚪ 🔵 🟢 🟡 🟣 🔵 ⚪ ⚫ ⚫ ⚫ 🟣 🔵\n",
       "🟣 🟡 🟣 🟠 ⚪ 🔵 🟣 🟡 🟣 🟠 ⚪ 🔵 🟣 🟡 🟣 🟠 ⚪ 🔵 🟣 🟡 🟣 🟠 ⚪ 🔵 🟣 🟡 🟣 🟠 ⚪\n",
       "🟡 🟣 🔵 ⚪ 🔵 🟢 🟡 🟣 🔵 ⚪ 🔵 🟢 🟡 🟣 🔵 ⚪ 🔵 🟢 🟡 🟣 🔵 ⚪ 🔵 🟢 🟡 🟣 🔵 ⚪ 🔵\n",
       "🟣 🟠 ⚪ 🔵 🟣 🟡 🟣 🟠 ⚪ 🔵 🟣 🟡 🟣 🟠 ⚪ 🔵 🟣 🟡 🟣 🟠 ⚪ 🔵 🟣 🟡 🟣 🟠 ⚪ 🔵 🟣\n",
       "🔵 ⚪ 🔵 🟢 🟡 🟣 🔵 ⚪ 🔵 🟢 🟡 🟣 🔵 ⚪ 🔵 🟢 🟡 🟣 🔵 ⚪ 🔵 🟢 🟡 🟣 🔵 ⚪ 🔵 🟢 🟡\n",
       "⚪ 🔵 🟣 🟡 🟣 🟠 ⚪ 🔵 🟣 🟡 🟣 🟠 ⚪ 🔵 🟣 🟡 🟣 🟠 ⚪ 🔵 🟣 🟡 🟣 🟠 ⚪ 🔵 🟣 🟡 🟣\n",
       "🔵 🟢 🟡 🟣 🔵 ⚪ 🔵 🟢 🟡 🟣 🔵 ⚪ 🔵 🟢 🟡 🟣 🔵 ⚪ 🔵 🟢 🟡 🟣 🔵 ⚪ 🔵 🟢 🟡 🟣 🔵\n",
       "🟣 🟡 🟣 🟠 ⚪ 🔵 🟣 🟡 🟣 🟠 ⚪ 🔵 🟣 🟡 🟣 🟠 ⚪ 🔵 🟣 🟡 🟣 🟠 ⚪ 🔵 🟣 🟡 🟣 🟠 ⚪\n",
       "🟡 🟣 🔵 ⚪ 🔵 🟢 🟡 🟣 🔵 ⚪ 🔵 🟢 🟡 🟣 🔵 ⚪ 🔵 🟢 🟡 🟣 🔵 ⚪ 🔵 🟢 🟡 🟣 🔵 ⚪ 🔵\n",
       "🟣 🟠 ⚪ 🔵 🟣 🟡 🟣 🟠 ⚪ 🔵 🟣 🟡 🟣 🟠 ⚪ 🔵 🟣 🟡 🟣 🟠 ⚪ 🔵 🟣 🟡 🟣 🟠 ⚪ 🔵 🟣\n",
       "🔵 ⚪ 🔵 🟢 🟡 🟣 🔵 ⚪ 🔵 🟢 🟡 🟣 🔵 ⚫ ⚫ ⚫ ⚫ 🟣 🔵 ⚪ 🔵 🟢 🟡 🟣 🔵 ⚪ 🔵 🟢 🟡\n",
       "⚪ 🔵 🟣 🟡 🟣 🟠 ⚪ 🔵 🟣 🟡 🟣 🟠 ⚪ ⚫ ⚫ ⚫ ⚫ 🟠 ⚪ 🔵 🟣 🟡 🟣 🟠 ⚪ 🔵 🟣 🟡 🟣\n",
       "🔵 🟢 🟡 🟣 🔵 ⚪ 🔵 🟢 🟡 🟣 🔵 ⚪ 🔵 ⚫ ⚫ ⚫ ⚫ ⚪ 🔵 🟢 🟡 🟣 🔵 ⚪ 🔵 🟢 🟡 🟣 🔵\n",
       "🟣 🟡 🟣 🟠 ⚪ 🔵 🟣 🟡 🟣 🟠 ⚪ 🔵 🟣 🟡 🟣 🟠 ⚪ 🔵 🟣 🟡 🟣 🟠 ⚪ 🔵 🟣 🟡 🟣 🟠 ⚪\n",
       "🟡 🟣 🔵 ⚪ 🔵 🟢 🟡 🟣 🔵 ⚪ 🔵 🟢 🟡 🟣 🔵 ⚪ 🔵 🟢 🟡 🟣 🔵 ⚪ 🔵 🟢 🟡 🟣 🔵 ⚪ 🔵\n",
       "🟣 🟠 ⚪ 🔵 🟣 🟡 🟣 🟠 ⚪ 🔵 🟣 🟡 🟣 🟠 ⚪ 🔵 🟣 🟡 🟣 🟠 ⚪ 🔵 🟣 🟡 🟣 🟠 ⚪ 🔵 🟣\n",
       "🔵 ⚪ 🔵 🟢 🟡 🟣 🔵 ⚪ 🔵 🟢 🟡 🟣 🔵 ⚪ 🔵 🟢 🟡 🟣 🔵 ⚪ 🔵 🟢 🟡 🟣 🔵 ⚪ 🔵 🟢 🟡\n",
       "⚪ 🔵 🟣 🟡 🟣 🟠 ⚪ 🔵 🟣 🟡 🟣 🟠 ⚪ 🔵 🟣 🟡 🟣 🟠 ⚪ 🔵 🟣 🟡 🟣 🟠 ⚪ 🔵 🟣 🟡 🟣\n",
       ", \n",
       "🟣 🟡 🟣 🟠 ⚪ 🔵 🟣 🟡 🟣 🟠 ⚪ 🔵 🟣 🟡 🟣 🟠 ⚪ 🔵 🟣 🟡 🟣 🟠 ⚪ 🔵 🟣 🟡 🟣 🟠 ⚪\n",
       "🟡 🟣 🔵 ⚪ 🔵 🟢 🟡 🟣 🔵 ⚪ 🔵 🟢 🟡 🟣 🔵 ⚪ 🔵 🟢 🟡 🟣 🔵 ⚪ 🔵 🟢 🟡 🟣 🔵 ⚪ 🔵\n",
       "🟣 🟠 ⚪ 🔵 🟣 🟡 🟣 🟠 ⚪ 🔵 🟣 🟡 🟣 🟠 ⚪ 🔵 🟣 🟡 🟣 🟠 ⚪ 🔵 🟣 🟡 🟣 🟠 ⚪ 🔵 🟣\n",
       "🔵 ⚪ 🔵 🟢 🟡 🟣 🔵 ⚪ 🔵 🟢 🟡 🟣 🔵 ⚪ 🔵 🟢 🟡 🟣 🔵 ⚪ 🔵 🟢 🟡 🟣 🔵 ⚪ 🔵 🟢 🟡\n",
       "⚪ 🔵 🟣 🟡 🟣 🟠 ⚪ 🔵 🟣 🟡 🟣 🟠 ⚪ 🔵 🟣 🟡 🟣 🟠 ⚪ 🔵 🟣 🟡 🟣 🟠 ⚪ 🔵 🟣 🟡 🟣\n",
       "🔵 🟢 🟡 🟣 🔵 ⚪ 🔵 🟢 🟡 🟣 🔵 ⚪ 🔵 🟢 🟡 🟣 🔵 ⚪ 🔵 🟢 🟡 🟣 🔵 ⚪ 🔵 🟢 🟡 🟣 🔵\n",
       "🟣 🟡 🟣 🟠 ⚪ 🔵 🟣 🟡 🟣 🟠 ⚪ 🔵 🟣 🟡 🟣 🟠 ⚪ 🔵 🟣 🟡 🟣 🟠 ⚪ 🔵 🟣 🟡 🟣 🟠 ⚪\n",
       "🟡 🟣 🔵 ⚪ 🔵 🟢 🟡 🟣 🔵 ⚪ 🔵 🟢 🟡 🟣 🔵 ⚪ 🔵 🟢 🟡 🟣 🔵 ⚪ 🔵 🟢 🟡 🟣 🔵 ⚪ 🔵\n",
       "🟣 🟠 ⚪ 🔵 🟣 🟡 🟣 🟠 ⚪ 🔵 🟣 🟡 🟣 🟠 ⚪ 🔵 🟣 🟡 🟣 🟠 ⚪ 🔵 🟣 🟡 🟣 🟠 ⚪ 🔵 🟣\n",
       "🔵 ⚪ 🔵 🟢 🟡 🟣 🔵 ⚪ 🔵 🟢 🟡 🟣 🔵 ⚪ 🔵 🟢 🟡 🟣 🔵 ⚪ 🔵 🟢 🟡 🟣 🔵 ⚪ 🔵 🟢 🟡\n",
       "⚪ 🔵 🟣 🟡 🟣 🟠 ⚪ 🔵 🟣 🟡 🟣 🟠 ⚪ 🔵 🟣 🟡 🟣 🟠 ⚪ 🔵 🟣 🟡 🟣 🟠 ⚪ 🔵 🟣 🟡 🟣\n",
       "🔵 🟢 🟡 🟣 🔵 ⚪ 🔵 🟢 🟡 🟣 🔵 ⚪ 🔵 🟢 🟡 🟣 🔵 ⚪ 🔵 🟢 🟡 🟣 🔵 ⚪ 🔵 🟢 🟡 🟣 🔵\n",
       "🟣 🟡 🟣 🟠 ⚪ 🔵 🟣 🟡 🟣 🟠 ⚪ 🔵 🟣 🟡 🟣 🟠 ⚪ 🔵 🟣 🟡 🟣 🟠 ⚪ 🔵 🟣 🟡 🟣 🟠 ⚪\n",
       "🟡 🟣 🔵 ⚪ 🔵 🟢 🟡 🟣 🔵 ⚪ 🔵 🟢 🟡 🟣 🔵 ⚪ 🔵 🟢 🟡 🟣 🔵 ⚪ 🔵 🟢 🟡 🟣 🔵 ⚪ 🔵\n",
       "🟣 🟠 ⚪ 🔵 🟣 🟡 🟣 🟠 ⚪ 🔵 🟣 🟡 🟣 🟠 ⚪ 🔵 🟣 🟡 🟣 🟠 ⚪ 🔵 🟣 🟡 🟣 🟠 ⚪ 🔵 🟣\n",
       "🔵 ⚪ 🔵 🟢 🟡 🟣 🔵 ⚪ 🔵 🟢 🟡 🟣 🔵 ⚪ 🔵 🟢 🟡 🟣 🔵 ⚪ 🔵 🟢 🟡 🟣 🔵 ⚪ 🔵 🟢 🟡\n",
       "⚪ 🔵 🟣 🟡 🟣 🟠 ⚪ 🔵 🟣 🟡 🟣 🟠 ⚪ 🔵 🟣 🟡 🟣 🟠 ⚪ 🔵 🟣 🟡 🟣 🟠 ⚪ 🔵 🟣 🟡 🟣\n",
       "🔵 🟢 🟡 🟣 🔵 ⚪ 🔵 🟢 🟡 🟣 🔵 ⚪ 🔵 🟢 🟡 🟣 🔵 ⚪ 🔵 🟢 🟡 🟣 🔵 ⚪ 🔵 🟢 🟡 🟣 🔵\n",
       "🟣 🟡 🟣 🟠 ⚪ 🔵 🟣 🟡 🟣 🟠 ⚪ 🔵 🟣 🟡 🟣 🟠 ⚪ 🔵 🟣 🟡 🟣 🟠 ⚪ 🔵 🟣 🟡 🟣 🟠 ⚪\n",
       "🟡 🟣 🔵 ⚪ 🔵 🟢 🟡 🟣 🔵 ⚪ 🔵 🟢 🟡 🟣 🔵 ⚪ 🔵 🟢 🟡 🟣 🔵 ⚪ 🔵 🟢 🟡 🟣 🔵 ⚪ 🔵\n",
       "🟣 🟠 ⚪ 🔵 🟣 🟡 🟣 🟠 ⚪ 🔵 🟣 🟡 🟣 🟠 ⚪ 🔵 🟣 🟡 🟣 🟠 ⚪ 🔵 🟣 🟡 🟣 🟠 ⚪ 🔵 🟣\n",
       "🔵 ⚪ 🔵 🟢 🟡 🟣 🔵 ⚪ 🔵 🟢 🟡 🟣 🔵 ⚪ 🔵 🟢 🟡 🟣 🔵 ⚪ 🔵 🟢 🟡 🟣 🔵 ⚪ 🔵 🟢 🟡\n",
       "⚪ 🔵 🟣 🟡 🟣 🟠 ⚪ 🔵 🟣 🟡 🟣 🟠 ⚪ 🔵 🟣 🟡 🟣 🟠 ⚪ 🔵 🟣 🟡 🟣 🟠 ⚪ 🔵 🟣 🟡 🟣\n",
       "🔵 🟢 🟡 🟣 🔵 ⚪ 🔵 🟢 🟡 🟣 🔵 ⚪ 🔵 🟢 🟡 🟣 🔵 ⚪ 🔵 🟢 🟡 🟣 🔵 ⚪ 🔵 🟢 🟡 🟣 🔵\n",
       "🟣 🟡 🟣 🟠 ⚪ 🔵 🟣 🟡 🟣 🟠 ⚪ 🔵 🟣 🟡 🟣 🟠 ⚪ 🔵 🟣 🟡 🟣 🟠 ⚪ 🔵 🟣 🟡 🟣 🟠 ⚪\n",
       "🟡 🟣 🔵 ⚪ 🔵 🟢 🟡 🟣 🔵 ⚪ 🔵 🟢 🟡 🟣 🔵 ⚪ 🔵 🟢 🟡 🟣 🔵 ⚪ 🔵 🟢 🟡 🟣 🔵 ⚪ 🔵\n",
       "🟣 🟠 ⚪ 🔵 🟣 🟡 🟣 🟠 ⚪ 🔵 🟣 🟡 🟣 🟠 ⚪ 🔵 🟣 🟡 🟣 🟠 ⚪ 🔵 🟣 🟡 🟣 🟠 ⚪ 🔵 🟣\n",
       "🔵 ⚪ 🔵 🟢 🟡 🟣 🔵 ⚪ 🔵 🟢 🟡 🟣 🔵 ⚪ 🔵 🟢 🟡 🟣 🔵 ⚪ 🔵 🟢 🟡 🟣 🔵 ⚪ 🔵 🟢 🟡\n",
       "⚪ 🔵 🟣 🟡 🟣 🟠 ⚪ 🔵 🟣 🟡 🟣 🟠 ⚪ 🔵 🟣 🟡 🟣 🟠 ⚪ 🔵 🟣 🟡 🟣 🟠 ⚪ 🔵 🟣 🟡 🟣\n",
       "]"
      ]
     },
     "execution_count": 1,
     "metadata": {},
     "output_type": "execute_result"
    }
   ],
   "source": [
    "from ARC import ARC\n",
    "\n",
    "train, test = ARC.load(109)\n",
    "\n",
    "train[0]"
   ]
  },
  {
   "cell_type": "code",
   "execution_count": 2,
   "metadata": {},
   "outputs": [
    {
     "name": "stdout",
     "output_type": "stream",
     "text": [
      "X: 29x29  🔳782px ⛓1  🔗1 ,  ⚫ 59px ⛓3  🔗3 ,  🟣199px ⛓199 🔗26,  🟡128px ⛓128 🔗15,  🟠 67px ⛓67 🔗67,  ⚪133px ⛓133 🔗13,  🔵196px ⛓196 🔗18,  🟢 59px ⛓59 🔗59\n",
      "Y: 29x29  🔳841px ⛓1  🔗1 ,                  ,  🟣215px ⛓215 🔗20,  🟡140px ⛓140 🔗10,  🟠 70px ⛓70 🔗70,  ⚪141px ⛓141 🔗9 ,  🔵210px ⛓210 🔗13,  🟢 65px ⛓65 🔗65\n",
      "⚫ removed, 🔳 🟣 🟡 🟠 ⚪ 🔵 🟢 extended\n",
      "\n",
      "X: 29x29  🔳769px ⛓1  🔗1 ,  ⚫ 72px ⛓4  🔗4 ,  🟣116px ⛓79 🔗79,  🟡 40px ⛓40 🔗40,  🔵273px ⛓132 🔗9 ,  ⚪109px ⛓109 🔗12,  🟢112px ⛓77 🔗60,  🟤 81px ⛓67 🔗67,  🟠 38px ⛓38 🔗38\n",
      "Y: 29x29  🔳841px ⛓1  🔗1 ,                  ,  🟣125px ⛓84 🔗84,  🟡 42px ⛓42 🔗42,  🔵299px ⛓145 🔗6 ,  ⚪120px ⛓120 🔗8 ,  🟢123px ⛓83 🔗63,  🟤 90px ⛓74 🔗74,  🟠 42px ⛓42 🔗42\n",
      "⚫ removed, 🔳 🟣 🟡 🔵 ⚪ 🟢 🟤 🟠 extended\n",
      "\n",
      "X: 29x29  🔳735px ⛓1  🔗1 ,  ⚫106px ⛓2  🔗2 ,  ⚪367px ⛓367 🔗4 ,  🔵228px ⛓228 🔗70,  🟡 46px ⛓46 🔗46,  🟠 48px ⛓48 🔗48,  🔴 46px ⛓46 🔗46\n",
      "Y: 29x29  🔳841px ⛓1  🔗1 ,                  ,  ⚪421px ⛓421 🔗1 ,  🔵262px ⛓262 🔗68,  🟡 53px ⛓53 🔗53,  🟠 53px ⛓53 🔗53,  🔴 52px ⛓52 🔗52\n",
      "⚫ removed, 🔳 ⚪ 🔵 🟡 🟠 🔴 extended\n",
      "\n"
     ]
    }
   ],
   "source": [
    "train.overview()"
   ]
  },
  {
   "cell_type": "code",
   "execution_count": 3,
   "metadata": {},
   "outputs": [
    {
     "data": {
      "text/plain": [
       "{'⏺': 41}"
      ]
     },
     "execution_count": 3,
     "metadata": {},
     "output_type": "execute_result"
    },
    {
     "data": {
      "text/plain": [
       "{'⏺': 9}"
      ]
     },
     "execution_count": 3,
     "metadata": {},
     "output_type": "execute_result"
    },
    {
     "data": {
      "text/plain": [
       "{'⏺': 31, '↘': 36}"
      ]
     },
     "execution_count": 3,
     "metadata": {},
     "output_type": "execute_result"
    }
   ],
   "source": [
    "# 👁♻:\n",
    "# - Output grid is colourful, comprising mostly single-pixel-regions in multiple (~6) colours.\n",
    "# - In the input grid, a small number of regions have been blacked out.\n",
    "# - The task is to recover the missing regions.\n",
    "#\n",
    "# 👑:\n",
    "#   Obvious candidates to check for would be tiling and symmetry.\n",
    "#   We could pick a 3x3 square, and see whether any of it's S4 symmetries repeat anywhere on the grid.\n",
    "# ❓: Where to pick from?\n",
    "#   Somewhere near the center makes sense; a puzzle might be off-center, so edges/corners might make for poor candidates.\n",
    "\n",
    "from Rect import Rect\n",
    "\n",
    "for Y in train.Y:\n",
    "    kernel = Y[Rect(center=Y.rect.center, radius=Y.h // 8)]\n",
    "    {\n",
    "        T: nmatches\n",
    "            for T, G in kernel.s4\n",
    "                if (nmatches := Y.locate(G).npix) > 0\n",
    "    }\n",
    "\n"
   ]
  },
  {
   "cell_type": "code",
   "execution_count": 4,
   "metadata": {},
   "outputs": [
    {
     "name": "stdout",
     "output_type": "stream",
     "text": [
      "u:  2 -2, v: -2 -4\n",
      "u: -1 -6, v:  6 -6\n",
      "u: -2  2, v: -4 -4\n"
     ]
    }
   ],
   "source": [
    "# 👁: Multiple ⏺ matches for each Y.\n",
    "\n",
    "# 🛸: Only Y[2] has non-⏺ matches.\n",
    "# 👽: We should consider this a likely quirk, and focus on that which is CONSISTENT ACROSS grids, as that wields greater representational power.\n",
    "\n",
    "# 🎭: This looks like a tesselation\n",
    "\n",
    "# 🧠: In this case, for a given match-grid we are looking for two linearly independent vectors u and v, such that each point p has the same value as p + u and p + v.\n",
    "\n",
    "# 👑: If we order lit points by increasing distance from the grid center, we can form u as p_1 - p_0 and v as the first p_k s.t. p_k - p_0 is linearly independent from u. Armed with u and v we can then complete any grid except for the extreme case where all points in the same \"equivalence class\" are missing.\n",
    "\n",
    "def get_uv(G):\n",
    "    kernel = G[G.rect.with_(radius=G.h // 8)]\n",
    "    match_grid = G.locate(kernel)\n",
    "    P = (match_grid.pix - G.rect.center).sort('>')\n",
    "\n",
    "    P = P[1:] - P[0]\n",
    "    u, *P = P\n",
    "    v = next(p for p in P if p.independent(u))\n",
    "\n",
    "    return u, v\n",
    "\n",
    "for Y in train.Y:\n",
    "    u, v = get_uv(Y)\n",
    "    print(f'u: {u.int}, v: {v.int}')"
   ]
  },
  {
   "cell_type": "code",
   "execution_count": 5,
   "metadata": {},
   "outputs": [
    {
     "data": {
      "text/plain": [
       "[True, True, True, True]"
      ]
     },
     "execution_count": 5,
     "metadata": {},
     "output_type": "execute_result"
    }
   ],
   "source": [
    "\n",
    "# 🔭🖐: We must remember our input X has certain regions blacked-out.\n",
    "# What if our chosen kernel contains some black pixels?\n",
    "# We'll likely fail to get even one match.\n",
    "\n",
    "# 👑: The simplest solution would be to repeatedly:\n",
    "#   - Search for the shift-vector that fills the MOST blacks whilst creating NO contradictions\n",
    "#   - Apply it!\n",
    "\n",
    "from Coords import Coords\n",
    "\n",
    "def solve(X):\n",
    "    Y = X.copy\n",
    "    while Y['⚫.•.#'] > 0:\n",
    "        for Δ in Coords(\n",
    "            Rect(center=(0, 0), radius=28)\n",
    "        ).sort(lambda u: u.mag2):\n",
    "            # Using Y + Δ to fix Y, P is the patch in Y to repair and Q is the patch that will map to it\n",
    "            overlap = Y.rect & (Y.rect + Δ)\n",
    "            P, Q = Y[overlap], Y[overlap - Δ]\n",
    "\n",
    "            # require ALL points where BOTH p and q ~⚫ to match\n",
    "            mask = P['~⚫'] & Q['~⚫']\n",
    "            if P[mask] @ Q[mask]:\n",
    "                fills = P['⚫'] & Q['~⚫']\n",
    "                if fills.npix > 0:\n",
    "                    P |= Q\n",
    "                    break  # start searching from scratch\n",
    "    return Y\n",
    "\n",
    "[Y @ solve(X)  for (X, Y) in train | test]"
   ]
  }
 ],
 "metadata": {
  "kernelspec": {
   "display_name": ".venv",
   "language": "python",
   "name": "python3"
  },
  "language_info": {
   "codemirror_mode": {
    "name": "ipython",
    "version": 3
   },
   "file_extension": ".py",
   "mimetype": "text/x-python",
   "name": "python",
   "nbconvert_exporter": "python",
   "pygments_lexer": "ipython3",
   "version": "3.12.3"
  }
 },
 "nbformat": 4,
 "nbformat_minor": 2
}
