{
 "cells": [
  {
   "cell_type": "code",
   "execution_count": 1,
   "metadata": {},
   "outputs": [
    {
     "name": "stdout",
     "output_type": "stream",
     "text": [
      "`setup_ipynb.py` executed, (multi-output enabled for subsequent cell executions).\n"
     ]
    },
    {
     "data": {
      "text/plain": [
       "[\n",
       "⚫ ⚫ ⚫ ⚫ ⚫ ⚫ ⚫ ⚫ 🟠 🟠 🟣 🟣 ⚫ ⚪ ⚫ ⚫ ⚫ ⚫ ⚪ ⚫ 🟣 🟣 🟠 🟠 ⚫ ⚫ ⚫ ⚫ ⚫ ⚫\n",
       "⚫ ⚫ ⚫ ⚫ ⚫ 🟣 ⚫ ⚫ 🟠 🟠 🟣 ⚫ ⚪ ⚫ ⚫ 🟤 🟤 ⚫ ⚫ ⚪ ⚫ 🟣 🟠 🟠 ⚫ ⚫ 🟣 ⚫ ⚫ ⚫\n",
       "⚫ ⚫ 🟤 🟤 ⚫ ⚫ ⚫ 🟤 🟣 🟣 🟡 ⚫ ⚫ ⚫ ⚫ ⚫ ⚫ ⚫ ⚫ ⚫ ⚫ 🟡 🟣 🟣 🟤 ⚫ ⚫ ⚫ 🟤 🟤\n",
       "⚫ ⚫ 🟤 🟤 ⚫ ⚫ 🟤 ⚫ 🟣 ⚫ ⚫ 🟡 ⚫ 🟤 ⚫ 🔵 🔵 ⚫ 🟤 ⚫ 🟡 ⚫ ⚫ 🟣 ⚫ 🟤 ⚫ ⚫ 🟤 🟤\n",
       "⚫ ⚫ ⚫ ⚫ ⚫ ⚫ ⚫ ⚫ ⚫ ⚪ ⚫ ⚫ 🟤 ⚫ 🟡 ⚫ ⚫ 🟡 ⚫ 🟤 ⚫ ⚫ ⚪ ⚫ ⚫ ⚫ ⚫ ⚫ ⚫ ⚫\n",
       "⚫ 🟣 ⚫ ⚫ ⚫ ⚫ ⚫ ⚫ ⚪ ⚫ ⚫ 🟤 ⚫ 🟤 ⚫ ⚫ ⚫ ⚫ 🟤 ⚫ 🟤 ⚫ 🌑 🌑 🌑 🌑 🌑 🌑 🌑 🌑\n",
       "⚫ ⚫ ⚫ 🟤 ⚫ ⚫ 🟢 ⚫ ⚫ ⚫ ⚫ ⚫ 🟡 ⚫ 🔴 ⚫ ⚫ 🔴 ⚫ 🟡 ⚫ ⚫ 🌑 🌑 🌑 🌑 🌑 🌑 🌑 🌑\n",
       "⚫ ⚫ 🟤 ⚫ ⚫ ⚫ ⚫ ⚫ ⚫ 🟤 ⚫ 🔵 ⚫ ⚫ ⚫ ⚫ ⚫ ⚫ ⚫ ⚫ 🔵 ⚫ 🌑 🌑 🌑 🌑 🌑 🌑 🌑 🌑\n",
       "🌑 🌑 🌑 🌑 🌑 🌑 🌑 ⚫ ⚫ ⚫ 🟡 ⚫ ⚫ ⚫ ⚫ ⚫ ⚫ ⚫ ⚫ ⚫ ⚫ 🟡 🌑 🌑 🌑 🌑 🌑 🌑 🌑 🌑\n",
       "🌑 🌑 🌑 🌑 🌑 🌑 🌑 🟤 ⚫ 🔴 ⚫ ⚫ 🌑 🌑 🌑 🌑 🌑 🌑 🌑 ⚫ ⚫ ⚫ 🌑 🌑 🌑 🌑 🌑 🌑 🌑 🌑\n",
       "🌑 🌑 🌑 🌑 🌑 🌑 🌑 ⚫ 🟡 ⚫ ⚫ 🟣 🌑 🌑 🌑 🌑 🌑 🌑 🌑 ⚫ 🟣 ⚫ 🌑 🌑 🌑 🌑 🌑 🌑 🌑 🌑\n",
       "🟣 ⚫ ⚫ 🟡 ⚫ 🟤 ⚫ 🔵 ⚫ ⚫ 🟣 ⚫ 🌑 🌑 🌑 🌑 🌑 🌑 🌑 ⚫ ⚫ 🟣 🌑 🌑 🌑 🌑 🌑 🌑 🟡 ⚫\n",
       "⚫ ⚪ ⚫ ⚫ 🟤 ⚫ 🟡 ⚫ ⚫ ⚫ ⚫ ⚫ 🌑 🌑 🌑 🌑 🌑 🌑 🌑 ⚪ ⚫ ⚫ 🌑 🌑 🌑 🌑 🌑 🌑 ⚫ ⚫\n",
       "⚪ ⚫ ⚫ 🟤 ⚫ 🟤 ⚫ ⚫ ⚫ ⚫ ⚫ ⚫ 🌑 🌑 🌑 🌑 🌑 🌑 🌑 ⚫ ⚫ ⚫ ⚫ ⚫ ⚫ ⚫ 🟤 ⚫ 🟤 ⚫\n",
       "⚫ ⚫ ⚫ ⚫ 🟡 ⚫ 🔴 ⚫ ⚫ ⚫ ⚫ 🟤 🌑 🌑 🌑 🌑 🌑 🌑 🌑 ⚫ 🟤 ⚫ ⚫ ⚫ ⚫ 🔴 ⚫ 🟡 ⚫ ⚫\n",
       "⚫ 🟤 ⚫ 🔵 ⚫ ⚫ ⚫ ⚫ ⚫ ⚫ 🟤 ⚫ ⚪ ⚪ ⚫ ⚪ ⚪ ⚫ ⚪ ⚪ ⚫ 🟤 ⚫ ⚫ ⚫ ⚫ ⚫ ⚫ 🔵 ⚫\n",
       "⚫ 🟤 ⚫ 🔵 ⚫ ⚫ ⚫ ⚫ ⚫ ⚫ 🟤 ⚫ ⚪ ⚪ ⚫ ⚪ ⚪ ⚫ ⚪ ⚪ ⚫ 🟤 ⚫ ⚫ ⚫ ⚫ ⚫ ⚫ 🔵 ⚫\n",
       "⚫ ⚫ ⚫ ⚫ 🟡 ⚫ 🔴 ⚫ ⚫ ⚫ ⚫ 🟤 ⚫ ⚪ ⚪ ⚫ ⚫ ⚪ ⚪ ⚫ 🟤 ⚫ ⚫ ⚫ ⚫ 🔴 ⚫ 🟡 ⚫ ⚫\n",
       "⚪ ⚫ ⚫ 🟤 ⚫ 🟤 ⚫ ⚫ ⚫ ⚫ ⚫ ⚫ ⚫ ⚫ ⚪ ⚪ ⚪ ⚪ ⚫ ⚫ ⚫ ⚫ ⚫ ⚫ ⚫ ⚫ 🟤 ⚫ 🟤 ⚫\n",
       "⚫ ⚪ ⚫ ⚫ 🟤 ⚫ 🟡 ⚫ ⚫ ⚫ ⚫ ⚫ ⚪ ⚫ ⚫ ⚪ ⚪ ⚫ ⚫ ⚪ ⚫ ⚫ ⚫ ⚫ ⚫ 🟡 ⚫ 🟤 ⚫ ⚫\n",
       "🟣 ⚫ ⚫ 🟡 ⚫ 🟤 ⚫ 🔵 ⚫ ⚫ 🟣 ⚫ ⚫ ⚫ 🟤 ⚫ ⚫ 🟤 ⚫ ⚫ ⚫ 🟣 ⚫ ⚫ 🔵 ⚫ 🟤 ⚫ 🟡 ⚫\n",
       "🟣 🟣 🟡 ⚫ ⚫ ⚫ ⚫ ⚫ 🟡 ⚫ ⚫ 🟣 ⚫ ⚫ ⚫ 🟤 🟤 ⚫ ⚫ ⚫ 🟣 ⚫ ⚫ 🟡 ⚫ ⚫ ⚫ ⚫ ⚫ 🟡\n",
       "🟠 🟠 🟣 ⚫ ⚪ ⚫ ⚫ 🟤 ⚫ 🔴 ⚫ ⚫ ⚫ ⚫ ⚫ ⚫ ⚫ ⚫ ⚫ ⚫ ⚫ ⚫ 🔴 ⚫ 🟤 ⚫ ⚫ ⚪ ⚫ 🟣\n",
       "🟠 🟠 🟣 🟣 ⚫ ⚪ ⚫ ⚫ ⚫ ⚫ 🟡 ⚫ ⚫ ⚫ ⚫ ⚫ ⚫ ⚫ ⚫ ⚫ ⚫ 🟡 ⚫ ⚫ ⚫ ⚫ ⚪ ⚫ 🟣 🟣\n",
       "⚫ ⚫ 🟤 ⚫ ⚫ ⚫ ⚫ ⚫ ⚫ 🟤 ⚫ 🔵 ⚫ ⚫ ⚫ ⚫ ⚫ ⚫ ⚫ ⚫ 🔵 ⚫ 🟤 ⚫ ⚫ ⚫ ⚫ ⚫ ⚫ 🟤\n",
       "⚫ ⚫ ⚫ 🟤 ⚫ ⚫ 🟢 ⚫ ⚫ ⚫ ⚫ ⚫ 🟡 ⚫ 🔴 ⚫ ⚫ 🔴 ⚫ 🟡 ⚫ ⚫ ⚫ ⚫ ⚫ 🟢 ⚫ ⚫ 🟤 ⚫\n",
       "⚫ 🟣 ⚫ ⚫ ⚫ ⚫ ⚫ ⚫ ⚪ ⚫ ⚫ 🟤 ⚫ 🟤 ⚫ ⚫ ⚫ ⚫ 🟤 ⚫ 🟤 ⚫ ⚫ ⚪ ⚫ ⚫ ⚫ ⚫ ⚫ ⚫\n",
       "⚫ ⚫ ⚫ ⚫ ⚫ ⚫ ⚫ ⚫ ⚫ ⚪ ⚫ ⚫ 🟤 ⚫ 🟡 ⚫ ⚫ 🟡 ⚫ 🟤 ⚫ ⚫ ⚪ ⚫ ⚫ ⚫ ⚫ ⚫ ⚫ ⚫\n",
       "⚫ ⚫ 🟤 🟤 ⚫ ⚫ 🟤 ⚫ 🟣 ⚫ ⚫ 🟡 ⚫ 🟤 ⚫ 🔵 🔵 ⚫ 🟤 ⚫ 🟡 ⚫ ⚫ 🟣 ⚫ 🟤 ⚫ ⚫ 🟤 🟤\n",
       "⚫ ⚫ 🟤 🟤 ⚫ ⚫ ⚫ 🟤 🟣 🟣 🟡 ⚫ ⚫ ⚫ ⚫ ⚫ ⚫ ⚫ ⚫ ⚫ ⚫ 🟡 🟣 🟣 🟤 ⚫ ⚫ ⚫ 🟤 🟤\n",
       ", \n",
       "⚫ ⚫ ⚫ ⚫ ⚫ ⚫ ⚫ ⚫ 🟠 🟠 🟣 🟣 ⚫ ⚪ ⚫ ⚫ ⚫ ⚫ ⚪ ⚫ 🟣 🟣 🟠 🟠 ⚫ ⚫ ⚫ ⚫ ⚫ ⚫\n",
       "⚫ ⚫ ⚫ ⚫ ⚫ 🟣 ⚫ ⚫ 🟠 🟠 🟣 ⚫ ⚪ ⚫ ⚫ 🟤 🟤 ⚫ ⚫ ⚪ ⚫ 🟣 🟠 🟠 ⚫ ⚫ 🟣 ⚫ ⚫ ⚫\n",
       "⚫ ⚫ 🟤 🟤 ⚫ ⚫ ⚫ 🟤 🟣 🟣 🟡 ⚫ ⚫ ⚫ ⚫ ⚫ ⚫ ⚫ ⚫ ⚫ ⚫ 🟡 🟣 🟣 🟤 ⚫ ⚫ ⚫ 🟤 🟤\n",
       "⚫ ⚫ 🟤 🟤 ⚫ ⚫ 🟤 ⚫ 🟣 ⚫ ⚫ 🟡 ⚫ 🟤 ⚫ 🔵 🔵 ⚫ 🟤 ⚫ 🟡 ⚫ ⚫ 🟣 ⚫ 🟤 ⚫ ⚫ 🟤 🟤\n",
       "⚫ ⚫ ⚫ ⚫ ⚫ ⚫ ⚫ ⚫ ⚫ ⚪ ⚫ ⚫ 🟤 ⚫ 🟡 ⚫ ⚫ 🟡 ⚫ 🟤 ⚫ ⚫ ⚪ ⚫ ⚫ ⚫ ⚫ ⚫ ⚫ ⚫\n",
       "⚫ 🟣 ⚫ ⚫ ⚫ ⚫ ⚫ ⚫ ⚪ ⚫ ⚫ 🟤 ⚫ 🟤 ⚫ ⚫ ⚫ ⚫ 🟤 ⚫ 🟤 ⚫ ⚫ ⚪ ⚫ ⚫ ⚫ ⚫ ⚫ ⚫\n",
       "⚫ ⚫ ⚫ 🟤 ⚫ ⚫ 🟢 ⚫ ⚫ ⚫ ⚫ ⚫ 🟡 ⚫ 🔴 ⚫ ⚫ 🔴 ⚫ 🟡 ⚫ ⚫ ⚫ ⚫ ⚫ 🟢 ⚫ ⚫ 🟤 ⚫\n",
       "⚫ ⚫ 🟤 ⚫ ⚫ ⚫ ⚫ ⚫ ⚫ 🟤 ⚫ 🔵 ⚫ ⚫ ⚫ ⚫ ⚫ ⚫ ⚫ ⚫ 🔵 ⚫ 🟤 ⚫ ⚫ ⚫ ⚫ ⚫ ⚫ 🟤\n",
       "🟠 🟠 🟣 🟣 ⚫ ⚪ ⚫ ⚫ ⚫ ⚫ 🟡 ⚫ ⚫ ⚫ ⚫ ⚫ ⚫ ⚫ ⚫ ⚫ ⚫ 🟡 ⚫ ⚫ ⚫ ⚫ ⚪ ⚫ 🟣 🟣\n",
       "🟠 🟠 🟣 ⚫ ⚪ ⚫ ⚫ 🟤 ⚫ 🔴 ⚫ ⚫ ⚫ ⚫ ⚫ ⚫ ⚫ ⚫ ⚫ ⚫ ⚫ ⚫ 🔴 ⚫ 🟤 ⚫ ⚫ ⚪ ⚫ 🟣\n",
       "🟣 🟣 🟡 ⚫ ⚫ ⚫ ⚫ ⚫ 🟡 ⚫ ⚫ 🟣 ⚫ ⚫ ⚫ 🟤 🟤 ⚫ ⚫ ⚫ 🟣 ⚫ ⚫ 🟡 ⚫ ⚫ ⚫ ⚫ ⚫ 🟡\n",
       "🟣 ⚫ ⚫ 🟡 ⚫ 🟤 ⚫ 🔵 ⚫ ⚫ 🟣 ⚫ ⚫ ⚫ 🟤 ⚫ ⚫ 🟤 ⚫ ⚫ ⚫ 🟣 ⚫ ⚫ 🔵 ⚫ 🟤 ⚫ 🟡 ⚫\n",
       "⚫ ⚪ ⚫ ⚫ 🟤 ⚫ 🟡 ⚫ ⚫ ⚫ ⚫ ⚫ ⚪ ⚫ ⚫ ⚪ ⚪ ⚫ ⚫ ⚪ ⚫ ⚫ ⚫ ⚫ ⚫ 🟡 ⚫ 🟤 ⚫ ⚫\n",
       "⚪ ⚫ ⚫ 🟤 ⚫ 🟤 ⚫ ⚫ ⚫ ⚫ ⚫ ⚫ ⚫ ⚫ ⚪ ⚪ ⚪ ⚪ ⚫ ⚫ ⚫ ⚫ ⚫ ⚫ ⚫ ⚫ 🟤 ⚫ 🟤 ⚫\n",
       "⚫ ⚫ ⚫ ⚫ 🟡 ⚫ 🔴 ⚫ ⚫ ⚫ ⚫ 🟤 ⚫ ⚪ ⚪ ⚫ ⚫ ⚪ ⚪ ⚫ 🟤 ⚫ ⚫ ⚫ ⚫ 🔴 ⚫ 🟡 ⚫ ⚫\n",
       "⚫ 🟤 ⚫ 🔵 ⚫ ⚫ ⚫ ⚫ ⚫ ⚫ 🟤 ⚫ ⚪ ⚪ ⚫ ⚪ ⚪ ⚫ ⚪ ⚪ ⚫ 🟤 ⚫ ⚫ ⚫ ⚫ ⚫ ⚫ 🔵 ⚫\n",
       "⚫ 🟤 ⚫ 🔵 ⚫ ⚫ ⚫ ⚫ ⚫ ⚫ 🟤 ⚫ ⚪ ⚪ ⚫ ⚪ ⚪ ⚫ ⚪ ⚪ ⚫ 🟤 ⚫ ⚫ ⚫ ⚫ ⚫ ⚫ 🔵 ⚫\n",
       "⚫ ⚫ ⚫ ⚫ 🟡 ⚫ 🔴 ⚫ ⚫ ⚫ ⚫ 🟤 ⚫ ⚪ ⚪ ⚫ ⚫ ⚪ ⚪ ⚫ 🟤 ⚫ ⚫ ⚫ ⚫ 🔴 ⚫ 🟡 ⚫ ⚫\n",
       "⚪ ⚫ ⚫ 🟤 ⚫ 🟤 ⚫ ⚫ ⚫ ⚫ ⚫ ⚫ ⚫ ⚫ ⚪ ⚪ ⚪ ⚪ ⚫ ⚫ ⚫ ⚫ ⚫ ⚫ ⚫ ⚫ 🟤 ⚫ 🟤 ⚫\n",
       "⚫ ⚪ ⚫ ⚫ 🟤 ⚫ 🟡 ⚫ ⚫ ⚫ ⚫ ⚫ ⚪ ⚫ ⚫ ⚪ ⚪ ⚫ ⚫ ⚪ ⚫ ⚫ ⚫ ⚫ ⚫ 🟡 ⚫ 🟤 ⚫ ⚫\n",
       "🟣 ⚫ ⚫ 🟡 ⚫ 🟤 ⚫ 🔵 ⚫ ⚫ 🟣 ⚫ ⚫ ⚫ 🟤 ⚫ ⚫ 🟤 ⚫ ⚫ ⚫ 🟣 ⚫ ⚫ 🔵 ⚫ 🟤 ⚫ 🟡 ⚫\n",
       "🟣 🟣 🟡 ⚫ ⚫ ⚫ ⚫ ⚫ 🟡 ⚫ ⚫ 🟣 ⚫ ⚫ ⚫ 🟤 🟤 ⚫ ⚫ ⚫ 🟣 ⚫ ⚫ 🟡 ⚫ ⚫ ⚫ ⚫ ⚫ 🟡\n",
       "🟠 🟠 🟣 ⚫ ⚪ ⚫ ⚫ 🟤 ⚫ 🔴 ⚫ ⚫ ⚫ ⚫ ⚫ ⚫ ⚫ ⚫ ⚫ ⚫ ⚫ ⚫ 🔴 ⚫ 🟤 ⚫ ⚫ ⚪ ⚫ 🟣\n",
       "🟠 🟠 🟣 🟣 ⚫ ⚪ ⚫ ⚫ ⚫ ⚫ 🟡 ⚫ ⚫ ⚫ ⚫ ⚫ ⚫ ⚫ ⚫ ⚫ ⚫ 🟡 ⚫ ⚫ ⚫ ⚫ ⚪ ⚫ 🟣 🟣\n",
       "⚫ ⚫ 🟤 ⚫ ⚫ ⚫ ⚫ ⚫ ⚫ 🟤 ⚫ 🔵 ⚫ ⚫ ⚫ ⚫ ⚫ ⚫ ⚫ ⚫ 🔵 ⚫ 🟤 ⚫ ⚫ ⚫ ⚫ ⚫ ⚫ 🟤\n",
       "⚫ ⚫ ⚫ 🟤 ⚫ ⚫ 🟢 ⚫ ⚫ ⚫ ⚫ ⚫ 🟡 ⚫ 🔴 ⚫ ⚫ 🔴 ⚫ 🟡 ⚫ ⚫ ⚫ ⚫ ⚫ 🟢 ⚫ ⚫ 🟤 ⚫\n",
       "⚫ 🟣 ⚫ ⚫ ⚫ ⚫ ⚫ ⚫ ⚪ ⚫ ⚫ 🟤 ⚫ 🟤 ⚫ ⚫ ⚫ ⚫ 🟤 ⚫ 🟤 ⚫ ⚫ ⚪ ⚫ ⚫ ⚫ ⚫ ⚫ ⚫\n",
       "⚫ ⚫ ⚫ ⚫ ⚫ ⚫ ⚫ ⚫ ⚫ ⚪ ⚫ ⚫ 🟤 ⚫ 🟡 ⚫ ⚫ 🟡 ⚫ 🟤 ⚫ ⚫ ⚪ ⚫ ⚫ ⚫ ⚫ ⚫ ⚫ ⚫\n",
       "⚫ ⚫ 🟤 🟤 ⚫ ⚫ 🟤 ⚫ 🟣 ⚫ ⚫ 🟡 ⚫ 🟤 ⚫ 🔵 🔵 ⚫ 🟤 ⚫ 🟡 ⚫ ⚫ 🟣 ⚫ 🟤 ⚫ ⚫ 🟤 🟤\n",
       "⚫ ⚫ 🟤 🟤 ⚫ ⚫ ⚫ 🟤 🟣 🟣 🟡 ⚫ ⚫ ⚫ ⚫ ⚫ ⚫ ⚫ ⚫ ⚫ ⚫ 🟡 🟣 🟣 🟤 ⚫ ⚫ ⚫ 🟤 🟤\n",
       "]"
      ]
     },
     "execution_count": 1,
     "metadata": {},
     "output_type": "execute_result"
    }
   ],
   "source": [
    "from ARC import ARC\n",
    "\n",
    "train, test = ARC.load(73)\n",
    "\n",
    "train[0]"
   ]
  },
  {
   "cell_type": "code",
   "execution_count": 2,
   "metadata": {},
   "outputs": [
    {
     "name": "stdout",
     "output_type": "stream",
     "text": [
      "X: 30x30  🔳366px ⛓145 🔗19,  🌑123px ⛓3  🔗3 ,  ⚫534px ⛓38 🔗2 ,  🟠 12px ⛓3  🔗3 ,  🟣 40px ⛓22 🔗15,  ⚪ 44px ⛓24 🔗14,  🟤 82px ⛓65 🔗31,  🟡 36px ⛓36 🔗30,  🔵 15px ⛓11 🔗11,  🟢  3px ⛓3  🔗3 ,  🔴 11px ⛓11 🔗11\n",
      "Y: 30x30  🔳288px ⛓176 🔗24,                  ,  ⚫612px ⛓37 🔗2 ,  🟠 16px ⛓4  🔗4 ,  🟣 48px ⛓24 🔗16,  ⚪ 60px ⛓30 🔗17,  🟤 92px ⛓74 🔗34,  🟡 40px ⛓40 🔗32,  🔵 16px ⛓12 🔗12,  🟢  4px ⛓4  🔗4 ,  🔴 12px ⛓12 🔗12\n",
      "🌑 removed, ⚫ 🟠 🟣 ⚪ 🟤 🟡 🔵 🟢 🔴 extended, 🔳 reduced\n",
      "\n",
      "X: 30x30  🔳443px ⛓79 🔗7 ,  🌑 56px ⛓5  🔗5 ,  🟢 57px ⛓38 🔗24,  ⚫457px ⛓85 🔗6 ,  🔴 56px ⛓53 🔗50,  ⚪ 82px ⛓35 🔗22,  🟤 57px ⛓31 🔗10,  🟡 26px ⛓14 🔗14,  🟠 60px ⛓12 🔗12,  🔵 22px ⛓8  🔗8 ,  🟣 27px ⛓19 🔗12\n",
      "Y: 30x30  🔳421px ⛓90 🔗7 ,                  ,  🟢 65px ⛓41 🔗25,  ⚫479px ⛓87 🔗5 ,  🔴 60px ⛓57 🔗53,  ⚪ 88px ⛓36 🔗20,  🟤 60px ⛓32 🔗8 ,  🟡 32px ⛓16 🔗16,  🟠 64px ⛓12 🔗12,  🔵 24px ⛓8  🔗8 ,  🟣 28px ⛓20 🔗12\n",
      "🌑 removed, 🟢 ⚫ 🔴 ⚪ 🟤 🟡 🟠 🔵 🟣 extended, 🔳 reduced\n",
      "\n",
      "X: 30x30  🔳477px ⛓80 🔗2 ,  🌑 49px ⛓2  🔗2 ,  🟣 58px ⛓42 🔗17,  ⚪ 36px ⛓28 🔗12,  🟠 28px ⛓16 🔗1 ,  ⚫423px ⛓89 🔗10,  🔴 82px ⛓22 🔗8 ,  🟡101px ⛓27 🔗17,  🟢 34px ⛓32 🔗28,  🔵 27px ⛓16 🔗12,  🟤 62px ⛓24 🔗9 \n",
      "Y: 30x30  🔳458px ⛓84 🔗2 ,                  ,  🟣 58px ⛓42 🔗17,  ⚪ 36px ⛓28 🔗12,  🟠 28px ⛓16 🔗1 ,  ⚫442px ⛓95 🔗8 ,  🔴 92px ⛓24 🔗8 ,  🟡116px ⛓28 🔗16,  🟢 36px ⛓34 🔗30,  🔵 28px ⛓17 🔗13,  🟤 64px ⛓24 🔗8 \n",
      "🌑 removed, 🟣 ⚪ 🟠 fixed, ⚫ 🔴 🟡 🟢 🔵 🟤 extended, 🔳 reduced\n",
      "\n",
      "X: 30x30  🔳550px ⛓43 🔗4 ,  🌑 76px ⛓4  🔗4 ,  🟣  8px ⛓8  🔗4 ,  ⚫350px ⛓110 🔗15,  ⚪ 52px ⛓31 🔗22,  🟤 73px ⛓28 🔗24,  🟠 63px ⛓32 🔗28,  🟢 60px ⛓20 🔗11,  🔵133px ⛓64 🔗5 ,  🟡 62px ⛓19 🔗19,  🔴 23px ⛓8  🔗8 \n",
      "Y: 30x30  🔳517px ⛓48 🔗5 ,                  ,  🟣  8px ⛓8  🔗4 ,  ⚫383px ⛓118 🔗12,  ⚪ 56px ⛓32 🔗23,  🟤 81px ⛓29 🔗25,  🟠 68px ⛓33 🔗29,  🟢 68px ⛓20 🔗8 ,  🔵144px ⛓70 🔗3 ,  🟡 68px ⛓20 🔗20,  🔴 24px ⛓8  🔗8 \n",
      "🌑 removed, 🟣 fixed, ⚫ ⚪ 🟤 🟠 🟢 🔵 🟡 🔴 extended, 🔳 reduced\n",
      "\n"
     ]
    }
   ],
   "source": [
    "train.overview()\n"
   ]
  },
  {
   "cell_type": "code",
   "execution_count": 3,
   "metadata": {},
   "outputs": [
    {
     "data": {
      "text/plain": [
       "(15.5 15.5, ⤴ 🔄 ⤵ ↔ ↕ ↘ ↗)"
      ]
     },
     "execution_count": 3,
     "metadata": {},
     "output_type": "execute_result"
    },
    {
     "data": {
      "text/plain": [
       "(15.5 15.5, ⤴ 🔄 ⤵ ↔ ↕ ↘ ↗)"
      ]
     },
     "execution_count": 3,
     "metadata": {},
     "output_type": "execute_result"
    }
   ],
   "source": [
    "# 👁: All grids are 30x30.\n",
    "# 👁: In each pair, 🌑 is removed, and the other colours are either fixed or extended\n",
    "\n",
    "# 🔮: This looks like a 'gap-fill' completion puzzle.\n",
    "# 👑: We should be inspecting Y for a logic that will allow us to recover the 🌑-gaps.\n",
    "\n",
    "# ⚫: accounts for ~50% of pixels\n",
    "# 🔮: presumably background\n",
    "\n",
    "# 👁🛸🔎:\n",
    "#   Two regions are particularly small: Y[0]🟢 is 4px and Y[3]🟣 is 8px\n",
    "\n",
    "# ⚡: Let's inspect these\n",
    "\n",
    "def dump(index, glyph):\n",
    "    Y = train.Y[index]\n",
    "    R = Y[glyph].crop.frame\n",
    "    return R.center, Y[R] > '⏺'\n",
    "\n",
    "    if 0:  # ???\n",
    "        Y = train.Y[index]\n",
    "        Y['🟢.✂']('frame.center, src.⏺')\n",
    "        Y['🟢.✂.{🖼.center, src.⏺}']\n",
    "\n",
    "dump(0, '🟢')\n",
    "dump(3, '🟣')\n",
    "\n",
    "\n"
   ]
  },
  {
   "cell_type": "code",
   "execution_count": 4,
   "metadata": {},
   "outputs": [
    {
     "data": {
      "text/plain": [
       " 2  2 to 29 29"
      ]
     },
     "execution_count": 4,
     "metadata": {},
     "output_type": "execute_result"
    },
    {
     "data": {
      "text/plain": [
       "⤴ 🔄 ⤵ ↔ ↕ ↘ ↗"
      ]
     },
     "execution_count": 4,
     "metadata": {},
     "output_type": "execute_result"
    },
    {
     "data": {
      "text/plain": [
       "⤴ 🔄 ⤵ ↔ ↕ ↘ ↗"
      ]
     },
     "execution_count": 4,
     "metadata": {},
     "output_type": "execute_result"
    },
    {
     "data": {
      "text/plain": [
       "⤴ 🔄 ⤵ ↔ ↕ ↘ ↗"
      ]
     },
     "execution_count": 4,
     "metadata": {},
     "output_type": "execute_result"
    },
    {
     "data": {
      "text/plain": [
       "⤴ 🔄 ⤵ ↔ ↕ ↘ ↗"
      ]
     },
     "execution_count": 4,
     "metadata": {},
     "output_type": "execute_result"
    }
   ],
   "source": [
    "# 🧪 Y is S4-symmetric around 15.5 15.5\n",
    "\n",
    "from Rect import Rect\n",
    "\n",
    "# TODO: radius=100 should raise out-of-bounds.\n",
    "R = Rect(center=(15.5, 15.5), radius=29 - 15.5).int\n",
    "R\n",
    "for Y in train.Y:\n",
    "    Y[R] > '⏺'"
   ]
  },
  {
   "cell_type": "code",
   "execution_count": 5,
   "metadata": {},
   "outputs": [
    {
     "data": {
      "text/plain": [
       "[True, True, True, True, True]"
      ]
     },
     "execution_count": 5,
     "metadata": {},
     "output_type": "execute_result"
    }
   ],
   "source": [
    "# 💥 Boom, we cracked it!  It's an off-center kaleidoscope\n",
    "\n",
    "def solve(X):\n",
    "    Y = X.pad(br=(2, 2), padding='🌑')\n",
    "    U = Y.canvas\n",
    "    for S in U['💠']:\n",
    "        mask = U['🌑'] & S['~🌑']\n",
    "        U[mask] = S[mask]\n",
    "    return Y\n",
    "\n",
    "[Y @ solve(X)  for (X, Y) in train | test]"
   ]
  }
 ],
 "metadata": {
  "kernelspec": {
   "display_name": ".venv",
   "language": "python",
   "name": "python3"
  },
  "language_info": {
   "codemirror_mode": {
    "name": "ipython",
    "version": 3
   },
   "file_extension": ".py",
   "mimetype": "text/x-python",
   "name": "python",
   "nbconvert_exporter": "python",
   "pygments_lexer": "ipython3",
   "version": "3.12.3"
  }
 },
 "nbformat": 4,
 "nbformat_minor": 2
}
