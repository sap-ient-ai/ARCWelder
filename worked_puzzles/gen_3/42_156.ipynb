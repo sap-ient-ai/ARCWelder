{
 "cells": [
  {
   "cell_type": "code",
   "execution_count": 1,
   "metadata": {},
   "outputs": [
    {
     "name": "stdout",
     "output_type": "stream",
     "text": [
      "`setup_ipynb.py` executed, (multi-output enabled for subsequent cell executions).\n"
     ]
    },
    {
     "data": {
      "text/plain": [
       "[\n",
       "🔵 🔵 🔵 🔵 🔵 🔵 🔵 🔵 🔵 🔵 🔵 🔵 🔵 🔵 🔵\n",
       "🔵 ⚫ 🔵 🔵 🔵 🔵 🔵 🔵 🔵 🔵 🔵 🔵 🔵 🔵 ⚫\n",
       "🔵 ⚫ ⚫ 🔵 🔵 🔵 ⚫ ⚫ ⚫ 🔵 🔵 🔵 🔵 🔵 ⚫\n",
       "⚫ ⚫ ⚫ ⚫ ⚫ ⚫ ⚫ ⚫ ⚫ ⚫ ⚫ ⚫ ⚫ ⚫ ⚫\n",
       "⚫ ⚫ ⚫ ⚫ ⚫ ⚫ ⚫ ⚫ ⚫ ⚫ ⚫ ⚫ ⚫ ⚫ ⚫\n",
       "⚫ ⚫ ⚫ ⚫ ⚫ ⚫ ⚫ ⚫ ⚫ ⚫ ⚫ ⚫ ⚫ ⚫ ⚫\n",
       "⚫ ⚫ ⚫ ⚫ ⚫ ⚫ ⚫ ⚫ ⚫ ⚫ ⚫ ⚫ ⚫ 🟣 ⚫\n",
       "⚫ ⚫ ⚫ ⚫ ⚫ ⚫ 🟣 ⚫ ⚫ ⚫ ⚫ ⚫ ⚫ 🟣 ⚫\n",
       "⚫ 🟣 🟣 🟣 ⚫ ⚫ 🟣 🟣 ⚫ ⚫ ⚫ ⚫ ⚫ 🟣 ⚫\n",
       "⚫ 🟣 🟣 🟣 ⚫ ⚫ 🟣 🟣 🟣 ⚫ ⚫ ⚫ ⚫ 🟣 ⚫\n",
       ", \n",
       "🔵 🔵 🔵 🔵 🔵 🔵 🔵 🔵 🔵 🔵 🔵 🔵 🔵 🔵 🔵\n",
       "🔵 ⚪ 🔵 🔵 🔵 🔵 🔵 🔵 🔵 🔵 🔵 🔵 🔵 🔵 ⚪\n",
       "🔵 ⚪ ⚪ 🔵 🔵 🔵 ⚪ ⚪ ⚪ 🔵 🔵 🔵 🔵 🔵 ⚪\n",
       "⚫ ⚪ ⚪ ⚪ ⚫ ⚫ ⚪ ⚪ ⚪ ⚫ ⚫ ⚫ ⚫ ⚫ ⚪\n",
       "⚫ ⚫ ⚫ ⚫ ⚫ ⚫ ⚫ ⚫ ⚫ ⚫ ⚫ ⚫ ⚫ ⚫ ⚪\n",
       "⚫ ⚫ ⚫ ⚫ ⚫ ⚫ ⚫ ⚫ ⚫ ⚫ ⚫ ⚫ ⚫ ⚫ ⚫\n",
       "⚫ ⚫ ⚫ ⚫ ⚫ ⚫ ⚫ ⚫ ⚫ ⚫ ⚫ ⚫ ⚫ ⚫ ⚫\n",
       "⚫ ⚫ ⚫ ⚫ ⚫ ⚫ ⚫ ⚫ ⚫ ⚫ ⚫ ⚫ ⚫ ⚫ ⚫\n",
       "⚫ ⚫ ⚫ ⚫ ⚫ ⚫ ⚫ ⚫ ⚫ ⚫ ⚫ ⚫ ⚫ ⚫ ⚫\n",
       "⚫ ⚫ ⚫ ⚫ ⚫ ⚫ ⚫ ⚫ ⚫ ⚫ ⚫ ⚫ ⚫ ⚫ ⚫\n",
       "]"
      ]
     },
     "execution_count": 1,
     "metadata": {},
     "output_type": "execute_result"
    }
   ],
   "source": [
    "from ARC import ARC\n",
    "\n",
    "train, test = ARC.load(156)\n",
    "\n",
    "train[0]"
   ]
  },
  {
   "cell_type": "code",
   "execution_count": 2,
   "metadata": {},
   "outputs": [
    {
     "name": "stdout",
     "output_type": "stream",
     "text": [
      "X: 10x15  🔳 53px ⛓4  🔗4 ,  🟣 16px ⛓3  🔗3 ,  🔵 37px ⛓1  🔗1 ,                  ,  ⚫ 97px ⛓1  🔗1 \n",
      "Y: 10x15  🔳 53px ⛓1  🔗1 ,                  ,  🔵 37px ⛓1  🔗1 ,  ⚪ 16px ⛓3  🔗3 ,  ⚫ 97px ⛓1  🔗1 \n",
      "🟣 removed, 🔵 fixed, ⚪ created, 🔳 ⚫ changed\n",
      "\n",
      "X: 10x15  🔳 55px ⛓5  🔗5 ,  🟣 22px ⛓4  🔗4 ,  🔵 33px ⛓1  🔗1 ,                  ,  ⚫ 95px ⛓2  🔗2 \n",
      "Y: 10x15  🔳 55px ⛓1  🔗1 ,                  ,  🔵 33px ⛓1  🔗1 ,  ⚪ 22px ⛓4  🔗3 ,  ⚫ 95px ⛓1  🔗1 \n",
      "🟣 removed, 🔵 fixed, ⚪ created, 🔳 ⚫ changed\n",
      "\n"
     ]
    }
   ],
   "source": [
    "train.overview()"
   ]
  },
  {
   "cell_type": "code",
   "execution_count": 3,
   "metadata": {},
   "outputs": [
    {
     "name": "stdout",
     "output_type": "stream",
     "text": [
      "🔵  3x15  37px  0  0 to  2 14  👆 👈 👉\n",
      "🟣  4x1    4px  6 13 to  9 13  👇\n",
      "🟣  3x3    6px  7  6 to  9  8  👇\n",
      "🟣  2x3    6px  8  1 to  9  3  👇\n",
      "⚪  3x3    6px  1  1 to  3  3  🔲\n",
      "⚪  4x1    4px  1 14 to  4 14  👉\n",
      "⚪  2x3    6px  2  6 to  3  8  🔲\n",
      "\n",
      "🔵  3x15  33px  0  0 to  2 14  👆 👈 👉\n",
      "🟣  4x4   10px  6  0 to  9  3  👇 👈\n",
      "🟣  3x1    3px  7 10 to  9 10  👇\n",
      "🟣  2x3    4px  8  6 to  9  8  👇\n",
      "🟣  2x3    5px  8 12 to  9 14  👇 👉\n",
      "⚪  3x1    3px  1  4 to  3  4  🔲\n",
      "⚪  2x3    4px  1  7 to  2  9  🔲\n",
      "⚪  4x4   10px  1 10 to  4 13  🔲\n",
      "⚪  2x3    5px  2  0 to  3  2  👈\n",
      "\n"
     ]
    }
   ],
   "source": [
    "# 👁: X.🟣 has the same npix.and # ⛓-regions as Y.⚪\n",
    "# 🔮: Maybe 🟣⛓-regions are being recoloured ⚪ and moved/transformed\n",
    "\n",
    "# 🛸: pair[1]: 🟣🔗4 -> ⚪🔗3\n",
    "# 🔮: Maybe two of these transformed 🟣 -> ⚪ ⛓ regions are diagonally touching in Y.\n",
    "\n",
    "# 👁: 🔵 is fixed, and a single region\n",
    "\n",
    "# 👁: In X (⛓ and 🔗), k 🟣 regions plus 1 🔵 region form k + 1 🔳 regions, therefore 🟣 and 🔵 are initially NOT touching. However, Y contains the k ⚪ ⛓ regions but only 1 🔳 region, therefore in Y, the ⚪ regions are touching the 🔵 region.\n",
    "\n",
    "# ⚡: Inspect regions\n",
    "\n",
    "f = lambda r: f'{r.glyph_hxw_npix} {r.frame}  {r.touchings}'\n",
    "g = lambda U, glyph: '\\n'.join(\n",
    "    f @ U[f'{glyph}.⛓']\n",
    ")\n",
    "for X, Y in train:\n",
    "    print(g(X, '🔵'))\n",
    "    print(g(X, '🟣'))\n",
    "    print(g(Y, '⚪'))\n",
    "    print()\n",
    "\n",
    "    if 0:  # ???\n",
    "        X['🔵….⛓.🔨']('glyph hxw npix frame touchings')\n"
   ]
  },
  {
   "cell_type": "code",
   "execution_count": 4,
   "metadata": {},
   "outputs": [
    {
     "data": {
      "text/plain": [
       "\n",
       "🔵 🔵 🔵 🔵 🔵 🔵 🔵 🔵 🔵 🔵 🔵 🔵 🔵 🔵 🔵\n",
       "🔵 ⚪ 🔵 🔵 🔵 🔵 🔵 🔵 🔵 🔵 🔵 🔵 🔵 🔵 ⚪\n",
       "🔵 ⚪ ⚪ 🔵 🔵 🔵 ⚪ ⚪ ⚪ 🔵 🔵 🔵 🔵 🔵 ⚪"
      ]
     },
     "execution_count": 4,
     "metadata": {},
     "output_type": "execute_result"
    },
    {
     "name": "stdout",
     "output_type": "stream",
     "text": [
      "~🔵  2x2    3px  1  1 to  2  2  👇\n",
      "~🔵  2x1    2px  1 14 to  2 14  👇 👉\n",
      "~🔵  1x3    3px  2  6 to  2  8  👇\n"
     ]
    },
    {
     "data": {
      "text/plain": [
       "(3, 3, 3)"
      ]
     },
     "execution_count": 4,
     "metadata": {},
     "output_type": "execute_result"
    },
    {
     "data": {
      "text/plain": [
       "\n",
       "🔵 🔵 🔵 🔵 🔵 🔵 🔵 🔵 🔵 🔵 🔵 🔵 🔵 🔵 🔵\n",
       "🔵 🔵 🔵 🔵 ⚪ 🔵 🔵 🔵 ⚪ 🔵 🔵 ⚪ ⚪ 🔵 🔵\n",
       "🔵 ⚪ ⚪ 🔵 ⚪ 🔵 🔵 ⚪ ⚪ ⚪ 🔵 ⚪ ⚪ 🔵 🔵"
      ]
     },
     "execution_count": 4,
     "metadata": {},
     "output_type": "execute_result"
    },
    {
     "name": "stdout",
     "output_type": "stream",
     "text": [
      "~🔵  2x1    2px  1  4 to  2  4  👇\n",
      "~🔵  2x3    4px  1  7 to  2  9  👇\n",
      "~🔵  2x2    4px  1 11 to  2 12  👇\n",
      "~🔵  1x2    2px  2  1 to  2  2  👇\n"
     ]
    },
    {
     "data": {
      "text/plain": [
       "(4, 4, 4)"
      ]
     },
     "execution_count": 4,
     "metadata": {},
     "output_type": "execute_result"
    }
   ],
   "source": [
    "# 👁: 🔵 (fixed) in TOP 3 rows of grid\n",
    "\n",
    "# 👁: For each X🟣 there is an {h}x{w}.{N}px-identical Y⚪\n",
    "\n",
    "# ❓: Are they identical?\n",
    "\n",
    "# 👁: 🟣 (in X) sit on BOTTOM edge of grid (🔽), and we know that ⚪ end up touching 🔵\n",
    "\n",
    "# ❓: 🔵 occupies most of the top 3 rows. What about the non-🔵 pixels?\n",
    "\n",
    "# ⚡:\n",
    "#   - Inspect the top 3 rows of Y\n",
    "#   - Check if 🟣 and ⚪ 'pieces' are identical\n",
    "\n",
    "for X, Y in train:\n",
    "    top3 = Y[:3]\n",
    "    top3\n",
    "    print('\\n'.join(\n",
    "        f @ top3['~🔵.⛓']\n",
    "    ))\n",
    "\n",
    "    X_pieces, Y_pieces = X['🟣.⛓'], Y['⚪.⛓']\n",
    "\n",
    "    len(X_pieces),  \\\n",
    "    len(X_pieces.unique),  \\\n",
    "    len((X_pieces | Y_pieces).unique)"
   ]
  },
  {
   "cell_type": "code",
   "execution_count": 5,
   "metadata": {},
   "outputs": [
    {
     "data": {
      "text/plain": [
       "[True, True, True]"
      ]
     },
     "execution_count": 5,
     "metadata": {},
     "output_type": "execute_result"
    }
   ],
   "source": [
    "# 👁: 🟣-pieces are same as ⚪-pieces\n",
    "\n",
    "# 👁: No ⚫ pixels in first 3 rows. i.e. All non-🔵 are ⚪.\n",
    "\n",
    "# 👁: The number of ⚪-regions is equal to the number of ⚪-pieces.\n",
    "\n",
    "# 🔮: It seems we have to recolour the 🟣-pieces to ⚪ and translate them so as to fill the ⚫ 'holes' in the X[:3] 🔵-region.\n",
    "\n",
    "# 🕵 🧲: Each ⚪-piece's top-left corner is in the second or third row of Y, and the number of ⚪-pieces equals the number of ⚪-regions in Y[:3]. Therefore each Y[:3][⚪] region must represent the top of a ⚪ piece.\n",
    "\n",
    "# 👑 For each Y[:3][⚪] region, figure out which piece it is the top of\n",
    "\n",
    "from Rect import Rect\n",
    "\n",
    "def solve(X):\n",
    "    pieces = X['🟣.⛓']\n",
    "\n",
    "    dinks = X[:3]['⚫.⛓']\n",
    "\n",
    "    def all_fit(dinks):\n",
    "        return all( d @ p[:d.h].crop\n",
    "            for p, d in zip(pieces, dinks)\n",
    "        )\n",
    "\n",
    "    def apply(dinks):\n",
    "        Y = X['🖨.🟣->⚫']\n",
    "        for p, d in zip(pieces, dinks):\n",
    "            top = p[:d.h].crop\n",
    "            R = Rect(tl=d.frame.tl - top.frame.tl, hw=p.hw)\n",
    "            Y[R] |= p * '⚪'\n",
    "        return Y\n",
    "\n",
    "    winners = dinks.permutations | all_fit\n",
    "    assert len(winners) == 1\n",
    "\n",
    "    return apply(winners[0])\n",
    "\n",
    "[Y @ solve(X)  for (X, Y) in train | test]"
   ]
  }
 ],
 "metadata": {
  "kernelspec": {
   "display_name": ".venv",
   "language": "python",
   "name": "python3"
  },
  "language_info": {
   "codemirror_mode": {
    "name": "ipython",
    "version": 3
   },
   "file_extension": ".py",
   "mimetype": "text/x-python",
   "name": "python",
   "nbconvert_exporter": "python",
   "pygments_lexer": "ipython3",
   "version": "3.12.3"
  }
 },
 "nbformat": 4,
 "nbformat_minor": 2
}
