{
 "cells": [
  {
   "cell_type": "code",
   "execution_count": 1,
   "metadata": {},
   "outputs": [
    {
     "name": "stdout",
     "output_type": "stream",
     "text": [
      "`setup_ipynb.py` executed, (multi-output enabled for subsequent cell executions).\n"
     ]
    },
    {
     "data": {
      "text/plain": [
       "[\n",
       "🟤 ⚫ ⚫ ⚫ ⚫ ⚫ ⚫ ⚫ ⚫ ⚫\n",
       "⚫ 🟤 ⚫ ⚫ ⚫ ⚫ ⚫ ⚫ ⚫ ⚫\n",
       "⚫ ⚫ 🟤 ⚫ ⚫ ⚫ ⚫ ⚫ ⚫ ⚫\n",
       "⚫ ⚫ ⚫ 🟤 🟣 🟣 ⚫ ⚫ ⚫ ⚫\n",
       "⚫ ⚫ ⚫ ⚫ 🟤 🟣 ⚫ ⚫ ⚫ ⚫\n",
       "⚫ ⚫ ⚫ ⚫ ⚫ 🟤 ⚫ ⚫ ⚫ ⚫\n",
       "⚫ ⚫ ⚫ ⚫ ⚫ ⚫ 🟤 ⚫ ⚫ ⚫\n",
       "⚫ ⚫ ⚫ ⚫ ⚫ ⚫ ⚫ 🟤 ⚫ ⚫\n",
       "⚫ ⚫ ⚫ ⚫ ⚫ ⚫ ⚫ ⚫ 🟤 ⚫\n",
       "⚫ ⚫ ⚫ ⚫ ⚫ ⚫ ⚫ ⚫ ⚫ 🟤\n",
       ", \n",
       "🟤 ⚫ ⚫ ⚫ 🟤 ⚫ ⚫ ⚫ ⚫ ⚫\n",
       "⚫ 🟤 ⚫ ⚫ ⚫ 🟤 ⚫ ⚫ ⚫ ⚫\n",
       "⚫ ⚫ 🟤 ⚫ ⚫ ⚫ 🟤 ⚫ ⚫ ⚫\n",
       "⚫ ⚫ ⚫ 🟤 ⚫ ⚫ ⚫ 🟤 ⚫ ⚫\n",
       "⚫ ⚫ ⚫ ⚫ 🟤 ⚫ ⚫ ⚫ 🟤 ⚫\n",
       "⚫ ⚫ ⚫ ⚫ ⚫ 🟤 ⚫ ⚫ ⚫ 🟤\n",
       "⚫ ⚫ ⚫ ⚫ ⚫ ⚫ 🟤 ⚫ ⚫ ⚫\n",
       "⚫ ⚫ ⚫ ⚫ ⚫ ⚫ ⚫ 🟤 ⚫ ⚫\n",
       "⚫ ⚫ ⚫ ⚫ ⚫ ⚫ ⚫ ⚫ 🟤 ⚫\n",
       "⚫ ⚫ ⚫ ⚫ ⚫ ⚫ ⚫ ⚫ ⚫ 🟤\n",
       "]"
      ]
     },
     "execution_count": 1,
     "metadata": {},
     "output_type": "execute_result"
    }
   ],
   "source": [
    "from ARC import ARC\n",
    "\n",
    "train, test = ARC.load(259)\n",
    "\n",
    "train[0]"
   ]
  },
  {
   "cell_type": "code",
   "execution_count": 2,
   "metadata": {},
   "outputs": [
    {
     "name": "stdout",
     "output_type": "stream",
     "text": [
      "X: 10x10  🔳 13px ⛓8  🔗1 ,  🟣  3px ⛓1  🔗1 ,  🟤 10px ⛓10 🔗1 ,  ⚫ 87px ⛓2  🔗1 \n",
      "Y: 10x10  🔳 16px ⛓16 🔗2 ,                  ,  🟤 16px ⛓16 🔗2 ,  ⚫ 84px ⛓3  🔗1 \n",
      "🟣 removed, 🟤 extended, 🔳 ⚫ changed\n",
      "\n",
      "X: 10x10  🔳 15px ⛓1  🔗1 ,  🟣 10px ⛓1  🔗1 ,  🌑  5px ⛓5  🔗1 ,  ⚫ 85px ⛓2  🔗2 \n",
      "Y: 10x10  🔳 14px ⛓14 🔗2 ,                  ,  🌑 14px ⛓14 🔗2 ,  ⚫ 86px ⛓3  🔗1 \n",
      "🟣 removed, 🌑 extended, 🔳 ⚫ changed\n",
      "\n",
      "X: 10x10  🔳 18px ⛓5  🔗1 ,  🟣  9px ⛓2  🔗1 ,  🔵  9px ⛓9  🔗1 ,  ⚫ 82px ⛓2  🔗1 \n",
      "Y: 10x10  🔳 20px ⛓20 🔗3 ,                  ,  🔵 20px ⛓20 🔗3 ,  ⚫ 80px ⛓4  🔗1 \n",
      "🟣 removed, 🔵 extended, 🔳 ⚫ changed\n",
      "\n"
     ]
    }
   ],
   "source": [
    "train.overview()"
   ]
  },
  {
   "cell_type": "code",
   "execution_count": 3,
   "metadata": {},
   "outputs": [
    {
     "name": "stdout",
     "output_type": "stream",
     "text": [
      "X: 10x10  🔳 13px ⛓8  🔗1 ,  🟣  3px ⛓1  🔗1 ,  🔴 10px ⛓10 🔗1 ,  ⚫ 87px ⛓2  🔗1 \n",
      "Y: 10x10  🔳 16px ⛓16 🔗2 ,                  ,  🔴 16px ⛓16 🔗2 ,  ⚫ 84px ⛓3  🔗1 \n",
      "🟣 removed, 🔴 extended, 🔳 ⚫ changed\n",
      "\n",
      "X: 10x10  🔳 15px ⛓1  🔗1 ,  🟣 10px ⛓1  🔗1 ,  🔴  5px ⛓5  🔗1 ,  ⚫ 85px ⛓2  🔗2 \n",
      "Y: 10x10  🔳 14px ⛓14 🔗2 ,                  ,  🔴 14px ⛓14 🔗2 ,  ⚫ 86px ⛓3  🔗1 \n",
      "🟣 removed, 🔴 extended, 🔳 ⚫ changed\n",
      "\n",
      "X: 10x10  🔳 18px ⛓5  🔗1 ,  🟣  9px ⛓2  🔗1 ,  🔴  9px ⛓9  🔗1 ,  ⚫ 82px ⛓2  🔗1 \n",
      "Y: 10x10  🔳 20px ⛓20 🔗3 ,                  ,  🔴 20px ⛓20 🔗3 ,  ⚫ 80px ⛓4  🔗1 \n",
      "🟣 removed, 🔴 extended, 🔳 ⚫ changed\n",
      "\n"
     ]
    }
   ],
   "source": [
    "# 👁:\n",
    "#   - All grids are 10x10\n",
    "#   - ⚫ looks like a background\n",
    "#   - Each pair contains TWO non-⚫ glyphs; 🟣 (only present in X), and another (🟤, 🌑, 🔵) present in both X and Y\n",
    "\n",
    "# 👶: Let's convert OTHER to 🔴. This will make it easier to reason over the puzzle moving forwards.\n",
    "\n",
    "def fix_pair(pair):\n",
    "    fix_grid = lambda G: G.send(pair.extended, '🔴')\n",
    "    return fix_grid @ pair\n",
    "\n",
    "from Puzzle import Pairs\n",
    "\n",
    "train_ = Pairs(fix_pair @ train)\n",
    "\n",
    "train_.overview()\n"
   ]
  },
  {
   "cell_type": "code",
   "execution_count": 4,
   "metadata": {},
   "outputs": [
    {
     "name": "stdout",
     "output_type": "stream",
     "text": [
      "X:\n",
      "🟣.⛓:  2x2  3px  3  4 to  4  5\n",
      "🔴.🔗: 10x10 10px  0  0 to  9  9\n",
      "Y:\n",
      "🔴.🔗: 10x10 10px  0  0 to  9  9\n",
      "🔴.🔗:  6x6  6px  0  4 to  5  9\n",
      "X:\n",
      "🟣.⛓:  4x4  10px  1  5 to  4  8\n",
      "🔴.🔗:  5x5  5px  0  5 to  4  9\n",
      "Y:\n",
      "🔴.🔗:  5x5  5px  0  5 to  4  9\n",
      "🔴.🔗:  9x9  9px  1  0 to  9  8\n",
      "X:\n",
      "🟣.⛓:  2x2  3px  3  3 to  4  4\n",
      "🟣.⛓:  3x3  6px  5  3 to  7  5\n",
      "🔴.🔗:  9x9  9px  1  0 to  9  8\n",
      "Y:\n",
      "🔴.🔗:  7x7  7px  0  3 to  6  9\n",
      "🔴.🔗:  9x9  9px  1  0 to  9  8\n",
      "🔴.🔗:  4x4  4px  6  0 to  9  3\n"
     ]
    }
   ],
   "source": [
    "# 👁:\n",
    "#   - No two 🔴 pixels are adjacently connected (🔴{k}px.⛓{k} everywhere).\n",
    "#   - 🔴 is HIGHLY 🔗-connected.\n",
    "#   - 🟣 (only present in X) however is HIGHLY ⛓-connected.\n",
    "\n",
    "# 👁:\n",
    "#   - ONE 🔴🔗 and ONE 🟣⛓ in X0 and X1 -> TWO    🔴🔗 in Y0 and Y1\n",
    "#   - ONE 🔴🔗 and TWO 🟣⛓ in X2        -> TTHREE 🔴🔗 in Y2\n",
    "\n",
    "# 🔮: Maybe each 🟣⛓ generates a 🔴🔗?\n",
    "\n",
    "# 👁: X binarized comprises a single 🔗-connected region\n",
    "\n",
    "# 💡: So in X, 🟣 and 🔴 touch diagonally\n",
    "\n",
    "# ⚡: Examine region stats\n",
    "for X, Y in train_:\n",
    "    stats = lambda U, s: '\\n'.join(\n",
    "        f'{s}: {r.hw:~x5} {r.npix}px {r.frame}'\n",
    "            for r in U[s]\n",
    "    )\n",
    "    print('X:')\n",
    "    print(stats(X, '🟣.⛓'))\n",
    "    print(stats(X, '🔴.🔗'))\n",
    "    print('Y:')\n",
    "    print(stats(Y, '🔴.🔗'))\n",
    "\n",
    "if 0:  # ???\n",
    "    for X, Y in train_:\n",
    "        s = 'glyph conn hxw npix frame'\n",
    "        print('X:')\n",
    "        X['🟣.⛓'](s)\n",
    "        X['🔴.🔗'](s)\n",
    "        print('Y:')\n",
    "        Y['🔴.🔗'](s)\n"
   ]
  },
  {
   "cell_type": "code",
   "execution_count": 5,
   "metadata": {},
   "outputs": [
    {
     "name": "stdout",
     "output_type": "stream",
     "text": [
      "\n",
      "🟣 🟣\n",
      "⚫ 🟣\n",
      "\n",
      "🔴 Diagonals: ↘ -> ↘ ↘\n",
      "🔴 Edges 2 -> 4\n",
      "\n",
      "🟣 ⚫ ⚫ ⚫\n",
      "🟣 🟣 ⚫ ⚫\n",
      "🟣 🟣 🟣 ⚫\n",
      "🟣 🟣 🟣 🟣\n",
      "\n",
      "🔴 Diagonals: ↘ -> ↘ ↘\n",
      "🔴 Edges 2 -> 4\n",
      "\n",
      "🟣 🟣\n",
      "⚫ 🟣\n",
      "\n",
      "\n",
      "🟣 ⚫ ⚫\n",
      "🟣 🟣 ⚫\n",
      "🟣 🟣 🟣\n",
      "\n",
      "🔴 Diagonals: ↘ -> ↘ ↘ ↘\n",
      "🔴 Edges 2 -> 6\n"
     ]
    }
   ],
   "source": [
    "# 👁: 🔗🔴 is always {k}x{k}.{k}px\n",
    "# 🧠: A {k}px region that forms a {k}x{k} bounding-box MUST be a diagonal.\n",
    "# 📜: Let's use ↘ and for a LEADING-like diagonal and ↗ for an ANTI-like diagonal.\n",
    "# 💡: Each 🔴🔗 is a diagonal line: ↘ or ↗\n",
    "# ⚡: Ascertain: ↘ or ↗?\n",
    "\n",
    "# ❓: Do 🔴↘ diagonals extend to edge of grid?\n",
    "\n",
    "# 👁: 🟣⛓ is always {k}x{k}.{N}px, where N = 1 + ... + k\n",
    "# 💪: A very clean pattern emerges if we consider ⛓ connectivity for 🟣\n",
    "# ⚡: Inspect 🟣⛓\n",
    "\n",
    "# 👁: In each pair, there's one 🔴↘ region with identical {k}x{k}.{k}px in X and Y\n",
    "# 🧲: 🔴 is EXTENDED, so it MUST be the same region.\n",
    "\n",
    "classify_diagonal = lambda B:  \\\n",
    "    '↘' if B @ B.eye  \\\n",
    "        else '↗' if B @ B.eye['↔']  \\\n",
    "            else '❌'\n",
    "\n",
    "for pair in train_:\n",
    "    X, Y = pair\n",
    "\n",
    "    # 🟣-regions\n",
    "    for r in X['🟣.⛓']:\n",
    "        print(r * '🟣')\n",
    "\n",
    "    classify_diagonals = lambda U: ' '.join(\n",
    "        classify_diagonal @ U['🔴.🔗']\n",
    "    )\n",
    "\n",
    "    print('🔴 Diagonals:', classify_diagonals(X), '->', classify_diagonals(Y))\n",
    "\n",
    "    edges = lambda U:  \\\n",
    "        U['🔴'].npix - U['🔴'][U.rect.shrink(1)].Σ\n",
    "\n",
    "    print('🔴 Edges', edges(X), '->', edges(Y))"
   ]
  },
  {
   "cell_type": "code",
   "execution_count": 6,
   "metadata": {},
   "outputs": [
    {
     "data": {
      "text/plain": [
       "'🟣: ↗.2x2, 🔴-shifts: 0 -> +0 +4'"
      ]
     },
     "execution_count": 6,
     "metadata": {},
     "output_type": "execute_result"
    },
    {
     "data": {
      "text/plain": [
       "'🟣: ↙.4x4, 🔴-shifts: 5 -> -6 +0'"
      ]
     },
     "execution_count": 6,
     "metadata": {},
     "output_type": "execute_result"
    },
    {
     "data": {
      "text/plain": [
       "'🟣: ↗.2x2, ↙.3x3, 🔴-shifts: -1 -> -5 +0 +4'"
      ]
     },
     "execution_count": 6,
     "metadata": {},
     "output_type": "execute_result"
    }
   ],
   "source": [
    "# 👁: All 🔴 diagonals are ↘ and extend to the edge of the grid\n",
    "\n",
    "# 🕵: The {k}x{k}.npix 🔴↘ in X identically matches one of the Y.↘.\n",
    "\n",
    "# 👁: ⛓🟣 are either UPPER or LOWER triangular.\n",
    "# 📜: Let's use ↗ for UPPER-triangular and ↙ for LOWER-triangular\n",
    "# ⚡: Determine programatically whether a ⛓🟣 is 🟣↗ or 🟣↙\n",
    "\n",
    "# 👶 ♻:\n",
    "#   - Given that 🔗🔴 are all ↘ and extend to the edge of the grid, we can characterize them by the horizontal shift of the leading diagonal that would generate them.\n",
    "#   - Furthermore, it woulf make sense to describe them with reference to the 🔴↘ in X.\n",
    "\n",
    "# 📜: Let's use ➡ ⏺ ⬅ to describe these shifts (⏺ for identity / 0-shift)\n",
    "\n",
    "def upper_lower(B):\n",
    "    return '↗' if B @ B.triu  \\\n",
    "        else '↙' if B @ B.tril  \\\n",
    "            else '❌'\n",
    "\n",
    "def calc_shifts(U):\n",
    "    calc_shift = lambda p: p.x - p.y\n",
    "    return calc_shift @ U['🔴.🔗.🖼.tl']\n",
    "\n",
    "for X, Y in train_:\n",
    "    stats = lambda r: f'{upper_lower(r)}.{r.hw:~x}'\n",
    "    triangles = ', '.join(\n",
    "        stats @ X['🟣.⛓']\n",
    "    )\n",
    "\n",
    "    shift_X = calc_shifts(X)[0]\n",
    "    shifts_Y = ' '.join(\n",
    "        f'{u - shift_X:+}'\n",
    "            for u in sorted(calc_shifts(Y))\n",
    "    )\n",
    "\n",
    "    f'🟣: {triangles}, 🔴-shifts: {shift_X} -> {shifts_Y}'\n",
    "\n"
   ]
  },
  {
   "cell_type": "code",
   "execution_count": 7,
   "metadata": {},
   "outputs": [
    {
     "data": {
      "text/plain": [
       "[ 0  0 to  9  9]"
      ]
     },
     "execution_count": 7,
     "metadata": {},
     "output_type": "execute_result"
    }
   ],
   "source": [
    "X, Y = train_[0]\n",
    "X['🔴.🔗.🖼']"
   ]
  },
  {
   "cell_type": "code",
   "execution_count": 8,
   "metadata": {},
   "outputs": [
    {
     "data": {
      "text/plain": [
       "\n",
       "⚫ ⚫ ⚫ ⚫\n",
       "🔴 🟣 🟣 ⚫\n",
       "⚫ 🔴 🟣 ⚫\n",
       "⚫ ⚫ 🔴 ⚫"
      ]
     },
     "execution_count": 8,
     "metadata": {},
     "output_type": "execute_result"
    },
    {
     "data": {
      "text/plain": [
       "\n",
       "⚫ 🔴 ⚫ ⚫ ⚫ ⚫\n",
       "⚫ 🟣 🔴 ⚫ ⚫ ⚫\n",
       "⚫ 🟣 🟣 🔴 ⚫ ⚫\n",
       "⚫ 🟣 🟣 🟣 🔴 ⚫\n",
       "⚫ 🟣 🟣 🟣 🟣 🔴\n",
       "⚫ ⚫ ⚫ ⚫ ⚫ ⚫"
      ]
     },
     "execution_count": 8,
     "metadata": {},
     "output_type": "execute_result"
    }
   ],
   "source": [
    "# 👁: 🟣↗k -> 🔴▶{k+2} and 🟣↙k -> 🔴◀{k+2}\n",
    "\n",
    "# ♻:\n",
    "#   - X contains a 🔴 forwards-diagonal line and one or more 🟣 triangles, each of which is upper or lower.\n",
    "#   - Y contains the same 🔴 forwards-diagonal, and an additional 🔴 forwards-diagonal for each 🟣 triangle whose shift direction is positive if 🟣 is ↗, negative if 🟣 is ↙, and the shift-coefficient is TWO plus the length of the right-angle side(s) of the triangle.\n",
    "\n",
    "# 🤔: While we have enough information for a solver, let's try to achieve a more clear understanding of what is happening geometrically.\n",
    "#   - We still haven't made use of the location of 🟣 relative to 🔴\n",
    "#   - 🐘: We recall X.🔳🔗 == 1, so we know they touch.\n",
    "\n",
    "# ⚡ Let's examine the region around 🟣 to see how they touch.\n",
    "#   - We know the third is a composite, so let's ignore that while we figure out the logic.\n",
    "\n",
    "for X in train_.X[:-1]:\n",
    "    R = X['🟣.✂.🖼'].extend(1)\n",
    "    X[R]"
   ]
  },
  {
   "cell_type": "code",
   "execution_count": 9,
   "metadata": {},
   "outputs": [
    {
     "data": {
      "text/plain": [
       "\n",
       "🔴 🟣 🟣\n",
       "⚫ 🔴 🟣\n",
       "⚫ ⚫ 🔴"
      ]
     },
     "execution_count": 9,
     "metadata": {},
     "output_type": "execute_result"
    },
    {
     "data": {
      "text/plain": [
       "\n",
       "🔴 ⚫ ⚫ ⚫ ⚫\n",
       "🟣 🔴 ⚫ ⚫ ⚫\n",
       "🟣 🟣 🔴 ⚫ ⚫\n",
       "🟣 🟣 🟣 🔴 ⚫\n",
       "🟣 🟣 🟣 🟣 🔴"
      ]
     },
     "execution_count": 9,
     "metadata": {},
     "output_type": "execute_result"
    }
   ],
   "source": [
    "# 🧠: In each of the first 2 images, two edges are empty.\n",
    "\n",
    "# ⚡: Let's crop them.\n",
    "for X in train_.X[:-1]:\n",
    "    R = X['🟣.✂.🖼'].extend(1)\n",
    "    X[R].crop"
   ]
  },
  {
   "cell_type": "code",
   "execution_count": 10,
   "metadata": {},
   "outputs": [
    {
     "data": {
      "text/plain": [
       "\n",
       "⚫ ⚫ ⚫ 🔴\n",
       "🔴 🟣 🟣 ⚫\n",
       "⚫ 🔴 🟣 ⚫\n",
       "⚫ ⚫ 🔴 ⚫"
      ]
     },
     "execution_count": 10,
     "metadata": {},
     "output_type": "execute_result"
    },
    {
     "data": {
      "text/plain": [
       "[1, 1, 1, 1, 1, 1, 6, 1, 1, 1, 1, 1, 1, 1]"
      ]
     },
     "execution_count": 10,
     "metadata": {},
     "output_type": "execute_result"
    },
    {
     "data": {
      "text/plain": [
       "\n",
       "⚫ 🔴 ⚫ ⚫ ⚫ ⚫\n",
       "⚫ 🟣 🔴 ⚫ ⚫ ⚫\n",
       "⚫ 🟣 🟣 🔴 ⚫ ⚫\n",
       "⚫ 🟣 🟣 🟣 🔴 ⚫\n",
       "⚫ 🟣 🟣 🟣 🟣 🔴\n",
       "🔴 ⚫ ⚫ ⚫ ⚫ ⚫"
      ]
     },
     "execution_count": 10,
     "metadata": {},
     "output_type": "execute_result"
    },
    {
     "data": {
      "text/plain": [
       "[15, 1, 1, 1, 1, 1, 1, 1, 1, 1]"
      ]
     },
     "execution_count": 10,
     "metadata": {},
     "output_type": "execute_result"
    }
   ],
   "source": [
    "# 🧘 ♻ 📐:\n",
    "#   We can now propose a construction process for X:\n",
    "#     0. We arbitrarily draw a 🔴↘ on a 10x10⚫ canvas\n",
    "#     1. We arbitrarily select two 🔴 pixels\n",
    "#     2. Considering the bounding-square, which will have a leading-diagonal of 🔴, we 🟣-fill either the ↗ or ↙ ⚫-region.\n",
    "#     3. Repeat steps 1 and 2 zero or more times.\n",
    "\n",
    "# ❓: How might we represent the the additional 🔴↘ diagonals introduced in Y in terms of this construction?\n",
    "\n",
    "# ✏:\n",
    "#   - Each 🟣 introduces a 🔴↘.\n",
    "#   - This 🔴↘ is the same side of the X.🔴↘ as 🟣.\n",
    "#   - The displacement from the X.🔴↘ is 2 more than the square-length of 🟣.\n",
    "\n",
    "# 🧪 Maybe it is touching?\n",
    "\n",
    "# ❓✨: What if we place 🟣 in Y?\n",
    "\n",
    "# ⚡: Place 🟣 in Y, examine 1px-expanded region, and count # binarized 🔗-regions.\n",
    "\n",
    "for X, Y in train_[:-1]:\n",
    "    composite = Y | X\n",
    "    R = composite['🟣.✂.🖼'].extend(1)\n",
    "    composite[R]\n",
    "    composite['🔳.⛓.Σ']\n"
   ]
  },
  {
   "cell_type": "code",
   "execution_count": 11,
   "metadata": {},
   "outputs": [
    {
     "data": {
      "text/plain": [
       "[True, True, True, True]"
      ]
     },
     "execution_count": 11,
     "metadata": {},
     "output_type": "execute_result"
    }
   ],
   "source": [
    "# 🧘:\n",
    "#   - For each 🟣, an additional 🔴↘ is placed so as to diagonally (but not adjacently) touch, thus sandwiching it against X.🔴↘\n",
    "#   - The 🟣 region is then removed\n",
    "\n",
    "from Coord import Coord\n",
    "\n",
    "def solve(X):\n",
    "    Y= X['🟣->⚫']\n",
    "    p = Y['•.0']\n",
    "    c, Δ = Y[p], p - p.y\n",
    "    for r in X['🟣.⛓']:\n",
    "        ε = Coord('◀' if r[-1, 0] else '▶') * (r.w + 2)\n",
    "        Y |= X.eye.shift(ε + Δ) * c\n",
    "    return Y\n",
    "\n",
    "# Use the ACTUAL puzzle for testing (as we sent the non-🟣 to 🔴)\n",
    "[Y @ solve(X)  for (X, Y) in train | test]"
   ]
  }
 ],
 "metadata": {
  "kernelspec": {
   "display_name": ".venv",
   "language": "python",
   "name": "python3"
  },
  "language_info": {
   "codemirror_mode": {
    "name": "ipython",
    "version": 3
   },
   "file_extension": ".py",
   "mimetype": "text/x-python",
   "name": "python",
   "nbconvert_exporter": "python",
   "pygments_lexer": "ipython3",
   "version": "3.12.3"
  }
 },
 "nbformat": 4,
 "nbformat_minor": 2
}
