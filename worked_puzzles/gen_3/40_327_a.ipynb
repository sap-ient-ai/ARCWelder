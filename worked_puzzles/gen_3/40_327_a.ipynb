{
 "cells": [
  {
   "cell_type": "code",
   "execution_count": 1,
   "metadata": {},
   "outputs": [
    {
     "name": "stdout",
     "output_type": "stream",
     "text": [
      "`setup_ipynb.py` executed, (multi-output enabled for subsequent cell executions).\n"
     ]
    },
    {
     "data": {
      "text/plain": [
       "[\n",
       "⚪ ⚫ ⚫ ⚫ ⚫ ⚫ ⚫ ⚫ ⚫ 🔵\n",
       "⚫ ⚫ ⚫ ⚫ ⚫ ⚫ ⚫ ⚫ ⚫ ⚫\n",
       "⚫ ⚫ ⚫ ⚫ ⚫ ⚫ ⚫ ⚫ ⚫ ⚫\n",
       "⚫ ⚫ ⚫ ⚫ ⚫ ⚫ ⚫ ⚫ ⚫ ⚫\n",
       "⚫ ⚫ ⚫ ⚫ ⚫ ⚫ ⚫ ⚫ ⚫ ⚫\n",
       "⚫ ⚫ ⚫ ⚫ ⚫ ⚫ ⚫ ⚫ ⚫ ⚫\n",
       "⚫ ⚫ ⚫ ⚫ ⚫ ⚫ ⚫ ⚫ ⚫ ⚫\n",
       "⚫ ⚫ ⚫ ⚫ ⚫ ⚫ ⚫ ⚫ ⚫ ⚫\n",
       "⚫ ⚫ ⚫ ⚫ ⚫ ⚫ ⚫ ⚫ ⚫ ⚫\n",
       "⚫ ⚫ ⚫ ⚫ ⚫ ⚫ ⚫ ⚫ ⚫ ⚫\n",
       ", \n",
       "⚪ ⚫ ⚪ ⚫ ⚪ 🔵 ⚫ 🔵 ⚫ 🔵\n",
       "⚫ ⚫ ⚪ ⚫ ⚪ 🔵 ⚫ 🔵 ⚫ ⚫\n",
       "⚪ ⚪ ⚪ ⚫ ⚪ 🔵 ⚫ 🔵 🔵 🔵\n",
       "⚫ ⚫ ⚫ ⚫ ⚪ 🔵 ⚫ ⚫ ⚫ ⚫\n",
       "⚪ ⚪ ⚪ ⚪ ⚪ 🔵 🔵 🔵 🔵 🔵\n",
       "⚫ ⚫ ⚫ ⚫ ⚫ ⚫ ⚫ ⚫ ⚫ ⚫\n",
       "⚪ ⚪ ⚪ ⚪ ⚪ 🔵 🔵 🔵 🔵 🔵\n",
       "⚫ ⚫ ⚫ ⚫ ⚫ ⚫ ⚫ ⚫ ⚫ ⚫\n",
       "⚪ ⚪ ⚪ ⚪ ⚪ 🔵 🔵 🔵 🔵 🔵\n",
       "⚫ ⚫ ⚫ ⚫ ⚫ ⚫ ⚫ ⚫ ⚫ ⚫\n",
       "]"
      ]
     },
     "execution_count": 1,
     "metadata": {},
     "output_type": "execute_result"
    }
   ],
   "source": [
    "from ARC import ARC\n",
    "\n",
    "train, test = ARC.load(327)\n",
    "\n",
    "train[0]"
   ]
  },
  {
   "cell_type": "code",
   "execution_count": 2,
   "metadata": {},
   "outputs": [
    {
     "name": "stdout",
     "output_type": "stream",
     "text": [
      "X: 10x10  🔳  2px ⛓2  🔗2 ,  ⚪  1px ⛓1  🔗1 ,  🔵  1px ⛓1  🔗1 ,  ⚫ 98px ⛓1  🔗1 \n",
      "Y: 10x10  🔳 50px ⛓7  🔗7 ,  ⚪ 25px ⛓5  🔗5 ,  🔵 25px ⛓5  🔗5 ,  ⚫ 50px ⛓7  🔗7 \n",
      "🔳 ⚪ 🔵 extended, ⚫ reduced\n",
      "\n",
      "X: 12x12  🔳  2px ⛓2  🔗2 ,  🟢  1px ⛓1  🔗1 ,  🔴  1px ⛓1  🔗1 ,  ⚫142px ⛓1  🔗1 \n",
      "Y: 12x12  🔳 66px ⛓18 🔗12,  🟢 33px ⛓9  🔗9 ,  🔴 33px ⛓9  🔗9 ,  ⚫ 78px ⛓11 🔗5 \n",
      "🔳 🟢 🔴 extended, ⚫ reduced\n",
      "\n",
      "X: 13x13  🔳  2px ⛓2  🔗2 ,  🔵  1px ⛓1  🔗1 ,  🟡  1px ⛓1  🔗1 ,  ⚫167px ⛓1  🔗1 \n",
      "Y: 13x13  🔳 78px ⛓14 🔗14,  🔵 39px ⛓7  🔗7 ,  🟡 39px ⛓7  🔗7 ,  ⚫ 91px ⛓5  🔗5 \n",
      "🔳 🔵 🟡 extended, ⚫ reduced\n",
      "\n",
      "X:  7x7   🔳  3px ⛓3  🔗3 ,  ⚪  1px ⛓1  🔗1 ,  🔵  1px ⛓1  🔗1 ,  🔴  1px ⛓1  🔗1 ,  ⚫ 46px ⛓1  🔗1 \n",
      "Y:  7x7   🔳 22px ⛓8  🔗7 ,  ⚪  6px ⛓2  🔗2 ,  🔵  8px ⛓3  🔗3 ,  🔴  8px ⛓3  🔗3 ,  ⚫ 27px ⛓5  🔗4 \n",
      "🔳 ⚪ 🔵 🔴 extended, ⚫ reduced\n",
      "\n"
     ]
    }
   ],
   "source": [
    "train.overview()"
   ]
  },
  {
   "cell_type": "code",
   "execution_count": 3,
   "metadata": {},
   "outputs": [
    {
     "ename": "TypeError",
     "evalue": "list indices must be integers or slices, not str",
     "output_type": "error",
     "traceback": [
      "\u001b[0;31m---------------------------------------------------------------------------\u001b[0m",
      "\u001b[0;31mTypeError\u001b[0m                                 Traceback (most recent call last)",
      "Cell \u001b[0;32mIn[3], line 4\u001b[0m\n\u001b[1;32m      1\u001b[0m \u001b[38;5;66;03m# 👁 Only 2 or 3 X.non⚫ pixels, each a different colour\u001b[39;00m\n\u001b[1;32m      2\u001b[0m \u001b[38;5;66;03m# ❓ What are the pixel locations?\u001b[39;00m\n\u001b[0;32m----> 4\u001b[0m \u001b[43mtrain\u001b[49m\u001b[38;5;241;43m.\u001b[39;49m\u001b[43mX\u001b[49m\u001b[43m[\u001b[49m\u001b[38;5;124;43m'\u001b[39;49m\u001b[38;5;124;43m⛓\u001b[39;49m\u001b[38;5;124;43m'\u001b[39;49m\u001b[43m]\u001b[49m(\u001b[38;5;124m'\u001b[39m\u001b[38;5;124mglyph frame.center.int\u001b[39m\u001b[38;5;124m'\u001b[39m)\n\u001b[1;32m      6\u001b[0m \u001b[38;5;66;03m# 👁 For Y[0,1,2], the two colours have identical stats, e.g. 33🟢9/9 33🔴9/9\u001b[39;00m\n\u001b[1;32m      7\u001b[0m \u001b[38;5;66;03m# 🔮 Maybe they are symmetries of one another?\u001b[39;00m\n\u001b[1;32m      8\u001b[0m \n\u001b[1;32m      9\u001b[0m \u001b[38;5;66;03m# Check for symmetries in binarized\u001b[39;00m\n\u001b[1;32m     10\u001b[0m \u001b[38;5;28;01mfor\u001b[39;00m X, Y \u001b[38;5;129;01min\u001b[39;00m train:\n",
      "File \u001b[0;32m~/code/2024/arc3/tools/Iter.py:33\u001b[0m, in \u001b[0;36mIter.__getitem__\u001b[0;34m(self, key)\u001b[0m\n\u001b[1;32m     31\u001b[0m \u001b[38;5;28;01mdef\u001b[39;00m \u001b[38;5;21m__getitem__\u001b[39m(\u001b[38;5;28mself\u001b[39m, key):\n\u001b[1;32m     32\u001b[0m     y \u001b[38;5;241m=\u001b[39m [\u001b[38;5;28mself\u001b[39m[u] \u001b[38;5;28;01mfor\u001b[39;00m u \u001b[38;5;129;01min\u001b[39;00m key] \u001b[38;5;28;01mif\u001b[39;00m \u001b[38;5;28misinstance\u001b[39m(key, \u001b[38;5;28mlist\u001b[39m)  \\\n\u001b[0;32m---> 33\u001b[0m         \u001b[38;5;28;01melse\u001b[39;00m \u001b[38;5;28;43mself\u001b[39;49m\u001b[38;5;241;43m.\u001b[39;49m\u001b[43mL\u001b[49m\u001b[43m[\u001b[49m\u001b[43mkey\u001b[49m\u001b[43m]\u001b[49m\n\u001b[1;32m     34\u001b[0m     \u001b[38;5;28;01mreturn\u001b[39;00m \u001b[38;5;28mtype\u001b[39m(\u001b[38;5;28mself\u001b[39m)(y) \u001b[38;5;28;01mif\u001b[39;00m \u001b[38;5;28misinstance\u001b[39m(key, (\u001b[38;5;28mslice\u001b[39m, \u001b[38;5;28mlist\u001b[39m))  \\\n\u001b[1;32m     35\u001b[0m         \u001b[38;5;28;01melse\u001b[39;00m y\n",
      "\u001b[0;31mTypeError\u001b[0m: list indices must be integers or slices, not str"
     ]
    }
   ],
   "source": [
    "# 👁 Only 2 or 3 X.non⚫ pixels, each a different colour\n",
    "# ❓ What are the pixel locations?\n",
    "\n",
    "train.X['⛓']('glyph frame.center.int')\n",
    "\n",
    "# 👁 For Y[0,1,2], the two colours have identical stats, e.g. 33🟢9/9 33🔴9/9\n",
    "# 🔮 Maybe they are symmetries of one another?\n",
    "\n",
    "# Check for symmetries in binarized\n",
    "for X, Y in train:\n",
    "    X['🔳'] > '⏺',  \\\n",
    "    Y['🔳'] > '⏺'\n",
    "\n",
    "# Let's see whether glyphs mingle\n",
    "train.Y['-⚫']('crop.frame')\n",
    "\n",
    "# Finally let's examine the ⚪ regions  in Y0\n",
    "train.Y['⛓']('hw npix frame')"
   ]
  },
  {
   "cell_type": "code",
   "execution_count": null,
   "metadata": {},
   "outputs": [],
   "source": [
    "# X pixels are on corners\n",
    "\n",
    "# Y-symmetry matches X-symmetry\n",
    "\n",
    "# In pair[0] X has seeds in TL and TR corners, and glyphs occupy left and right halves of Y respectively.  In pair[2], same deal only vertically. The other pairs it's not clear.\n",
    "\n",
    "# Hypothesis: Maybe a non-⚫ in Y takes the colour of its nearest corner.\n",
    "\n",
    "# Test this\n",
    "for X, Y in train:\n",
    "    for p in Y.pix:\n",
    "        W = X.pix.sort(p.dist2)\n",
    "        if p.dist2(W[0]) == p.dist2(W[1]):\n",
    "            print('Equidistant found')\n",
    "            break\n",
    "        if Y[p] != Y[W[0]]:\n",
    "            print('Hypothesis invalidated')\n",
    "            break\n",
    "    print('Pair done!')\n",
    "\n",
    "# From examining regions, we see some regions are squares (with size 1, 3, 5 and npix 1, 5, 9)\n",
    "\n",
    "# Let's look at these square regions for Y0.⚪.\n",
    "\n",
    "train.Y[0]['⚪.⛓']('🖼 🖐 self')"
   ]
  },
  {
   "cell_type": "code",
   "execution_count": null,
   "metadata": {},
   "outputs": [],
   "source": [
    "# So yes, a Y.non-⚫ takes the colour of its nearest non-⚫ corner.\n",
    "\n",
    "# As for the square regions, we can observe a progression: Taking a 1x1 square, a 3x3 square and a 5x5 square from Y's top-left corner, we fill the bottom and right edges, therefore generating a sequence of L-shapes.\n",
    "\n",
    "# We might even consider that there's 2x2 and 4x4 black L-shapes in between!\n",
    "\n",
    "# We might think of this as a ⚪ wave propagating from the (⚪) 0 0 corner.\n",
    "\n",
    "# Does this hypothesis explain the other regions?  i.e. that they are the parts of larger L-shapes, but only the pixels nearer to ⚪ than to 🔵 are set to ⚪?"
   ]
  },
  {
   "cell_type": "code",
   "execution_count": null,
   "metadata": {},
   "outputs": [],
   "source": [
    "from Grid import Grid\n",
    "\n",
    "def pattern(k):\n",
    "    U = V = Grid(hw=k, fill=bool((k + 1) % 2))\n",
    "    while V._.size > 0:\n",
    "        V[:] = ~V\n",
    "        V = V[:-1, :-1]\n",
    "    return U\n",
    "\n",
    "def solve(X):\n",
    "    X = X.copy\n",
    "    Y = X * '⚫'\n",
    "\n",
    "    P = pattern(X.h)\n",
    "\n",
    "    for _ in range(4):\n",
    "        X, Y = X['⤴'], Y['⤴']\n",
    "        if (c := X[0, 0]) != '⚫':\n",
    "            def win(p):\n",
    "                k = X.h - 1\n",
    "                others = [ p.dist2(o)\n",
    "                    for o in [(0,k), (k,0), (k,k)]\n",
    "                        if X[o] != '⚫'\n",
    "                ]\n",
    "                return P[p] and p.mag2 < min(others)\n",
    "            Y[Y.locs | win] = c\n",
    "    return Y\n",
    "\n",
    "[Y @ solve(X)  for (X, Y) in train | test]"
   ]
  }
 ],
 "metadata": {
  "kernelspec": {
   "display_name": ".venv",
   "language": "python",
   "name": "python3"
  },
  "language_info": {
   "codemirror_mode": {
    "name": "ipython",
    "version": 3
   },
   "file_extension": ".py",
   "mimetype": "text/x-python",
   "name": "python",
   "nbconvert_exporter": "python",
   "pygments_lexer": "ipython3",
   "version": "3.12.3"
  }
 },
 "nbformat": 4,
 "nbformat_minor": 2
}
