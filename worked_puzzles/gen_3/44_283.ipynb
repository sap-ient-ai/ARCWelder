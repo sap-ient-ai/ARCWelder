{
 "cells": [
  {
   "cell_type": "code",
   "execution_count": 1,
   "metadata": {},
   "outputs": [
    {
     "name": "stdout",
     "output_type": "stream",
     "text": [
      "`setup_ipynb.py` executed, (multi-output enabled for subsequent cell executions).\n"
     ]
    },
    {
     "data": {
      "text/plain": [
       "[\n",
       "⚫ ⚫ ⚫ ⚫ ⚫ ⚫ ⚫ ⚫ ⚫ ⚫\n",
       "⚫ ⚫ ⚫ ⚫ 🔵 ⚫ ⚫ ⚫ ⚫ ⚫\n",
       "⚫ ⚫ ⚫ ⚫ ⚫ ⚫ ⚫ ⚫ ⚫ ⚫\n",
       "⚫ ⚫ ⚫ ⚫ ⚫ ⚫ ⚫ ⚫ ⚫ ⚫\n",
       "⚫ ⚫ ⚫ ⚫ ⚫ ⚫ ⚫ ⚫ ⚫ ⚫\n",
       "⚫ ⚫ ⚫ ⚫ ⚫ ⚫ ⚫ ⚫ ⚫ ⚫\n",
       "⚫ ⚫ ⚫ ⚫ ⚫ ⚫ ⚫ ⚫ ⚫ ⚫\n",
       "⚫ ⚫ ⚫ ⚫ ⚫ ⚫ ⚫ ⚫ ⚫ ⚫\n",
       "⚫ ⚫ ⚫ ⚫ ⚫ ⚫ ⚫ ⚫ ⚫ ⚫\n",
       "⚫ ⚫ ⚫ ⚫ ⚫ ⚫ ⚫ ⚫ ⚫ ⚫\n",
       "⚫ ⚫ ⚫ ⚫ 🔴 ⚫ ⚫ ⚫ ⚫ ⚫\n",
       "⚫ ⚫ ⚫ ⚫ ⚫ ⚫ ⚫ ⚫ ⚫ ⚫\n",
       "⚫ ⚫ ⚫ ⚫ ⚫ ⚫ ⚫ ⚫ ⚫ ⚫\n",
       "⚫ ⚫ ⚫ ⚫ ⚫ ⚫ ⚫ ⚫ ⚫ ⚫\n",
       ", \n",
       "⚫ ⚫ ⚫ ⚫ ⚫ ⚫ ⚫ ⚫ ⚫ ⚫\n",
       "⚫ ⚫ ⚫ ⚫ 🔵 ⚫ ⚫ ⚫ ⚫ ⚫\n",
       "⚫ ⚫ ⚫ ⚫ 🔵 ⚫ ⚫ ⚫ ⚫ ⚫\n",
       "⚫ ⚫ ⚫ ⚫ 🔵 ⚫ ⚫ ⚫ ⚫ ⚫\n",
       "⚫ ⚫ 🔵 🔵 🔵 🔵 🔵 ⚫ ⚫ ⚫\n",
       "⚫ ⚫ 🔵 ⚫ ⚫ ⚫ 🔵 ⚫ ⚫ ⚫\n",
       "⚫ ⚫ 🔴 ⚫ ⚫ ⚫ 🔴 ⚫ ⚫ ⚫\n",
       "⚫ ⚫ 🔴 🔴 🔴 🔴 🔴 ⚫ ⚫ ⚫\n",
       "⚫ ⚫ ⚫ ⚫ 🔴 ⚫ ⚫ ⚫ ⚫ ⚫\n",
       "⚫ ⚫ ⚫ ⚫ 🔴 ⚫ ⚫ ⚫ ⚫ ⚫\n",
       "⚫ ⚫ ⚫ ⚫ 🔴 ⚫ ⚫ ⚫ ⚫ ⚫\n",
       "⚫ ⚫ ⚫ ⚫ ⚫ ⚫ ⚫ ⚫ ⚫ ⚫\n",
       "⚫ ⚫ ⚫ ⚫ ⚫ ⚫ ⚫ ⚫ ⚫ ⚫\n",
       "⚫ ⚫ ⚫ ⚫ ⚫ ⚫ ⚫ ⚫ ⚫ ⚫\n",
       "]"
      ]
     },
     "execution_count": 1,
     "metadata": {},
     "output_type": "execute_result"
    }
   ],
   "source": [
    "from ARC import ARC\n",
    "\n",
    "train, test = ARC.load(283)\n",
    "\n",
    "train[0]"
   ]
  },
  {
   "cell_type": "code",
   "execution_count": 2,
   "metadata": {},
   "outputs": [
    {
     "name": "stdout",
     "output_type": "stream",
     "text": [
      "X: 14x10  🔳  2px ⛓2  🔗2 ,  🔵  1px ⛓1  🔗1 ,  🔴  1px ⛓1  🔗1 ,  ⚫138px ⛓1  🔗1 \n",
      "Y: 14x10  🔳 20px ⛓1  🔗1 ,  🔵 10px ⛓1  🔗1 ,  🔴 10px ⛓1  🔗1 ,  ⚫120px ⛓2  🔗2 \n",
      "🔳 🔵 🔴 extended, ⚫ reduced\n",
      "\n",
      "X: 10x13  🔳  2px ⛓2  🔗2 ,  🟢  1px ⛓1  🔗1 ,  ⚪  1px ⛓1  🔗1 ,  ⚫128px ⛓1  🔗1 \n",
      "Y: 10x13  🔳 22px ⛓1  🔗1 ,  🟢 11px ⛓1  🔗1 ,  ⚪ 11px ⛓1  🔗1 ,  ⚫108px ⛓2  🔗2 \n",
      "🔳 🟢 ⚪ extended, ⚫ reduced\n",
      "\n",
      "X: 10x18  🔳  2px ⛓2  🔗2 ,  🟣  1px ⛓1  🔗1 ,  🔴  1px ⛓1  🔗1 ,  ⚫178px ⛓1  🔗1 \n",
      "Y: 10x18  🔳 24px ⛓1  🔗1 ,  🟣 12px ⛓1  🔗1 ,  🔴 12px ⛓1  🔗1 ,  ⚫156px ⛓2  🔗2 \n",
      "🔳 🟣 🔴 extended, ⚫ reduced\n",
      "\n"
     ]
    }
   ],
   "source": [
    "train.overview()"
   ]
  },
  {
   "cell_type": "code",
   "execution_count": 3,
   "metadata": {},
   "outputs": [
    {
     "name": "stdout",
     "output_type": "stream",
     "text": [
      "X\n",
      "🔵  1  4\n",
      "🔴 10  4\n",
      "\n",
      "Y\n",
      "🔳 10x5   20px @ 5.5 4.0\n",
      "🔵  5x5   10px @ 3.0 4.0\n",
      "🔴  5x5   10px @ 8.0 4.0\n",
      "\n",
      "X🔳 5.5 4.0 🔄 ↔ ↕\n",
      "Y🔳 5.5 4.0 🔄 ↔ ↕\n",
      "\n",
      "X\n",
      "🟢  6  1\n",
      "⚪  6 12\n",
      "\n",
      "Y\n",
      "🔳  5x12  22px @ 6.0 6.5\n",
      "🟢  5x6   11px @ 6.0 3.5\n",
      "⚪  5x6   11px @ 6.0 9.5\n",
      "\n",
      "X🔳 6.0 6.5 🔄 ↔ ↕\n",
      "Y🔳 6.0 6.5 🔄 ↔ ↕\n",
      "\n",
      "X\n",
      "🟣  5  3\n",
      "🔴  5 16\n",
      "\n",
      "Y\n",
      "🔳  5x14  24px @ 5.0 9.5\n",
      "🟣  5x7   12px @ 5.0 6.0\n",
      "🔴  5x7   12px @ 5.0 13.0\n",
      "\n",
      "X🔳 5.0 9.5 🔄 ↔ ↕\n",
      "Y🔳 5.0 9.5 🔄 ↔ ↕\n",
      "\n"
     ]
    }
   ],
   "source": [
    "# 👁: Two seed-pixels in each X, e.g. 1🔵 1🔴\n",
    "# ❓: Is there anything significant in the locations?\n",
    "\n",
    "# 👁: Two seeds for each X, each generates ONE region in Y and regions are equal npix\n",
    "# ❓: Are these regions symmetries of one another?\n",
    "\n",
    "# 👁: Y.#🔳 == 1, so Y regions are connected\n",
    "# ❓: Is there a symmetry in Y🔳\n",
    "\n",
    "# 👁: Y🔳: 20px 22px 24px\n",
    "\n",
    "# ⚡: Dump seed locations for X and region-data for Y\n",
    "# ⚡: Examine Y🔳, checking for symmetries\n",
    "\n",
    "for X, Y in train:\n",
    "    print('X')\n",
    "    for c in X.pix:\n",
    "        print(X[c], c)\n",
    "\n",
    "    print()\n",
    "\n",
    "    print('Y')\n",
    "\n",
    "    # TODO: Make this work\n",
    "    # for r in Y['🔳….🔗']:\n",
    "    #     print(r.glyph_hxw_npix, '@', r.frame.center)\n",
    "\n",
    "    for r in Y['🔳.🔗'] | Y['🔗']:\n",
    "        print(r.glyph_hxw_npix, '@', r.frame.center)\n",
    "\n",
    "    print()\n",
    "    for s, U in zip('XY', (X, Y)):\n",
    "        B = U['🔳.✂']\n",
    "        print(f'{s}🔳', B.frame.center, B > '⏺')\n",
    "    print()\n"
   ]
  },
  {
   "cell_type": "code",
   "execution_count": 4,
   "metadata": {},
   "outputs": [
    {
     "data": {
      "text/plain": [
       "(\n",
       " ⚫ ⚫ ⚫ ⚫ ⚫ ⚫ ⚫ ⚫ ⚫ ⚫ ⚫ ⚫ ⚫ ⚫\n",
       " ⚫ ⚫ ⚫ ⚫ ⚫ ⚫ ⚫ ⚫ ⚫ ⚫ ⚫ ⚫ ⚫ ⚫\n",
       " ⚫ ⚫ ⚫ ⚫ ⚫ ⚫ ⚫ ⚫ ⚫ ⚫ ⚫ ⚫ ⚫ ⚫\n",
       " ⚫ ⚫ ⚫ ⚫ ⚫ ⚫ ⚫ ⚫ ⚫ ⚫ ⚫ ⚫ ⚫ ⚫\n",
       " ⚫ ⚫ ⚫ ⚫ ⚫ ⚫ ⚫ ⚫ ⚫ ⚫ ⚫ ⚫ ⚫ ⚫\n",
       " ⚫ 🔵 ⚫ ⚫ ⚫ ⚫ ⚫ ⚫ ⚫ ⚫ 🟢 ⚫ ⚫ ⚫\n",
       " ⚫ ⚫ ⚫ ⚫ ⚫ ⚫ ⚫ ⚫ ⚫ ⚫ ⚫ ⚫ ⚫ ⚫\n",
       " ⚫ ⚫ ⚫ ⚫ ⚫ ⚫ ⚫ ⚫ ⚫ ⚫ ⚫ ⚫ ⚫ ⚫\n",
       " ⚫ ⚫ ⚫ ⚫ ⚫ ⚫ ⚫ ⚫ ⚫ ⚫ ⚫ ⚫ ⚫ ⚫\n",
       " ⚫ ⚫ ⚫ ⚫ ⚫ ⚫ ⚫ ⚫ ⚫ ⚫ ⚫ ⚫ ⚫ ⚫,\n",
       " \n",
       " ⚫ ⚫ ⚫ ⚫ ⚫ ⚫ ⚫ ⚫ ⚫ ⚫ ⚫ ⚫ ⚫ ⚫\n",
       " ⚫ ⚫ ⚫ ⚫ ⚫ ⚫ ⚫ ⚫ ⚫ ⚫ ⚫ ⚫ ⚫ ⚫\n",
       " ⚫ ⚫ ⚫ ⚫ ⚫ ⚫ ⚫ ⚫ ⚫ ⚫ ⚫ ⚫ ⚫ ⚫\n",
       " ⚫ ⚫ ⚫ ⚫ 🔵 🔵 🟢 🟢 ⚫ ⚫ ⚫ ⚫ ⚫ ⚫\n",
       " ⚫ ⚫ ⚫ ⚫ 🔵 ⚫ ⚫ 🟢 ⚫ ⚫ ⚫ ⚫ ⚫ ⚫\n",
       " ⚫ 🔵 🔵 🔵 🔵 ⚫ ⚫ 🟢 🟢 🟢 🟢 ⚫ ⚫ ⚫\n",
       " ⚫ ⚫ ⚫ ⚫ 🔵 ⚫ ⚫ 🟢 ⚫ ⚫ ⚫ ⚫ ⚫ ⚫\n",
       " ⚫ ⚫ ⚫ ⚫ 🔵 🔵 🟢 🟢 ⚫ ⚫ ⚫ ⚫ ⚫ ⚫\n",
       " ⚫ ⚫ ⚫ ⚫ ⚫ ⚫ ⚫ ⚫ ⚫ ⚫ ⚫ ⚫ ⚫ ⚫\n",
       " ⚫ ⚫ ⚫ ⚫ ⚫ ⚫ ⚫ ⚫ ⚫ ⚫ ⚫ ⚫ ⚫ ⚫,\n",
       " \n",
       " ▪ ▪ ▪ ▪ ▪ ▪ ▪ ▪ ▪ ▪ ▪ ▪ ▪ ▪\n",
       " ▪ ▪ ▪ ▪ ▪ ▪ ▪ ▪ ▪ ▪ ▪ ▪ ▪ ▪\n",
       " ▪ ▪ ▪ ▪ ▪ ▪ ▪ ▪ ▪ ▪ ▪ ▪ ▪ ▪\n",
       " ▪ ▪ ▪ ▪ ▫ ▫ ▫ ▫ ▪ ▪ ▪ ▪ ▪ ▪\n",
       " ▪ ▪ ▪ ▪ ▫ ▪ ▪ ▫ ▪ ▪ ▪ ▪ ▪ ▪\n",
       " ▪ ▫ ▫ ▫ ▫ ▪ ▪ ▫ ▫ ▫ ▫ ▪ ▪ ▪\n",
       " ▪ ▪ ▪ ▪ ▫ ▪ ▪ ▫ ▪ ▪ ▪ ▪ ▪ ▪\n",
       " ▪ ▪ ▪ ▪ ▫ ▫ ▫ ▫ ▪ ▪ ▪ ▪ ▪ ▪\n",
       " ▪ ▪ ▪ ▪ ▪ ▪ ▪ ▪ ▪ ▪ ▪ ▪ ▪ ▪\n",
       " ▪ ▪ ▪ ▪ ▪ ▪ ▪ ▪ ▪ ▪ ▪ ▪ ▪ ▪)"
      ]
     },
     "execution_count": 4,
     "metadata": {},
     "output_type": "execute_result"
    },
    {
     "name": "stdout",
     "output_type": "stream",
     "text": [
      "10x14 20px\n",
      " 5  1,  5 10\n",
      "[ 3  1 to  7  5,  3  6 to  7 10]\n",
      " 🔄 ↔\n",
      "\n",
      "10x13 22px\n",
      " 6  1,  6 12\n",
      "[ 4  1 to  8  6,  4  7 to  8 12]\n",
      " 🔄 ↔\n",
      "\n",
      "10x18 24px\n",
      " 5  3,  5 16\n",
      "[ 3  3 to  7  9,  3 10 to  7 16]\n",
      " 🔄 ↔\n",
      "\n"
     ]
    }
   ],
   "source": [
    "# 👁: Seeds share a row or col\n",
    "# 👁: Y🔳 is centered around the row/col that the seeds share\n",
    "# 👁: Y seems to comprise two \"halves\" -- one for each seed.\n",
    "\n",
    "# 👶 Let's simplify:\n",
    "#   - rot90 each X and Y so that the seeds share a row\n",
    "#   - crop to Y\n",
    "#   - recolour to 🔵 🟢\n",
    "\n",
    "from Pairs import Pairs\n",
    "\n",
    "def process(pair):\n",
    "    T = '⤴' if pair.X['✂.h'] > 1 else '⏺'\n",
    "    seeds = str(pair.X.glyphs - '⚫')\n",
    "    return (lambda G: G[T].send(seeds, '🔵🟢')) @ pair\n",
    "\n",
    "train_ = Pairs(process @ train)\n",
    "\n",
    "X, Y = train_[0]\n",
    "X, Y, Y['🔳']\n",
    "\n",
    "for X, Y in train_:\n",
    "    print(f'{Y.hw:~x} {Y.npix}px')\n",
    "    print(X['•'])\n",
    "    print(Y['⛓.🖼'])\n",
    "\n",
    "    print(\n",
    "        Y['🔳'] > '⏺',\n",
    "        Y['🔵.⛓.0'] > Y['🟢.⛓.0']\n",
    "    )\n",
    "    print()\n",
    "\n",
    "\n",
    "\n"
   ]
  },
  {
   "cell_type": "code",
   "execution_count": 5,
   "metadata": {},
   "outputs": [
    {
     "data": {
      "text/plain": [
       "\n",
       "▪ ▪ ▪ ▪ ▪ ▪ ▪ ▪ ▪ ▪ ▪ ▪ ▪ ▪\n",
       "▪ ▪ ▪ ▪ ▪ ▪ ▪ ▪ ▪ ▪ ▪ ▪ ▪ ▪\n",
       "▪ ▪ ▪ ▪ ▪ ▪ ▪ ▪ ▪ ▪ ▪ ▪ ▪ ▪\n",
       "▪ ▪ ▪ ▪ ▫ ▫ ▫ ▫ ▪ ▪ ▪ ▪ ▪ ▪\n",
       "▪ ▪ ▪ ▪ ▫ ▪ ▪ ▫ ▪ ▪ ▪ ▪ ▪ ▪\n",
       "▪ ▫ ▫ ▫ ▫ ▪ ▪ ▫ ▫ ▫ ▫ ▪ ▪ ▪\n",
       "▪ ▪ ▪ ▪ ▫ ▪ ▪ ▫ ▪ ▪ ▪ ▪ ▪ ▪\n",
       "▪ ▪ ▪ ▪ ▫ ▫ ▫ ▫ ▪ ▪ ▪ ▪ ▪ ▪\n",
       "▪ ▪ ▪ ▪ ▪ ▪ ▪ ▪ ▪ ▪ ▪ ▪ ▪ ▪\n",
       "▪ ▪ ▪ ▪ ▪ ▪ ▪ ▪ ▪ ▪ ▪ ▪ ▪ ▪"
      ]
     },
     "execution_count": 5,
     "metadata": {},
     "output_type": "execute_result"
    },
    {
     "data": {
      "text/plain": [
       "\n",
       "▪ ▪ ▪ ▪ ▪ ▪ ▪ ▪ ▪ ▪ ▪ ▪ ▪\n",
       "▪ ▪ ▪ ▪ ▪ ▪ ▪ ▪ ▪ ▪ ▪ ▪ ▪\n",
       "▪ ▪ ▪ ▪ ▪ ▪ ▪ ▪ ▪ ▪ ▪ ▪ ▪\n",
       "▪ ▪ ▪ ▪ ▪ ▪ ▪ ▪ ▪ ▪ ▪ ▪ ▪\n",
       "▪ ▪ ▪ ▪ ▪ ▫ ▫ ▫ ▫ ▪ ▪ ▪ ▪\n",
       "▪ ▪ ▪ ▪ ▪ ▫ ▪ ▪ ▫ ▪ ▪ ▪ ▪\n",
       "▪ ▫ ▫ ▫ ▫ ▫ ▪ ▪ ▫ ▫ ▫ ▫ ▫\n",
       "▪ ▪ ▪ ▪ ▪ ▫ ▪ ▪ ▫ ▪ ▪ ▪ ▪\n",
       "▪ ▪ ▪ ▪ ▪ ▫ ▫ ▫ ▫ ▪ ▪ ▪ ▪\n",
       "▪ ▪ ▪ ▪ ▪ ▪ ▪ ▪ ▪ ▪ ▪ ▪ ▪"
      ]
     },
     "execution_count": 5,
     "metadata": {},
     "output_type": "execute_result"
    },
    {
     "data": {
      "text/plain": [
       "\n",
       "▪ ▪ ▪ ▪ ▪ ▪ ▪ ▪ ▪ ▪ ▪ ▪ ▪ ▪ ▪ ▪ ▪ ▪\n",
       "▪ ▪ ▪ ▪ ▪ ▪ ▪ ▪ ▪ ▪ ▪ ▪ ▪ ▪ ▪ ▪ ▪ ▪\n",
       "▪ ▪ ▪ ▪ ▪ ▪ ▪ ▪ ▪ ▪ ▪ ▪ ▪ ▪ ▪ ▪ ▪ ▪\n",
       "▪ ▪ ▪ ▪ ▪ ▪ ▪ ▪ ▫ ▫ ▫ ▫ ▪ ▪ ▪ ▪ ▪ ▪\n",
       "▪ ▪ ▪ ▪ ▪ ▪ ▪ ▪ ▫ ▪ ▪ ▫ ▪ ▪ ▪ ▪ ▪ ▪\n",
       "▪ ▪ ▪ ▫ ▫ ▫ ▫ ▫ ▫ ▪ ▪ ▫ ▫ ▫ ▫ ▫ ▫ ▪\n",
       "▪ ▪ ▪ ▪ ▪ ▪ ▪ ▪ ▫ ▪ ▪ ▫ ▪ ▪ ▪ ▪ ▪ ▪\n",
       "▪ ▪ ▪ ▪ ▪ ▪ ▪ ▪ ▫ ▫ ▫ ▫ ▪ ▪ ▪ ▪ ▪ ▪\n",
       "▪ ▪ ▪ ▪ ▪ ▪ ▪ ▪ ▪ ▪ ▪ ▪ ▪ ▪ ▪ ▪ ▪ ▪\n",
       "▪ ▪ ▪ ▪ ▪ ▪ ▪ ▪ ▪ ▪ ▪ ▪ ▪ ▪ ▪ ▪ ▪ ▪"
      ]
     },
     "execution_count": 5,
     "metadata": {},
     "output_type": "execute_result"
    }
   ],
   "source": [
    "# 👁: In Y, 🔳 is 🔄 ↔ ↕ symmetric and 🔵, 🟢 are symmetries (🔄 ↔) of one another.\n",
    "# 👁: 🔵 and 🟢 occupy the left and right halves respectively.\n",
    "# 👁: 5x10 20px, 5x12 22px, 5x14 24px -- there is a pattern here!\n",
    "\n",
    "# ⚡: Let's dump out Y.🔳 and attempt to describe it\n",
    "\n",
    "for Y in train_.Y:\n",
    "    Y['🔳']\n"
   ]
  },
  {
   "cell_type": "code",
   "execution_count": 6,
   "metadata": {},
   "outputs": [
    {
     "data": {
      "text/plain": [
       "[True, True, True, True]"
      ]
     },
     "execution_count": 6,
     "metadata": {},
     "output_type": "execute_result"
    }
   ],
   "source": [
    "# 🎭: In the center of each is a hollow 5x4 box, with a central horizontal line extending from the edges to the edge of the grid.\n",
    "\n",
    "# ♻: We could consider a horizontal line joining the seeds with a hollow 5x4 box placed in the center on top; this would reconceptualization would simplify the construction.\n",
    "\n",
    "# 📐:\n",
    "#  - If the seeds are vertically stacked, rotate 90 degrees\n",
    "#  - Extend the region containing the seeds (Y.crop), currently a 1xN, 2 pixels upwards and downwards, forming a 5xN region with the seeds in the center of the first and last cols.\n",
    "#  - Now, using this region:\n",
    "#    - Connect the seeds with a line.\n",
    "#    - Fill a r=2 box around the centerpoint (if the centerpoint is non-integer, e.g. 7.5, this will result in a 5x4 box, else a 5x5)\n",
    "#    - Clear its interior (using a r=1 box)\n",
    "#    - Colour the left and right halves with the 2 seed colours\n",
    "\n",
    "from Rect import Rect\n",
    "\n",
    "def solve(X):\n",
    "    Y_ = X.copy\n",
    "    Y = Y_['⤴'] if Y_['✂.🖼.h'] > 1 else Y_\n",
    "\n",
    "    seeds = Y.glyphs - '⚫'\n",
    "\n",
    "    Y.crop[:] = '⚪'\n",
    "\n",
    "    R = Rect(center=Y['⚪.✂.🖼.center'], radius=2)\n",
    "\n",
    "    Y[R] = '⚪'\n",
    "    Y[R.shrink(1)] = '⚫'\n",
    "\n",
    "    for seed, half in zip(seeds, Y.crop.split(nx=2)):\n",
    "        half.send('⚪', seed, in_place=True)\n",
    "\n",
    "    return Y_\n",
    "\n",
    "[Y @ solve(X)  for (X, Y) in train | test]"
   ]
  }
 ],
 "metadata": {
  "kernelspec": {
   "display_name": ".venv",
   "language": "python",
   "name": "python3"
  },
  "language_info": {
   "codemirror_mode": {
    "name": "ipython",
    "version": 3
   },
   "file_extension": ".py",
   "mimetype": "text/x-python",
   "name": "python",
   "nbconvert_exporter": "python",
   "pygments_lexer": "ipython3",
   "version": "3.12.3"
  }
 },
 "nbformat": 4,
 "nbformat_minor": 2
}
