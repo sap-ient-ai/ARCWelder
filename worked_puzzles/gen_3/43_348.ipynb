{
 "cells": [
  {
   "cell_type": "code",
   "execution_count": 1,
   "metadata": {},
   "outputs": [
    {
     "name": "stdout",
     "output_type": "stream",
     "text": [
      "`setup_ipynb.py` executed, (multi-output enabled for subsequent cell executions).\n"
     ]
    },
    {
     "data": {
      "text/plain": [
       "[\n",
       "⚫ ⚫ ⚫ ⚫ ⚫ ⚫ 🌑 🌑 ⚫ ⚫\n",
       "⚫ ⚫ ⚫ ⚫ ⚫ ⚫ 🌑 🌑 ⚫ ⚫\n",
       "⚫ ⚫ ⚫ ⚫ ⚫ ⚫ ⚫ ⚫ ⚫ ⚫\n",
       "⚫ ⚫ ⚫ ⚫ ⚫ ⚫ ⚫ ⚫ ⚫ ⚫\n",
       "⚫ ⚫ ⚫ ⚫ ⚫ ⚫ ⚫ ⚫ ⚫ ⚫\n",
       "⚫ ⚫ ⚫ ⚫ ⚫ ⚫ ⚫ ⚫ ⚫ ⚫\n",
       "⚫ ⚫ ⚫ ⚫ ⚫ ⚫ ⚫ ⚫ ⚫ ⚫\n",
       "⚫ 🌑 🌑 ⚫ ⚫ ⚫ ⚫ ⚫ ⚫ ⚫\n",
       "⚫ 🌑 🌑 ⚫ ⚫ ⚫ ⚫ ⚫ ⚫ ⚫\n",
       "⚫ ⚫ ⚫ ⚫ ⚫ ⚫ ⚫ ⚫ ⚫ ⚫\n",
       ", \n",
       "⚫ ⚫ ⚫ ⚫ ⚫ 🟢 🌑 🌑 🟢 ⚫\n",
       "⚫ ⚫ ⚫ ⚫ ⚫ 🟢 🌑 🌑 🟢 ⚫\n",
       "⚫ ⚫ ⚫ ⚫ ⚫ 🟢 🟢 🟢 🟢 ⚫\n",
       "⚫ ⚫ ⚫ ⚫ ⚫ ⚫ ⚪ ⚪ ⚫ ⚫\n",
       "⚫ ⚫ ⚫ ⚫ ⚫ ⚫ ⚪ ⚪ ⚫ ⚫\n",
       "⚫ ⚫ ⚫ ⚫ ⚫ ⚫ ⚪ ⚪ ⚫ ⚫\n",
       "🟢 🟢 🟢 🟢 ⚫ ⚫ ⚪ ⚪ ⚫ ⚫\n",
       "🟢 🌑 🌑 🟢 ⚫ ⚫ ⚪ ⚪ ⚫ ⚫\n",
       "🟢 🌑 🌑 🟢 ⚫ ⚫ ⚪ ⚪ ⚫ ⚫\n",
       "🟢 🟢 🟢 🟢 ⚫ ⚫ ⚪ ⚪ ⚫ ⚫\n",
       "]"
      ]
     },
     "execution_count": 1,
     "metadata": {},
     "output_type": "execute_result"
    }
   ],
   "source": [
    "from ARC import ARC\n",
    "\n",
    "train, test = ARC.load(348)\n",
    "\n",
    "train[0]"
   ]
  },
  {
   "cell_type": "code",
   "execution_count": 2,
   "metadata": {},
   "outputs": [
    {
     "name": "stdout",
     "output_type": "stream",
     "text": [
      "X: 10x10  🔳  8px ⛓2  🔗2 ,  🌑  8px ⛓2  🔗2 ,                  ,                  ,  ⚫ 92px ⛓1  🔗1 \n",
      "Y: 10x10  🔳 42px ⛓2  🔗2 ,  🌑  8px ⛓2  🔗2 ,  🟢 20px ⛓2  🔗2 ,  ⚪ 14px ⛓1  🔗1 ,  ⚫ 58px ⛓2  🔗2 \n",
      "🌑 fixed, 🟢 ⚪ created, 🔳 extended, ⚫ reduced\n",
      "\n",
      "X: 15x15  🔳 24px ⛓3  🔗3 ,  🌑 24px ⛓3  🔗3 ,                  ,                  ,  ⚫201px ⛓1  🔗1 \n",
      "Y: 15x15  🔳138px ⛓1  🔗1 ,  🌑 24px ⛓3  🔗3 ,  🟢 68px ⛓1  🔗1 ,  ⚪ 46px ⛓3  🔗3 ,  ⚫ 87px ⛓4  🔗4 \n",
      "🌑 fixed, 🟢 ⚪ created, 🔳 extended, ⚫ reduced\n",
      "\n",
      "X: 20x20  🔳 56px ⛓3  🔗3 ,  🌑 56px ⛓3  🔗3 ,                  ,                  ,  ⚫344px ⛓1  🔗1 \n",
      "Y: 20x20  🔳247px ⛓1  🔗1 ,  🌑 56px ⛓3  🔗3 ,  🟢142px ⛓2  🔗2 ,  ⚪ 49px ⛓2  🔗2 ,  ⚫153px ⛓2  🔗2 \n",
      "🌑 fixed, 🟢 ⚪ created, 🔳 extended, ⚫ reduced\n",
      "\n",
      "X: 20x20  🔳 60px ⛓3  🔗3 ,  🌑 60px ⛓3  🔗3 ,                  ,                  ,  ⚫340px ⛓1  🔗1 \n",
      "Y: 20x20  🔳296px ⛓1  🔗1 ,  🌑 60px ⛓3  🔗3 ,  🟢144px ⛓3  🔗3 ,  ⚪ 92px ⛓3  🔗3 ,  ⚫104px ⛓5  🔗5 \n",
      "🌑 fixed, 🟢 ⚪ created, 🔳 extended, ⚫ reduced\n",
      "\n"
     ]
    }
   ],
   "source": [
    "train.overview()"
   ]
  },
  {
   "cell_type": "code",
   "execution_count": 3,
   "metadata": {},
   "outputs": [
    {
     "name": "stdout",
     "output_type": "stream",
     "text": [
      "🟢  3x4    8px  1.   6.5 👆\n",
      "🟢  4x4   12px  7.5  1.5 👇 👈\n",
      "🌑  2x2    4px  0.5  6.5 👆\n",
      "🌑  2x2    4px  7.5  1.5 🔲\n",
      "⚪  7x2   14px  6.   6.5 👇\n",
      "\n",
      "🟢 12x13  68px  5.5  8.  👆 👉\n",
      "🌑  4x4   16px  3.5  9.5 🔲\n",
      "🌑  2x2    4px  6.5  3.5 🔲\n",
      "🌑  2x2    4px  9.5 13.5 👉\n",
      "⚪  7x4   28px 11.   9.5 👇\n",
      "⚪  6x2   12px 11.5  3.5 👇\n",
      "⚪  3x2    6px 13.  13.5 👇 👉\n",
      "\n",
      "🟢  4x4   12px  3.5  2.5 🔲\n",
      "🟢 16x17 130px 11.5 11.  👇 👉\n",
      "🌑  2x2    4px  3.5  2.5 🔲\n",
      "🌑  4x4   16px  7.5 16.5 🔲\n",
      "🌑  6x6   36px 14.5  8.5 🔲\n",
      "⚪ 14x2   17px 12.5  2.5 👇\n",
      "⚪  8x4   32px 15.5 16.5 👇\n",
      "\n",
      "🟢  4x8   24px  1.5  8.5 👆\n",
      "🟢  8x8   48px  9.5  3.5 👈\n",
      "🟢 12x9   72px 11.5 15.  👉\n",
      "🌑  2x4    8px  0.5  8.5 👆\n",
      "🌑  4x4   16px  9.5  3.5 🔲\n",
      "🌑  6x6   36px 11.5 16.5 👉\n",
      "⚪ 16x4   56px 11.5  8.5 👇\n",
      "⚪  6x4   24px 16.5  3.5 👇\n",
      "⚪  2x6   12px 18.5 16.5 👇 👉\n",
      "\n"
     ]
    }
   ],
   "source": [
    "# 👁\n",
    "# - X comprises a small number of 🌑 regions.\n",
    "# - Y adds ⚪ and 🟢 regions\n",
    "\n",
    "# 🔮 Likely we can consider 🌑 as seeds, and need to figure out how to 'grow' these seeds\n",
    "\n",
    "# 👁 ⛓ and 🔗 are always equal; we'll work with ⛓, as we have no indication 🔗 might be preferable, and ⛓ is more specific, as it disambiguates two diagonally-touching ⛓-regions.\n",
    "\n",
    "# 👁 Y3 is 'clean' in that 3 regions are present for each of 🌑 ⚪ 🟢\n",
    "\n",
    "# 👑 Let's dump out region stats\n",
    "\n",
    "f = lambda r: f'{r.glyph_hxw_npix} {r.frame.center:~xx.x} {r.touchings}'\n",
    "\n",
    "for Y in train.Y:\n",
    "    # TODO: Allow '🌑….⛓' to order outputs fixed-first\n",
    "    print('\\n'.join(f @ Y['⛓']) + '\\n')\n",
    "\n",
    "if 0:  # ???\n",
    "    train.Y['🌑….⛓']('glyph hxw npix frame.center touchings')"
   ]
  },
  {
   "cell_type": "code",
   "execution_count": 4,
   "metadata": {},
   "outputs": [
    {
     "data": {
      "text/plain": [
       "[True, True, True, True, True]"
      ]
     },
     "execution_count": 4,
     "metadata": {},
     "output_type": "execute_result"
    }
   ],
   "source": [
    "# 👁: 🌑 is nearly always a {2k}x{2k} filled square\n",
    "# 🛸: There's one 🌑2x4 in Y[3], but (👽) that's touching an edge (🔼), so may be partially off-grid.\n",
    "\n",
    "# 👁: In Y[2], we see:\n",
    "#       🌑2x2.4px     3.5 2.5    🔲\n",
    "#       🟢4x4.12px    3.5 2.5    🔲\n",
    "\n",
    "# 🎭💡: This is a 1-thick 🟢 perimeter around a 2x2 🌑 square\n",
    "\n",
    "# ❓: Can we spot other this 🌑-in-🟢 motif elsewhere?\n",
    "#       Y[0]\n",
    "#         🌑2x2.4px     7.5 1.5    🔲\n",
    "#         🟢4x4.12px    7.5 1.5    🔽 ◀\n",
    "\n",
    "#       Y[3]\n",
    "#         🌑4x4.16px    9.5 3.5    🔲\n",
    "#         🟢8x8.48px    9.5 3.5    ◀\n",
    "\n",
    "# 👁: Here, a 🌑2x2 produces a 🟢4x4 and a 🌑4x4 produces an 🟢8x8\n",
    "\n",
    "# 🛸👽: In some cases, maybe the 🟢-perimeters touch, so we shouldn't worry that we can't explain ALL 🌑 🟢 interactions at this point.\n",
    "\n",
    "# 🔮📐: Given a 🌑{k}x{k} 'seed', draw a {2k}x{2k}🟢 around its centerpoint, then re-render the 🌑seed on top.\n",
    "\n",
    "# 👁: ⚪ is always BELOW a corresponding 🌑 with the same center.x, and touches the bottom of the grid (🔽).\n",
    "\n",
    "# 👁: ⚪ is nearly always {h}x{w}.{h*w}px, i.e. a filled rectangle.\n",
    "# 🛸: The only exception is Y[3] ⚪16x4.56px\n",
    "# 👽: Maybe in this case ⚪ is partially occluded by 🟢?\n",
    "# 👑: We should consider rendering ⚪ BEFORE 🟢.\n",
    "\n",
    "# 👁: There's an interaction between 🌑 and ⚪. This is most prevalent in Y[1]:\n",
    "#       Y[1]\n",
    "#         🌑4x4.16px    3.5 9.5    🔲\n",
    "#         ⚪7x4.28px    11.0 9.5   🔽\n",
    "\n",
    "#         🌑2x2.4px     6.5 3.5    🔲\n",
    "#         ⚪6x2.12px    11.5 3.5   🔽\n",
    "\n",
    "#         🌑2x2.4px     9.5 13.5   ▶\n",
    "#         ⚪3x2.6px     13.0 13.5  🔽 ▶\n",
    "\n",
    "# ♻💡: For each 🌑 we see an associated ⚪ with the same width and x-center positioned vertically below it.\n",
    "\n",
    "# ❓: Do we see this motif elsewhere?\n",
    "# ✅: Yup, it's everywhere.\n",
    "\n",
    "# 🧲👑📐: Bringing together what we have discovered, we are in a position to suggest a candidate construction logic:\n",
    "#   - Identify the center-point (c) and radius (r) of each 🌑{k}x{k} seed.\n",
    "#   - Render a ⚪ 'stalk' from 🌑 vertically downwards to the bottom edge of the grid.\n",
    "#   - Render a {2r}x{2r}🟢 square ~ c\n",
    "#   - Render 🌑 on top\n",
    "\n",
    "def solve(X):\n",
    "    Y = X.pad(30)\n",
    "\n",
    "    def recover(frame):\n",
    "        # If r touches a side, expand its appropriate margin (T B L R)\n",
    "        # We assume MAXIMUM ONE edge of frame touches a side\n",
    "        margins = (frame == X.rect).int\n",
    "        return frame.extend(margins * abs(frame.h - frame.w))\n",
    "\n",
    "    for R in (seed_rects := recover @ X['🌑.⛓.🖼']):\n",
    "        Y[R.with_(b=Y.h - 1)] = '⚪'\n",
    "        Y[R.with_(radius=R.h)] = '🟢'\n",
    "        Y[X == '🌑'] = '🌑'\n",
    "    return Y\n",
    "\n",
    "[Y @ solve(X)  for (X, Y) in train | test]"
   ]
  }
 ],
 "metadata": {
  "kernelspec": {
   "display_name": ".venv",
   "language": "python",
   "name": "python3"
  },
  "language_info": {
   "codemirror_mode": {
    "name": "ipython",
    "version": 3
   },
   "file_extension": ".py",
   "mimetype": "text/x-python",
   "name": "python",
   "nbconvert_exporter": "python",
   "pygments_lexer": "ipython3",
   "version": "3.12.3"
  }
 },
 "nbformat": 4,
 "nbformat_minor": 2
}
