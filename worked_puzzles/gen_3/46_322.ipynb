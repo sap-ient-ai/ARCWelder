{
 "cells": [
  {
   "cell_type": "code",
   "execution_count": 1,
   "metadata": {},
   "outputs": [
    {
     "name": "stdout",
     "output_type": "stream",
     "text": [
      "`setup_ipynb.py` executed, (multi-output enabled for subsequent cell executions).\n"
     ]
    },
    {
     "data": {
      "text/plain": [
       "[\n",
       "⚫ ⚫ ⚫ ⚫ ⚫ ⚫ ⚫ ⚫ ⚫ ⚫ ⚫ ⚫ ⚫\n",
       "⚫ ⚫ ⚫ ⚫ ⚫ ⚫ ⚫ ⚫ ⚫ ⚫ ⚫ ⚫ ⚫\n",
       "⚫ ⚫ ⚫ ⚫ ⚫ ⚫ ⚫ ⚫ ⚫ ⚫ ⚫ ⚫ ⚫\n",
       "⚫ ⚫ ⚫ ⚫ 🔴 ⚫ ⚫ ⚫ ⚫ ⚫ ⚫ ⚫ ⚫\n",
       "⚫ ⚫ ⚫ ⚫ ⚫ ⚫ ⚫ ⚫ ⚫ ⚫ ⚫ ⚫ ⚫\n",
       "⚫ ⚫ ⚫ ⚫ ⚫ ⚫ ⚫ ⚫ ⚫ ⚫ ⚫ ⚫ ⚫\n",
       "⚫ ⚫ ⚫ ⚫ ⚫ ⚫ ⚫ ⚫ ⚫ ⚫ ⚫ ⚫ ⚫\n",
       "⚫ ⚫ ⚫ ⚫ ⚫ ⚫ ⚫ ⚫ ⚫ ⚫ ⚫ ⚫ ⚫\n",
       "⚫ ⚫ ⚫ ⚫ ⚫ ⚫ ⚫ ⚫ ⚫ ⚫ ⚫ ⚫ ⚫\n",
       "⚫ ⚫ ⚫ ⚫ ⚫ ⚫ ⚫ ⚫ ⚫ ⚫ ⚫ ⚫ ⚫\n",
       "⚫ ⚫ ⚫ ⚫ ⚫ ⚫ ⚫ ⚫ ⚫ ⚫ ⚫ ⚫ ⚫\n",
       "⚫ ⚫ ⚫ ⚫ ⚫ ⚫ ⚫ ⚫ ⚫ ⚫ ⚫ ⚫ ⚫\n",
       "⚫ ⚫ ⚫ ⚫ ⚫ ⚫ ⚫ ⚫ ⚫ ⚫ ⚫ ⚫ ⚫\n",
       ", \n",
       "⚫ ⚫ ⚫ ⚫ ⚫ ⚫ 🟣 ⚫ ⚫ ⚫ ⚫ ⚫ ⚫\n",
       "⚫ ⚫ ⚫ ⚫ 🟣 🟣 🟣 ⚫ ⚫ ⚫ ⚫ ⚫ ⚫\n",
       "⚫ ⚫ ⚫ ⚫ 🟣 ⚫ ⚫ ⚫ ⚫ ⚫ ⚫ ⚫ ⚫\n",
       "⚫ ⚫ ⚫ ⚫ 🔴 ⚫ ⚫ ⚫ ⚫ ⚫ ⚫ ⚫ ⚫\n",
       "⚫ ⚫ ⚫ ⚫ 🟣 ⚫ ⚫ ⚫ ⚫ ⚫ ⚫ ⚫ ⚫\n",
       "⚫ ⚫ 🟣 🟣 🟣 ⚫ ⚫ ⚫ ⚫ ⚫ ⚫ ⚫ ⚫\n",
       "⚫ ⚫ 🟣 ⚫ ⚫ ⚫ ⚫ ⚫ ⚫ ⚫ ⚫ ⚫ ⚫\n",
       "🟣 🟣 🟣 ⚫ ⚫ ⚫ ⚫ ⚫ ⚫ ⚫ ⚫ ⚫ ⚫\n",
       "🟣 ⚫ ⚫ ⚫ ⚫ ⚫ ⚫ ⚫ ⚫ ⚫ ⚫ ⚫ ⚫\n",
       "🟣 ⚫ ⚫ ⚫ ⚫ ⚫ ⚫ ⚫ ⚫ ⚫ ⚫ ⚫ ⚫\n",
       "⚫ ⚫ ⚫ ⚫ ⚫ ⚫ ⚫ ⚫ ⚫ ⚫ ⚫ ⚫ ⚫\n",
       "⚫ ⚫ ⚫ ⚫ ⚫ ⚫ ⚫ ⚫ ⚫ ⚫ ⚫ ⚫ ⚫\n",
       "⚫ ⚫ ⚫ ⚫ ⚫ ⚫ ⚫ ⚫ ⚫ ⚫ ⚫ ⚫ ⚫\n",
       "]"
      ]
     },
     "execution_count": 1,
     "metadata": {},
     "output_type": "execute_result"
    }
   ],
   "source": [
    "from ARC import ARC\n",
    "\n",
    "train, test = ARC.load(322)\n",
    "\n",
    "train[0]"
   ]
  },
  {
   "cell_type": "code",
   "execution_count": 2,
   "metadata": {},
   "outputs": [
    {
     "name": "stdout",
     "output_type": "stream",
     "text": [
      "X: 13x13  🔳  1px ⛓1  🔗1 ,  🔴  1px ⛓1  🔗1 ,                  ,  ⚫168px ⛓1  🔗1 \n",
      "Y: 13x13  🔳 16px ⛓1  🔗1 ,  🔴  1px ⛓1  🔗1 ,  🟣 15px ⛓2  🔗2 ,  ⚫153px ⛓2  🔗2 \n",
      "🔴 fixed, 🟣 created, 🔳 extended, ⚫ reduced\n",
      "\n",
      "X: 13x13  🔳  1px ⛓1  🔗1 ,  🔴  1px ⛓1  🔗1 ,                  ,  ⚫168px ⛓1  🔗1 \n",
      "Y: 13x13  🔳 23px ⛓1  🔗1 ,  🔴  1px ⛓1  🔗1 ,  🟣 22px ⛓2  🔗2 ,  ⚫146px ⛓2  🔗2 \n",
      "🔴 fixed, 🟣 created, 🔳 extended, ⚫ reduced\n",
      "\n"
     ]
    }
   ],
   "source": [
    "train.overview()"
   ]
  },
  {
   "cell_type": "code",
   "execution_count": 3,
   "metadata": {},
   "outputs": [
    {
     "name": "stdout",
     "output_type": "stream",
     "text": [
      "13x13\n",
      "🔴  3  4\n",
      "🟣  3x3    5px  0  4 to  2  6 🔄     👆\n",
      "🟣  6x5   10px  4  0 to  9  4       👈\n",
      "\n",
      "13x13\n",
      "🔴  7  6\n",
      "🟣  7x7   13px  0  6 to  6 12 🔄     👆 👉\n",
      "🟣  5x5    9px  8  2 to 12  6 🔄     👇\n",
      "\n"
     ]
    }
   ],
   "source": [
    "# 👁 Each X comprises a single 🔴, which is invariant in Y.\n",
    "# 🧠 We'll want to examine the neighbourhood ~🔴, but we'll want the location first\n",
    "\n",
    "# ♻ Let's consider 🔴 as the 'seed'.\n",
    "# ⚡📌 Get location of 🔴\n",
    "\n",
    "# 👁 Y adds two 🟣 regions, forming a single 🔳 region.\n",
    "# 👁 Y has two ⚫ regions\n",
    "# 🕵♻\n",
    "# - { Y.#🟣 = 2, Y.#🔳 = 1, 🔴invariant } => Y.🟣regions must (ortho)-connect via our 🔴seed.\n",
    "# - Y.⚫2 => 🟣🔴🟣 cleaves Y into 2 ⚫-regions.\n",
    "\n",
    "# ⚡ Get location of 🔴 and stats for the 🟣 regions.\n",
    "\n",
    "for X, Y in train:\n",
    "    print(f'{X.hw:~x}')\n",
    "    print('🔴', X['🔴.•.0'])\n",
    "\n",
    "    for focus in Y['🟣.🔗']:\n",
    "        print(\n",
    "            focus.glyph_hxw_npix,\n",
    "            focus.frame,\n",
    "            f'{str(focus > '⏺'):<5}',\n",
    "            focus.touchings\n",
    "        )\n",
    "    print()"
   ]
  },
  {
   "cell_type": "code",
   "execution_count": 4,
   "metadata": {},
   "outputs": [
    {
     "data": {
      "text/plain": [
       "(\n",
       " ⚫ ⚫ ⚫ ⚫ ⚫ 🟣 ⚫\n",
       " ⚫ ⚫ ⚫ 🟣 🟣 🟣 ⚫\n",
       " ⚫ ⚫ ⚫ 🟣 ⚫ ⚫ ⚫\n",
       " ⚫ ⚫ ⚫ 🔴 ⚫ ⚫ ⚫\n",
       " ⚫ ⚫ ⚫ 🟣 ⚫ ⚫ ⚫\n",
       " ⚫ 🟣 🟣 🟣 ⚫ ⚫ ⚫\n",
       " ⚫ 🟣 ⚫ ⚫ ⚫ ⚫ ⚫,\n",
       " \n",
       " ⚫ ⚫ ⚫ ⚫ ⚫ 🟣 ⚫\n",
       " ⚫ ⚫ ⚫ 🟣 🟣 🟣 ⚫\n",
       " ⚫ ⚫ ⚫ 🟣 ⚫ ⚫ ⚫\n",
       " ⚫ ⚫ ⚫ 🔴 ⚫ ⚫ ⚫\n",
       " ⚫ ⚫ ⚫ 🟣 ⚫ ⚫ ⚫\n",
       " ⚫ 🟣 🟣 🟣 ⚫ ⚫ ⚫\n",
       " ⚫ 🟣 ⚫ ⚫ ⚫ ⚫ ⚫)"
      ]
     },
     "execution_count": 4,
     "metadata": {},
     "output_type": "execute_result"
    },
    {
     "data": {
      "text/plain": [
       "⏺ 🔄"
      ]
     },
     "execution_count": 4,
     "metadata": {},
     "output_type": "execute_result"
    }
   ],
   "source": [
    "# 👁: 3x3.5px, 5x5.9px, 7x7.13px, all 🔄... hmm there's a clear progression here.\n",
    "# 🛸: 6x5 tho'...\n",
    "# 👽: Likely pattern extends off-grid\n",
    "\n",
    "# ⚡: Inspect ~🔴\n",
    "\n",
    "# TODO: .extend(4) fails\n",
    "focus = lambda Y, k: Y[\n",
    "    Y['🔴.✂.🖼'].with_(radius=k)]\n",
    "\n",
    "Y0, Y1 = [focus(Y, 3) for Y in train.Y]\n",
    "\n",
    "Y0, Y1\n",
    "\n",
    "Y0 > Y1\n"
   ]
  },
  {
   "cell_type": "code",
   "execution_count": 5,
   "metadata": {},
   "outputs": [
    {
     "name": "stdout",
     "output_type": "stream",
     "text": [
      "-1  0, -1  0,  0  1,  0  1, -1  0, -1  0,  0  1,  0  1, -1  0, -1  0,  0  1,  0  1, -1  0\n"
     ]
    }
   ],
   "source": [
    "# 👁: Identical, also 🔄 ~ 🔴\n",
    "\n",
    "# 👁: 🟣-arms seem to extend from 🔴, mirroring.\n",
    "# 🔎: Let's examine the coords for a 🟣 region, sorted by increasing distance from 🔴\n",
    "\n",
    "# ⚡: Let's use Y[1] as the 🟣 regions are bigger\n",
    "\n",
    "Y = train.Y[1]\n",
    "coords = Y['🔴.•'] | Y['🟣.⛓.0.src.•']\n",
    "# TODO: Stretchgoal: Y['{🔴, 🟣.⛓.0}.•']\n",
    "rel = (coords - Y['🔴.•.0']).sort('>')\n",
    "Δ = rel[1:] - rel[:-1]\n",
    "print(Δ)\n"
   ]
  },
  {
   "cell_type": "code",
   "execution_count": 6,
   "metadata": {},
   "outputs": [
    {
     "data": {
      "text/plain": [
       "'🔼 🔼 ▶ ▶ 🔼 🔼 ▶ ▶ 🔼 🔼 ▶ ▶ 🔼'"
      ]
     },
     "execution_count": 6,
     "metadata": {},
     "output_type": "execute_result"
    }
   ],
   "source": [
    "' '.join(Δ.glyph)"
   ]
  },
  {
   "cell_type": "code",
   "execution_count": 7,
   "metadata": {},
   "outputs": [
    {
     "data": {
      "text/plain": [
       "[True, True, True]"
      ]
     },
     "execution_count": 7,
     "metadata": {},
     "output_type": "execute_result"
    }
   ],
   "source": [
    "# 👁 It is just 🔼 🔼  ▶ ▶ repeated (presumably until off-grid).\n",
    "\n",
    "from Coord import Coord\n",
    "from Iter import Cycler\n",
    "\n",
    "def solve(X):\n",
    "    Y = X.copy\n",
    "    for sign in [-1, 1]:\n",
    "        p = X['🔴.•.0']\n",
    "        for Δ in Cycler('🔼 🔼  ▶ ▶'):\n",
    "            p += Coord(Δ) * sign  # TODO: Allow __rmul__ and __radd__ everywhere\n",
    "            if p not in X.rect:\n",
    "                break\n",
    "            Y[p] = '🟣'\n",
    "    return Y\n",
    "\n",
    "[Y @ solve(X)  for (X, Y) in train | test]"
   ]
  }
 ],
 "metadata": {
  "kernelspec": {
   "display_name": ".venv",
   "language": "python",
   "name": "python3"
  },
  "language_info": {
   "codemirror_mode": {
    "name": "ipython",
    "version": 3
   },
   "file_extension": ".py",
   "mimetype": "text/x-python",
   "name": "python",
   "nbconvert_exporter": "python",
   "pygments_lexer": "ipython3",
   "version": "3.12.3"
  }
 },
 "nbformat": 4,
 "nbformat_minor": 2
}
