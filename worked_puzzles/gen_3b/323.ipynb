{
 "cells": [
  {
   "cell_type": "code",
   "execution_count": 1,
   "metadata": {},
   "outputs": [
    {
     "name": "stdout",
     "output_type": "stream",
     "text": [
      "`setup_ipynb.py` executed, (multi-output enabled for subsequent cell executions).\n"
     ]
    },
    {
     "data": {
      "text/plain": [
       "[\n",
       "🔴 🔴 🔴 🔵 🔵 🔵 🔵 🔴 🔴 🔴 🔴 🔴\n",
       "🔴 🔴 🔴 🔵 🔵 🔵 🔵 🔴 🔴 🔴 🔴 🔴\n",
       "🔵 🔵 🔵 🔵 🔵 🔵 🔵 🔵 🔵 🔵 🔵 🔵\n",
       "🔵 🔵 🔵 🔵 🔵 🔵 🔵 🔵 🔵 🔵 🔵 🔵\n",
       "🔵 🔵 🔵 🔵 🔵 🔵 🔵 🔵 🔵 🔵 🔵 🔵\n",
       "🔴 🔴 🔴 🔵 🟡 🔵 🔵 🔴 🔴 🔴 🔴 🔴\n",
       "🔴 🔴 🔴 🔵 🔵 🔵 🔵 🔴 🔴 🔴 🔴 🔴\n",
       "🔴 🔴 🔴 🔵 🔵 🔵 🔵 🔴 🔴 🔴 🔴 🔴\n",
       "🔴 ⚪ 🔴 🔵 🔵 🔵 🔵 🔴 🔴 🔴 🔴 🔴\n",
       "🔴 🔴 🔴 🔵 🔵 🔵 🔵 🔴 🔴 🔴 🔴 🔴\n",
       "🔴 🔴 🔴 🔵 🔵 🔵 🔵 🔴 🔴 🔴 🔴 🔴\n",
       "🔴 🔴 🔴 🔵 🔵 🔵 🔵 🔴 🔴 🔴 🔴 🔴\n",
       "🔵 🔵 🔵 🔵 🔵 🔵 🔵 🔵 🔵 🔵 🔵 🔵\n",
       "🔵 🔵 🔵 🔵 🔵 🔵 🔵 🔵 🔵 🔵 🔵 🔵\n",
       "🔵 🔵 🔵 🔵 🔵 🔵 🔵 🔵 🔵 🔵 🔵 🔵\n",
       "🔵 🔵 🔵 🔵 🔵 🔵 🔵 🔵 🔵 🔵 🔵 🔵\n",
       "🔴 🔴 🔴 🔵 🔵 🔵 🔵 🔴 🔴 🔴 🔴 🔴\n",
       "🔴 🔴 🔴 🔵 🔵 🔵 🔵 🔴 🔴 🔴 🔴 🔴\n",
       "🔴 🔴 🔴 🔵 🔵 🔵 🔵 🔴 🔴 🔴 🔴 🔴\n",
       ", \n",
       "🔴 🔴 🔴 🔵 🔵 🔵 🔵 🔴 🔴 ⚪ 🔴 🔴\n",
       "⚪ 🔴 🔴 🔵 🔵 🔵 🔵 🔴 ⚪ 🔴 🔴 🔴\n",
       "🔵 🟡 🔵 🔵 🔵 🔵 🔵 🟡 🔵 🔵 🔵 🔵\n",
       "🔵 🔵 🟡 🔵 🔵 🔵 🟡 🔵 🔵 🔵 🔵 🔵\n",
       "🔵 🔵 🔵 🟡 🔵 🟡 🔵 🔵 🔵 🔵 🔵 🔵\n",
       "🔴 🔴 🔴 🔵 🟡 🔵 🔵 🔴 🔴 🔴 🔴 🔴\n",
       "🔴 🔴 🔴 🟡 🔵 🟡 🔵 🔴 🔴 🔴 🔴 🔴\n",
       "⚪ 🔴 ⚪ 🔵 🔵 🔵 🟡 🔴 🔴 🔴 🔴 🔴\n",
       "🔴 ⚪ 🔴 🔵 🔵 🔵 🔵 ⚪ 🔴 🔴 🔴 🔴\n",
       "⚪ 🔴 ⚪ 🔵 🔵 🔵 🔵 🔴 ⚪ 🔴 🔴 🔴\n",
       "🔴 🔴 🔴 🟡 🔵 🔵 🔵 🔴 🔴 ⚪ 🔴 🔴\n",
       "🔴 🔴 🔴 🔵 🟡 🔵 🔵 🔴 🔴 🔴 ⚪ 🔴\n",
       "🔵 🔵 🔵 🔵 🔵 🟡 🔵 🔵 🔵 🔵 🔵 🟡\n",
       "🔵 🔵 🔵 🔵 🔵 🔵 🟡 🔵 🔵 🔵 🔵 🔵\n",
       "🔵 🔵 🔵 🔵 🔵 🔵 🔵 🟡 🔵 🔵 🔵 🔵\n",
       "🔵 🔵 🔵 🔵 🔵 🔵 🔵 🔵 🟡 🔵 🔵 🔵\n",
       "🔴 🔴 🔴 🔵 🔵 🔵 🔵 🔴 🔴 ⚪ 🔴 🔴\n",
       "🔴 🔴 🔴 🔵 🔵 🔵 🔵 🔴 🔴 🔴 ⚪ 🔴\n",
       "🔴 🔴 🔴 🔵 🔵 🔵 🔵 🔴 🔴 🔴 🔴 ⚪\n",
       "]"
      ]
     },
     "execution_count": 1,
     "metadata": {},
     "output_type": "execute_result"
    }
   ],
   "source": [
    "from ARC import ARC\n",
    "\n",
    "train, test = ARC.load(323)\n",
    "\n",
    "train[0]"
   ]
  },
  {
   "cell_type": "code",
   "execution_count": 2,
   "metadata": {},
   "outputs": [
    {
     "name": "stdout",
     "output_type": "stream",
     "text": [
      "X: 19x12  🔳228px ⛓1  🔗1 ,  🟡  1px ⛓1  🔗1 ,  ⚪  1px ⛓1  🔗1 ,  🔴 95px ⛓6  🔗6 ,  🔵131px ⛓1  🔗1 \n",
      "Y: 19x12  🔳228px ⛓1  🔗1 ,  🟡 17px ⛓17 🔗3 ,  ⚪ 15px ⛓15 🔗5 ,  🔴 81px ⛓12 🔗6 ,  🔵115px ⛓6  🔗1 \n",
      "🔳 fixed, 🟡 ⚪ extended, 🔴 🔵 reduced\n",
      "\n",
      "X: 12x14  🔳168px ⛓1  🔗1 ,  🔵  1px ⛓1  🔗1 ,  🔴  1px ⛓1  🔗1 ,  🟢 71px ⛓4  🔗4 ,  ⚪ 95px ⛓1  🔗1 \n",
      "Y: 12x14  🔳168px ⛓1  🔗1 ,  🔵 17px ⛓17 🔗3 ,  🔴  8px ⛓8  🔗3 ,  🟢 64px ⛓7  🔗4 ,  ⚪ 79px ⛓6  🔗1 \n",
      "🔳 fixed, 🔵 🔴 extended, 🟢 ⚪ reduced\n",
      "\n",
      "X: 15x15  🔳225px ⛓1  🔗1 ,  🔴  1px ⛓1  🔗1 ,  🟢  2px ⛓2  🔗2 ,  ⚪ 89px ⛓2  🔗2 ,  🟠133px ⛓2  🔗2 \n",
      "Y: 15x15  🔳225px ⛓1  🔗1 ,  🔴 16px ⛓16 🔗4 ,  🟢 24px ⛓24 🔗5 ,  ⚪ 74px ⛓9  🔗2 ,  🟠111px ⛓10 🔗2 \n",
      "🔳 fixed, 🔴 🟢 extended, ⚪ 🟠 reduced\n",
      "\n"
     ]
    }
   ],
   "source": [
    "train.overview()"
   ]
  },
  {
   "cell_type": "code",
   "execution_count": 3,
   "metadata": {},
   "outputs": [
    {
     "data": {
      "text/plain": [
       "[\n",
       " ⚪ ⚫ ⚫ ⚫ ⚪\n",
       " ⚫ ⚪ ⚫ ⚪ ⚫\n",
       " ⚫ ⚫ 🔵 ⚫ ⚫\n",
       " ⚫ ⚪ ⚫ ⚪ ⚫\n",
       " ⚪ ⚫ ⚫ ⚫ ⚪,\n",
       " \n",
       " \n",
       " \n",
       " \n",
       " \n",
       " ]"
      ]
     },
     "execution_count": 3,
     "metadata": {},
     "output_type": "execute_result"
    }
   ],
   "source": [
    "# Each pair seems to contain two 'seed' glyphs (with 2 or 3 seeds), and two 'background' glyphs.\n",
    "\n",
    "# Let's take pair[0] and examine the locations that flip a background into a seed.\n",
    "\n",
    "X, Y = train[0]\n",
    "\n",
    "G = (X['🟡'] | X['⚪']) * '🔵' + (X != Y) * '⚪'\n",
    "\n",
    "[G[f.extend(2)] for f in G['🔵.⛓.frame']]"
   ]
  },
  {
   "cell_type": "code",
   "execution_count": 4,
   "metadata": {},
   "outputs": [
    {
     "data": {
      "text/plain": [
       "[('🔴', '⚪'), ('🔵', '🟡')]"
      ]
     },
     "execution_count": 4,
     "metadata": {},
     "output_type": "execute_result"
    }
   ],
   "source": [
    "# Second 🔵 isn't working (too close to edge?)\n",
    "# From the first one, it looks as though diagonal lines extend from the seed.\n",
    "\n",
    "# Let's look at the transitions.\n",
    "\n",
    "from Iter import Iter\n",
    "\n",
    "Iter((X[p], Y[p]) for p in G['⚪'].pix).unique\n"
   ]
  },
  {
   "cell_type": "code",
   "execution_count": 5,
   "metadata": {},
   "outputs": [
    {
     "data": {
      "text/plain": [
       "(\n",
       " 🔵 🔵 🔵\n",
       " 🔵 🟡 🔵\n",
       " 🔵 🔵 🔵,\n",
       " \n",
       " 🔴 🔴 🔴\n",
       " 🔴 ⚪ 🔴\n",
       " 🔴 🔴 🔴)"
      ]
     },
     "execution_count": 5,
     "metadata": {},
     "output_type": "execute_result"
    }
   ],
   "source": [
    "# Now, how to know that 🔵 -> 🟡 and 🔴 -> ⚪, and not the other way around?\n",
    "\n",
    "f = lambda seed: X[X[f'{seed}.⛓.0'].frame.extend(1)]\n",
    "\n",
    "f('🟡'), f('⚪')\n"
   ]
  },
  {
   "cell_type": "code",
   "execution_count": 6,
   "metadata": {},
   "outputs": [
    {
     "data": {
      "text/plain": [
       "[True, True, True, True]"
      ]
     },
     "execution_count": 6,
     "metadata": {},
     "output_type": "execute_result"
    }
   ],
   "source": [
    "# Ok, that's pretty easy.\n",
    "# Of course, if the seed is on the edge of a region, we'd get a mix of 🔴 and 🔵, so we'd have to infer which region the seed is \"sitting on top of\".\n",
    "# Let's pick the most-common bordering colour and hope for the best.\n",
    "# It's not bullet-proof, but it will likely do the job.\n",
    "\n",
    "def solve(X):\n",
    "    seeds = X['⛓'] | (lambda r: r.Σ == 1)\n",
    "\n",
    "    # Pad in case seed is on edge of grid\n",
    "    surrounding = lambda r:  \\\n",
    "        X.pad(1, fill='⚫')[r.frame.extend(1)].counts[0][0]\n",
    "\n",
    "    mapping = {surrounding(r): r.glyph for r in seeds}\n",
    "\n",
    "    Y = X.copy\n",
    "    for seed in seeds:\n",
    "        for Δ in '↗↘↙↖':\n",
    "            p = seed.frame.center.int\n",
    "            while p in X.rect:\n",
    "                Y[p] = mapping.get(X[p], X[p])\n",
    "                p += Δ\n",
    "\n",
    "    return Y\n",
    "\n",
    "[Y @ solve(X) for X, Y in train | test]"
   ]
  }
 ],
 "metadata": {
  "kernelspec": {
   "display_name": ".venv",
   "language": "python",
   "name": "python3"
  },
  "language_info": {
   "codemirror_mode": {
    "name": "ipython",
    "version": 3
   },
   "file_extension": ".py",
   "mimetype": "text/x-python",
   "name": "python",
   "nbconvert_exporter": "python",
   "pygments_lexer": "ipython3",
   "version": "3.12.3"
  }
 },
 "nbformat": 4,
 "nbformat_minor": 2
}
