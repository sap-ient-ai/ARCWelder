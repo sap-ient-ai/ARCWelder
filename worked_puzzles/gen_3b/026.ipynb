{
 "cells": [
  {
   "cell_type": "code",
   "execution_count": 1,
   "metadata": {},
   "outputs": [
    {
     "name": "stdout",
     "output_type": "stream",
     "text": [
      "`setup_ipynb.py` executed, (multi-output enabled for subsequent cell executions).\n"
     ]
    },
    {
     "data": {
      "text/plain": [
       "[\n",
       "⚫ ⚫ ⚫ ⚫ ⚫ ⚫ ⚫ ⚫ ⚫ ⚫\n",
       "⚫ ⚫ ⚫ ⚪ ⚪ ⚪ ⚫ ⚫ ⚫ ⚫\n",
       "⚫ ⚫ ⚫ ⚫ ⚪ ⚪ ⚫ ⚫ ⚫ ⚫\n",
       "⚫ ⚫ ⚫ ⚫ ⚪ ⚫ ⚫ ⚫ ⚪ ⚫\n",
       "⚫ ⚫ ⚫ ⚫ ⚪ ⚪ ⚪ ⚪ ⚪ ⚫\n",
       "⚫ ⚫ ⚫ ⚫ ⚪ ⚪ ⚫ ⚪ ⚪ ⚫\n",
       "⚫ ⚫ ⚫ ⚫ ⚫ ⚪ ⚫ ⚫ ⚫ ⚫\n",
       "⚫ ⚫ ⚫ ⚫ ⚪ ⚪ ⚫ ⚫ ⚫ ⚫\n",
       "⚫ ⚫ ⚫ ⚫ ⚪ ⚪ ⚪ ⚫ ⚫ ⚫\n",
       "⚫ ⚫ ⚫ ⚫ ⚫ ⚫ ⚫ ⚫ ⚫ ⚫\n",
       ", \n",
       "⚫ ⚫ ⚫ ⚫ ⚫ ⚫ ⚫ ⚫ ⚫ ⚫\n",
       "⚫ ⚫ ⚫ ⚪ ⚪ ⚪ ⚫ ⚫ ⚫ ⚫\n",
       "⚫ ⚫ ⚫ ⚫ ⚪ ⚪ ⚫ ⚫ ⚫ ⚫\n",
       "⚫ ⚫ ⚫ ⚫ ⚪ ⚫ ⚫ ⚫ ⚪ ⚫\n",
       "⚫ 🔵 🔵 ⚫ ⚪ ⚪ ⚪ ⚪ ⚪ ⚫\n",
       "⚫ 🔵 🔵 🔵 ⚪ ⚪ ⚫ ⚪ ⚪ ⚫\n",
       "⚫ 🔵 ⚫ ⚫ ⚫ ⚪ ⚫ ⚫ ⚫ ⚫\n",
       "⚫ ⚫ ⚫ ⚫ ⚪ ⚪ ⚫ ⚫ ⚫ ⚫\n",
       "⚫ ⚫ ⚫ ⚫ ⚪ ⚪ ⚪ ⚫ ⚫ ⚫\n",
       "⚫ ⚫ ⚫ ⚫ ⚫ ⚫ ⚫ ⚫ ⚫ ⚫\n",
       "]"
      ]
     },
     "execution_count": 1,
     "metadata": {},
     "output_type": "execute_result"
    }
   ],
   "source": [
    "from ARC import ARC\n",
    "\n",
    "train, test = ARC.load(26)\n",
    "\n",
    "train[0]"
   ]
  },
  {
   "cell_type": "code",
   "execution_count": 2,
   "metadata": {},
   "outputs": [
    {
     "name": "stdout",
     "output_type": "stream",
     "text": [
      "X: 10x10  🔳 22px ⛓1  🔗1 ,  ⚪ 22px ⛓1  🔗1 ,                  ,  ⚫ 78px ⛓1  🔗1 \n",
      "Y: 10x10  🔳 28px ⛓1  🔗1 ,  ⚪ 22px ⛓1  🔗1 ,  🔵  6px ⛓1  🔗1 ,  ⚫ 72px ⛓1  🔗1 \n",
      "⚪ fixed, 🔵 created, 🔳 extended, ⚫ reduced\n",
      "\n",
      "X: 10x10  🔳 37px ⛓1  🔗1 ,  ⚪ 37px ⛓1  🔗1 ,                  ,  ⚫ 63px ⛓4  🔗2 \n",
      "Y: 10x10  🔳 49px ⛓1  🔗1 ,  ⚪ 37px ⛓1  🔗1 ,  🔵 12px ⛓1  🔗1 ,  ⚫ 51px ⛓6  🔗2 \n",
      "⚪ fixed, 🔵 created, 🔳 extended, ⚫ reduced\n",
      "\n",
      "X: 10x10  🔳 31px ⛓1  🔗1 ,  ⚪ 31px ⛓1  🔗1 ,                  ,  ⚫ 69px ⛓4  🔗2 \n",
      "Y: 10x10  🔳 41px ⛓1  🔗1 ,  ⚪ 31px ⛓1  🔗1 ,  🔵 10px ⛓1  🔗1 ,  ⚫ 59px ⛓6  🔗2 \n",
      "⚪ fixed, 🔵 created, 🔳 extended, ⚫ reduced\n",
      "\n"
     ]
    }
   ],
   "source": [
    "train.overview()"
   ]
  },
  {
   "cell_type": "code",
   "execution_count": 3,
   "metadata": {},
   "outputs": [
    {
     "data": {
      "text/plain": [
       "⤴ 🔄 ⤵"
      ]
     },
     "execution_count": 3,
     "metadata": {},
     "output_type": "execute_result"
    },
    {
     "data": {
      "text/plain": [
       "⤴ 🔄 ⤵ ↔ ↕ ↘ ↗"
      ]
     },
     "execution_count": 3,
     "metadata": {},
     "output_type": "execute_result"
    },
    {
     "data": {
      "text/plain": [
       "⤴ 🔄 ⤵ ↔ ↕ ↘ ↗"
      ]
     },
     "execution_count": 3,
     "metadata": {},
     "output_type": "execute_result"
    }
   ],
   "source": [
    "# X comprises a single monochromatic ⛓-region.\n",
    "# Y adds a single 🔵 region, roughly a third the size, forming a single 🔳-region\n",
    "\n",
    "# Let's probe this 🔳-region for symmetries\n",
    "\n",
    "for Y in train.Y:\n",
    "    Y['🔳'].crop > '⏺'"
   ]
  },
  {
   "cell_type": "code",
   "execution_count": 4,
   "metadata": {},
   "outputs": [
    {
     "data": {
      "text/plain": [
       " 8  8"
      ]
     },
     "execution_count": 4,
     "metadata": {},
     "output_type": "execute_result"
    },
    {
     "data": {
      "text/plain": [
       "('⚪',  8  6, '👆 👇 👉')"
      ]
     },
     "execution_count": 4,
     "metadata": {},
     "output_type": "execute_result"
    },
    {
     "data": {
      "text/plain": [
       "('🔵',  3  3, '👈')"
      ]
     },
     "execution_count": 4,
     "metadata": {},
     "output_type": "execute_result"
    },
    {
     "data": {
      "text/plain": [
       " 9  9"
      ]
     },
     "execution_count": 4,
     "metadata": {},
     "output_type": "execute_result"
    },
    {
     "data": {
      "text/plain": [
       "('⚪',  9  7, '👆 👇 👉')"
      ]
     },
     "execution_count": 4,
     "metadata": {},
     "output_type": "execute_result"
    },
    {
     "data": {
      "text/plain": [
       "('🔵',  5  4, '👈')"
      ]
     },
     "execution_count": 4,
     "metadata": {},
     "output_type": "execute_result"
    },
    {
     "data": {
      "text/plain": [
       " 9  9"
      ]
     },
     "execution_count": 4,
     "metadata": {},
     "output_type": "execute_result"
    },
    {
     "data": {
      "text/plain": [
       "('⚪',  9  7, '👆 👇 👉')"
      ]
     },
     "execution_count": 4,
     "metadata": {},
     "output_type": "execute_result"
    },
    {
     "data": {
      "text/plain": [
       "('🔵',  5  4, '👈')"
      ]
     },
     "execution_count": 4,
     "metadata": {},
     "output_type": "execute_result"
    }
   ],
   "source": [
    "# ok, 4x rotational symmetry\n",
    "# So we have to complete the symmetry\n",
    "\n",
    "for Y in train.Y:\n",
    "    U = Y[Y['🔳.crop.frame']]\n",
    "    U.hw\n",
    "    for glyph in '⚪🔵':\n",
    "        glyph, U[glyph].crop.hw, U[glyph].crop.touchings\n"
   ]
  },
  {
   "cell_type": "code",
   "execution_count": 5,
   "metadata": {},
   "outputs": [
    {
     "data": {
      "text/plain": [
       "[True, True, True, True]"
      ]
     },
     "execution_count": 5,
     "metadata": {},
     "output_type": "execute_result"
    }
   ],
   "source": [
    "# Looks like the left 'portion' of Y.🔳 is \"missing\" in X.\n",
    "\n",
    "# Therefore we can infer Y.crop.frame by left-extending X.crop.frame to complete the square.\n",
    "\n",
    "def solve(X):\n",
    "    Y = X.copy\n",
    "    h, w = Y.crop.hw\n",
    "    R = Y.crop.frame.extend(l=(h - w))\n",
    "    Y[R] |= Y[R]['⤴.⚪->🔵']\n",
    "    return Y\n",
    "\n",
    "[Y @ solve(X) for X, Y in train | test]\n"
   ]
  }
 ],
 "metadata": {
  "kernelspec": {
   "display_name": ".venv",
   "language": "python",
   "name": "python3"
  },
  "language_info": {
   "codemirror_mode": {
    "name": "ipython",
    "version": 3
   },
   "file_extension": ".py",
   "mimetype": "text/x-python",
   "name": "python",
   "nbconvert_exporter": "python",
   "pygments_lexer": "ipython3",
   "version": "3.12.3"
  }
 },
 "nbformat": 4,
 "nbformat_minor": 2
}
