{
 "cells": [
  {
   "cell_type": "code",
   "execution_count": 1,
   "metadata": {},
   "outputs": [
    {
     "name": "stdout",
     "output_type": "stream",
     "text": [
      "`setup_ipynb.py` executed, (multi-output enabled for subsequent cell executions).\n"
     ]
    },
    {
     "data": {
      "text/plain": [
       "[\n",
       "🟡 🟡 ⚫ ⚫ ⚫ ⚫ 🟣 ⚫\n",
       "🟡 🟡 ⚫ ⚫ ⚫ ⚫ ⚫ ⚫\n",
       "⚫ ⚫ 🟡 ⚫ ⚫ ⚫ 🟣 ⚫\n",
       "⚫ 🟡 ⚫ ⚫ 🟣 🟣 ⚫ ⚫\n",
       "⚫ ⚫ 🟠 ⚫ ⚫ ⚫ 🌑 ⚫\n",
       "🟠 🟠 🟠 ⚫ ⚫ ⚫ ⚫ 🌑\n",
       "🟠 ⚫ 🟠 🟠 🌑 🌑 ⚫ ⚫\n",
       "⚫ 🟠 🟠 ⚫ 🌑 ⚫ ⚫ ⚫\n",
       ", \n",
       "🟡 🟡 🟣 ⚫\n",
       "🟠 🟠 🟠 🌑\n",
       "🟠 🌑 🟣 🟠\n",
       "🟣 🟣 🟠 ⚫\n",
       "]"
      ]
     },
     "execution_count": 1,
     "metadata": {},
     "output_type": "execute_result"
    }
   ],
   "source": [
    "from ARC import ARC\n",
    "\n",
    "train, test = ARC.load(179)\n",
    "\n",
    "train[0]"
   ]
  },
  {
   "cell_type": "code",
   "execution_count": 2,
   "metadata": {},
   "outputs": [
    {
     "name": "stdout",
     "output_type": "stream",
     "text": [
      "X:  8x8   🔳 24px ⛓9  🔗3 ,  🟡  6px ⛓3  🔗1 ,  ⚫ 40px ⛓5  🔗3 ,  🟣  4px ⛓3  🔗2 ,  🟠  9px ⛓1  🔗1 ,  🌑  5px ⛓3  🔗2 \n",
      "Y:  4x4   🔳 14px ⛓1  🔗1 ,  🟡  2px ⛓1  🔗1 ,  ⚫  2px ⛓2  🔗2 ,  🟣  4px ⛓3  🔗2 ,  🟠  6px ⛓3  🔗1 ,  🌑  2px ⛓2  🔗2 \n",
      "\n",
      "X:  8x8   🔳 28px ⛓10 🔗5 ,  🟡  8px ⛓4  🔗3 ,  ⚫ 36px ⛓4  🔗1 ,  🟣  8px ⛓3  🔗1 ,  🟠  6px ⛓4  🔗2 ,  🌑  6px ⛓3  🔗3 \n",
      "Y:  4x4   🔳 13px ⛓1  🔗1 ,  🟡  1px ⛓1  🔗1 ,  ⚫  3px ⛓3  🔗3 ,  🟣  8px ⛓3  🔗1 ,  🟠  3px ⛓3  🔗3 ,  🌑  1px ⛓1  🔗1 \n",
      "\n",
      "X:  8x8   🔳 22px ⛓9  🔗5 ,  ⚫ 42px ⛓3  🔗1 ,  🟡  5px ⛓4  🔗4 ,  🟣  4px ⛓3  🔗1 ,  🟠  6px ⛓2  🔗2 ,  🌑  7px ⛓2  🔗1 \n",
      "Y:  4x4   🔳 15px ⛓1  🔗1 ,  ⚫  1px ⛓1  🔗1 ,  🟡  4px ⛓3  🔗3 ,  🟣  4px ⛓3  🔗1 ,  🟠  3px ⛓1  🔗1 ,  🌑  4px ⛓3  🔗2 \n",
      "\n",
      "X:  8x8   🔳 37px ⛓8  🔗2 ,  🟡  6px ⛓4  🔗3 ,  ⚫ 27px ⛓7  🔗2 ,  🟣  8px ⛓4  🔗3 ,  🟠 11px ⛓2  🔗1 ,  🌑 12px ⛓2  🔗1 \n",
      "Y:  4x4   🔳 16px ⛓1  🔗1 ,                  ,                  ,  🟣  8px ⛓4  🔗3 ,  🟠  6px ⛓4  🔗1 ,  🌑  2px ⛓2  🔗1 \n",
      "\n",
      "X:  8x8   🔳 30px ⛓7  🔗3 ,  ⚫ 34px ⛓6  🔗2 ,  🟡  5px ⛓2  🔗2 ,  🟣  8px ⛓1  🔗1 ,  🟠  8px ⛓3  🔗3 ,  🌑  9px ⛓3  🔗1 \n",
      "Y:  4x4   🔳 14px ⛓1  🔗1 ,  ⚫  2px ⛓2  🔗1 ,                  ,  🟣  8px ⛓1  🔗1 ,  🟠  4px ⛓3  🔗3 ,  🌑  2px ⛓1  🔗1 \n",
      "\n"
     ]
    }
   ],
   "source": [
    "train.overview()"
   ]
  },
  {
   "cell_type": "code",
   "execution_count": 3,
   "metadata": {},
   "outputs": [
    {
     "name": "stdout",
     "output_type": "stream",
     "text": [
      "🟡  0  0 to  3  2\n",
      "⚫  0  0 to  7  7\n",
      "🟣  0  4 to  3  6\n",
      "🟠  4  0 to  7  3\n",
      "🌑  4  4 to  7  7\n",
      "\n",
      "🟡  0  0 to  3  3\n",
      "⚫  0  0 to  7  7\n",
      "🟣  0  4 to  3  7\n",
      "🟠  4  0 to  7  3\n",
      "🌑  4  5 to  7  7\n",
      "\n",
      "⚫  0  0 to  7  7\n",
      "🟡  0  0 to  3  3\n",
      "🟣  0  4 to  3  6\n",
      "🟠  4  0 to  7  2\n",
      "🌑  4  4 to  6  7\n",
      "\n",
      "🟡  0  0 to  3  3\n",
      "⚫  0  0 to  7  6\n",
      "🟣  0  4 to  3  7\n",
      "🟠  4  0 to  7  3\n",
      "🌑  4  4 to  7  7\n",
      "\n",
      "⚫  0  0 to  7  7\n",
      "🟡  0  0 to  3  3\n",
      "🟣  0  4 to  3  7\n",
      "🟠  4  0 to  7  3\n",
      "🌑  4  4 to  7  7\n",
      "\n"
     ]
    }
   ],
   "source": [
    "# Input is 8x8, output 4x4... 4 quadrants? Also four colours + black (background?) in each puzzle.\n",
    "\n",
    "for X in train.X:\n",
    "    for glyph in X.glyphs:\n",
    "        print(glyph, X[glyph].crop.frame)\n",
    "    print()"
   ]
  },
  {
   "cell_type": "code",
   "execution_count": 4,
   "metadata": {},
   "outputs": [
    {
     "data": {
      "text/plain": [
       "(\n",
       " 🟡 🟡 ⚫ ⚫\n",
       " 🟡 🟡 ⚫ ⚫\n",
       " ⚫ ⚫ 🟡 ⚫\n",
       " ⚫ 🟡 ⚫ ⚫,\n",
       " \n",
       " ⚫ ⚫ 🟣 ⚫\n",
       " ⚫ ⚫ ⚫ ⚫\n",
       " ⚫ ⚫ 🟣 ⚫\n",
       " 🟣 🟣 ⚫ ⚫)"
      ]
     },
     "execution_count": 4,
     "metadata": {},
     "output_type": "execute_result"
    }
   ],
   "source": [
    "# yup, quadrants:\n",
    "#   🟡 🟣\n",
    "#   🟠 🌑\n",
    "\n",
    "# So somehow the transform combines the quadrants.\n",
    "\n",
    "X, Y = train[0]\n",
    "\n",
    "(tl, tr), (bl, br) = X.split(ny=2, nx=2)\n",
    "\n",
    "tl, tr"
   ]
  },
  {
   "cell_type": "code",
   "execution_count": 5,
   "metadata": {},
   "outputs": [
    {
     "name": "stdout",
     "output_type": "stream",
     "text": [
      " 0  0 🟡 ⚫ ⚫ ⚫ -> 🟡\n",
      " 0  1 🟡 ⚫ ⚫ ⚫ -> 🟡\n",
      " 0  2 ⚫ 🟣 🟠 🌑 -> 🟣\n",
      " 0  3 ⚫ ⚫ ⚫ ⚫ -> ⚫\n",
      " 1  0 🟡 ⚫ 🟠 ⚫ -> 🟠\n",
      " 1  1 🟡 ⚫ 🟠 ⚫ -> 🟠\n",
      " 1  2 ⚫ ⚫ 🟠 ⚫ -> 🟠\n",
      " 1  3 ⚫ ⚫ ⚫ 🌑 -> 🌑\n",
      " 2  0 ⚫ ⚫ 🟠 🌑 -> 🟠\n",
      " 2  1 ⚫ ⚫ ⚫ 🌑 -> 🌑\n",
      " 2  2 🟡 🟣 🟠 ⚫ -> 🟣\n",
      " 2  3 ⚫ ⚫ 🟠 ⚫ -> 🟠\n",
      " 3  0 ⚫ 🟣 ⚫ 🌑 -> 🟣\n",
      " 3  1 🟡 🟣 🟠 ⚫ -> 🟣\n",
      " 3  2 ⚫ ⚫ 🟠 ⚫ -> 🟠\n",
      " 3  3 ⚫ ⚫ ⚫ ⚫ -> ⚫\n"
     ]
    }
   ],
   "source": [
    "for p in Y.locs:\n",
    "    print(p, tl[p], tr[p], bl[p], br[p], '->', Y[p])"
   ]
  },
  {
   "cell_type": "code",
   "execution_count": 6,
   "metadata": {},
   "outputs": [
    {
     "name": "stdout",
     "output_type": "stream",
     "text": [
      "🟡 ⚫ ⚫ 🌑 -> 🌑\n"
     ]
    }
   ],
   "source": [
    "# 0 2: 🟣 beats 🟠 🌑\n",
    "# 1 0: 🟠 beats 🟡\n",
    "# 2 0: 🟠 beats 🌑\n",
    "\n",
    "# So 🟣 > 🟠 > 🟡🌑, but which of 🟡🌑 wins?\n",
    "\n",
    "# We need a pixel that has both 🟡 and 🌑, but neither of 🟣 or 🟠\n",
    "\n",
    "from Set import Set\n",
    "\n",
    "for X, Y in train:\n",
    "    (tl, tr), (bl, br) = X.split(ny=2, nx=2)\n",
    "    for p in Y.locs:\n",
    "        A, B, C, D = tl[p], tr[p], bl[p], br[p]\n",
    "        S = Set([A, B, C, D])\n",
    "        if S - '⚫' == Set('🟡 🌑'):\n",
    "            print(A, B, C, D, '->', Y[p])\n"
   ]
  },
  {
   "cell_type": "code",
   "execution_count": 7,
   "metadata": {},
   "outputs": [
    {
     "data": {
      "text/plain": [
       "[True, True, True, True, True, True]"
      ]
     },
     "execution_count": 7,
     "metadata": {},
     "output_type": "execute_result"
    }
   ],
   "source": [
    "# Ok, so 🟣 > 🟠 > 🌑 > 🟡\n",
    "\n",
    "# Quadrants:\n",
    "#   🟡 🟣\n",
    "#   🟠 🌑\n",
    "\n",
    "def solve(X):\n",
    "    (A, B),  \\\n",
    "    (C, D) = X.split(ny=2, nx=2)\n",
    "\n",
    "    return B | C | D | A\n",
    "\n",
    "X, Y = train[0]\n",
    "\n",
    "[Y @ solve(X) for X, Y in train | test]"
   ]
  }
 ],
 "metadata": {
  "kernelspec": {
   "display_name": ".venv",
   "language": "python",
   "name": "python3"
  },
  "language_info": {
   "codemirror_mode": {
    "name": "ipython",
    "version": 3
   },
   "file_extension": ".py",
   "mimetype": "text/x-python",
   "name": "python",
   "nbconvert_exporter": "python",
   "pygments_lexer": "ipython3",
   "version": "3.12.3"
  }
 },
 "nbformat": 4,
 "nbformat_minor": 2
}
