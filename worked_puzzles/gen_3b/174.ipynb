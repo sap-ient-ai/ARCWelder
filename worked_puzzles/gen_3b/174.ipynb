{
 "cells": [
  {
   "cell_type": "code",
   "execution_count": 1,
   "metadata": {},
   "outputs": [
    {
     "name": "stdout",
     "output_type": "stream",
     "text": [
      "`setup_ipynb.py` executed, (multi-output enabled for subsequent cell executions).\n"
     ]
    },
    {
     "data": {
      "text/plain": [
       "[\n",
       "⚪ 🟠 ⚪ ⚪ 🔵 🔵 🟢 🟢 🟡 🟡 🟣 🟣 🟠 🟠 ⚪ ⚪ 🔵 🔵 🟢 🟢 🟡\n",
       "🟠 ⚪ 🟠 🟠 ⚪ ⚪ ⚪ 🔵 🔵 🔵 🟢 🟢 🟢 🟡 🟡 🟡 🟣 🟣 🟣 🟠 🟠\n",
       "⚪ 🟠 ⚪ 🟠 🟠 🟠 ⚪ ⚪ ⚪ ⚪ 🔵 🔵 🔵 🔵 🟢 🟢 🟢 🟢 🟡 🟡 🟡\n",
       "⚪ 🟠 🟠 ⚪ 🟠 🟠 🟠 🟠 ⚪ ⚪ ⚪ ⚪ ⚪ 🔵 🔵 🔵 🔵 🔵 🟢 🟢 🟢\n",
       "🔵 ⚪ 🟠 🟠 ⚪ 🟠 🟠 🟠 🟠 🟠 ⚪ ⚫ ⚫ ⚫ ⚪ ⚪ 🔵 🔵 🔵 🔵 🔵\n",
       "🔵 ⚪ 🟠 🟠 🟠 ⚪ 🟠 🟠 🟠 🟠 🟠 ⚫ ⚫ ⚫ ⚪ ⚪ ⚪ ⚪ ⚪ 🔵 🔵\n",
       "🟢 ⚪ ⚪ 🟠 🟠 🟠 ⚪ 🟠 🟠 🟠 🟠 🟠 🟠 🟠 ⚪ ⚪ ⚪ ⚪ ⚪ ⚪ ⚪\n",
       "🟢 🔵 ⚪ 🟠 🟠 🟠 🟠 ⚪ ⚫ ⚫ ⚫ 🟠 🟠 🟠 🟠 🟠 ⚪ ⚪ ⚪ ⚪ ⚪\n",
       "🟡 🔵 ⚪ ⚪ 🟠 🟠 🟠 🟠 ⚫ ⚫ ⚫ 🟠 🟠 🟠 🟠 🟠 🟠 🟠 ⚪ ⚪ ⚪\n",
       "🟡 🔵 ⚪ ⚪ 🟠 🟠 🟠 🟠 ⚫ ⚫ ⚫ 🟠 🟠 🟠 🟠 🟠 🟠 🟠 🟠 🟠 ⚪\n",
       "🟣 🟢 🔵 ⚪ ⚪ 🟠 🟠 🟠 🟠 🟠 ⚪ 🟠 🟠 🟠 🟠 🟠 🟠 🟠 🟠 🟠 🟠\n",
       "🟣 🟢 🔵 ⚪ ⚪ 🟠 🟠 🟠 🟠 🟠 ⚫ ⚫ ⚫ ⚫ ⚫ ⚫ ⚫ 🟠 🟠 🟠 🟠\n",
       "🟠 🟢 🔵 ⚪ ⚪ ⚪ 🟠 🟠 🟠 🟠 ⚫ ⚫ ⚫ ⚫ ⚫ ⚫ ⚫ 🟠 🟠 🟠 🟠\n",
       "🟠 🟡 🔵 🔵 ⚪ ⚪ 🟠 🟠 🟠 🟠 🟠 🟠 ⚫ ⚫ ⚫ ⚫ ⚫ 🟠 🟠 🟠 🟠\n",
       "⚪ 🟡 🟢 🔵 ⚪ ⚪ ⚪ 🟠 🟠 🟠 🟠 🟠 ⚫ ⚫ ⚫ ⚫ ⚫ 🟠 🟠 🟠 🟠\n",
       "⚪ 🟡 🟢 🔵 ⚪ ⚪ ⚪ 🟠 🟠 🟠 🟠 🟠 🟠 🟠 🟠 ⚪ 🟠 🟠 🟠 🟠 🟠\n",
       "🔵 🟣 🟢 🔵 🔵 ⚪ ⚪ ⚪ 🟠 🟠 🟠 🟠 🟠 🟠 🟠 🟠 ⚪ 🟠 🟠 🟠 🟠\n",
       "🔵 🟣 🟢 🔵 🔵 ⚪ ⚪ ⚪ 🟠 🟠 🟠 🟠 🟠 🟠 🟠 🟠 🟠 ⚪ 🟠 🟠 🟠\n",
       "🟢 🟣 🟡 🟢 🔵 ⚪ ⚪ ⚪ ⚪ 🟠 ⚫ ⚫ ⚫ ⚫ 🟠 🟠 🟠 🟠 ⚪ 🟠 🟠\n",
       "🟢 🟠 🟡 🟢 🔵 🔵 ⚪ ⚪ ⚪ 🟠 ⚫ ⚫ ⚫ ⚫ 🟠 🟠 🟠 🟠 🟠 ⚪ 🟠\n",
       "🟡 🟠 🟡 🟢 🔵 🔵 ⚪ ⚪ ⚪ ⚪ 🟠 🟠 🟠 🟠 🟠 🟠 🟠 🟠 🟠 🟠 ⚪\n",
       ", \n",
       "⚪ 🟠 ⚪ ⚪ 🔵 🔵 🟢 🟢 🟡 🟡 🟣 🟣 🟠 🟠 ⚪ ⚪ 🔵 🔵 🟢 🟢 🟡\n",
       "🟠 ⚪ 🟠 🟠 ⚪ ⚪ ⚪ 🔵 🔵 🔵 🟢 🟢 🟢 🟡 🟡 🟡 🟣 🟣 🟣 🟠 🟠\n",
       "⚪ 🟠 ⚪ 🟠 🟠 🟠 ⚪ ⚪ ⚪ ⚪ 🔵 🔵 🔵 🔵 🟢 🟢 🟢 🟢 🟡 🟡 🟡\n",
       "⚪ 🟠 🟠 ⚪ 🟠 🟠 🟠 🟠 ⚪ ⚪ ⚪ ⚪ ⚪ 🔵 🔵 🔵 🔵 🔵 🟢 🟢 🟢\n",
       "🔵 ⚪ 🟠 🟠 ⚪ 🟠 🟠 🟠 🟠 🟠 ⚪ ⚪ ⚪ ⚪ ⚪ ⚪ 🔵 🔵 🔵 🔵 🔵\n",
       "🔵 ⚪ 🟠 🟠 🟠 ⚪ 🟠 🟠 🟠 🟠 🟠 🟠 ⚪ ⚪ ⚪ ⚪ ⚪ ⚪ ⚪ 🔵 🔵\n",
       "🟢 ⚪ ⚪ 🟠 🟠 🟠 ⚪ 🟠 🟠 🟠 🟠 🟠 🟠 🟠 ⚪ ⚪ ⚪ ⚪ ⚪ ⚪ ⚪\n",
       "🟢 🔵 ⚪ 🟠 🟠 🟠 🟠 ⚪ 🟠 🟠 🟠 🟠 🟠 🟠 🟠 🟠 ⚪ ⚪ ⚪ ⚪ ⚪\n",
       "🟡 🔵 ⚪ ⚪ 🟠 🟠 🟠 🟠 ⚪ 🟠 🟠 🟠 🟠 🟠 🟠 🟠 🟠 🟠 ⚪ ⚪ ⚪\n",
       "🟡 🔵 ⚪ ⚪ 🟠 🟠 🟠 🟠 🟠 ⚪ 🟠 🟠 🟠 🟠 🟠 🟠 🟠 🟠 🟠 🟠 ⚪\n",
       "🟣 🟢 🔵 ⚪ ⚪ 🟠 🟠 🟠 🟠 🟠 ⚪ 🟠 🟠 🟠 🟠 🟠 🟠 🟠 🟠 🟠 🟠\n",
       "🟣 🟢 🔵 ⚪ ⚪ 🟠 🟠 🟠 🟠 🟠 🟠 ⚪ 🟠 🟠 🟠 🟠 🟠 🟠 🟠 🟠 🟠\n",
       "🟠 🟢 🔵 ⚪ ⚪ ⚪ 🟠 🟠 🟠 🟠 🟠 🟠 ⚪ 🟠 🟠 🟠 🟠 🟠 🟠 🟠 🟠\n",
       "🟠 🟡 🔵 🔵 ⚪ ⚪ 🟠 🟠 🟠 🟠 🟠 🟠 🟠 ⚪ 🟠 🟠 🟠 🟠 🟠 🟠 🟠\n",
       "⚪ 🟡 🟢 🔵 ⚪ ⚪ ⚪ 🟠 🟠 🟠 🟠 🟠 🟠 🟠 ⚪ 🟠 🟠 🟠 🟠 🟠 🟠\n",
       "⚪ 🟡 🟢 🔵 ⚪ ⚪ ⚪ 🟠 🟠 🟠 🟠 🟠 🟠 🟠 🟠 ⚪ 🟠 🟠 🟠 🟠 🟠\n",
       "🔵 🟣 🟢 🔵 🔵 ⚪ ⚪ ⚪ 🟠 🟠 🟠 🟠 🟠 🟠 🟠 🟠 ⚪ 🟠 🟠 🟠 🟠\n",
       "🔵 🟣 🟢 🔵 🔵 ⚪ ⚪ ⚪ 🟠 🟠 🟠 🟠 🟠 🟠 🟠 🟠 🟠 ⚪ 🟠 🟠 🟠\n",
       "🟢 🟣 🟡 🟢 🔵 ⚪ ⚪ ⚪ ⚪ 🟠 🟠 🟠 🟠 🟠 🟠 🟠 🟠 🟠 ⚪ 🟠 🟠\n",
       "🟢 🟠 🟡 🟢 🔵 🔵 ⚪ ⚪ ⚪ 🟠 🟠 🟠 🟠 🟠 🟠 🟠 🟠 🟠 🟠 ⚪ 🟠\n",
       "🟡 🟠 🟡 🟢 🔵 🔵 ⚪ ⚪ ⚪ ⚪ 🟠 🟠 🟠 🟠 🟠 🟠 🟠 🟠 🟠 🟠 ⚪\n",
       "]"
      ]
     },
     "execution_count": 1,
     "metadata": {},
     "output_type": "execute_result"
    }
   ],
   "source": [
    "from ARC import ARC\n",
    "\n",
    "train, test = ARC.load(174)\n",
    "\n",
    "train[0]"
   ]
  },
  {
   "cell_type": "code",
   "execution_count": 2,
   "metadata": {},
   "outputs": [
    {
     "name": "stdout",
     "output_type": "stream",
     "text": [
      "X: 21x21  🔳394px ⛓1  🔗1 ,  ⚫ 47px ⛓4  🔗4 ,  🔵 46px ⛓8  🔗6 ,  🟢 28px ⛓10 🔗8 ,  🟡 18px ⛓8  🔗8 ,  🟣 10px ⛓4  🔗4 ,  ⚪100px ⛓22 🔗6 ,  🟠192px ⛓8  🔗5 \n",
      "Y: 21x21  🔳441px ⛓1  🔗1 ,                  ,  🔵 46px ⛓8  🔗6 ,  🟢 28px ⛓10 🔗8 ,  🟡 18px ⛓8  🔗8 ,  🟣 10px ⛓4  🔗4 ,  ⚪111px ⛓27 🔗3 ,  🟠228px ⛓8  🔗5 \n",
      "⚫ removed, 🔵 🟢 🟡 🟣 fixed, 🔳 ⚪ 🟠 extended\n",
      "\n",
      "X: 21x21  🔳391px ⛓1  🔗1 ,  ⚫ 50px ⛓4  🔗4 ,  🔵 16px ⛓6  🔗6 ,  🟢 10px ⛓4  🔗4 ,  🟡  8px ⛓4  🔗4 ,  🟠103px ⛓25 🔗4 ,  🟣186px ⛓10 🔗3 ,  🟤 44px ⛓9  🔗7 ,  ⚪ 24px ⛓10 🔗8 \n",
      "Y: 21x21  🔳441px ⛓1  🔗1 ,                  ,  🔵 16px ⛓6  🔗6 ,  🟢 10px ⛓4  🔗4 ,  🟡  8px ⛓4  🔗4 ,  🟠111px ⛓27 🔗3 ,  🟣224px ⛓6  🔗3 ,  🟤 46px ⛓8  🔗6 ,  ⚪ 26px ⛓10 🔗8 \n",
      "⚫ removed, 🔵 🟢 🟡 fixed, 🔳 🟠 🟣 🟤 ⚪ extended\n",
      "\n",
      "X: 21x21  🔳399px ⛓1  🔗1 ,  ⚫ 42px ⛓2  🔗2 ,  🔴 16px ⛓6  🔗6 ,  ⚪ 10px ⛓4  🔗4 ,  🔵  8px ⛓4  🔗4 ,  🟢  4px ⛓2  🔗2 ,  🟣103px ⛓24 🔗4 ,  🟡196px ⛓7  🔗3 ,  🟠 40px ⛓9  🔗7 ,  🟤 22px ⛓8  🔗7 \n",
      "Y: 21x21  🔳441px ⛓1  🔗1 ,                  ,  🔴 16px ⛓6  🔗6 ,  ⚪ 10px ⛓4  🔗4 ,  🔵  8px ⛓4  🔗4 ,  🟢  4px ⛓2  🔗2 ,  🟣111px ⛓27 🔗3 ,  🟡224px ⛓6  🔗3 ,  🟠 44px ⛓8  🔗6 ,  🟤 24px ⛓8  🔗6 \n",
      "⚫ removed, 🔴 ⚪ 🔵 🟢 fixed, 🔳 🟣 🟡 🟠 🟤 extended\n",
      "\n"
     ]
    }
   ],
   "source": [
    "train.overview()"
   ]
  },
  {
   "cell_type": "code",
   "execution_count": 3,
   "metadata": {},
   "outputs": [
    {
     "data": {
      "text/plain": [
       "[↘, ↘, ↘]"
      ]
     },
     "execution_count": 3,
     "metadata": {},
     "output_type": "execute_result"
    }
   ],
   "source": [
    "# Gapfill\n",
    "\n",
    "# Any symmetries?\n",
    "[Y > '⏺' for Y in train.Y]"
   ]
  },
  {
   "cell_type": "code",
   "execution_count": 4,
   "metadata": {},
   "outputs": [
    {
     "data": {
      "text/plain": [
       "\n",
       "⚪ 🟠 ⚪ ⚪ 🔵 🔵 🟢 🟢 🟡 🟡 🟣 🟣 🟠 🟠 ⚪ ⚪ 🔵 🔵 🟢 🟢 🟡\n",
       "🟠 ⚪ 🟠 🟠 ⚪ ⚪ ⚪ 🔵 🔵 🔵 🟢 🟢 🟢 🟡 🟡 🟡 🟣 🟣 🟣 🟠 🟠\n",
       "⚪ 🟠 ⚪ 🟠 🟠 🟠 ⚪ ⚪ ⚪ ⚪ 🔵 🔵 🔵 🔵 🟢 🟢 🟢 🟢 🟡 🟡 🟡"
      ]
     },
     "execution_count": 4,
     "metadata": {},
     "output_type": "execute_result"
    }
   ],
   "source": [
    "# So, transpose-symmetric\n",
    "\n",
    "# We'll realize this isn't sufficient to complete as some gaps are awkward\n",
    "\n",
    "# Let's inspect first 3 rows\n",
    "\n",
    "Y = train[0].Y\n",
    "Y[:3]"
   ]
  },
  {
   "cell_type": "code",
   "execution_count": 5,
   "metadata": {},
   "outputs": [
    {
     "data": {
      "text/plain": [
       "[True, True, True, True]"
      ]
     },
     "execution_count": 5,
     "metadata": {},
     "output_type": "execute_result"
    }
   ],
   "source": [
    "# Quite a lot of pattern here.\n",
    "# starting each row from the ⚪ leading diagonal:\n",
    "# - First row (0), 1x🟠 then 2x⚪🔵🟢🟡🟣🟠...(repeats)\n",
    "# - Second row (1), 2x🟠 then 3x⚪🔵🟢🟡🟣🟠...(repeats)\n",
    "# etc.\n",
    "# So let's just build this out\n",
    "from Grid import Grid\n",
    "from Iter import Iter\n",
    "\n",
    "def solve(X):\n",
    "    LD = X[0, 0]\n",
    "    GLYPHS = X[0, 1:].glyphs\n",
    "    def ld_onwards(k):\n",
    "        glyphs = Iter(GLYPHS).cycler  # TODO: Maybe we shouldn't expose Cycle; we can just use this everywhere\n",
    "        s = LD + next(glyphs) * (k + 1)\n",
    "        while len(s) < X.h:\n",
    "            s += next(glyphs) * (k + 2)\n",
    "        return Grid(s[:X.h - k])\n",
    "\n",
    "    Y = X.copy\n",
    "    for i in range(X.h):\n",
    "        Y[i, i:] = Y[i:, i] = ld_onwards(i)\n",
    "    return Y\n",
    "\n",
    "[Y @ solve(X) for X, Y in train | test]"
   ]
  }
 ],
 "metadata": {
  "kernelspec": {
   "display_name": ".venv",
   "language": "python",
   "name": "python3"
  },
  "language_info": {
   "codemirror_mode": {
    "name": "ipython",
    "version": 3
   },
   "file_extension": ".py",
   "mimetype": "text/x-python",
   "name": "python",
   "nbconvert_exporter": "python",
   "pygments_lexer": "ipython3",
   "version": "3.12.3"
  }
 },
 "nbformat": 4,
 "nbformat_minor": 2
}
