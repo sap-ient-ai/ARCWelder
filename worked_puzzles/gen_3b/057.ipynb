{
 "cells": [
  {
   "cell_type": "code",
   "execution_count": 1,
   "metadata": {},
   "outputs": [
    {
     "name": "stdout",
     "output_type": "stream",
     "text": [
      "`setup_ipynb.py` executed, (multi-output enabled for subsequent cell executions).\n"
     ]
    },
    {
     "data": {
      "text/plain": [
       "[\n",
       "⚫ ⚫ ⚫ ⚫ ⚫ ⚫\n",
       "⚫ ⚫ ⚫ ⚫ ⚫ ⚫\n",
       "⚫ ⚫ ⚫ ⚫ ⚫ ⚫\n",
       "⚫ ⚫ ⚫ ⚫ ⚫ ⚫\n",
       "⚫ ⚫ ⚫ ⚫ ⚫ ⚫\n",
       "⚫ ⚫ ⚫ ⚫ ⚫ ⚫\n",
       ", \n",
       "🟢 🟢 🟢 🟢 🟢 🟢\n",
       "⚫ ⚫ ⚫ ⚫ ⚫ 🟢\n",
       "🟢 🟢 🟢 🟢 ⚫ 🟢\n",
       "🟢 ⚫ 🟢 🟢 ⚫ 🟢\n",
       "🟢 ⚫ ⚫ ⚫ ⚫ 🟢\n",
       "🟢 🟢 🟢 🟢 🟢 🟢\n",
       "]"
      ]
     },
     "execution_count": 1,
     "metadata": {},
     "output_type": "execute_result"
    }
   ],
   "source": [
    "from ARC import ARC\n",
    "\n",
    "train, test = ARC.load(57)\n",
    "\n",
    "train[0]"
   ]
  },
  {
   "cell_type": "code",
   "execution_count": 2,
   "metadata": {},
   "outputs": [
    {
     "name": "stdout",
     "output_type": "stream",
     "text": [
      "X:  6x6   🔳  0px ⛓0  🔗0 ,                  ,  ⚫ 36px ⛓1  🔗1 \n",
      "Y:  6x6   🔳 24px ⛓1  🔗1 ,  🟢 24px ⛓1  🔗1 ,  ⚫ 12px ⛓1  🔗1 \n",
      "🔳 🟢 created, ⚫ reduced\n",
      "\n",
      "X:  8x8   🔳  0px ⛓0  🔗0 ,                  ,  ⚫ 64px ⛓1  🔗1 \n",
      "Y:  8x8   🔳 40px ⛓1  🔗1 ,  🟢 40px ⛓1  🔗1 ,  ⚫ 24px ⛓1  🔗1 \n",
      "🔳 🟢 created, ⚫ reduced\n",
      "\n",
      "X: 15x15  🔳  0px ⛓0  🔗0 ,                  ,  ⚫225px ⛓1  🔗1 \n",
      "Y: 15x15  🔳127px ⛓1  🔗1 ,  🟢127px ⛓1  🔗1 ,  ⚫ 98px ⛓1  🔗1 \n",
      "🔳 🟢 created, ⚫ reduced\n",
      "\n",
      "X: 13x13  🔳  0px ⛓0  🔗0 ,                  ,  ⚫169px ⛓1  🔗1 \n",
      "Y: 13x13  🔳 97px ⛓1  🔗1 ,  🟢 97px ⛓1  🔗1 ,  ⚫ 72px ⛓1  🔗1 \n",
      "🔳 🟢 created, ⚫ reduced\n",
      "\n",
      "X: 10x10  🔳  0px ⛓0  🔗0 ,                  ,  ⚫100px ⛓1  🔗1 \n",
      "Y: 10x10  🔳 60px ⛓1  🔗1 ,  🟢 60px ⛓1  🔗1 ,  ⚫ 40px ⛓1  🔗1 \n",
      "🔳 🟢 created, ⚫ reduced\n",
      "\n"
     ]
    }
   ],
   "source": [
    "train.overview()"
   ]
  },
  {
   "cell_type": "code",
   "execution_count": 3,
   "metadata": {},
   "outputs": [
    {
     "data": {
      "text/plain": [
       "( 0  0 to  5  5,  0  0 to  5  5,  0  0 to  5  5)"
      ]
     },
     "execution_count": 3,
     "metadata": {},
     "output_type": "execute_result"
    },
    {
     "data": {
      "text/plain": [
       "( 0  0 to  7  7,  0  0 to  7  7,  0  0 to  7  7)"
      ]
     },
     "execution_count": 3,
     "metadata": {},
     "output_type": "execute_result"
    },
    {
     "data": {
      "text/plain": [
       "( 0  0 to 14 14,  0  0 to 14 14,  0  0 to 14 14)"
      ]
     },
     "execution_count": 3,
     "metadata": {},
     "output_type": "execute_result"
    },
    {
     "data": {
      "text/plain": [
       "( 0  0 to 12 12,  0  0 to 12 12,  0  0 to 12 12)"
      ]
     },
     "execution_count": 3,
     "metadata": {},
     "output_type": "execute_result"
    },
    {
     "data": {
      "text/plain": [
       "( 0  0 to  9  9,  0  0 to  9  9,  0  0 to  9  9)"
      ]
     },
     "execution_count": 3,
     "metadata": {},
     "output_type": "execute_result"
    }
   ],
   "source": [
    "# X is empty and Y has ONE 🟢 region and ONE ⚫\n",
    "\n",
    "# [Y.rect @ Y['🟢.⛓.0.frame'] for Y in train.Y]\n",
    "\n",
    "for Y in train.Y:\n",
    "    Y.rect, Y['🟢.rect'], Y['⚫.rect']\n",
    "\n"
   ]
  },
  {
   "cell_type": "code",
   "execution_count": 4,
   "metadata": {},
   "outputs": [
    {
     "data": {
      "text/plain": [
       "['👈', '👈', '👈', '👈', '👈']"
      ]
     },
     "execution_count": 4,
     "metadata": {},
     "output_type": "execute_result"
    }
   ],
   "source": [
    "[Y['⚫'].crop.touchings for Y in train.Y]"
   ]
  },
  {
   "cell_type": "code",
   "execution_count": 5,
   "metadata": {},
   "outputs": [
    {
     "name": "stdout",
     "output_type": "stream",
     "text": [
      " 1  0\n",
      " 1  0\n",
      " 1  0\n",
      " 1  0\n",
      " 1  0\n"
     ]
    }
   ],
   "source": [
    "for Y in train.Y:\n",
    "    print(Y['⚫'].cols[0].pix)"
   ]
  },
  {
   "cell_type": "code",
   "execution_count": 6,
   "metadata": {},
   "outputs": [
    {
     "name": "stdout",
     "output_type": "stream",
     "text": [
      "🟢: [('🔵', 22), ('⚫', 12), ('⚪', 1), ('🟢', 1)]\n",
      "⚫: [('⚫', 24), ('🔵', 10), ('⚪', 2)]\n",
      "\n",
      "🟢: [('🔵', 38), ('⚫', 24), ('⚪', 1), ('🟢', 1)]\n",
      "⚫: [('⚫', 40), ('🔵', 22), ('⚪', 2)]\n",
      "\n",
      "🟢: [('🔵', 125), ('⚫', 98), ('⚪', 2)]\n",
      "⚫: [('⚫', 127), ('🔵', 96), ('⚪', 2)]\n",
      "\n",
      "🟢: [('🔵', 95), ('⚫', 72), ('⚪', 2)]\n",
      "⚫: [('⚫', 97), ('🔵', 70), ('⚪', 2)]\n",
      "\n",
      "🟢: [('🔵', 58), ('⚫', 40), ('⚪', 1), ('🟢', 1)]\n",
      "⚫: [('⚫', 60), ('🔵', 38), ('⚪', 2)]\n",
      "\n"
     ]
    }
   ],
   "source": [
    "# So the only outer-⚫ is at 1 0\n",
    "\n",
    "# Let's check neighbour counts\n",
    "\n",
    "for Y in train.Y:\n",
    "    print('🟢:', Y['🟢'].neighbours('❇').counts)\n",
    "    print('⚫:', Y['⚫'].neighbours('❇').counts)\n",
    "    print()"
   ]
  },
  {
   "cell_type": "code",
   "execution_count": 7,
   "metadata": {},
   "outputs": [
    {
     "name": "stdout",
     "output_type": "stream",
     "text": [
      "Endpoints:  1  0,  3  1\n",
      "Endpoints:  1  0,  4  4\n",
      "Endpoints:  1  0,  7  7\n",
      "Endpoints:  1  0,  7  5\n",
      "Endpoints:  1  0,  5  3\n"
     ]
    }
   ],
   "source": [
    "# For each of 🔵 and ⚫, all but TWO pixels have 2 neighbours.\n",
    "# For these remaining two pixels:\n",
    "# - for 🟢, either both pixels have ONE neighbour, or one has ONE neighbour and the other has 3\n",
    "# - for ⚫, both have ONE neighbour\n",
    "\n",
    "# Looks like it's easier to work with ⚫\n",
    "\n",
    "# Let's dump out these locations\n",
    "\n",
    "for Y in train.Y:\n",
    "    N = Y['⚫'].neighbours('❇')['🔵->⚫']\n",
    "    print('Endpoints:', N.pix)"
   ]
  },
  {
   "cell_type": "code",
   "execution_count": 8,
   "metadata": {},
   "outputs": [
    {
     "name": "stdout",
     "output_type": "stream",
     "text": [
      " 6  6: ▶4 🔽3 ◀3 \n",
      " 8  8: ▶6 🔽5 ◀5 🔼3 ▶3 \n",
      "15 15: ▶13 🔽12 ◀12 🔼10 ▶10 🔽8 ◀8 🔼6 ▶6 🔽4 ◀4 🔼2 \n",
      "13 13: ▶11 🔽10 ◀10 🔼8 ▶8 🔽6 ◀6 🔼4 ▶4 🔽2 \n",
      "10 10: ▶8 🔽7 ◀7 🔼5 ▶5 🔽3 ◀3 \n"
     ]
    }
   ],
   "source": [
    "# So ⚫ always starts at 1 0 and is a single ortho-filament\n",
    "\n",
    "# Let's express ⚫ as turtle-moves\n",
    "\n",
    "from Coord import Coord\n",
    "\n",
    "for Y in train.Y:\n",
    "    print(Y.hw, end=': ')\n",
    "    G = Y['⚫']\n",
    "    p = Coord(1, 0)\n",
    "    _Δ, k = '▶', 0\n",
    "    while G.Σ > 0:\n",
    "        G[p] = False\n",
    "        Δ = next((ε for ε in '▶◀🔼🔽' if G[p + ε]), None)\n",
    "        if not Δ:\n",
    "            break\n",
    "        if _Δ != Δ:\n",
    "            print(f'{_Δ}{k}', end=' ')\n",
    "            _Δ, k = Δ, 1\n",
    "        else:\n",
    "            k += 1\n",
    "        p += Δ\n",
    "    print()"
   ]
  },
  {
   "cell_type": "code",
   "execution_count": 9,
   "metadata": {},
   "outputs": [
    {
     "data": {
      "text/plain": [
       "[True, True, True, True, True]"
      ]
     },
     "execution_count": 9,
     "metadata": {},
     "output_type": "execute_result"
    }
   ],
   "source": [
    "# Looks like a spiral; we see the sequence ▶ 🔽 ◀ 🔼\n",
    "\n",
    "# A spiral exhibits a rotational self-similarity\n",
    "# Starting with a 🟢 canvas, we start by cutting the initial ⚫ into the second row.\n",
    "# It stops one pixel short of the end.\n",
    "# Now if we were to rotate the remaining grid (less the first 2 cols) 90 degrees counter-clockwise, we have a fresh 🟢-canvas, from which we will again carve out our the initial ⚫ in its second row. And so on...\n",
    "\n",
    "def solve(X):\n",
    "    Y = U = X['⚫->🟢']\n",
    "    while U.h > 2:\n",
    "        U[1, :-1] = '⚫'\n",
    "        U = U[2:]['⤴']\n",
    "    return Y\n",
    "\n",
    "[Y @ solve(X) for X, Y in train]"
   ]
  }
 ],
 "metadata": {
  "kernelspec": {
   "display_name": ".venv",
   "language": "python",
   "name": "python3"
  },
  "language_info": {
   "codemirror_mode": {
    "name": "ipython",
    "version": 3
   },
   "file_extension": ".py",
   "mimetype": "text/x-python",
   "name": "python",
   "nbconvert_exporter": "python",
   "pygments_lexer": "ipython3",
   "version": "3.12.3"
  }
 },
 "nbformat": 4,
 "nbformat_minor": 2
}
