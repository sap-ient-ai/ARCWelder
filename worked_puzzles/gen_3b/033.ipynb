{
 "cells": [
  {
   "cell_type": "code",
   "execution_count": 1,
   "metadata": {},
   "outputs": [
    {
     "name": "stdout",
     "output_type": "stream",
     "text": [
      "`setup_ipynb.py` executed, (multi-output enabled for subsequent cell executions).\n"
     ]
    },
    {
     "data": {
      "text/plain": [
       "[\n",
       "⚫ ⚫ ⚫ ⚫ ⚫ ⚫ ⚫ ⚫ ⚫\n",
       "⚫ ⚫ ⚫ ⚫ ⚫ ⚫ ⚫ ⚫ ⚫\n",
       "⚫ ⚫ ⚫ ⚫ ⚫ ⚫ ⚫ ⚫ ⚫\n",
       "⚫ ⚫ ⚫ ⚫ ⚫ ⚫ ⚫ ⚫ ⚫\n",
       "⚫ ⚫ 🟡 🔵 ⚫ ⚫ ⚫ ⚫ ⚫\n",
       "⚫ ⚫ 🟡 🟡 ⚫ ⚫ ⚫ ⚫ ⚫\n",
       "⚫ ⚫ ⚫ ⚫ ⚫ ⚫ ⚫ ⚫ ⚫\n",
       "⚫ ⚫ ⚫ ⚫ ⚫ ⚫ ⚫ ⚫ ⚫\n",
       "⚫ ⚫ ⚫ ⚫ ⚫ ⚫ ⚫ ⚫ ⚫\n",
       ", \n",
       "⚫ ⚫ ⚫ ⚫ ⚫ ⚫ 🟡 🟡 🟡\n",
       "⚫ ⚫ ⚫ ⚫ ⚫ 🟡 🟡 🟡 ⚫\n",
       "⚫ ⚫ ⚫ ⚫ 🟡 🟡 🟡 ⚫ ⚫\n",
       "⚫ ⚫ ⚫ 🟡 🟡 🟡 ⚫ ⚫ ⚫\n",
       "⚫ ⚫ 🟡 🟡 🟡 ⚫ ⚫ ⚫ ⚫\n",
       "⚫ ⚫ 🟡 🟡 ⚫ ⚫ ⚫ ⚫ ⚫\n",
       "⚫ ⚫ ⚫ ⚫ ⚫ ⚫ ⚫ ⚫ ⚫\n",
       "⚫ ⚫ ⚫ ⚫ ⚫ ⚫ ⚫ ⚫ ⚫\n",
       "⚫ ⚫ ⚫ ⚫ ⚫ ⚫ ⚫ ⚫ ⚫\n",
       "]"
      ]
     },
     "execution_count": 1,
     "metadata": {},
     "output_type": "execute_result"
    }
   ],
   "source": [
    "from ARC import ARC\n",
    "\n",
    "train, test = ARC.load(33)\n",
    "\n",
    "train[0]"
   ]
  },
  {
   "cell_type": "code",
   "execution_count": 2,
   "metadata": {},
   "outputs": [
    {
     "name": "stdout",
     "output_type": "stream",
     "text": [
      "X:  9x9   🔳  4px ⛓1  🔗1 ,  🔵  1px ⛓1  🔗1 ,  🟡  3px ⛓1  🔗1 ,  ⚫ 77px ⛓1  🔗1 \n",
      "Y:  9x9   🔳 17px ⛓1  🔗1 ,                  ,  🟡 17px ⛓1  🔗1 ,  ⚫ 64px ⛓1  🔗1 \n",
      "🔵 removed, 🔳 🟡 extended, ⚫ reduced\n",
      "\n",
      "X:  9x9   🔳  4px ⛓1  🔗1 ,  🔵  1px ⛓1  🔗1 ,  🟢  3px ⛓1  🔗1 ,  ⚫ 77px ⛓1  🔗1 \n",
      "Y:  9x9   🔳 20px ⛓1  🔗1 ,                  ,  🟢 20px ⛓1  🔗1 ,  ⚫ 61px ⛓1  🔗1 \n",
      "🔵 removed, 🔳 🟢 extended, ⚫ reduced\n",
      "\n",
      "X:  9x9   🔳  4px ⛓1  🔗1 ,  🔵  2px ⛓2  🔗1 ,  🟠  2px ⛓2  🔗1 ,  ⚫ 77px ⛓1  🔗1 \n",
      "Y:  9x9   🔳 24px ⛓1  🔗1 ,                  ,  🟠 24px ⛓1  🔗1 ,  ⚫ 57px ⛓2  🔗2 \n",
      "🔵 removed, 🔳 🟠 extended, ⚫ reduced\n",
      "\n",
      "X:  9x9   🔳  4px ⛓1  🔗1 ,  🔵  3px ⛓1  🔗1 ,  🟤  1px ⛓1  🔗1 ,  ⚫ 77px ⛓1  🔗1 \n",
      "Y:  9x9   🔳 33px ⛓1  🔗1 ,                  ,  🟤 33px ⛓1  🔗1 ,  ⚫ 48px ⛓3  🔗3 \n",
      "🔵 removed, 🔳 🟤 extended, ⚫ reduced\n",
      "\n"
     ]
    }
   ],
   "source": [
    "train.overview()"
   ]
  },
  {
   "cell_type": "code",
   "execution_count": 3,
   "metadata": {},
   "outputs": [
    {
     "data": {
      "text/plain": [
       "[\n",
       "🟡 🔵\n",
       "🟡 🟡\n",
       ", \n",
       "🟢 🟢\n",
       "🟢 🔵\n",
       ", \n",
       "🟠 🔵\n",
       "🔵 🟠\n",
       ", \n",
       "🔵 🔵\n",
       "🔵 🟤\n",
       "]"
      ]
     },
     "execution_count": 3,
     "metadata": {},
     "output_type": "execute_result"
    }
   ],
   "source": [
    "# X and Y are ⛓1, i.e. a single orth-connected region\n",
    "# X.🔳 always 4px\n",
    "# 🔵 always present in X and absent in Y\n",
    "\n",
    "# Likely the non-🔵 is \"grown\" from the 🔵-\"seeds\"\n",
    "\n",
    "# Also note that the number of 🔵 pixels in X is equal to the number of black regions in Y (Y.⛓{k})\n",
    "# This suggests maybe the growth from a given 🔵 extends to off-grid.\n",
    "\n",
    "# Let's take a look at X.crop.. it's 4 non-⚫ pixels... 2x2?\n",
    "\n",
    "train.X.crop"
   ]
  },
  {
   "cell_type": "code",
   "execution_count": 4,
   "metadata": {},
   "outputs": [
    {
     "data": {
      "text/plain": [
       "(\n",
       " ⚫ ⚫ ⚫ ⚫ ⚫ ⚫\n",
       " ⚫ ⚫ ⚫ ⚫ ⚫ ⚫\n",
       " ⚫ ⚫ 🟡 🔵 ⚫ ⚫\n",
       " ⚫ ⚫ 🟡 🟡 ⚫ ⚫\n",
       " ⚫ ⚫ ⚫ ⚫ ⚫ ⚫\n",
       " ⚫ ⚫ ⚫ ⚫ ⚫ ⚫,\n",
       " \n",
       " ⚫ ⚫ ⚫ ⚫ 🟡 🟡\n",
       " ⚫ ⚫ ⚫ 🟡 🟡 🟡\n",
       " ⚫ ⚫ 🟡 🟡 🟡 ⚫\n",
       " ⚫ ⚫ 🟡 🟡 ⚫ ⚫\n",
       " ⚫ ⚫ ⚫ ⚫ ⚫ ⚫\n",
       " ⚫ ⚫ ⚫ ⚫ ⚫ ⚫)"
      ]
     },
     "execution_count": 4,
     "metadata": {},
     "output_type": "execute_result"
    }
   ],
   "source": [
    "# Ok, X.non-⚫ is always a 2x2 square\n",
    "X, Y = train[0]\n",
    "\n",
    "R = X.crop.frame.extend(2)\n",
    "X[R], Y[R]"
   ]
  },
  {
   "cell_type": "code",
   "execution_count": 5,
   "metadata": {},
   "outputs": [],
   "source": [
    "# Here 🔵 is top-right (↗), and in Y, the pattern extends ↗ (presumably to offgrid).\n",
    "\n",
    "# How can we conceptualize Y in terms of X, given this observation?\n",
    "\n",
    "# We could consider that the 3 🟡 pixels in X (which form an L-shape) are repeatedly copied ↗.\n",
    "\n",
    "# Now if this hypothesis is correct, what do we expect to see for train[3], which has 3 🔵 and only 1 non-🔵?\n",
    "\n",
    "# We should expect to see a diagonal line. But that isn't ortho-connected. Contradiction.\n",
    "\n",
    "# hmm. Maybe we're looking at a 2x2 🟡 SQUARE, with one of the pixels marked 🔵. So if we imagine removing the 🔵 marker and repeating the 🟡-square ↗, will this work?"
   ]
  },
  {
   "cell_type": "code",
   "execution_count": 6,
   "metadata": {},
   "outputs": [
    {
     "data": {
      "text/plain": [
       "[True, True, True, True, True]"
      ]
     },
     "execution_count": 6,
     "metadata": {},
     "output_type": "execute_result"
    }
   ],
   "source": [
    "def solve(X):\n",
    "    Y = X.pad(2, padding='⭕')\n",
    "    R0 = X.crop.frame  # TODO: Y.crop.frame won't work\n",
    "    (tl, tr), (bl, br) = Y[R0]\n",
    "\n",
    "    glyph = str(Y[R0].glyphs - '🔵')\n",
    "\n",
    "    dirs = [ ε\n",
    "        for ε, p in zip('↖↗↙↘', (tl, tr, bl, br))\n",
    "            if '🔵' in p\n",
    "    ]\n",
    "\n",
    "    for Δ in dirs:\n",
    "        R = R0 + Δ\n",
    "        while '⚫' in Y[R]:\n",
    "            Y[R] = glyph\n",
    "            R += Δ\n",
    "\n",
    "    return Y\n",
    "\n",
    "X, Y = train[0]\n",
    "\n",
    "[Y @ solve(X) for X, Y in train | test]"
   ]
  }
 ],
 "metadata": {
  "kernelspec": {
   "display_name": ".venv",
   "language": "python",
   "name": "python3"
  },
  "language_info": {
   "codemirror_mode": {
    "name": "ipython",
    "version": 3
   },
   "file_extension": ".py",
   "mimetype": "text/x-python",
   "name": "python",
   "nbconvert_exporter": "python",
   "pygments_lexer": "ipython3",
   "version": "3.12.3"
  }
 },
 "nbformat": 4,
 "nbformat_minor": 2
}
