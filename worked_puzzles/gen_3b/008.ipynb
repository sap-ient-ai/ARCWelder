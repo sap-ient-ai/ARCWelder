{
 "cells": [
  {
   "cell_type": "code",
   "execution_count": 1,
   "metadata": {},
   "outputs": [
    {
     "name": "stdout",
     "output_type": "stream",
     "text": [
      "`setup_ipynb.py` executed, (multi-output enabled for subsequent cell executions).\n"
     ]
    },
    {
     "data": {
      "text/plain": [
       "[\n",
       "⚫ ⚫ 🔴 ⚫ ⚫ 🔴 ⚫ ⚫ 🔴 ⚫ ⚫ 🔴 ⚫ ⚫ 🔴 ⚫ ⚫ 🔴 ⚫ ⚫\n",
       "⚫ ⚫ 🔴 ⚫ ⚫ 🔴 ⚫ ⚫ 🔴 ⚫ ⚫ 🔴 ⚫ ⚫ 🔴 ⚫ ⚫ 🔴 ⚫ ⚫\n",
       "🔴 🔴 🔴 🔴 🔴 🔴 🔴 🔴 🔴 🔴 🔴 🔴 🔴 🔴 🔴 🔴 🔴 🔴 🔴 🔴\n",
       "⚫ ⚫ 🔴 🔵 🔵 🔴 ⚫ ⚫ 🔴 ⚫ ⚫ 🔴 ⚫ ⚫ 🔴 🔵 🔵 🔴 ⚫ ⚫\n",
       "⚫ ⚫ 🔴 🔵 🔵 🔴 ⚫ ⚫ 🔴 ⚫ ⚫ 🔴 ⚫ ⚫ 🔴 🔵 🔵 🔴 ⚫ ⚫\n",
       "🔴 🔴 🔴 🔴 🔴 🔴 🔴 🔴 🔴 🔴 🔴 🔴 🔴 🔴 🔴 🔴 🔴 🔴 🔴 🔴\n",
       "⚫ ⚫ 🔴 ⚫ ⚫ 🔴 ⚫ ⚫ 🔴 ⚪ ⚪ 🔴 ⚫ ⚫ 🔴 ⚫ ⚫ 🔴 ⚫ ⚫\n",
       "⚫ ⚫ 🔴 ⚫ ⚫ 🔴 ⚫ ⚫ 🔴 ⚪ ⚪ 🔴 ⚫ ⚫ 🔴 ⚫ ⚫ 🔴 ⚫ ⚫\n",
       "🔴 🔴 🔴 🔴 🔴 🔴 🔴 🔴 🔴 🔴 🔴 🔴 🔴 🔴 🔴 🔴 🔴 🔴 🔴 🔴\n",
       "⚫ ⚫ 🔴 ⚫ ⚫ 🔴 ⚫ ⚫ 🔴 ⚫ ⚫ 🔴 ⚫ ⚫ 🔴 🔵 🔵 🔴 ⚫ ⚫\n",
       "⚫ ⚫ 🔴 ⚫ ⚫ 🔴 ⚫ ⚫ 🔴 ⚫ ⚫ 🔴 ⚫ ⚫ 🔴 🔵 🔵 🔴 ⚫ ⚫\n",
       "🔴 🔴 🔴 🔴 🔴 🔴 🔴 🔴 🔴 🔴 🔴 🔴 🔴 🔴 🔴 🔴 🔴 🔴 🔴 🔴\n",
       "⚫ ⚫ 🔴 🟢 🟢 🔴 ⚫ ⚫ 🔴 🟢 🟢 🔴 ⚫ ⚫ 🔴 ⚫ ⚫ 🔴 ⚫ ⚫\n",
       "⚫ ⚫ 🔴 🟢 🟢 🔴 ⚫ ⚫ 🔴 🟢 🟢 🔴 ⚫ ⚫ 🔴 ⚫ ⚫ 🔴 ⚫ ⚫\n",
       "🔴 🔴 🔴 🔴 🔴 🔴 🔴 🔴 🔴 🔴 🔴 🔴 🔴 🔴 🔴 🔴 🔴 🔴 🔴 🔴\n",
       "⚫ ⚫ 🔴 ⚫ ⚫ 🔴 ⚫ ⚫ 🔴 ⚫ ⚫ 🔴 ⚫ ⚫ 🔴 ⚫ ⚫ 🔴 ⚫ ⚫\n",
       "⚫ ⚫ 🔴 ⚫ ⚫ 🔴 ⚫ ⚫ 🔴 ⚫ ⚫ 🔴 ⚫ ⚫ 🔴 ⚫ ⚫ 🔴 ⚫ ⚫\n",
       "🔴 🔴 🔴 🔴 🔴 🔴 🔴 🔴 🔴 🔴 🔴 🔴 🔴 🔴 🔴 🔴 🔴 🔴 🔴 🔴\n",
       "⚫ ⚫ 🔴 ⚫ ⚫ 🔴 ⚫ ⚫ 🔴 ⚫ ⚫ 🔴 ⚫ ⚫ 🔴 ⚫ ⚫ 🔴 ⚫ ⚫\n",
       "⚫ ⚫ 🔴 ⚫ ⚫ 🔴 ⚫ ⚫ 🔴 ⚫ ⚫ 🔴 ⚫ ⚫ 🔴 ⚫ ⚫ 🔴 ⚫ ⚫\n",
       ", \n",
       "⚫ ⚫ 🔴 ⚫ ⚫ 🔴 ⚫ ⚫ 🔴 ⚫ ⚫ 🔴 ⚫ ⚫ 🔴 ⚫ ⚫ 🔴 ⚫ ⚫\n",
       "⚫ ⚫ 🔴 ⚫ ⚫ 🔴 ⚫ ⚫ 🔴 ⚫ ⚫ 🔴 ⚫ ⚫ 🔴 ⚫ ⚫ 🔴 ⚫ ⚫\n",
       "🔴 🔴 🔴 🔴 🔴 🔴 🔴 🔴 🔴 🔴 🔴 🔴 🔴 🔴 🔴 🔴 🔴 🔴 🔴 🔴\n",
       "⚫ ⚫ 🔴 🔵 🔵 🔴 🔵 🔵 🔴 🔵 🔵 🔴 🔵 🔵 🔴 🔵 🔵 🔴 ⚫ ⚫\n",
       "⚫ ⚫ 🔴 🔵 🔵 🔴 🔵 🔵 🔴 🔵 🔵 🔴 🔵 🔵 🔴 🔵 🔵 🔴 ⚫ ⚫\n",
       "🔴 🔴 🔴 🔴 🔴 🔴 🔴 🔴 🔴 🔴 🔴 🔴 🔴 🔴 🔴 🔴 🔴 🔴 🔴 🔴\n",
       "⚫ ⚫ 🔴 ⚫ ⚫ 🔴 ⚫ ⚫ 🔴 ⚪ ⚪ 🔴 ⚫ ⚫ 🔴 🔵 🔵 🔴 ⚫ ⚫\n",
       "⚫ ⚫ 🔴 ⚫ ⚫ 🔴 ⚫ ⚫ 🔴 ⚪ ⚪ 🔴 ⚫ ⚫ 🔴 🔵 🔵 🔴 ⚫ ⚫\n",
       "🔴 🔴 🔴 🔴 🔴 🔴 🔴 🔴 🔴 🔴 🔴 🔴 🔴 🔴 🔴 🔴 🔴 🔴 🔴 🔴\n",
       "⚫ ⚫ 🔴 ⚫ ⚫ 🔴 ⚫ ⚫ 🔴 ⚫ ⚫ 🔴 ⚫ ⚫ 🔴 🔵 🔵 🔴 ⚫ ⚫\n",
       "⚫ ⚫ 🔴 ⚫ ⚫ 🔴 ⚫ ⚫ 🔴 ⚫ ⚫ 🔴 ⚫ ⚫ 🔴 🔵 🔵 🔴 ⚫ ⚫\n",
       "🔴 🔴 🔴 🔴 🔴 🔴 🔴 🔴 🔴 🔴 🔴 🔴 🔴 🔴 🔴 🔴 🔴 🔴 🔴 🔴\n",
       "⚫ ⚫ 🔴 🟢 🟢 🔴 🟢 🟢 🔴 🟢 🟢 🔴 ⚫ ⚫ 🔴 ⚫ ⚫ 🔴 ⚫ ⚫\n",
       "⚫ ⚫ 🔴 🟢 🟢 🔴 🟢 🟢 🔴 🟢 🟢 🔴 ⚫ ⚫ 🔴 ⚫ ⚫ 🔴 ⚫ ⚫\n",
       "🔴 🔴 🔴 🔴 🔴 🔴 🔴 🔴 🔴 🔴 🔴 🔴 🔴 🔴 🔴 🔴 🔴 🔴 🔴 🔴\n",
       "⚫ ⚫ 🔴 ⚫ ⚫ 🔴 ⚫ ⚫ 🔴 ⚫ ⚫ 🔴 ⚫ ⚫ 🔴 ⚫ ⚫ 🔴 ⚫ ⚫\n",
       "⚫ ⚫ 🔴 ⚫ ⚫ 🔴 ⚫ ⚫ 🔴 ⚫ ⚫ 🔴 ⚫ ⚫ 🔴 ⚫ ⚫ 🔴 ⚫ ⚫\n",
       "🔴 🔴 🔴 🔴 🔴 🔴 🔴 🔴 🔴 🔴 🔴 🔴 🔴 🔴 🔴 🔴 🔴 🔴 🔴 🔴\n",
       "⚫ ⚫ 🔴 ⚫ ⚫ 🔴 ⚫ ⚫ 🔴 ⚫ ⚫ 🔴 ⚫ ⚫ 🔴 ⚫ ⚫ 🔴 ⚫ ⚫\n",
       "⚫ ⚫ 🔴 ⚫ ⚫ 🔴 ⚫ ⚫ 🔴 ⚫ ⚫ 🔴 ⚫ ⚫ 🔴 ⚫ ⚫ 🔴 ⚫ ⚫\n",
       "]"
      ]
     },
     "execution_count": 1,
     "metadata": {},
     "output_type": "execute_result"
    }
   ],
   "source": [
    "from ARC import ARC\n",
    "\n",
    "train, test = ARC.load(8)\n",
    "\n",
    "train[0]"
   ]
  },
  {
   "cell_type": "code",
   "execution_count": 2,
   "metadata": {},
   "outputs": [
    {
     "name": "stdout",
     "output_type": "stream",
     "text": [
      "X: 20x20  🔳228px ⛓1  🔗1 ,  🔴204px ⛓1  🔗1 ,  ⚪  4px ⛓1  🔗1 ,  🔵 12px ⛓3  🔗3 ,  🟢  8px ⛓2  🔗2 ,  ⚫172px ⛓43 🔗43\n",
      "Y: 20x20  🔳248px ⛓1  🔗1 ,  🔴204px ⛓1  🔗1 ,  ⚪  4px ⛓1  🔗1 ,  🔵 28px ⛓7  🔗7 ,  🟢 12px ⛓3  🔗3 ,  ⚫152px ⛓38 🔗38\n",
      "🔴 ⚪ fixed, 🔳 🔵 🟢 extended, ⚫ reduced\n",
      "\n",
      "X: 23x23  🔳305px ⛓1  🔗1 ,  ⚪273px ⛓1  🔗1 ,  🟡  4px ⛓1  🔗1 ,  🔵  8px ⛓2  🔗2 ,  🌑  8px ⛓2  🔗2 ,  🔴 12px ⛓3  🔗3 ,  ⚫224px ⛓56 🔗56\n",
      "Y: 23x23  🔳341px ⛓1  🔗1 ,  ⚪273px ⛓1  🔗1 ,  🟡  4px ⛓1  🔗1 ,  🔵 20px ⛓5  🔗5 ,  🌑 20px ⛓5  🔗5 ,  🔴 24px ⛓6  🔗6 ,  ⚫188px ⛓47 🔗47\n",
      "⚪ 🟡 fixed, 🔳 🔵 🌑 🔴 extended, ⚫ reduced\n",
      "\n",
      "X: 23x23  🔳297px ⛓1  🔗1 ,  🟡273px ⛓1  🔗1 ,  🟢 12px ⛓3  🔗3 ,  🔵 12px ⛓3  🔗3 ,  ⚫232px ⛓58 🔗58\n",
      "Y: 23x23  🔳333px ⛓1  🔗1 ,  🟡273px ⛓1  🔗1 ,  🟢 40px ⛓10 🔗10,  🔵 20px ⛓5  🔗5 ,  ⚫196px ⛓49 🔗49\n",
      "🟡 fixed, 🔳 🟢 🔵 extended, ⚫ reduced\n",
      "\n"
     ]
    }
   ],
   "source": [
    "train.overview()"
   ]
  },
  {
   "cell_type": "code",
   "execution_count": 3,
   "metadata": {},
   "outputs": [
    {
     "name": "stdout",
     "output_type": "stream",
     "text": [
      "Gridlines=🔴 7x7 of 2x2, 4 unique cells, each uniform\n",
      "Gridlines=🔴 7x7 of 2x2, 4 unique cells, each uniform\n",
      "\n",
      "Gridlines=⚪ 8x8 of 2x2, 5 unique cells, each uniform\n",
      "Gridlines=⚪ 8x8 of 2x2, 5 unique cells, each uniform\n",
      "\n",
      "Gridlines=🟡 8x8 of 2x2, 3 unique cells, each uniform\n",
      "Gridlines=🟡 8x8 of 2x2, 3 unique cells, each uniform\n",
      "\n"
     ]
    }
   ],
   "source": [
    "# Each pair has a single giant fixed region (🔴, ⚪, 🟡)\n",
    "# All other regions are ⛓{k}.{4*k}px which suggests each region of that colour might be a 2x2 square\n",
    "# So it looks as though we're dealing with a supergrid.\n",
    "\n",
    "from Supergrid import Supergrid\n",
    "\n",
    "# TODO: Supergrid.overview to report e.g. whether it's a supergrid, whether it has gridlines, .hw, # unique cells, monochromatic\n",
    "\n",
    "for X, Y in train:\n",
    "    print(Supergrid(X).stats)\n",
    "    print(Supergrid(Y).stats)\n",
    "    print()"
   ]
  },
  {
   "cell_type": "code",
   "execution_count": 4,
   "metadata": {},
   "outputs": [
    {
     "name": "stdout",
     "output_type": "stream",
     "text": [
      "X:  7x7   🔳  6px ⛓6  🔗6 ,  ⚪  1px ⛓1  🔗1 ,  🔵  3px ⛓3  🔗3 ,  🟢  2px ⛓2  🔗2 ,  ⚫ 43px ⛓1  🔗1 \n",
      "Y:  7x7   🔳 11px ⛓2  🔗2 ,  ⚪  1px ⛓1  🔗1 ,  🔵  7px ⛓1  🔗1 ,  🟢  3px ⛓1  🔗1 ,  ⚫ 38px ⛓1  🔗1 \n",
      "⚪ fixed, 🔳 🔵 🟢 extended, ⚫ reduced\n",
      "\n",
      "X:  8x8   🔳  8px ⛓8  🔗7 ,  🟡  1px ⛓1  🔗1 ,  🔵  2px ⛓2  🔗2 ,  🌑  2px ⛓2  🔗2 ,  🔴  3px ⛓3  🔗3 ,  ⚫ 56px ⛓1  🔗1 \n",
      "Y:  8x8   🔳 17px ⛓3  🔗3 ,  🟡  1px ⛓1  🔗1 ,  🔵  5px ⛓1  🔗1 ,  🌑  5px ⛓1  🔗1 ,  🔴  6px ⛓1  🔗1 ,  ⚫ 47px ⛓1  🔗1 \n",
      "🟡 fixed, 🔳 🔵 🌑 🔴 extended, ⚫ reduced\n",
      "\n",
      "X:  8x8   🔳  6px ⛓6  🔗6 ,  🟢  3px ⛓3  🔗3 ,  🔵  3px ⛓3  🔗3 ,  ⚫ 58px ⛓1  🔗1 \n",
      "Y:  8x8   🔳 15px ⛓3  🔗3 ,  🟢 10px ⛓1  🔗1 ,  🔵  5px ⛓2  🔗2 ,  ⚫ 49px ⛓1  🔗1 \n",
      "🔳 🟢 🔵 extended, ⚫ reduced\n",
      "\n"
     ]
    }
   ],
   "source": [
    "# Extract superpixels & consider a simpler puzzle.\n",
    "\n",
    "from Pairs import Pairs\n",
    "\n",
    "f = lambda G: Supergrid(G).superpixels\n",
    "g = lambda pair: f @ pair\n",
    "\n",
    "train_ = Pairs(g @ train)\n",
    "train_.overview()"
   ]
  },
  {
   "cell_type": "code",
   "execution_count": 5,
   "metadata": {},
   "outputs": [
    {
     "data": {
      "text/plain": [
       "('🔵',\n",
       "  1  1,  1  5,  3  5,\n",
       " [\n",
       " ▫ ▫ ▫ ▫ ▫\n",
       " ▪ ▪ ▪ ▪ ▫\n",
       " ▪ ▪ ▪ ▪ ▫\n",
       " ])"
      ]
     },
     "execution_count": 5,
     "metadata": {},
     "output_type": "execute_result"
    },
    {
     "data": {
      "text/plain": [
       "('⚪',\n",
       "  2  3,\n",
       " [\n",
       " ▫\n",
       " ])"
      ]
     },
     "execution_count": 5,
     "metadata": {},
     "output_type": "execute_result"
    },
    {
     "data": {
      "text/plain": [
       "('🟢',\n",
       "  4  1,  4  3,\n",
       " [\n",
       " ▫ ▫ ▫\n",
       " ])"
      ]
     },
     "execution_count": 5,
     "metadata": {},
     "output_type": "execute_result"
    },
    {
     "data": {
      "text/plain": [
       "('🔵',\n",
       "  1  1,  5  1,\n",
       " [\n",
       " ▫\n",
       " ▫\n",
       " ▫\n",
       " ▫\n",
       " ▫\n",
       " ])"
      ]
     },
     "execution_count": 5,
     "metadata": {},
     "output_type": "execute_result"
    },
    {
     "data": {
      "text/plain": [
       "('🟡',\n",
       "  1  4,\n",
       " [\n",
       " ▫\n",
       " ])"
      ]
     },
     "execution_count": 5,
     "metadata": {},
     "output_type": "execute_result"
    },
    {
     "data": {
      "text/plain": [
       "('🌑',\n",
       "  3  3,  3  7,\n",
       " [\n",
       " ▫ ▫ ▫ ▫ ▫\n",
       " ])"
      ]
     },
     "execution_count": 5,
     "metadata": {},
     "output_type": "execute_result"
    },
    {
     "data": {
      "text/plain": [
       "('🔴',\n",
       "  4  6,  6  3,  6  6,\n",
       " [\n",
       " ▪ ▪ ▪ ▫\n",
       " ▪ ▪ ▪ ▫\n",
       " ▫ ▫ ▫ ▫\n",
       " ])"
      ]
     },
     "execution_count": 5,
     "metadata": {},
     "output_type": "execute_result"
    },
    {
     "data": {
      "text/plain": [
       "('🟢',\n",
       "  1  1,  6  1,  6  5,\n",
       " [\n",
       " ▫ ▪ ▪ ▪ ▪\n",
       " ▫ ▪ ▪ ▪ ▪\n",
       " ▫ ▪ ▪ ▪ ▪\n",
       " ▫ ▪ ▪ ▪ ▪\n",
       " ▫ ▪ ▪ ▪ ▪\n",
       " ▫ ▫ ▫ ▫ ▫\n",
       " ])"
      ]
     },
     "execution_count": 5,
     "metadata": {},
     "output_type": "execute_result"
    },
    {
     "data": {
      "text/plain": [
       "('🔵',\n",
       "  1  5,  3  3,  3  6,\n",
       " [\n",
       " ▫\n",
       " , \n",
       " ▫ ▫ ▫ ▫\n",
       " ])"
      ]
     },
     "execution_count": 5,
     "metadata": {},
     "output_type": "execute_result"
    }
   ],
   "source": [
    "# Pixels are isolated in X (npix == nregions everywhere).\n",
    "# Any single-pixel colour is fixed (⚪ in pair[0], 🟡 in pair[1])\n",
    "# Others are extended and nRegions is reduced.\n",
    "\n",
    "# Maybe same-coloured pixels are joined somehow.\n",
    "\n",
    "for X, Y in train_:\n",
    "    for glyph in X.glyphs - '⚫':\n",
    "        glyph, X[glyph].pix, Y[glyph]['⛓']\n"
   ]
  },
  {
   "cell_type": "code",
   "execution_count": 6,
   "metadata": {},
   "outputs": [
    {
     "data": {
      "text/plain": [
       "[True, True, True]"
      ]
     },
     "execution_count": 6,
     "metadata": {},
     "output_type": "execute_result"
    }
   ],
   "source": [
    "# Aha, so if the same glyph appears twice on a row or col, we fill the in-between pixels.\n",
    "\n",
    "from Rect import Rect\n",
    "\n",
    "def solve_(X):\n",
    "    Y = X.copy\n",
    "\n",
    "    pairs = [ (glyph, p, q)\n",
    "        for p, q in X.pix.pairs(same=False)\n",
    "            if (glyph := X[p]) == X[q]\n",
    "                and (p.x == q.x or p.y == q.y)\n",
    "                    and (p.x <= q.x and p.y <= q.y)\n",
    "    ]\n",
    "\n",
    "    for glyph, p, q in pairs:\n",
    "        Y[Rect(tl=p, br=q)] = glyph\n",
    "\n",
    "    return Y\n",
    "\n",
    "[Y @ solve_(X) for X, Y in train_]"
   ]
  },
  {
   "cell_type": "code",
   "execution_count": 7,
   "metadata": {},
   "outputs": [
    {
     "data": {
      "text/plain": [
       "[True, True, True, True]"
      ]
     },
     "execution_count": 7,
     "metadata": {},
     "output_type": "execute_result"
    }
   ],
   "source": [
    "# Now solve the original puzzle\n",
    "def solve(X):\n",
    "    S = Supergrid(X.copy)\n",
    "    S.superpixels = solve_(S.superpixels)\n",
    "    return S.G\n",
    "\n",
    "[Y @ solve(X) for X, Y in train | test]"
   ]
  }
 ],
 "metadata": {
  "kernelspec": {
   "display_name": ".venv",
   "language": "python",
   "name": "python3"
  },
  "language_info": {
   "codemirror_mode": {
    "name": "ipython",
    "version": 3
   },
   "file_extension": ".py",
   "mimetype": "text/x-python",
   "name": "python",
   "nbconvert_exporter": "python",
   "pygments_lexer": "ipython3",
   "version": "3.12.3"
  }
 },
 "nbformat": 4,
 "nbformat_minor": 2
}
