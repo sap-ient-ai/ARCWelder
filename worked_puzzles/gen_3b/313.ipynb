{
 "cells": [
  {
   "cell_type": "code",
   "execution_count": 1,
   "metadata": {},
   "outputs": [
    {
     "name": "stdout",
     "output_type": "stream",
     "text": [
      "`setup_ipynb.py` executed, (multi-output enabled for subsequent cell executions).\n"
     ]
    },
    {
     "data": {
      "text/plain": [
       "[\n",
       "⚪ 🟡 ⚫ ⚪ ⚪ ⚫ ⚪ 🟡\n",
       "⚪ ⚪ ⚫ ⚪ ⚪ ⚫ ⚪ ⚪\n",
       "⚫ ⚫ ⚫ ⚫ ⚫ ⚫ ⚫ ⚫\n",
       "⚪ ⚪ ⚫ ⚪ ⚪ ⚫ ⚪ ⚪\n",
       "🔵 ⚪ ⚫ ⚪ ⚪ ⚫ 🔵 ⚪\n",
       "⚫ ⚫ ⚫ ⚫ ⚫ ⚫ ⚫ ⚫\n",
       "⚪ 🟡 ⚫ ⚪ ⚪ ⚫ ⚪ ⚪\n",
       "⚪ ⚪ ⚫ ⚪ ⚪ ⚫ ⚪ ⚪\n",
       ", \n",
       "⚪ 🟡 ⚫ ⚪ 🟡 ⚫ ⚪ 🟡\n",
       "⚪ ⚪ ⚫ ⚪ ⚪ ⚫ ⚪ ⚪\n",
       "⚫ ⚫ ⚫ ⚫ ⚫ ⚫ ⚫ ⚫\n",
       "⚪ 🟡 ⚫ ⚪ ⚪ ⚫ ⚪ ⚪\n",
       "🔵 ⚪ ⚫ 🔵 ⚪ ⚫ 🔵 ⚪\n",
       "⚫ ⚫ ⚫ ⚫ ⚫ ⚫ ⚫ ⚫\n",
       "⚪ 🟡 ⚫ ⚪ ⚪ ⚫ ⚪ ⚪\n",
       "⚪ ⚪ ⚫ ⚪ ⚪ ⚫ ⚪ ⚪\n",
       "]"
      ]
     },
     "execution_count": 1,
     "metadata": {},
     "output_type": "execute_result"
    }
   ],
   "source": [
    "from ARC import ARC\n",
    "\n",
    "train, test = ARC.load(313)\n",
    "\n",
    "train[0]"
   ]
  },
  {
   "cell_type": "code",
   "execution_count": 2,
   "metadata": {},
   "outputs": [
    {
     "name": "stdout",
     "output_type": "stream",
     "text": [
      "X:  8x8   🔳 36px ⛓9  🔗9 ,  ⚫ 28px ⛓1  🔗1 ,  🟡  3px ⛓3  🔗3 ,  🔵  2px ⛓2  🔗2 ,  ⚪ 31px ⛓9  🔗9 \n",
      "Y:  8x8   🔳 36px ⛓9  🔗9 ,  ⚫ 28px ⛓1  🔗1 ,  🟡  5px ⛓5  🔗5 ,  🔵  3px ⛓3  🔗3 ,  ⚪ 28px ⛓10 🔗9 \n",
      "🔳 ⚫ fixed, 🟡 🔵 extended, ⚪ reduced\n",
      "\n",
      "X:  8x8   🔳 36px ⛓9  🔗9 ,  ⚫ 28px ⛓1  🔗1 ,  🟤  2px ⛓2  🔗2 ,  🟢  3px ⛓3  🔗3 ,  ⚪ 31px ⛓9  🔗9 \n",
      "Y:  8x8   🔳 36px ⛓9  🔗9 ,  ⚫ 28px ⛓1  🔗1 ,  🟤  3px ⛓3  🔗3 ,  🟢  5px ⛓5  🔗5 ,  ⚪ 28px ⛓10 🔗9 \n",
      "🔳 ⚫ fixed, 🟤 🟢 extended, ⚪ reduced\n",
      "\n",
      "X:  8x8   🔳 36px ⛓9  🔗9 ,  ⚫ 28px ⛓1  🔗1 ,  🟢  2px ⛓2  🔗2 ,  ⚪ 34px ⛓9  🔗9 \n",
      "Y:  8x8   🔳 36px ⛓9  🔗9 ,  ⚫ 28px ⛓1  🔗1 ,  🟢  3px ⛓3  🔗3 ,  ⚪ 33px ⛓9  🔗9 \n",
      "🔳 ⚫ fixed, 🟢 extended, ⚪ reduced\n",
      "\n"
     ]
    }
   ],
   "source": [
    "train.overview()"
   ]
  },
  {
   "cell_type": "code",
   "execution_count": 3,
   "metadata": {},
   "outputs": [
    {
     "data": {
      "text/plain": [
       "1"
      ]
     },
     "execution_count": 3,
     "metadata": {},
     "output_type": "execute_result"
    }
   ],
   "source": [
    "# ⚫ fixed 28px ⛓1 in every grid\n",
    "\n",
    "((lambda pair: pair.X['⚫']) @ train).unique.Σ"
   ]
  },
  {
   "cell_type": "code",
   "execution_count": 4,
   "metadata": {},
   "outputs": [
    {
     "data": {
      "text/plain": [
       "[2, 2, 8, 2, 2, 8, 2, 2]"
      ]
     },
     "execution_count": 4,
     "metadata": {},
     "output_type": "execute_result"
    },
    {
     "data": {
      "text/plain": [
       "[2, 2, 8, 2, 2, 8, 2, 2]"
      ]
     },
     "execution_count": 4,
     "metadata": {},
     "output_type": "execute_result"
    }
   ],
   "source": [
    "# ⚫ is identical on every grid\n",
    "\n",
    "# Might be gridlines?\n",
    "\n",
    "X, Y = train[0]\n",
    "\n",
    "X['⚫.rows.Σ']\n",
    "X['⚫.cols.Σ']"
   ]
  },
  {
   "cell_type": "code",
   "execution_count": 5,
   "metadata": {},
   "outputs": [
    {
     "data": {
      "text/plain": [
       "[(\n",
       "⚪ 🟡\n",
       "⚪ ⚪\n",
       ", 3), (\n",
       "⚪ ⚪\n",
       "⚪ ⚪\n",
       ", 4), (\n",
       "⚪ ⚪\n",
       "🔵 ⚪\n",
       ", 2)]"
      ]
     },
     "execution_count": 5,
     "metadata": {},
     "output_type": "execute_result"
    },
    {
     "data": {
      "text/plain": [
       "[(\n",
       "⚪ 🟡\n",
       "⚪ ⚪\n",
       ", 4), (\n",
       "⚪ 🟡\n",
       "🔵 ⚪\n",
       ", 1), (\n",
       "⚪ ⚪\n",
       "🔵 ⚪\n",
       ", 2), (\n",
       "⚪ ⚪\n",
       "⚪ ⚪\n",
       ", 2)]"
      ]
     },
     "execution_count": 5,
     "metadata": {},
     "output_type": "execute_result"
    }
   ],
   "source": [
    "# yup, gridlines!\n",
    "\n",
    "# Let's examine supercells\n",
    "\n",
    "from Supergrid import Supergrid\n",
    "\n",
    "Supergrid(X).iter.counts\n",
    "Supergrid(Y).iter.counts\n"
   ]
  },
  {
   "cell_type": "code",
   "execution_count": 6,
   "metadata": {},
   "outputs": [
    {
     "data": {
      "text/plain": [
       "\n",
       "▫ ▪ ▫\n",
       "▪ ▪ ▪\n",
       "▫ ▪ ▪"
      ]
     },
     "execution_count": 6,
     "metadata": {},
     "output_type": "execute_result"
    },
    {
     "data": {
      "text/plain": [
       "\n",
       "▫ ▫ ▫\n",
       "▫ ▪ ▪\n",
       "▫ ▪ ▪"
      ]
     },
     "execution_count": 6,
     "metadata": {},
     "output_type": "execute_result"
    }
   ],
   "source": [
    "# In X we see 3 flavours: pure-⚪, 🟡-in-top-right, 🔵-in-bottom-left.\n",
    "# In Y, an additional flavour which is a composite of the non-pure above.\n",
    "\n",
    "# Let's look at 🟡 first.\n",
    "\n",
    "f = lambda G: G[0, 1] == '🟡'\n",
    "f @ Supergrid(X)\n",
    "f @ Supergrid(Y)\n",
    "\n"
   ]
  },
  {
   "cell_type": "code",
   "execution_count": 7,
   "metadata": {},
   "outputs": [
    {
     "data": {
      "text/plain": [
       "\n",
       "▪ ▪ ▪\n",
       "▫ ▪ ▫\n",
       "▪ ▪ ▪"
      ]
     },
     "execution_count": 7,
     "metadata": {},
     "output_type": "execute_result"
    },
    {
     "data": {
      "text/plain": [
       "\n",
       "▪ ▪ ▪\n",
       "▫ ▫ ▫\n",
       "▪ ▪ ▪"
      ]
     },
     "execution_count": 7,
     "metadata": {},
     "output_type": "execute_result"
    }
   ],
   "source": [
    "# looks like we have to fill in the missing middles, like winning a tic-tac-toe.\n",
    "\n",
    "# Does this explain 🔵 also?\n",
    "\n",
    "f = lambda G: G[1, 0] == '🔵'\n",
    "f @ Supergrid(X)\n",
    "f @ Supergrid(Y)\n"
   ]
  },
  {
   "cell_type": "code",
   "execution_count": 8,
   "metadata": {},
   "outputs": [
    {
     "data": {
      "text/plain": [
       "[True, True, True]"
      ]
     },
     "execution_count": 8,
     "metadata": {},
     "output_type": "execute_result"
    }
   ],
   "source": [
    "# yup. def.\n",
    "\n",
    "# Note that for this puzzle, we dip down into the numpy level, as it makes things cleaner.\n",
    "# We can make use of the fact that ⚪ has value 1, so any other non-black glyph has a higher value.\n",
    "\n",
    "import numpy as np\n",
    "MAX, MIN = np.maximum, np.minimum\n",
    "\n",
    "def solve(X):\n",
    "    Y = X.copy\n",
    "\n",
    "    S = Supergrid(Y).np_subgrids\n",
    "\n",
    "    S[1, :] = MAX(S[1, :], MIN(S[0, :], S[2, :]))\n",
    "    S[:, 1] = MAX(S[:, 1], MIN(S[:, 0], S[:, 2]))\n",
    "\n",
    "    return Y\n",
    "\n",
    "X, Y = train[0]\n",
    "\n",
    "[Y @ solve(X)  for X, Y in train]"
   ]
  }
 ],
 "metadata": {
  "kernelspec": {
   "display_name": ".venv",
   "language": "python",
   "name": "python3"
  },
  "language_info": {
   "codemirror_mode": {
    "name": "ipython",
    "version": 3
   },
   "file_extension": ".py",
   "mimetype": "text/x-python",
   "name": "python",
   "nbconvert_exporter": "python",
   "pygments_lexer": "ipython3",
   "version": "3.12.3"
  }
 },
 "nbformat": 4,
 "nbformat_minor": 2
}
