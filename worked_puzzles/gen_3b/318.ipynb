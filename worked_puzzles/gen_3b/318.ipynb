{
 "cells": [
  {
   "cell_type": "code",
   "execution_count": 1,
   "metadata": {},
   "outputs": [
    {
     "name": "stdout",
     "output_type": "stream",
     "text": [
      "`setup_ipynb.py` executed, (multi-output enabled for subsequent cell executions).\n"
     ]
    },
    {
     "data": {
      "text/plain": [
       "[\n",
       "⚪ ⚪ ⚪ ⚪ ⚪ ⚪ ⚪ ⚪ ⚪ ⚪ ⚪ ⚪ ⚪ ⚪ ⚪ ⚪ ⚪\n",
       "⚪ ⚪ ⚪ ⚪ ⚪ ⚪ ⚪ ⚪ ⚪ ⚪ ⚪ ⚪ ⚪ ⚪ ⚪ ⚪ ⚪\n",
       "⚪ ⚪ ⚪ ⚪ ⚪ ⚪ ⚪ ⚪ ⚪ ⚪ ⚪ 🟢 🟢 ⚪ 🟢 🟢 ⚪\n",
       "⚪ ⚪ ⚪ 🔵 🔵 🔵 🔵 🔵 ⚪ ⚪ ⚪ 🟢 ⚪ ⚪ ⚪ 🟢 ⚪\n",
       "⚪ ⚪ ⚪ 🔵 ⚪ 🔵 ⚪ 🔵 ⚪ ⚪ ⚪ 🟢 🟢 🟢 🟢 🟢 ⚪\n",
       "⚪ ⚪ ⚪ ⚪ ⚪ ⚪ ⚪ 🔵 ⚪ ⚪ ⚪ ⚪ ⚪ 🟢 ⚪ ⚪ ⚪\n",
       "⚪ ⚪ ⚪ 🔵 ⚪ 🔵 ⚪ 🔵 ⚪ ⚪ ⚪ 🟢 🟢 🟢 🟢 🟢 ⚪\n",
       "⚪ ⚪ ⚪ 🔵 🔵 🔵 🔵 🔵 ⚪ ⚪ ⚪ ⚪ ⚪ ⚪ ⚪ ⚪ ⚪\n",
       "⚪ ⚪ ⚪ ⚪ ⚪ ⚪ ⚪ ⚪ ⚪ ⚪ ⚪ ⚪ ⚪ ⚪ ⚪ ⚪ ⚪\n",
       "⚪ ⚪ ⚪ 🔴 🔴 🔴 🔴 🔴 🔴 🔴 🔴 🔴 🔴 ⚪ ⚪ ⚪ ⚪\n",
       "⚪ ⚪ ⚪ 🔴 🔴 🔴 🔴 🔴 🔴 🔴 🔴 🔴 🔴 ⚪ ⚪ ⚪ ⚪\n",
       "⚪ ⚪ ⚪ 🔴 🔴 ⚪ ⚪ 🔴 🔴 ⚪ ⚪ 🔴 🔴 ⚪ ⚪ ⚪ ⚪\n",
       "⚪ ⚪ ⚪ 🔴 🔴 ⚪ ⚪ 🔴 🔴 ⚪ ⚪ 🔴 🔴 ⚪ ⚪ ⚪ ⚪\n",
       "⚪ ⚪ ⚪ ⚪ ⚪ ⚪ ⚪ ⚪ ⚪ ⚪ ⚪ 🔴 🔴 ⚪ ⚪ ⚪ ⚪\n",
       "⚪ ⚪ ⚪ ⚪ ⚪ ⚪ ⚪ ⚪ ⚪ ⚪ ⚪ 🔴 🔴 ⚪ ⚪ ⚪ ⚪\n",
       "⚪ ⚪ ⚪ 🔴 🔴 ⚪ ⚪ 🔴 🔴 ⚪ ⚪ 🔴 🔴 ⚪ ⚪ ⚪ ⚪\n",
       "⚪ ⚪ ⚪ 🔴 🔴 ⚪ ⚪ 🔴 🔴 ⚪ ⚪ 🔴 🔴 ⚪ ⚪ ⚪ ⚪\n",
       ", \n",
       "🔵 🔵 🔵 🔵 🔵\n",
       "🔵 ⚪ 🔵 ⚪ 🔵\n",
       "⚪ ⚪ ⚪ ⚪ 🔵\n",
       "🔵 ⚪ 🔵 ⚪ 🔵\n",
       "🔵 🔵 🔵 🔵 🔵\n",
       "]"
      ]
     },
     "execution_count": 1,
     "metadata": {},
     "output_type": "execute_result"
    }
   ],
   "source": [
    "from ARC import ARC\n",
    "\n",
    "train, test = ARC.load(318)\n",
    "\n",
    "train[0]"
   ]
  },
  {
   "cell_type": "code",
   "execution_count": 2,
   "metadata": {},
   "outputs": [
    {
     "name": "stdout",
     "output_type": "stream",
     "text": [
      "X: 17x17  🔳289px ⛓1  🔗1 ,  ⚪207px ⛓1  🔗1 ,  🟢 17px ⛓1  🔗1 ,  🔵 17px ⛓1  🔗1 ,  🔴 48px ⛓3  🔗3 \n",
      "Y:  5x5   🔳 25px ⛓1  🔗1 ,  ⚪  8px ⛓1  🔗1 ,                  ,  🔵 17px ⛓1  🔗1 ,                  \n",
      "\n",
      "X: 18x18  🔳324px ⛓1  🔗1 ,  🔴278px ⛓2  🔗2 ,  🟢  9px ⛓1  🔗1 ,  🟡  9px ⛓1  🔗1 ,  🟠 28px ⛓1  🔗1 \n",
      "Y:  5x3   🔳 15px ⛓1  🔗1 ,  🔴  6px ⛓6  🔗6 ,                  ,  🟡  9px ⛓1  🔗1 ,                  \n",
      "\n",
      "X: 19x17  🔳323px ⛓1  🔗1 ,  🔵287px ⛓1  🔗1 ,  🔴 11px ⛓1  🔗1 ,  🟢  9px ⛓1  🔗1 ,  ⚪ 16px ⛓2  🔗2 \n",
      "Y:  5x3   🔳 15px ⛓1  🔗1 ,  🔵  4px ⛓2  🔗2 ,  🔴 11px ⛓1  🔗1 ,                  ,                  \n",
      "\n",
      "X: 15x17  🔳255px ⛓1  🔗1 ,  ⚪203px ⛓4  🔗4 ,  🔴 12px ⛓1  🔗1 ,  🔵 30px ⛓1  🔗1 ,  🟢 10px ⛓1  🔗1 \n",
      "Y:  3x5   🔳 15px ⛓1  🔗1 ,  ⚪  5px ⛓5  🔗5 ,                  ,                  ,  🟢 10px ⛓1  🔗1 \n",
      "\n"
     ]
    }
   ],
   "source": [
    "train.overview()"
   ]
  },
  {
   "cell_type": "code",
   "execution_count": 3,
   "metadata": {},
   "outputs": [
    {
     "data": {
      "text/plain": [
       "⏺ ↕"
      ]
     },
     "execution_count": 3,
     "metadata": {},
     "output_type": "execute_result"
    },
    {
     "data": {
      "text/plain": [
       "1"
      ]
     },
     "execution_count": 3,
     "metadata": {},
     "output_type": "execute_result"
    }
   ],
   "source": [
    "# One colour in each grid is huge; maybe background?\n",
    "\n",
    "# Y.hw is small.\n",
    "\n",
    "# It looks like one colour is being cropped out from X, e.g. 🔵 17px -> 🔵 17px in pair[0]\n",
    "\n",
    "X, Y = train[0]\n",
    "\n",
    "X[X['🔵'].crop.frame] > Y\n",
    "\n",
    "X.locate(Y).Σ"
   ]
  },
  {
   "cell_type": "code",
   "execution_count": 4,
   "metadata": {},
   "outputs": [],
   "source": [
    "# Yup. So we need to consider: Why is THIS object being selected, and not the other objects?\n",
    "\n",
    "# Let's simplify by recolouring the most-common glyph to ⚫\n",
    "\n",
    "from Pair import Pair\n",
    "from Pairs import Pairs\n",
    "\n",
    "def fix_pair(pair):\n",
    "    X, Y = pair\n",
    "    bk = X.most_common()[0]\n",
    "    fix = lambda G: G.send(bk, '⚫')\n",
    "    return Pair(fix(X), fix(Y))\n",
    "\n",
    "train_ = Pairs(fix_pair @ train)"
   ]
  },
  {
   "cell_type": "code",
   "execution_count": 5,
   "metadata": {},
   "outputs": [
    {
     "name": "stdout",
     "output_type": "stream",
     "text": [
      "🟢  5x5   17px  2 11 to  6 15 🔲 ↔ \n",
      "🔵  5x5   17px  3  3 to  7  7 🔲 ↕ <-- WINNER\n",
      "🔴  8x10  48px  9  3 to 16 12 👇  \n",
      "\n",
      "🟢  3x5    9px  4  3 to  6  7 🔲 🔄 ↔ ↕ \n",
      "🟡  5x3    9px  8 11 to 12 13 🔲 🔄 ↔ ↕ <-- WINNER\n",
      "🟠  8x5   28px 10  0 to 17  4 👇 👈  \n",
      "\n",
      "🔴  5x3   11px  2  4 to  6  6 🔲 🔄 <-- WINNER\n",
      "🟢  3x5    9px 10  8 to 12 12 🔲 ↔ \n",
      "⚪  6x4   16px 13  0 to 18  3 👇 👈 🔄 ↔ ↕ \n",
      "\n",
      "🔴  4x4   12px  2  5 to  5  8 🔲 ↔ \n",
      "🔵  6x7   30px  9  0 to 14  6 👇 👈 ↕ \n",
      "🟢  3x5   10px  9  8 to 11 12 🔲 🔄 ↔ ↕ <-- WINNER\n",
      "\n"
     ]
    }
   ],
   "source": [
    "# NOTE: In X[0] we actually have 3 🔴 regions, but we're considering ALL 🔴-pixels as parts of the same object.\n",
    "for X, Y in train_:\n",
    "    for glyph in X.glyphs - '⚫':\n",
    "        G = X[glyph].crop\n",
    "        isWinner = '<-- WINNER' if glyph in Y else ''\n",
    "        print(G.glyph_hxw_npix, G.frame, G.touchings, G > '⏺', isWinner)\n",
    "    print()\n"
   ]
  },
  {
   "cell_type": "code",
   "execution_count": 6,
   "metadata": {},
   "outputs": [
    {
     "data": {
      "text/plain": [
       "\n",
       "🟢 🟢 ⚫ 🟢 🟢\n",
       "🟢 ⚫ ⚫ ⚫ 🟢\n",
       "🟢 🟢 🟢 🟢 🟢\n",
       "⚫ ⚫ 🟢 ⚫ ⚫\n",
       "🟢 🟢 🟢 🟢 🟢"
      ]
     },
     "execution_count": 6,
     "metadata": {},
     "output_type": "execute_result"
    },
    {
     "data": {
      "text/plain": [
       "\n",
       "🔵 🔵 🔵 🔵 🔵\n",
       "🔵 ⚫ 🔵 ⚫ 🔵\n",
       "⚫ ⚫ ⚫ ⚫ 🔵\n",
       "🔵 ⚫ 🔵 ⚫ 🔵\n",
       "🔵 🔵 🔵 🔵 🔵"
      ]
     },
     "execution_count": 6,
     "metadata": {},
     "output_type": "execute_result"
    },
    {
     "data": {
      "text/plain": [
       "\n",
       "🔴 🔴 🔴 🔴 🔴 🔴 🔴 🔴 🔴 🔴\n",
       "🔴 🔴 🔴 🔴 🔴 🔴 🔴 🔴 🔴 🔴\n",
       "🔴 🔴 ⚫ ⚫ 🔴 🔴 ⚫ ⚫ 🔴 🔴\n",
       "🔴 🔴 ⚫ ⚫ 🔴 🔴 ⚫ ⚫ 🔴 🔴\n",
       "⚫ ⚫ ⚫ ⚫ ⚫ ⚫ ⚫ ⚫ 🔴 🔴\n",
       "⚫ ⚫ ⚫ ⚫ ⚫ ⚫ ⚫ ⚫ 🔴 🔴\n",
       "🔴 🔴 ⚫ ⚫ 🔴 🔴 ⚫ ⚫ 🔴 🔴\n",
       "🔴 🔴 ⚫ ⚫ 🔴 🔴 ⚫ ⚫ 🔴 🔴"
      ]
     },
     "execution_count": 6,
     "metadata": {},
     "output_type": "execute_result"
    }
   ],
   "source": [
    "# Awkward. There's no obviously-clean X grids -- each one has at least one region that's touching an edge.\n",
    "\n",
    "# It's always the biggest glyph that's touching (most npix and biggest hxw area).\n",
    "\n",
    "# Also, it's always one of the smaller glyphs that gets selected.\n",
    "\n",
    "# Let's take a look at the glyphs for pair[0]\n",
    "\n",
    "X, Y = train_[0]\n",
    "\n",
    "for glyph in X.glyphs - '⚫':\n",
    "    X[glyph].crop * glyph"
   ]
  },
  {
   "cell_type": "code",
   "execution_count": 7,
   "metadata": {},
   "outputs": [
    {
     "data": {
      "text/plain": [
       "'Gridlines=None 4x5 of 2x2, 2 unique cells, each uniform'"
      ]
     },
     "execution_count": 7,
     "metadata": {},
     "output_type": "execute_result"
    }
   ],
   "source": [
    "# 🔴 looks 'blocky', like it's a 2x2 upscale of a pattern\n",
    "\n",
    "from Supergrid import Supergrid\n",
    "\n",
    "red = X['🔴'].crop\n",
    "\n",
    "S = Supergrid(red, sy=2, sx=2)\n",
    "\n",
    "S.stats"
   ]
  },
  {
   "cell_type": "code",
   "execution_count": 8,
   "metadata": {},
   "outputs": [
    {
     "data": {
      "text/plain": [
       "\n",
       "🔴 🔴 🔴 🔴 🔴\n",
       "🔴 ⚫ 🔴 ⚫ 🔴\n",
       "⚫ ⚫ ⚫ ⚫ 🔴\n",
       "🔴 ⚫ 🔴 ⚫ 🔴"
      ]
     },
     "execution_count": 8,
     "metadata": {},
     "output_type": "execute_result"
    }
   ],
   "source": [
    "red_ = S.superpixels\n",
    "red_ * '🔴'"
   ]
  },
  {
   "cell_type": "code",
   "execution_count": 9,
   "metadata": {},
   "outputs": [
    {
     "data": {
      "text/plain": [
       "0"
      ]
     },
     "execution_count": 9,
     "metadata": {},
     "output_type": "execute_result"
    },
    {
     "data": {
      "text/plain": [
       "1"
      ]
     },
     "execution_count": 9,
     "metadata": {},
     "output_type": "execute_result"
    }
   ],
   "source": [
    "X['🟢'].locate(red_).Σ\n",
    "X['🔵'].locate(red_).Σ\n"
   ]
  },
  {
   "cell_type": "code",
   "execution_count": 10,
   "metadata": {},
   "outputs": [],
   "source": [
    "# Ok, so 🔵 is the winner because a 2x-upscale of 🔵 is also present in X, even tho' it's coloured 🔴 and partially off-grid.\n",
    "\n",
    "# So we need to identify which glyph represents a 2x-upscale, downscale it, and see which of the other glyphs contains it.\n",
    "\n",
    "# Question: What if our 2x-upscale doesn't superpixel-align with the grid? e.g. A 4x4 (2x2 superpixels) at -1, -1: We should handle this.\n",
    "\n",
    "# Strategy: It would be more sense to 2x-UPscale each glyph, and see if we can position it such that it perfectly cancels out one of the other glyphs"
   ]
  },
  {
   "cell_type": "code",
   "execution_count": 11,
   "metadata": {},
   "outputs": [
    {
     "data": {
      "text/plain": [
       "[True, True, True, True, True]"
      ]
     },
     "execution_count": 11,
     "metadata": {},
     "output_type": "execute_result"
    }
   ],
   "source": [
    "def solve(X):\n",
    "    # Discard background\n",
    "    glyphs = X.most_common()[1:]\n",
    "\n",
    "    def can_find(args):\n",
    "        V_incomplete, u = args\n",
    "        try:\n",
    "            return X[u].crop.upscale(2).locate(\n",
    "                X[V_incomplete].crop\n",
    "            ).Σ > 0\n",
    "        except ValueError:\n",
    "            return False\n",
    "\n",
    "    # Find glyph-pair (V_incomplete, u) such that V_incomplete is found in u.upscale(2)\n",
    "    V_incomplete, u = next( glyphs.pairs(same=False) | can_find )\n",
    "\n",
    "    return X[X[u].crop.frame]\n",
    "\n",
    "[Y @ solve(X) for X, Y in train | test]"
   ]
  }
 ],
 "metadata": {
  "kernelspec": {
   "display_name": ".venv",
   "language": "python",
   "name": "python3"
  },
  "language_info": {
   "codemirror_mode": {
    "name": "ipython",
    "version": 3
   },
   "file_extension": ".py",
   "mimetype": "text/x-python",
   "name": "python",
   "nbconvert_exporter": "python",
   "pygments_lexer": "ipython3",
   "version": "3.12.3"
  }
 },
 "nbformat": 4,
 "nbformat_minor": 2
}
