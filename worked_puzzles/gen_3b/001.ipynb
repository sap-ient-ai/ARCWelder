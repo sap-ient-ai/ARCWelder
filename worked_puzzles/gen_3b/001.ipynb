{
 "cells": [
  {
   "cell_type": "code",
   "execution_count": 1,
   "metadata": {},
   "outputs": [
    {
     "name": "stdout",
     "output_type": "stream",
     "text": [
      "`setup_ipynb.py` executed, (multi-output enabled for subsequent cell executions).\n"
     ]
    },
    {
     "data": {
      "text/plain": [
       "[\n",
       "⚫ ⚫ ⚫ ⚫ ⚫ ⚫\n",
       "⚫ ⚫ 🟢 ⚫ ⚫ ⚫\n",
       "⚫ 🟢 ⚫ 🟢 ⚫ ⚫\n",
       "⚫ ⚫ 🟢 ⚫ 🟢 ⚫\n",
       "⚫ ⚫ ⚫ 🟢 ⚫ ⚫\n",
       "⚫ ⚫ ⚫ ⚫ ⚫ ⚫\n",
       ", \n",
       "⚫ ⚫ ⚫ ⚫ ⚫ ⚫\n",
       "⚫ ⚫ 🟢 ⚫ ⚫ ⚫\n",
       "⚫ 🟢 🟡 🟢 ⚫ ⚫\n",
       "⚫ ⚫ 🟢 🟡 🟢 ⚫\n",
       "⚫ ⚫ ⚫ 🟢 ⚫ ⚫\n",
       "⚫ ⚫ ⚫ ⚫ ⚫ ⚫\n",
       "]"
      ]
     },
     "execution_count": 1,
     "metadata": {},
     "output_type": "execute_result"
    }
   ],
   "source": [
    "from ARC import ARC\n",
    "\n",
    "train, test = ARC.load(1)\n",
    "\n",
    "train[0]"
   ]
  },
  {
   "cell_type": "code",
   "execution_count": 2,
   "metadata": {},
   "outputs": [
    {
     "name": "stdout",
     "output_type": "stream",
     "text": [
      "X:  6x6   🔳  6px ⛓6  🔗1 ,  🟢  6px ⛓6  🔗1 ,                  ,  ⚫ 30px ⛓3  🔗1 \n",
      "Y:  6x6   🔳  8px ⛓1  🔗1 ,  🟢  6px ⛓6  🔗1 ,  🟡  2px ⛓2  🔗1 ,  ⚫ 28px ⛓1  🔗1 \n",
      "🟢 fixed, 🟡 created, 🔳 extended, ⚫ reduced\n",
      "\n",
      "X: 10x10  🔳 15px ⛓9  🔗1 ,  🟢 15px ⛓9  🔗1 ,                  ,  ⚫ 85px ⛓2  🔗1 \n",
      "Y: 10x10  🔳 16px ⛓7  🔗1 ,  🟢 15px ⛓9  🔗1 ,  🟡  1px ⛓1  🔗1 ,  ⚫ 84px ⛓1  🔗1 \n",
      "🟢 fixed, 🟡 created, 🔳 extended, ⚫ reduced\n",
      "\n",
      "X: 10x10  🔳 22px ⛓11 🔗1 ,  🟢 22px ⛓11 🔗1 ,                  ,  ⚫ 78px ⛓4  🔗1 \n",
      "Y: 10x10  🔳 31px ⛓6  🔗1 ,  🟢 22px ⛓11 🔗1 ,  🟡  9px ⛓2  🔗2 ,  ⚫ 69px ⛓2  🔗1 \n",
      "🟢 fixed, 🟡 created, 🔳 extended, ⚫ reduced\n",
      "\n",
      "X: 10x10  🔳 29px ⛓5  🔗1 ,  🟢 29px ⛓5  🔗1 ,                  ,  ⚫ 71px ⛓5  🔗2 \n",
      "Y: 10x10  🔳 35px ⛓1  🔗1 ,  🟢 29px ⛓5  🔗1 ,  🟡  6px ⛓3  🔗3 ,  ⚫ 65px ⛓2  🔗2 \n",
      "🟢 fixed, 🟡 created, 🔳 extended, ⚫ reduced\n",
      "\n",
      "X: 20x20  🔳 67px ⛓14 🔗8 ,  🟢 67px ⛓14 🔗8 ,                  ,  ⚫333px ⛓6  🔗3 \n",
      "Y: 20x20  🔳 98px ⛓12 🔗8 ,  🟢 67px ⛓14 🔗8 ,  🟡 31px ⛓5  🔗4 ,  ⚫302px ⛓1  🔗1 \n",
      "🟢 fixed, 🟡 created, 🔳 extended, ⚫ reduced\n",
      "\n"
     ]
    }
   ],
   "source": [
    "train.overview()"
   ]
  },
  {
   "cell_type": "code",
   "execution_count": 3,
   "metadata": {},
   "outputs": [
    {
     "data": {
      "text/plain": [
       "\n",
       "⚫ ⚫ ⚫ ⚫ ⚫ ⚫\n",
       "⚫ ⚫ 🟢 ⚫ ⚫ ⚫\n",
       "⚫ 🟢 🟡 🟢 ⚫ ⚫\n",
       "⚫ ⚫ 🟢 🟡 🟢 ⚫\n",
       "⚫ ⚫ ⚫ 🟢 ⚫ ⚫\n",
       "⚫ ⚫ ⚫ ⚫ ⚫ ⚫"
      ]
     },
     "execution_count": 3,
     "metadata": {},
     "output_type": "execute_result"
    }
   ],
   "source": [
    "# We see that 🟢 is fixed, 🟡 is created.\n",
    "\n",
    "# pair[0] is smallest, let's inspect Y0:\n",
    "\n",
    "train[0].Y"
   ]
  },
  {
   "cell_type": "code",
   "execution_count": 4,
   "metadata": {},
   "outputs": [
    {
     "data": {
      "text/plain": [
       "[True, True, True, True, True]"
      ]
     },
     "execution_count": 4,
     "metadata": {},
     "output_type": "execute_result"
    }
   ],
   "source": [
    "# Most obvious hypothesis: Fill the holes with 🟡\n",
    "\n",
    "[X['🟢'].holes @ Y['🟡'] for X, Y in train]\n"
   ]
  },
  {
   "cell_type": "code",
   "execution_count": 5,
   "metadata": {},
   "outputs": [
    {
     "data": {
      "text/plain": [
       "[True, True, True, True, True, True]"
      ]
     },
     "execution_count": 5,
     "metadata": {},
     "output_type": "execute_result"
    }
   ],
   "source": [
    "def solve(X):\n",
    "    Y = X | (X['🟢'].holes * '🟡')\n",
    "    return Y\n",
    "\n",
    "[Y @ solve(X) for X, Y in train | test]\n"
   ]
  },
  {
   "cell_type": "code",
   "execution_count": null,
   "metadata": {},
   "outputs": [],
   "source": []
  }
 ],
 "metadata": {
  "kernelspec": {
   "display_name": ".venv",
   "language": "python",
   "name": "python3"
  },
  "language_info": {
   "codemirror_mode": {
    "name": "ipython",
    "version": 3
   },
   "file_extension": ".py",
   "mimetype": "text/x-python",
   "name": "python",
   "nbconvert_exporter": "python",
   "pygments_lexer": "ipython3",
   "version": "3.12.3"
  }
 },
 "nbformat": 4,
 "nbformat_minor": 2
}
