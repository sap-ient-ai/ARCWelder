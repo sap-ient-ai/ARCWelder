{
 "cells": [
  {
   "cell_type": "code",
   "execution_count": 1,
   "metadata": {},
   "outputs": [
    {
     "name": "stdout",
     "output_type": "stream",
     "text": [
      "`setup_ipynb.py` executed, (multi-output enabled for subsequent cell executions).\n"
     ]
    }
   ],
   "source": [
    "import setup_ipynb\n"
   ]
  },
  {
   "cell_type": "markdown",
   "metadata": {},
   "source": [
    "# `__init__`"
   ]
  },
  {
   "cell_type": "code",
   "execution_count": 2,
   "metadata": {},
   "outputs": [
    {
     "data": {
      "text/plain": [
       "(\n",
       " ▫,\n",
       "  1  1,\n",
       " bool)"
      ]
     },
     "execution_count": 2,
     "metadata": {},
     "output_type": "execute_result"
    },
    {
     "data": {
      "text/plain": [
       "(\n",
       " ▫ ▪,\n",
       "  1  2)"
      ]
     },
     "execution_count": 2,
     "metadata": {},
     "output_type": "execute_result"
    },
    {
     "data": {
      "text/plain": [
       "\n",
       "▫ ▪\n",
       "▪ ▫"
      ]
     },
     "execution_count": 2,
     "metadata": {},
     "output_type": "execute_result"
    },
    {
     "data": {
      "text/plain": [
       "(\n",
       " 🔵 🔵\n",
       " 🔵 🔵,\n",
       " int)"
      ]
     },
     "execution_count": 2,
     "metadata": {},
     "output_type": "execute_result"
    },
    {
     "data": {
      "text/plain": [
       "\n",
       "⚫ 🔵\n",
       "🔵 🔵"
      ]
     },
     "execution_count": 2,
     "metadata": {},
     "output_type": "execute_result"
    },
    {
     "data": {
      "text/plain": [
       "(\n",
       " ⚪ 🔵 🟢,\n",
       " \n",
       " ⚪ 🔵 🟢)"
      ]
     },
     "execution_count": 2,
     "metadata": {},
     "output_type": "execute_result"
    }
   ],
   "source": [
    "from Grid import Grid\n",
    "\n",
    "import numpy as np\n",
    "\n",
    "G = Grid('▫')\n",
    "G, G.hw, G.dtype\n",
    "\n",
    "G = Grid('▫ ▪')\n",
    "G, G.hw\n",
    "\n",
    "G = Grid('▫ ▪ ; ▪▫')\n",
    "G\n",
    "\n",
    "G = Grid('2x2.🔵')\n",
    "G, G.dtype\n",
    "\n",
    "H = Grid(G)\n",
    "H._[0, 0] = 0\n",
    "G\n",
    "\n",
    "Grid([[1,2,3]]), Grid(np.array([[1,2,3]]))"
   ]
  },
  {
   "cell_type": "code",
   "execution_count": 3,
   "metadata": {},
   "outputs": [
    {
     "data": {
      "text/plain": [
       "True"
      ]
     },
     "execution_count": 3,
     "metadata": {},
     "output_type": "execute_result"
    }
   ],
   "source": [
    "# Operators\n",
    "\n",
    "Grid('⚪ 🔵 🟢') @ Grid([[1, 2, 3]])"
   ]
  },
  {
   "cell_type": "markdown",
   "metadata": {},
   "source": [
    "# Indexing"
   ]
  },
  {
   "cell_type": "code",
   "execution_count": 4,
   "metadata": {},
   "outputs": [
    {
     "data": {
      "text/plain": [
       "('🔵', True)"
      ]
     },
     "execution_count": 4,
     "metadata": {},
     "output_type": "execute_result"
    }
   ],
   "source": [
    "from Coord import Coord\n",
    "\n",
    "Grid('⚪ 🔵 🟢')[0, 1], Grid('▫▪▫▫')[Coord(0, 2)]"
   ]
  },
  {
   "cell_type": "code",
   "execution_count": 5,
   "metadata": {},
   "outputs": [
    {
     "data": {
      "text/plain": [
       "(\n",
       " ⚪ 🟢,\n",
       " Grid.Grid)"
      ]
     },
     "execution_count": 5,
     "metadata": {},
     "output_type": "execute_result"
    },
    {
     "data": {
      "text/plain": [
       "1"
      ]
     },
     "execution_count": 5,
     "metadata": {},
     "output_type": "execute_result"
    },
    {
     "data": {
      "text/plain": [
       " 0  1,  1  2"
      ]
     },
     "execution_count": 5,
     "metadata": {},
     "output_type": "execute_result"
    },
    {
     "data": {
      "text/plain": [
       "\n",
       "⚪ 🟢"
      ]
     },
     "execution_count": 5,
     "metadata": {},
     "output_type": "execute_result"
    },
    {
     "data": {
      "text/plain": [
       " 0  1 to  1  2"
      ]
     },
     "execution_count": 5,
     "metadata": {},
     "output_type": "execute_result"
    },
    {
     "data": {
      "text/plain": [
       "\n",
       "⚪ ⚪\n",
       "🔵 🟢"
      ]
     },
     "execution_count": 5,
     "metadata": {},
     "output_type": "execute_result"
    },
    {
     "data": {
      "text/plain": [
       " 2  2"
      ]
     },
     "execution_count": 5,
     "metadata": {},
     "output_type": "execute_result"
    }
   ],
   "source": [
    "from Coords import Coords\n",
    "\n",
    "G = Grid('''\n",
    "    ⚪ ⚪ ⚪\n",
    "    ⚪ 🔵 🟢\n",
    "''')\n",
    "H = G[[0, 1], [1, 2]]\n",
    "H, type(H)\n",
    "\n",
    "H._.ndim  # TODO: This is 1 ... do we want to allow 1D or 0D grids?\n",
    "\n",
    "P = Coords([[0, 1], [1, 2]])\n",
    "P\n",
    "G[P]\n",
    "\n",
    "from Rect import Rect\n",
    "R = Rect(tlhw=(0, 1, 2, 2))\n",
    "R\n",
    "G[R]\n",
    "\n",
    "G[Rect(0, 1, 10, 10)].hw  # WARN: If rect is outside G's bounds, it just returns the part that IS within. Dunno whether to consider this a bug or a feature."
   ]
  },
  {
   "cell_type": "code",
   "execution_count": 6,
   "metadata": {},
   "outputs": [
    {
     "data": {
      "text/plain": [
       "(\n",
       " ▪ ▪ ▪ ▪\n",
       " ▪ ▫ ▫ ▪\n",
       " ▪ ▪ ▪ ▪,\n",
       " {'glyph': '🟢'})"
      ]
     },
     "execution_count": 6,
     "metadata": {},
     "output_type": "execute_result"
    },
    {
     "data": {
      "text/plain": [
       "(\n",
       " ▫ ▫,\n",
       " {'src': \n",
       "  ▪ ▪ ▪ ▪\n",
       "  ▪ ▫ ▫ ▪\n",
       "  ▪ ▪ ▪ ▪,\n",
       "  'frame':  1  1 to  1  2,\n",
       "  'glyph': '🟢'})"
      ]
     },
     "execution_count": 6,
     "metadata": {},
     "output_type": "execute_result"
    }
   ],
   "source": [
    "G = Grid('''\n",
    "    ⚪ ⚪ ⚪ 🔵\n",
    "    🔵 🟢 🟢 🔵\n",
    "    🔵 🔵 ⚪ ⚪\n",
    "''')\n",
    "\n",
    "green = G['🟢']\n",
    "green, green.meta\n",
    "\n",
    "crop = green['✂']\n",
    "crop, crop.meta\n",
    "\n",
    "# r = G['⛓'][0]\n",
    "# print(r)\n",
    "# print(r.meta.glyph)\n"
   ]
  },
  {
   "cell_type": "code",
   "execution_count": 7,
   "metadata": {},
   "outputs": [
    {
     "data": {
      "text/plain": [
       "\n",
       "▪ ▪ ▪ ▪\n",
       "▪ ▫ ▫ ▪\n",
       "▪ ▪ ▪ ▪"
      ]
     },
     "execution_count": 7,
     "metadata": {},
     "output_type": "execute_result"
    }
   ],
   "source": [
    "green"
   ]
  },
  {
   "cell_type": "code",
   "execution_count": 8,
   "metadata": {},
   "outputs": [
    {
     "data": {
      "text/plain": [
       "(\n",
       " ▫\n",
       " ▫,\n",
       " \n",
       " ▪ ▪ ▪\n",
       " ▪ ▫ ▪\n",
       " ▪ ▫ ▪\n",
       " ▪ ▪ ▪)"
      ]
     },
     "execution_count": 8,
     "metadata": {},
     "output_type": "execute_result"
    }
   ],
   "source": [
    "H = G['🔵.🔗.0'].pad(1)\n",
    "H, H.canvas"
   ]
  },
  {
   "cell_type": "code",
   "execution_count": 9,
   "metadata": {},
   "outputs": [
    {
     "data": {
      "text/plain": [
       "(\n",
       " ⚫ ⚪ 🔵\n",
       " 🟢 🟡 🟣\n",
       " 🟠 🟤 🔴,\n",
       " ⚫ ⚪ 🔵 🟢 🟡 🟣)"
      ]
     },
     "execution_count": 9,
     "metadata": {},
     "output_type": "execute_result"
    }
   ],
   "source": [
    "\n",
    "\n",
    "A = Grid(np.arange(9).reshape((3,3)))\n",
    "A, A.glyphs - '🟠 🟤 🔴'\n",
    "\n"
   ]
  },
  {
   "cell_type": "code",
   "execution_count": 10,
   "metadata": {},
   "outputs": [
    {
     "ename": "AssertionError",
     "evalue": "",
     "output_type": "error",
     "traceback": [
      "\u001b[0;31m---------------------------------------------------------------------------\u001b[0m",
      "\u001b[0;31mAssertionError\u001b[0m                            Traceback (most recent call last)",
      "Cell \u001b[0;32mIn[10], line 2\u001b[0m\n\u001b[1;32m      1\u001b[0m mask \u001b[38;5;241m=\u001b[39m Grid(np\u001b[38;5;241m.\u001b[39mzeros((\u001b[38;5;241m3\u001b[39m,\u001b[38;5;241m3\u001b[39m)), dtype\u001b[38;5;241m=\u001b[39m\u001b[38;5;28mbool\u001b[39m)\n\u001b[0;32m----> 2\u001b[0m \u001b[38;5;28;01massert\u001b[39;00m mask\u001b[38;5;241m.\u001b[39msame(\u001b[43mGrid\u001b[49m\u001b[43m(\u001b[49m\u001b[43mhw\u001b[49m\u001b[38;5;241;43m=\u001b[39;49m\u001b[38;5;241;43m3\u001b[39;49m\u001b[43m,\u001b[49m\u001b[43m \u001b[49m\u001b[43mdtype\u001b[49m\u001b[38;5;241;43m=\u001b[39;49m\u001b[38;5;28;43mbool\u001b[39;49m\u001b[43m)\u001b[49m\u001b[38;5;241m.\u001b[39mfill(\u001b[38;5;241m0\u001b[39m))\n\u001b[1;32m      3\u001b[0m \u001b[38;5;66;03m# TODO: use %\u001b[39;00m\n\u001b[1;32m      5\u001b[0m mask[:] \u001b[38;5;241m=\u001b[39m \u001b[38;5;28;01mTrue\u001b[39;00m\n",
      "File \u001b[0;32m~/code/2024/arc3/tools/Grid.py:172\u001b[0m, in \u001b[0;36mGrid.__init__\u001b[0;34m(self, k, hw, fill, **kwargs)\u001b[0m\n\u001b[1;32m    165\u001b[0m \u001b[38;5;28;01mdef\u001b[39;00m \u001b[38;5;21m__init__\u001b[39m(\n\u001b[1;32m    166\u001b[0m     \u001b[38;5;28mself\u001b[39m,\n\u001b[1;32m    167\u001b[0m     k\u001b[38;5;241m=\u001b[39m\u001b[38;5;28;01mNone\u001b[39;00m,\n\u001b[1;32m    168\u001b[0m     hw\u001b[38;5;241m=\u001b[39m\u001b[38;5;28;01mNone\u001b[39;00m, fill\u001b[38;5;241m=\u001b[39m\u001b[38;5;28;01mNone\u001b[39;00m,\n\u001b[1;32m    169\u001b[0m     \u001b[38;5;241m*\u001b[39m\u001b[38;5;241m*\u001b[39mkwargs,\n\u001b[1;32m    170\u001b[0m ):\n\u001b[1;32m    171\u001b[0m     \u001b[38;5;28;01mif\u001b[39;00m k \u001b[38;5;129;01mis\u001b[39;00m \u001b[38;5;28;01mNone\u001b[39;00m:\n\u001b[0;32m--> 172\u001b[0m         k \u001b[38;5;241m=\u001b[39m \u001b[38;5;124mf\u001b[39m\u001b[38;5;124m'\u001b[39m\u001b[38;5;132;01m{\u001b[39;00mCoord(hw)\u001b[38;5;132;01m:\u001b[39;00m\u001b[38;5;124m~x\u001b[39m\u001b[38;5;132;01m}\u001b[39;00m\u001b[38;5;124m.\u001b[39m\u001b[38;5;132;01m{\u001b[39;00m\u001b[43mE\u001b[49m\u001b[43m(\u001b[49m\u001b[43mfill\u001b[49m\u001b[43m)\u001b[49m\u001b[38;5;132;01m}\u001b[39;00m\u001b[38;5;124m'\u001b[39m\n\u001b[1;32m    174\u001b[0m     \u001b[38;5;28;01mif\u001b[39;00m \u001b[38;5;28misinstance\u001b[39m(k, \u001b[38;5;28mstr\u001b[39m):\n\u001b[1;32m    175\u001b[0m         \u001b[38;5;28mself\u001b[39m\u001b[38;5;241m.\u001b[39m_ \u001b[38;5;241m=\u001b[39m hxw_c(k) \u001b[38;5;28;01mif\u001b[39;00m \u001b[38;5;124m'\u001b[39m\u001b[38;5;124m.\u001b[39m\u001b[38;5;124m'\u001b[39m \u001b[38;5;129;01min\u001b[39;00m k \u001b[38;5;28;01melse\u001b[39;00m np_array_from_str(k)\n",
      "File \u001b[0;32m~/code/2024/arc3/tools/Grid.py:47\u001b[0m, in \u001b[0;36mE\u001b[0;34m(i)\u001b[0m\n\u001b[1;32m     45\u001b[0m \u001b[38;5;28;01mif\u001b[39;00m i \u001b[38;5;129;01min\u001b[39;00m _I\u001b[38;5;241m.\u001b[39mkeys():\n\u001b[1;32m     46\u001b[0m     \u001b[38;5;28;01mreturn\u001b[39;00m i\n\u001b[0;32m---> 47\u001b[0m \u001b[38;5;28;01massert\u001b[39;00m \u001b[38;5;28misinstance\u001b[39m(i, (\u001b[38;5;28mbool\u001b[39m, \u001b[38;5;28mint\u001b[39m))\n\u001b[1;32m     48\u001b[0m \u001b[38;5;28;01mreturn\u001b[39;00m \u001b[38;5;124m'\u001b[39m\u001b[38;5;124m▪▫\u001b[39m\u001b[38;5;124m'\u001b[39m[i] \u001b[38;5;28;01mif\u001b[39;00m \u001b[38;5;28misinstance\u001b[39m(i, \u001b[38;5;28mbool\u001b[39m)  \\\n\u001b[1;32m     49\u001b[0m     \u001b[38;5;28;01melse\u001b[39;00m GLYPHS[i] \u001b[38;5;28;01mif\u001b[39;00m \u001b[38;5;28misinstance\u001b[39m(i, \u001b[38;5;28mint\u001b[39m)  \\\n\u001b[1;32m     50\u001b[0m         \u001b[38;5;28;01melse\u001b[39;00m i\n",
      "\u001b[0;31mAssertionError\u001b[0m: "
     ]
    }
   ],
   "source": [
    "mask = Grid(np.zeros((3,3)), dtype=bool)\n",
    "assert mask.same(Grid(hw=3, dtype=bool).fill(0))\n",
    "assert mask @ Grid(hw=3, dtype=bool).fill(0)\n",
    "\n",
    "mask[:] = True\n",
    "mask[:, :2] = False\n",
    "mask[-1, 0] = True\n",
    "mask\n",
    "\n",
    "A[mask]\n",
    "A * mask\n",
    "\n",
    "A[mask] = '🟣'\n",
    "A, A[[0,2], 1:]\n"
   ]
  },
  {
   "cell_type": "code",
   "execution_count": null,
   "metadata": {},
   "outputs": [],
   "source": [
    "_ = A.fill('⚫')\n",
    "A[[0, 2], 1:] = '🟡 🟣 \\n 5 4'\n",
    "A\n",
    "\n"
   ]
  },
  {
   "cell_type": "code",
   "execution_count": null,
   "metadata": {},
   "outputs": [],
   "source": [
    "Grid('1 0 \\n 0 0') == Grid('⚫ ⚫ \\n ⚫ 🔵')\n",
    "\n",
    "Grid('5').same(np.array([[5]]))\n",
    "\n",
    "Grid('0 1 ; 2 3') == 3\n",
    "\n",
    "Grid('2 2').same([2, 2]),  \\\n",
    "Grid('2 2').same([[2, 2]])  # Want: False, True\n",
    "\n",
    "Grid('1 1 ; 1 2').all, Grid('0 0').none  # Want: True, True\n"
   ]
  },
  {
   "cell_type": "code",
   "execution_count": null,
   "metadata": {},
   "outputs": [],
   "source": [
    "'🔵' in Grid('🔵 ⚫')"
   ]
  },
  {
   "cell_type": "code",
   "execution_count": null,
   "metadata": {},
   "outputs": [],
   "source": [
    "A = Grid('0 1 \\n 2 3')\n",
    "# G = Grid('1 1 0 ; 0 0 0 ; 0 0 0')\n",
    "\n",
    "A['~⤵']\n",
    "{k: A[k] for k in '⏺ ⤴  ~⤵'.split()}\n",
    "for k, v in A.s4:\n",
    "    print(k, v)\n",
    "    break\n",
    "type(A.s4)\n",
    "dict(A.s4)\n",
    "\n",
    "\n"
   ]
  },
  {
   "cell_type": "code",
   "execution_count": null,
   "metadata": {},
   "outputs": [],
   "source": [
    "A = Grid('''\n",
    "    🟢 🟢 ⚫\n",
    "    🟢 ⚫ ⚫\n",
    "    ⚫ 🟢 🟢\n",
    "''')\n",
    "# A.regions()\n",
    "\n",
    "# tuple(A['🟢'].regions('⛓'))\n",
    "\n",
    "# A['🟢'].regions('⛓')[1].frame\n",
    "\n",
    "# tuple(A['⚪'].regions())\n"
   ]
  },
  {
   "cell_type": "code",
   "execution_count": null,
   "metadata": {},
   "outputs": [],
   "source": [
    "B = A[:2, 0].fill('⚪')\n",
    "A, B"
   ]
  },
  {
   "cell_type": "code",
   "execution_count": null,
   "metadata": {},
   "outputs": [],
   "source": [
    "B = A.copy; B[:2, 0].fill('🔵')\n",
    "A, B\n"
   ]
  },
  {
   "cell_type": "code",
   "execution_count": null,
   "metadata": {},
   "outputs": [],
   "source": [
    "from Coord import Coord\n",
    "\n",
    "A[1,1] = 5\n",
    "A[Coord(2,2)] = 6\n",
    "A, A[1,1], A[Coord(2,2)]"
   ]
  },
  {
   "cell_type": "code",
   "execution_count": null,
   "metadata": {},
   "outputs": [],
   "source": [
    "G = Grid('''\n",
    "0 0  2 2  4 4  6 6\n",
    "0 0  2 2  4 4  6 6\n",
    "0 1  2 3  4 5  6 7\n",
    "''')\n",
    "G\n",
    "\n",
    "H = G.split(nx=4)\n",
    "A, B, C, D = H\n",
    "B.send('🟢 🔵 -> 🔴 🌑', in_place=True)\n",
    "G"
   ]
  },
  {
   "cell_type": "code",
   "execution_count": null,
   "metadata": {},
   "outputs": [],
   "source": [
    "G = Grid('''\n",
    "    0 1 2 0 0 0\n",
    "    0 1 0 0 1 2\n",
    "    0 0 0 0 1 0\n",
    "''')\n",
    "\n",
    "kernel = Grid('''\n",
    "    1 2\n",
    "    1 0\n",
    "''')\n",
    "\n",
    "G.locate(kernel)"
   ]
  },
  {
   "cell_type": "code",
   "execution_count": null,
   "metadata": {},
   "outputs": [],
   "source": [
    "if 0:\n",
    "    from _Rect import Rect\n",
    "\n",
    "    G = Grid('''\n",
    "        ⚫ ⚫ ⚫ ⚫ ⚫\n",
    "        ⚫ ⚫ ⚫ ⚫ ⚫\n",
    "        ⚫ 🔴 ⚫ ⚫ ⚫\n",
    "        ⚫ ⚫ ⚫ ⚫ ⚫\n",
    "    ''')\n",
    "\n",
    "    # TODO: Consider .origin (not implemented yet)\n",
    "    G.origin = G['🔴'].pix[0]\n",
    "    G[Rect(radius=1)]  # should get 🔴 in the middle\n",
    "    # TODO: Allow G(radius='crop') ??\n",
    "\n",
    "    # ⚫ ⚫ ⚫\n",
    "    # ⚫ 🔴 ⚫\n",
    "    # ⚫ ⚫ ⚫\n",
    "\n",
    "    G.rect  # -2 -1 to 1 3\n",
    "    G.pad(to=3)\n",
    "\n",
    "    if 0:\n",
    "        # problem: (M & M.roll(...)) -- .pix won't inherit the offset of M\n",
    "        # (A & B).pix ... what if A and B have different offsets?\n",
    "        # Could we do (A & B).src even? For that to work, we would have need a consistent frame.\n",
    "\n",
    "        # Solution: inherit .offset and .frame from the LHS operand.\n",
    "\n",
    "        # Problem: .frame usually refers to a BIGGER rect, but in the case of .pad, it's referring to a SMALLER rect.\n",
    "\n",
    "        # Solution: We shouldn't try to dual-purpose .frame or maybe .src\n",
    "        #   X.pad(1).src.frame\n",
    "\n",
    "        # Currently I think we're only using .src from .crop (when gathering regions)\n",
    "\n",
    "\n",
    "        # Need:\n",
    "        from Grid import Grid\n",
    "        G = Grid(...)\n",
    "        G.offset = G['🔴'].pix[0]\n",
    "        # now G[0, 0] == '🔴', G.rect = say -3 -2 to 4 5\n",
    "        G\n",
    "\n",
    "            # H = G.pad(1)\n",
    "            # assert H[0, 0] == '🔴'\n",
    "            # H.src.frame"
   ]
  },
  {
   "cell_type": "code",
   "execution_count": null,
   "metadata": {},
   "outputs": [],
   "source": [
    "from Rect import Rect\n",
    "A = Grid('''\n",
    "    1 1 0\n",
    "    0 0 2\n",
    "    0 0 2\n",
    "''')\n",
    "A\n",
    "P = A[Rect(tl_br=((0,0), (1,1)))]\n",
    "Q = A[Rect(tl_br=((1,1), (2,2)))]\n",
    "P, Q\n",
    "P[1, 1] = 3\n",
    "Q"
   ]
  },
  {
   "cell_type": "markdown",
   "metadata": {},
   "source": [
    "Now to make the below work, padP will have to reference P,"
   ]
  },
  {
   "cell_type": "code",
   "execution_count": null,
   "metadata": {},
   "outputs": [],
   "source": [
    "padP = P.pad(2, padding='⭕')\n",
    "padQ = Q.pad(2, padding='🌑')\n",
    "\n",
    "# padP and padQ are FRESH memory\n",
    "\n",
    "padP[Rect(tl_br=((-1, -1), (1, 1)))] = 4\n",
    "padP[Coord(0, 0)] = 5  # TODO: Allow raw [0,0]\n",
    "padP.canvas\n",
    "\n",
    "# ok, but when we ASSIGN TO padP (actually canvas._ is the backing memory), padP.src should be holding the PRIOR grid (P) which is actually backed by A._.\n",
    "\n",
    "# So if padP updates its .src upon assignment, A._ is updated.\n",
    "\n",
    "# But now how to get padQ to reflect this?\n",
    "padQ\n",
    "\n",
    "# Should padQ.getitem check to see if the source is modified?\n",
    "# And if it IS, refresh? self._[:] = self.src._\n",
    "\n",
    "# hmmmmmmm it's doable, but do we want it?\n",
    "\n",
    "# let's say no for now.\n",
    "\n"
   ]
  },
  {
   "cell_type": "code",
   "execution_count": null,
   "metadata": {},
   "outputs": [],
   "source": [
    "# A = Grid('0 0 0 ; 0 1 0 ; 0 0 0')\n",
    "# A.shift(-1, 0)"
   ]
  },
  {
   "cell_type": "code",
   "execution_count": null,
   "metadata": {},
   "outputs": [],
   "source": [
    "if 1:\n",
    "    G = Grid('''\n",
    "        ⚫ ⚪ 🔵 🟢 🟡 🟣 🟠 🟤 🔴\n",
    "        🟣 🟣 🟣 🟢 🟡 🟣 🟣 🟤 🔴\n",
    "        🟣 ⚪ 🔵 🟢 🟡 🟠 🟠 🟤 🔴\n",
    "    ''')\n",
    "\n",
    "    for s in '''\n",
    "        🟣\n",
    "        🟣.🔗\n",
    "        🟣.🔗.#\n",
    "        🟠.⛓.1.•.#\n",
    "        🔵 🟢 -> ⚫\n",
    "        🔵 🟢 -> ⚫.~⤴.🖼\n",
    "    '''.strip().split('\\n'):\n",
    "        u = s.strip()\n",
    "        print('⭐:', u)\n",
    "        print(G[u])\n",
    "        print()\n",
    "\n",
    "\n"
   ]
  },
  {
   "cell_type": "code",
   "execution_count": null,
   "metadata": {},
   "outputs": [],
   "source": [
    "G = Grid('1 0 ; 0 2')\n",
    "H = G['🖨']\n",
    "H[1,1] = 3\n",
    "G, H"
   ]
  },
  {
   "cell_type": "code",
   "execution_count": null,
   "metadata": {},
   "outputs": [],
   "source": [
    "\n",
    "    G['卐']  # the 4 rotations of G, sim. 🪞 for the 4 reflections and 💠 for the 8 S4 symmetries\n",
    "\n",
    "\n",
    "    G['~⤴'].same(G['⤵'])  # True\n",
    "\n",
    "    G['~🟤.🔗']  # Now how should ~🟤 be interpreted? A bool-mask?\n",
    "    # What if G.glyphs = 🟤 🟡 🟣 and we just want the 🟡 and 🟣 regions?\n",
    "    #\n",
    "\n",
    "    G['']\n",
    "\n",
    "    # ???\n",
    "    G['🟤🔴.🔗']  # regions of 🟤🔴\n",
    "    G['~🟤🔴.🔗']"
   ]
  }
 ],
 "metadata": {
  "kernelspec": {
   "display_name": ".venv",
   "language": "python",
   "name": "python3"
  },
  "language_info": {
   "codemirror_mode": {
    "name": "ipython",
    "version": 3
   },
   "file_extension": ".py",
   "mimetype": "text/x-python",
   "name": "python",
   "nbconvert_exporter": "python",
   "pygments_lexer": "ipython3",
   "version": "3.12.3"
  }
 },
 "nbformat": 4,
 "nbformat_minor": 2
}
