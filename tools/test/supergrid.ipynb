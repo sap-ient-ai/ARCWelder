{
 "cells": [
  {
   "cell_type": "code",
   "execution_count": 1,
   "metadata": {},
   "outputs": [
    {
     "data": {
      "text/plain": [
       "\n",
       "⚫ ⚫ ⚪ ⚫ ⚫\n",
       "⚫ ⚫ ⚪ ⚫ ⚫\n",
       "⚪ ⚪ ⚪ ⚪ ⚪\n",
       "🟣 🟣 ⚪ ⚫ ⚫\n",
       "🟣 🟣 ⚪ ⚫ 🔵"
      ]
     },
     "execution_count": 1,
     "metadata": {},
     "output_type": "execute_result"
    }
   ],
   "source": [
    "from Grid import Grid, Supergrid\n",
    "\n",
    "G = Grid('''\n",
    "0 0 1 0 0\n",
    "0 0 1 0 0\n",
    "1 1 1 1 1\n",
    "0 0 1 0 0\n",
    "0 0 1 0 2\n",
    "''')\n",
    "\n",
    "S = Supergrid(G)\n",
    "\n",
    "S[1, 1]\n",
    "\n",
    "S[1, 0] = '🟣'\n",
    "\n",
    "G\n"
   ]
  },
  {
   "cell_type": "code",
   "execution_count": 2,
   "metadata": {},
   "outputs": [
    {
     "name": "stdout",
     "output_type": "stream",
     "text": [
      " 0  0 \n",
      "⚫ ⚫\n",
      "⚫ ⚫\n",
      "\n",
      " 0  1 \n",
      "⚫ ⚫\n",
      "⚫ ⚫\n",
      "\n",
      " 1  0 \n",
      "🟣 🟣\n",
      "🟣 🟣\n",
      "\n",
      " 1  1 \n",
      "⚫ ⚫\n",
      "⚫ 🔵\n",
      "\n"
     ]
    }
   ],
   "source": [
    "for G in S:\n",
    "    print(G.p, G)  # why do we need `print` here?"
   ]
  },
  {
   "cell_type": "code",
   "execution_count": 3,
   "metadata": {},
   "outputs": [],
   "source": [
    "# G = Grid('''\n",
    "# 0 0 2 0 0 2 0 1\n",
    "# 0 0 2 0 0 2 1 1\n",
    "# 0 0 2 0 0 2 0 0\n",
    "# 2 2 2 2 2 2 2 2\n",
    "# 0 0 2 0 0 2 0 1\n",
    "# 0 0 2 0 0 2 1 1\n",
    "# 0 0 2 0 0 2 0 0\n",
    "# ''')"
   ]
  }
 ],
 "metadata": {
  "kernelspec": {
   "display_name": ".venv",
   "language": "python",
   "name": "python3"
  },
  "language_info": {
   "codemirror_mode": {
    "name": "ipython",
    "version": 3
   },
   "file_extension": ".py",
   "mimetype": "text/x-python",
   "name": "python",
   "nbconvert_exporter": "python",
   "pygments_lexer": "ipython3",
   "version": "3.12.3"
  }
 },
 "nbformat": 4,
 "nbformat_minor": 2
}
